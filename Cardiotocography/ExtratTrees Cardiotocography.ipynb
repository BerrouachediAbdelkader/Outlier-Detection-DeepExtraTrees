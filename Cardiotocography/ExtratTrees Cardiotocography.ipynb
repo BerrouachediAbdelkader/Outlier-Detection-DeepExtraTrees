{
 "cells": [
  {
   "cell_type": "code",
   "execution_count": 15,
   "metadata": {
    "collapsed": true
   },
   "outputs": [],
   "source": [
    "# imports \n",
    "import numpy as np\n",
    "from math import sqrt \n",
    "from pprint import pprint\n",
    "from numpy import array\n",
    "from scipy.io import arff\n",
    "import pandas as pd\n",
    "from time import time"
   ]
  },
  {
   "cell_type": "code",
   "execution_count": 16,
   "metadata": {},
   "outputs": [
    {
     "data": {
      "text/html": [
       "<div>\n",
       "<style>\n",
       "    .dataframe thead tr:only-child th {\n",
       "        text-align: right;\n",
       "    }\n",
       "\n",
       "    .dataframe thead th {\n",
       "        text-align: left;\n",
       "    }\n",
       "\n",
       "    .dataframe tbody tr th {\n",
       "        vertical-align: top;\n",
       "    }\n",
       "</style>\n",
       "<table border=\"1\" class=\"dataframe\">\n",
       "  <thead>\n",
       "    <tr style=\"text-align: right;\">\n",
       "      <th></th>\n",
       "      <th>LB</th>\n",
       "      <th>AC</th>\n",
       "      <th>FM</th>\n",
       "      <th>UC</th>\n",
       "      <th>ASTV</th>\n",
       "      <th>MSTV</th>\n",
       "      <th>ALTV</th>\n",
       "      <th>MLTV</th>\n",
       "      <th>DL</th>\n",
       "      <th>DS</th>\n",
       "      <th>...</th>\n",
       "      <th>Min</th>\n",
       "      <th>Max</th>\n",
       "      <th>Nmax</th>\n",
       "      <th>Nzeros</th>\n",
       "      <th>Mode</th>\n",
       "      <th>Mean</th>\n",
       "      <th>Median</th>\n",
       "      <th>Variance</th>\n",
       "      <th>Tendency</th>\n",
       "      <th>outlier</th>\n",
       "    </tr>\n",
       "  </thead>\n",
       "  <tbody>\n",
       "    <tr>\n",
       "      <th>0</th>\n",
       "      <td>146.0</td>\n",
       "      <td>0.0</td>\n",
       "      <td>0.0</td>\n",
       "      <td>5.0</td>\n",
       "      <td>65.0</td>\n",
       "      <td>0.4</td>\n",
       "      <td>33.0</td>\n",
       "      <td>7.4</td>\n",
       "      <td>0.0</td>\n",
       "      <td>0.0</td>\n",
       "      <td>...</td>\n",
       "      <td>134.0</td>\n",
       "      <td>164.0</td>\n",
       "      <td>1.0</td>\n",
       "      <td>0.0</td>\n",
       "      <td>150.0</td>\n",
       "      <td>149.0</td>\n",
       "      <td>151.0</td>\n",
       "      <td>1.0</td>\n",
       "      <td>0.0</td>\n",
       "      <td>1</td>\n",
       "    </tr>\n",
       "    <tr>\n",
       "      <th>1</th>\n",
       "      <td>128.0</td>\n",
       "      <td>0.0</td>\n",
       "      <td>0.0</td>\n",
       "      <td>2.0</td>\n",
       "      <td>86.0</td>\n",
       "      <td>0.3</td>\n",
       "      <td>79.0</td>\n",
       "      <td>2.9</td>\n",
       "      <td>0.0</td>\n",
       "      <td>0.0</td>\n",
       "      <td>...</td>\n",
       "      <td>114.0</td>\n",
       "      <td>130.0</td>\n",
       "      <td>0.0</td>\n",
       "      <td>0.0</td>\n",
       "      <td>128.0</td>\n",
       "      <td>126.0</td>\n",
       "      <td>129.0</td>\n",
       "      <td>0.0</td>\n",
       "      <td>1.0</td>\n",
       "      <td>1</td>\n",
       "    </tr>\n",
       "    <tr>\n",
       "      <th>2</th>\n",
       "      <td>149.0</td>\n",
       "      <td>0.0</td>\n",
       "      <td>0.0</td>\n",
       "      <td>5.0</td>\n",
       "      <td>61.0</td>\n",
       "      <td>0.4</td>\n",
       "      <td>34.0</td>\n",
       "      <td>5.6</td>\n",
       "      <td>0.0</td>\n",
       "      <td>0.0</td>\n",
       "      <td>...</td>\n",
       "      <td>148.0</td>\n",
       "      <td>160.0</td>\n",
       "      <td>1.0</td>\n",
       "      <td>0.0</td>\n",
       "      <td>154.0</td>\n",
       "      <td>153.0</td>\n",
       "      <td>155.0</td>\n",
       "      <td>0.0</td>\n",
       "      <td>0.0</td>\n",
       "      <td>1</td>\n",
       "    </tr>\n",
       "    <tr>\n",
       "      <th>3</th>\n",
       "      <td>122.0</td>\n",
       "      <td>0.0</td>\n",
       "      <td>0.0</td>\n",
       "      <td>0.0</td>\n",
       "      <td>83.0</td>\n",
       "      <td>0.5</td>\n",
       "      <td>6.0</td>\n",
       "      <td>15.6</td>\n",
       "      <td>0.0</td>\n",
       "      <td>0.0</td>\n",
       "      <td>...</td>\n",
       "      <td>62.0</td>\n",
       "      <td>130.0</td>\n",
       "      <td>0.0</td>\n",
       "      <td>0.0</td>\n",
       "      <td>122.0</td>\n",
       "      <td>122.0</td>\n",
       "      <td>123.0</td>\n",
       "      <td>3.0</td>\n",
       "      <td>1.0</td>\n",
       "      <td>1</td>\n",
       "    </tr>\n",
       "    <tr>\n",
       "      <th>4</th>\n",
       "      <td>134.0</td>\n",
       "      <td>0.0</td>\n",
       "      <td>4.0</td>\n",
       "      <td>0.0</td>\n",
       "      <td>79.0</td>\n",
       "      <td>0.2</td>\n",
       "      <td>42.0</td>\n",
       "      <td>5.5</td>\n",
       "      <td>0.0</td>\n",
       "      <td>0.0</td>\n",
       "      <td>...</td>\n",
       "      <td>128.0</td>\n",
       "      <td>145.0</td>\n",
       "      <td>2.0</td>\n",
       "      <td>0.0</td>\n",
       "      <td>135.0</td>\n",
       "      <td>135.0</td>\n",
       "      <td>136.0</td>\n",
       "      <td>1.0</td>\n",
       "      <td>0.0</td>\n",
       "      <td>1</td>\n",
       "    </tr>\n",
       "  </tbody>\n",
       "</table>\n",
       "<p>5 rows × 22 columns</p>\n",
       "</div>"
      ],
      "text/plain": [
       "      LB   AC   FM   UC  ASTV  MSTV  ALTV  MLTV   DL   DS   ...       Min  \\\n",
       "0  146.0  0.0  0.0  5.0  65.0   0.4  33.0   7.4  0.0  0.0   ...     134.0   \n",
       "1  128.0  0.0  0.0  2.0  86.0   0.3  79.0   2.9  0.0  0.0   ...     114.0   \n",
       "2  149.0  0.0  0.0  5.0  61.0   0.4  34.0   5.6  0.0  0.0   ...     148.0   \n",
       "3  122.0  0.0  0.0  0.0  83.0   0.5   6.0  15.6  0.0  0.0   ...      62.0   \n",
       "4  134.0  0.0  4.0  0.0  79.0   0.2  42.0   5.5  0.0  0.0   ...     128.0   \n",
       "\n",
       "     Max  Nmax  Nzeros   Mode   Mean  Median  Variance  Tendency  outlier  \n",
       "0  164.0   1.0     0.0  150.0  149.0   151.0       1.0       0.0        1  \n",
       "1  130.0   0.0     0.0  128.0  126.0   129.0       0.0       1.0        1  \n",
       "2  160.0   1.0     0.0  154.0  153.0   155.0       0.0       0.0        1  \n",
       "3  130.0   0.0     0.0  122.0  122.0   123.0       3.0       1.0        1  \n",
       "4  145.0   2.0     0.0  135.0  135.0   136.0       1.0       0.0        1  \n",
       "\n",
       "[5 rows x 22 columns]"
      ]
     },
     "execution_count": 16,
     "metadata": {},
     "output_type": "execute_result"
    }
   ],
   "source": [
    "# load data\n",
    "\n",
    "df=pd.read_csv('Cardiotocography_02_v10.csv')  \n",
    "\n",
    "del df['id']\n",
    "del df['Unnamed: 0']\n",
    "df['outlier'] = df.outlier.apply(lambda label: 1 if label == \"'yes'\" else 0)\n",
    "\n",
    "df.head()"
   ]
  },
  {
   "cell_type": "code",
   "execution_count": 17,
   "metadata": {},
   "outputs": [
    {
     "data": {
      "text/plain": [
       "(1688, 22)"
      ]
     },
     "execution_count": 17,
     "metadata": {},
     "output_type": "execute_result"
    }
   ],
   "source": [
    "df.shape"
   ]
  },
  {
   "cell_type": "code",
   "execution_count": 18,
   "metadata": {
    "collapsed": true
   },
   "outputs": [],
   "source": [
    "# data to values\n",
    "df = df.values"
   ]
  },
  {
   "cell_type": "code",
   "execution_count": 19,
   "metadata": {
    "collapsed": true
   },
   "outputs": [],
   "source": [
    "# Extratrees Deep\n",
    "import argparse\n",
    "import sys\n",
    "import pickle\n",
    "from sklearn.metrics import accuracy_score\n",
    "sys.path.insert(0, \"lib\")\n",
    "from gcforest.gcforest import GCForest\n",
    "from gcforest.utils.config_utils import load_json\n",
    "config = load_json(\"./examples/Cardiotocography.json\")\n",
    "gc = GCForest(config)"
   ]
  },
  {
   "cell_type": "code",
   "execution_count": 20,
   "metadata": {},
   "outputs": [],
   "source": [
    "# train test \n",
    "from sklearn.cross_validation import train_test_split\n",
    "y = df[:,21]\n",
    "X = df[:,0:21]\n",
    "\n",
    "X_train,X_test,y_train,y_test = train_test_split(X, y, test_size=0.33, random_state=42)"
   ]
  },
  {
   "cell_type": "code",
   "execution_count": 21,
   "metadata": {},
   "outputs": [
    {
     "data": {
      "text/plain": [
       "2"
      ]
     },
     "execution_count": 21,
     "metadata": {},
     "output_type": "execute_result"
    }
   ],
   "source": [
    "# number of class\n",
    "len(np.unique(y_train))"
   ]
  },
  {
   "cell_type": "code",
   "execution_count": 22,
   "metadata": {},
   "outputs": [
    {
     "name": "stderr",
     "output_type": "stream",
     "text": [
      "[ 2018-04-26 14:42:22,332][cascade_classifier.fit_transform] X_groups_train.shape=[(1130, 21)],y_train.shape=(1130,),X_groups_test.shape=[(558, 21)],y_test.shape=(558,)\n",
      "[ 2018-04-26 14:42:22,334][cascade_classifier.fit_transform] group_dims=[21]\n",
      "[ 2018-04-26 14:42:22,336][cascade_classifier.fit_transform] group_starts=[0]\n",
      "[ 2018-04-26 14:42:22,337][cascade_classifier.fit_transform] group_ends=[21]\n",
      "[ 2018-04-26 14:42:22,339][cascade_classifier.fit_transform] X_train.shape=(1130, 21),X_test.shape=(558, 21)\n",
      "[ 2018-04-26 14:42:22,340][cascade_classifier.fit_transform] [layer=0] look_indexs=[0], X_cur_train.shape=(1130, 21), X_cur_test.shape=(558, 21)\n",
      "[ 2018-04-26 14:42:23,155][kfold_wrapper.log_eval_metrics] Accuracy(layer_0 - estimator_0 - 10_folds.train_0.predict)=97.37%\n",
      "[ 2018-04-26 14:42:24,111][kfold_wrapper.log_eval_metrics] Accuracy(layer_0 - estimator_0 - 10_folds.train_1.predict)=97.37%\n",
      "[ 2018-04-26 14:42:25,289][kfold_wrapper.log_eval_metrics] Accuracy(layer_0 - estimator_0 - 10_folds.train_2.predict)=98.25%\n",
      "[ 2018-04-26 14:42:26,228][kfold_wrapper.log_eval_metrics] Accuracy(layer_0 - estimator_0 - 10_folds.train_3.predict)=98.25%\n",
      "[ 2018-04-26 14:42:27,272][kfold_wrapper.log_eval_metrics] Accuracy(layer_0 - estimator_0 - 10_folds.train_4.predict)=98.23%\n",
      "[ 2018-04-26 14:42:28,422][kfold_wrapper.log_eval_metrics] Accuracy(layer_0 - estimator_0 - 10_folds.train_5.predict)=97.35%\n",
      "[ 2018-04-26 14:42:29,422][kfold_wrapper.log_eval_metrics] Accuracy(layer_0 - estimator_0 - 10_folds.train_6.predict)=98.21%\n",
      "[ 2018-04-26 14:42:30,638][kfold_wrapper.log_eval_metrics] Accuracy(layer_0 - estimator_0 - 10_folds.train_7.predict)=98.21%\n",
      "[ 2018-04-26 14:42:31,707][kfold_wrapper.log_eval_metrics] Accuracy(layer_0 - estimator_0 - 10_folds.train_8.predict)=98.21%\n",
      "[ 2018-04-26 14:42:32,706][kfold_wrapper.log_eval_metrics] Accuracy(layer_0 - estimator_0 - 10_folds.train_9.predict)=98.21%\n",
      "[ 2018-04-26 14:42:32,967][kfold_wrapper.log_eval_metrics] Accuracy(layer_0 - estimator_0 - 10_folds.train_cv.predict)=97.96%\n",
      "[ 2018-04-26 14:42:32,969][kfold_wrapper.log_eval_metrics] Accuracy(layer_0 - estimator_0 - 10_folds.test.predict)=98.57%\n",
      "[ 2018-04-26 14:42:32,971][cascade_classifier.calc_accuracy] Accuracy(layer_0 - train.classifier_average)=97.96%\n",
      "[ 2018-04-26 14:42:32,972][cascade_classifier.calc_accuracy] Accuracy(layer_0 - test.classifier_average)=98.57%\n",
      "[ 2018-04-26 14:42:32,974][cascade_classifier.fit_transform] [Result][Reach Max Layer] opt_layer_num=1, accuracy_train=97.96%, accuracy_test=98.57%\n"
     ]
    }
   ],
   "source": [
    "         # X_enc is the concatenated predict_proba result of ExtraTrees\n",
    "\n",
    "X_train_enc, X_test_enc = gc.fit_transform(X_train, y_train, X_test=X_test, y_test=y_test)\n",
    "   "
   ]
  },
  {
   "cell_type": "code",
   "execution_count": 23,
   "metadata": {},
   "outputs": [
    {
     "name": "stderr",
     "output_type": "stream",
     "text": [
      "[ 2018-04-26 14:42:32,984][cascade_classifier.transform] X_groups_test.shape=[(558, 21)]\n",
      "[ 2018-04-26 14:42:32,986][cascade_classifier.transform] group_dims=[21]\n",
      "[ 2018-04-26 14:42:32,988][cascade_classifier.transform] X_test.shape=(558, 21)\n",
      "[ 2018-04-26 14:42:32,990][cascade_classifier.transform] [layer=0] look_indexs=[0], X_cur_test.shape=(558, 21)\n"
     ]
    },
    {
     "name": "stdout",
     "output_type": "stream",
     "text": [
      "Test Accuracy of ExtraTrees = 98.566308 %\n"
     ]
    }
   ],
   "source": [
    "# predict\n",
    "y_pred = gc.predict(X_test)\n",
    "acc = accuracy_score(y_test, y_pred)\n",
    "print(\"Test Accuracy of ExtraTrees = {:.6f} %\".format(acc * 100))"
   ]
  },
  {
   "cell_type": "code",
   "execution_count": 24,
   "metadata": {},
   "outputs": [
    {
     "name": "stderr",
     "output_type": "stream",
     "text": [
      "[ 2018-04-26 14:42:35,555][cascade_classifier.transform] X_groups_test.shape=[(558, 21)]\n",
      "[ 2018-04-26 14:42:35,557][cascade_classifier.transform] group_dims=[21]\n",
      "[ 2018-04-26 14:42:35,558][cascade_classifier.transform] X_test.shape=(558, 21)\n",
      "[ 2018-04-26 14:42:35,560][cascade_classifier.transform] [layer=0] look_indexs=[0], X_cur_test.shape=(558, 21)\n"
     ]
    }
   ],
   "source": [
    "# Make data + estimators\n",
    "X_test_enc = gc.transform(X_test)\n",
    "X_train_enc = X_train_enc.reshape((X_train_enc.shape[0], -1))\n",
    "X_test_enc = X_test_enc.reshape((X_test_enc.shape[0], -1))\n",
    "X_train_origin = X_train.reshape((X_train.shape[0], -1))\n",
    "X_test_origin = X_test.reshape((X_test.shape[0], -1))\n",
    "X_train_enc = np.hstack((X_train_origin, X_train_enc))\n",
    "X_test_enc = np.hstack((X_test_origin, X_test_enc))"
   ]
  },
  {
   "cell_type": "code",
   "execution_count": 25,
   "metadata": {},
   "outputs": [
    {
     "name": "stderr",
     "output_type": "stream",
     "text": [
      "[ 2018-04-26 14:42:38,060][cascade_classifier.fit_transform] X_groups_train.shape=[(1130, 23)],y_train.shape=(1130,),X_groups_test.shape=[(558, 23)],y_test.shape=(558,)\n",
      "[ 2018-04-26 14:42:38,062][cascade_classifier.fit_transform] group_dims=[23]\n",
      "[ 2018-04-26 14:42:38,063][cascade_classifier.fit_transform] group_starts=[0]\n",
      "[ 2018-04-26 14:42:38,064][cascade_classifier.fit_transform] group_ends=[23]\n",
      "[ 2018-04-26 14:42:38,066][cascade_classifier.fit_transform] X_train.shape=(1130, 23),X_test.shape=(558, 23)\n",
      "[ 2018-04-26 14:42:38,067][cascade_classifier.fit_transform] [layer=0] look_indexs=[0], X_cur_train.shape=(1130, 23), X_cur_test.shape=(558, 23)\n",
      "[ 2018-04-26 14:42:38,951][kfold_wrapper.log_eval_metrics] Accuracy(layer_0 - estimator_0 - 10_folds.train_0.predict)=98.25%\n",
      "[ 2018-04-26 14:42:40,029][kfold_wrapper.log_eval_metrics] Accuracy(layer_0 - estimator_0 - 10_folds.train_1.predict)=97.37%\n",
      "[ 2018-04-26 14:42:41,090][kfold_wrapper.log_eval_metrics] Accuracy(layer_0 - estimator_0 - 10_folds.train_2.predict)=97.37%\n",
      "[ 2018-04-26 14:42:42,099][kfold_wrapper.log_eval_metrics] Accuracy(layer_0 - estimator_0 - 10_folds.train_3.predict)=98.25%\n",
      "[ 2018-04-26 14:42:43,148][kfold_wrapper.log_eval_metrics] Accuracy(layer_0 - estimator_0 - 10_folds.train_4.predict)=99.12%\n",
      "[ 2018-04-26 14:42:44,191][kfold_wrapper.log_eval_metrics] Accuracy(layer_0 - estimator_0 - 10_folds.train_5.predict)=97.35%\n",
      "[ 2018-04-26 14:42:45,270][kfold_wrapper.log_eval_metrics] Accuracy(layer_0 - estimator_0 - 10_folds.train_6.predict)=98.21%\n",
      "[ 2018-04-26 14:42:46,364][kfold_wrapper.log_eval_metrics] Accuracy(layer_0 - estimator_0 - 10_folds.train_7.predict)=99.11%\n",
      "[ 2018-04-26 14:42:47,411][kfold_wrapper.log_eval_metrics] Accuracy(layer_0 - estimator_0 - 10_folds.train_8.predict)=98.21%\n",
      "[ 2018-04-26 14:42:48,561][kfold_wrapper.log_eval_metrics] Accuracy(layer_0 - estimator_0 - 10_folds.train_9.predict)=98.21%\n",
      "[ 2018-04-26 14:42:48,839][kfold_wrapper.log_eval_metrics] Accuracy(layer_0 - estimator_0 - 10_folds.train_cv.predict)=98.14%\n",
      "[ 2018-04-26 14:42:48,841][kfold_wrapper.log_eval_metrics] Accuracy(layer_0 - estimator_0 - 10_folds.test.predict)=99.10%\n",
      "[ 2018-04-26 14:42:48,847][cascade_classifier.calc_accuracy] Accuracy(layer_0 - train.classifier_average)=98.14%\n",
      "[ 2018-04-26 14:42:48,849][cascade_classifier.calc_accuracy] Accuracy(layer_0 - test.classifier_average)=99.10%\n",
      "[ 2018-04-26 14:42:48,850][cascade_classifier.fit_transform] [Result][Reach Max Layer] opt_layer_num=1, accuracy_train=98.14%, accuracy_test=99.10%\n"
     ]
    }
   ],
   "source": [
    "# New data\n",
    "X_train=X_train_enc\n",
    "X_test=X_test_enc \n",
    "X_train_enc, X_test_enc = gc.fit_transform(X_train, y_train, X_test=X_test, y_test=y_test)"
   ]
  },
  {
   "cell_type": "code",
   "execution_count": 26,
   "metadata": {},
   "outputs": [
    {
     "name": "stderr",
     "output_type": "stream",
     "text": [
      "[ 2018-04-26 14:42:48,858][cascade_classifier.transform] X_groups_test.shape=[(558, 23)]\n",
      "[ 2018-04-26 14:42:48,860][cascade_classifier.transform] group_dims=[23]\n",
      "[ 2018-04-26 14:42:48,862][cascade_classifier.transform] X_test.shape=(558, 23)\n",
      "[ 2018-04-26 14:42:48,864][cascade_classifier.transform] [layer=0] look_indexs=[0], X_cur_test.shape=(558, 23)\n"
     ]
    },
    {
     "name": "stdout",
     "output_type": "stream",
     "text": [
      "Test Accuracy of ExtraTrees = 99.103943 %\n"
     ]
    }
   ],
   "source": [
    "# predict  data + Es\n",
    "y_pred = gc.predict(X_test)\n",
    "acc = accuracy_score(y_test, y_pred)\n",
    "print(\"Test Accuracy of ExtraTrees = {:.6f} %\".format(acc * 100))"
   ]
  },
  {
   "cell_type": "code",
   "execution_count": 27,
   "metadata": {
    "collapsed": true
   },
   "outputs": [],
   "source": [
    "def update(X_train,X_test):\n",
    "    # update Estimators\n",
    "    M = np.delete(X_train, (-1), axis=1)\n",
    "    X_train= np.delete(M, (-1), axis=1)\n",
    "    M = np.delete(X_test, (-1), axis=1)\n",
    "    X_test = np.delete(M, (-1), axis=1)\n",
    "    return X_train,X_test\n",
    "\n",
    "def newdata(X_test_enc, X_train_enc):\n",
    "    # Make Data + Estimators\n",
    "    X_train_origin = X_train.reshape((X_train.shape[0], -1))\n",
    "    X_test_origin = X_test.reshape((X_test.shape[0], -1))\n",
    "    X_train_enc = np.hstack((X_train_origin, X_train_enc))\n",
    "    X_test_enc = np.hstack((X_test_origin, X_test_enc))\n",
    "    return X_test_enc, X_train_enc\n",
    "\n",
    "def affiche():\n",
    "    # predict\n",
    "    y_pred = gc.predict(X_test)\n",
    "    acc = accuracy_score(y_test, y_pred)\n",
    "    print(\"Test Accuracy of ExtraTrees = {:.6f} %\".format(acc * 100),i,'fois')"
   ]
  },
  {
   "cell_type": "code",
   "execution_count": 28,
   "metadata": {},
   "outputs": [
    {
     "name": "stderr",
     "output_type": "stream",
     "text": [
      "[ 2018-04-26 14:42:51,399][cascade_classifier.fit_transform] X_groups_train.shape=[(1130, 23)],y_train.shape=(1130,),X_groups_test.shape=[(558, 23)],y_test.shape=(558,)\n",
      "[ 2018-04-26 14:42:51,401][cascade_classifier.fit_transform] group_dims=[23]\n",
      "[ 2018-04-26 14:42:51,402][cascade_classifier.fit_transform] group_starts=[0]\n",
      "[ 2018-04-26 14:42:51,403][cascade_classifier.fit_transform] group_ends=[23]\n",
      "[ 2018-04-26 14:42:51,404][cascade_classifier.fit_transform] X_train.shape=(1130, 23),X_test.shape=(558, 23)\n",
      "[ 2018-04-26 14:42:51,406][cascade_classifier.fit_transform] [layer=0] look_indexs=[0], X_cur_train.shape=(1130, 23), X_cur_test.shape=(558, 23)\n",
      "[ 2018-04-26 14:42:52,134][kfold_wrapper.log_eval_metrics] Accuracy(layer_0 - estimator_0 - 10_folds.train_0.predict)=98.25%\n",
      "[ 2018-04-26 14:42:53,198][kfold_wrapper.log_eval_metrics] Accuracy(layer_0 - estimator_0 - 10_folds.train_1.predict)=97.37%\n",
      "[ 2018-04-26 14:42:54,179][kfold_wrapper.log_eval_metrics] Accuracy(layer_0 - estimator_0 - 10_folds.train_2.predict)=97.37%\n",
      "[ 2018-04-26 14:42:55,203][kfold_wrapper.log_eval_metrics] Accuracy(layer_0 - estimator_0 - 10_folds.train_3.predict)=98.25%\n",
      "[ 2018-04-26 14:42:56,132][kfold_wrapper.log_eval_metrics] Accuracy(layer_0 - estimator_0 - 10_folds.train_4.predict)=99.12%\n",
      "[ 2018-04-26 14:42:57,064][kfold_wrapper.log_eval_metrics] Accuracy(layer_0 - estimator_0 - 10_folds.train_5.predict)=97.35%\n",
      "[ 2018-04-26 14:42:58,036][kfold_wrapper.log_eval_metrics] Accuracy(layer_0 - estimator_0 - 10_folds.train_6.predict)=98.21%\n",
      "[ 2018-04-26 14:42:59,098][kfold_wrapper.log_eval_metrics] Accuracy(layer_0 - estimator_0 - 10_folds.train_7.predict)=99.11%\n",
      "[ 2018-04-26 14:43:00,123][kfold_wrapper.log_eval_metrics] Accuracy(layer_0 - estimator_0 - 10_folds.train_8.predict)=98.21%\n",
      "[ 2018-04-26 14:43:00,955][kfold_wrapper.log_eval_metrics] Accuracy(layer_0 - estimator_0 - 10_folds.train_9.predict)=98.21%\n",
      "[ 2018-04-26 14:43:01,209][kfold_wrapper.log_eval_metrics] Accuracy(layer_0 - estimator_0 - 10_folds.train_cv.predict)=98.14%\n",
      "[ 2018-04-26 14:43:01,210][kfold_wrapper.log_eval_metrics] Accuracy(layer_0 - estimator_0 - 10_folds.test.predict)=99.10%\n",
      "[ 2018-04-26 14:43:01,216][cascade_classifier.calc_accuracy] Accuracy(layer_0 - train.classifier_average)=98.14%\n",
      "[ 2018-04-26 14:43:01,218][cascade_classifier.calc_accuracy] Accuracy(layer_0 - test.classifier_average)=99.10%\n",
      "[ 2018-04-26 14:43:01,219][cascade_classifier.fit_transform] [Result][Reach Max Layer] opt_layer_num=1, accuracy_train=98.14%, accuracy_test=99.10%\n",
      "[ 2018-04-26 14:43:01,220][cascade_classifier.transform] X_groups_test.shape=[(558, 23)]\n",
      "[ 2018-04-26 14:43:01,222][cascade_classifier.transform] group_dims=[23]\n",
      "[ 2018-04-26 14:43:01,223][cascade_classifier.transform] X_test.shape=(558, 23)\n",
      "[ 2018-04-26 14:43:01,224][cascade_classifier.transform] [layer=0] look_indexs=[0], X_cur_test.shape=(558, 23)\n",
      "[ 2018-04-26 14:43:03,753][cascade_classifier.fit_transform] X_groups_train.shape=[(1130, 23)],y_train.shape=(1130,),X_groups_test.shape=[(558, 23)],y_test.shape=(558,)\n",
      "[ 2018-04-26 14:43:03,755][cascade_classifier.fit_transform] group_dims=[23]\n",
      "[ 2018-04-26 14:43:03,756][cascade_classifier.fit_transform] group_starts=[0]\n",
      "[ 2018-04-26 14:43:03,757][cascade_classifier.fit_transform] group_ends=[23]\n",
      "[ 2018-04-26 14:43:03,758][cascade_classifier.fit_transform] X_train.shape=(1130, 23),X_test.shape=(558, 23)\n",
      "[ 2018-04-26 14:43:03,759][cascade_classifier.fit_transform] [layer=0] look_indexs=[0], X_cur_train.shape=(1130, 23), X_cur_test.shape=(558, 23)\n"
     ]
    },
    {
     "name": "stdout",
     "output_type": "stream",
     "text": [
      "('Test Accuracy of ExtraTrees = 99.103943 %', 0, 'fois')\n",
      "('Time', '9.822', ' seconds')\n"
     ]
    },
    {
     "name": "stderr",
     "output_type": "stream",
     "text": [
      "[ 2018-04-26 14:43:04,663][kfold_wrapper.log_eval_metrics] Accuracy(layer_0 - estimator_0 - 10_folds.train_0.predict)=98.25%\n",
      "[ 2018-04-26 14:43:05,797][kfold_wrapper.log_eval_metrics] Accuracy(layer_0 - estimator_0 - 10_folds.train_1.predict)=97.37%\n",
      "[ 2018-04-26 14:43:06,872][kfold_wrapper.log_eval_metrics] Accuracy(layer_0 - estimator_0 - 10_folds.train_2.predict)=97.37%\n",
      "[ 2018-04-26 14:43:07,847][kfold_wrapper.log_eval_metrics] Accuracy(layer_0 - estimator_0 - 10_folds.train_3.predict)=97.37%\n",
      "[ 2018-04-26 14:43:08,951][kfold_wrapper.log_eval_metrics] Accuracy(layer_0 - estimator_0 - 10_folds.train_4.predict)=99.12%\n",
      "[ 2018-04-26 14:43:10,030][kfold_wrapper.log_eval_metrics] Accuracy(layer_0 - estimator_0 - 10_folds.train_5.predict)=97.35%\n",
      "[ 2018-04-26 14:43:11,067][kfold_wrapper.log_eval_metrics] Accuracy(layer_0 - estimator_0 - 10_folds.train_6.predict)=98.21%\n",
      "[ 2018-04-26 14:43:12,126][kfold_wrapper.log_eval_metrics] Accuracy(layer_0 - estimator_0 - 10_folds.train_7.predict)=98.21%\n",
      "[ 2018-04-26 14:43:13,273][kfold_wrapper.log_eval_metrics] Accuracy(layer_0 - estimator_0 - 10_folds.train_8.predict)=98.21%\n",
      "[ 2018-04-26 14:43:14,323][kfold_wrapper.log_eval_metrics] Accuracy(layer_0 - estimator_0 - 10_folds.train_9.predict)=98.21%\n",
      "[ 2018-04-26 14:43:14,557][kfold_wrapper.log_eval_metrics] Accuracy(layer_0 - estimator_0 - 10_folds.train_cv.predict)=97.96%\n",
      "[ 2018-04-26 14:43:14,558][kfold_wrapper.log_eval_metrics] Accuracy(layer_0 - estimator_0 - 10_folds.test.predict)=98.75%\n",
      "[ 2018-04-26 14:43:14,565][cascade_classifier.calc_accuracy] Accuracy(layer_0 - train.classifier_average)=97.96%\n",
      "[ 2018-04-26 14:43:14,566][cascade_classifier.calc_accuracy] Accuracy(layer_0 - test.classifier_average)=98.75%\n",
      "[ 2018-04-26 14:43:14,568][cascade_classifier.fit_transform] [Result][Reach Max Layer] opt_layer_num=1, accuracy_train=97.96%, accuracy_test=98.75%\n",
      "[ 2018-04-26 14:43:14,569][cascade_classifier.transform] X_groups_test.shape=[(558, 23)]\n",
      "[ 2018-04-26 14:43:14,571][cascade_classifier.transform] group_dims=[23]\n",
      "[ 2018-04-26 14:43:14,572][cascade_classifier.transform] X_test.shape=(558, 23)\n",
      "[ 2018-04-26 14:43:14,573][cascade_classifier.transform] [layer=0] look_indexs=[0], X_cur_test.shape=(558, 23)\n",
      "[ 2018-04-26 14:43:17,108][cascade_classifier.fit_transform] X_groups_train.shape=[(1130, 23)],y_train.shape=(1130,),X_groups_test.shape=[(558, 23)],y_test.shape=(558,)\n",
      "[ 2018-04-26 14:43:17,110][cascade_classifier.fit_transform] group_dims=[23]\n",
      "[ 2018-04-26 14:43:17,111][cascade_classifier.fit_transform] group_starts=[0]\n",
      "[ 2018-04-26 14:43:17,112][cascade_classifier.fit_transform] group_ends=[23]\n",
      "[ 2018-04-26 14:43:17,113][cascade_classifier.fit_transform] X_train.shape=(1130, 23),X_test.shape=(558, 23)\n",
      "[ 2018-04-26 14:43:17,115][cascade_classifier.fit_transform] [layer=0] look_indexs=[0], X_cur_train.shape=(1130, 23), X_cur_test.shape=(558, 23)\n"
     ]
    },
    {
     "name": "stdout",
     "output_type": "stream",
     "text": [
      "('Test Accuracy of ExtraTrees = 98.745520 %', 1, 'fois')\n",
      "('Time', '10.817', ' seconds')\n"
     ]
    },
    {
     "name": "stderr",
     "output_type": "stream",
     "text": [
      "[ 2018-04-26 14:43:18,010][kfold_wrapper.log_eval_metrics] Accuracy(layer_0 - estimator_0 - 10_folds.train_0.predict)=98.25%\n",
      "[ 2018-04-26 14:43:19,102][kfold_wrapper.log_eval_metrics] Accuracy(layer_0 - estimator_0 - 10_folds.train_1.predict)=96.49%\n",
      "[ 2018-04-26 14:43:20,143][kfold_wrapper.log_eval_metrics] Accuracy(layer_0 - estimator_0 - 10_folds.train_2.predict)=98.25%\n",
      "[ 2018-04-26 14:43:21,250][kfold_wrapper.log_eval_metrics] Accuracy(layer_0 - estimator_0 - 10_folds.train_3.predict)=97.37%\n",
      "[ 2018-04-26 14:43:22,390][kfold_wrapper.log_eval_metrics] Accuracy(layer_0 - estimator_0 - 10_folds.train_4.predict)=99.12%\n",
      "[ 2018-04-26 14:43:23,467][kfold_wrapper.log_eval_metrics] Accuracy(layer_0 - estimator_0 - 10_folds.train_5.predict)=98.23%\n",
      "[ 2018-04-26 14:43:24,585][kfold_wrapper.log_eval_metrics] Accuracy(layer_0 - estimator_0 - 10_folds.train_6.predict)=98.21%\n",
      "[ 2018-04-26 14:43:25,671][kfold_wrapper.log_eval_metrics] Accuracy(layer_0 - estimator_0 - 10_folds.train_7.predict)=99.11%\n",
      "[ 2018-04-26 14:43:26,750][kfold_wrapper.log_eval_metrics] Accuracy(layer_0 - estimator_0 - 10_folds.train_8.predict)=98.21%\n",
      "[ 2018-04-26 14:43:27,916][kfold_wrapper.log_eval_metrics] Accuracy(layer_0 - estimator_0 - 10_folds.train_9.predict)=98.21%\n",
      "[ 2018-04-26 14:43:28,174][kfold_wrapper.log_eval_metrics] Accuracy(layer_0 - estimator_0 - 10_folds.train_cv.predict)=98.14%\n",
      "[ 2018-04-26 14:43:28,175][kfold_wrapper.log_eval_metrics] Accuracy(layer_0 - estimator_0 - 10_folds.test.predict)=98.75%\n",
      "[ 2018-04-26 14:43:28,181][cascade_classifier.calc_accuracy] Accuracy(layer_0 - train.classifier_average)=98.14%\n",
      "[ 2018-04-26 14:43:28,182][cascade_classifier.calc_accuracy] Accuracy(layer_0 - test.classifier_average)=98.75%\n",
      "[ 2018-04-26 14:43:28,183][cascade_classifier.fit_transform] [Result][Reach Max Layer] opt_layer_num=1, accuracy_train=98.14%, accuracy_test=98.75%\n",
      "[ 2018-04-26 14:43:28,185][cascade_classifier.transform] X_groups_test.shape=[(558, 23)]\n",
      "[ 2018-04-26 14:43:28,186][cascade_classifier.transform] group_dims=[23]\n",
      "[ 2018-04-26 14:43:28,187][cascade_classifier.transform] X_test.shape=(558, 23)\n",
      "[ 2018-04-26 14:43:28,188][cascade_classifier.transform] [layer=0] look_indexs=[0], X_cur_test.shape=(558, 23)\n",
      "[ 2018-04-26 14:43:30,698][cascade_classifier.fit_transform] X_groups_train.shape=[(1130, 23)],y_train.shape=(1130,),X_groups_test.shape=[(558, 23)],y_test.shape=(558,)\n",
      "[ 2018-04-26 14:43:30,700][cascade_classifier.fit_transform] group_dims=[23]\n",
      "[ 2018-04-26 14:43:30,701][cascade_classifier.fit_transform] group_starts=[0]\n",
      "[ 2018-04-26 14:43:30,702][cascade_classifier.fit_transform] group_ends=[23]\n",
      "[ 2018-04-26 14:43:30,703][cascade_classifier.fit_transform] X_train.shape=(1130, 23),X_test.shape=(558, 23)\n",
      "[ 2018-04-26 14:43:30,704][cascade_classifier.fit_transform] [layer=0] look_indexs=[0], X_cur_train.shape=(1130, 23), X_cur_test.shape=(558, 23)\n"
     ]
    },
    {
     "name": "stdout",
     "output_type": "stream",
     "text": [
      "('Test Accuracy of ExtraTrees = 98.745520 %', 2, 'fois')\n",
      "('Time', '11.077', ' seconds')\n"
     ]
    },
    {
     "name": "stderr",
     "output_type": "stream",
     "text": [
      "[ 2018-04-26 14:43:31,413][kfold_wrapper.log_eval_metrics] Accuracy(layer_0 - estimator_0 - 10_folds.train_0.predict)=98.25%\n",
      "[ 2018-04-26 14:43:32,582][kfold_wrapper.log_eval_metrics] Accuracy(layer_0 - estimator_0 - 10_folds.train_1.predict)=96.49%\n",
      "[ 2018-04-26 14:43:33,548][kfold_wrapper.log_eval_metrics] Accuracy(layer_0 - estimator_0 - 10_folds.train_2.predict)=98.25%\n",
      "[ 2018-04-26 14:43:34,601][kfold_wrapper.log_eval_metrics] Accuracy(layer_0 - estimator_0 - 10_folds.train_3.predict)=97.37%\n",
      "[ 2018-04-26 14:43:35,699][kfold_wrapper.log_eval_metrics] Accuracy(layer_0 - estimator_0 - 10_folds.train_4.predict)=99.12%\n",
      "[ 2018-04-26 14:43:36,797][kfold_wrapper.log_eval_metrics] Accuracy(layer_0 - estimator_0 - 10_folds.train_5.predict)=98.23%\n",
      "[ 2018-04-26 14:43:37,724][kfold_wrapper.log_eval_metrics] Accuracy(layer_0 - estimator_0 - 10_folds.train_6.predict)=98.21%\n",
      "[ 2018-04-26 14:43:38,787][kfold_wrapper.log_eval_metrics] Accuracy(layer_0 - estimator_0 - 10_folds.train_7.predict)=99.11%\n",
      "[ 2018-04-26 14:43:39,894][kfold_wrapper.log_eval_metrics] Accuracy(layer_0 - estimator_0 - 10_folds.train_8.predict)=98.21%\n",
      "[ 2018-04-26 14:43:40,986][kfold_wrapper.log_eval_metrics] Accuracy(layer_0 - estimator_0 - 10_folds.train_9.predict)=98.21%\n",
      "[ 2018-04-26 14:43:41,237][kfold_wrapper.log_eval_metrics] Accuracy(layer_0 - estimator_0 - 10_folds.train_cv.predict)=98.14%\n",
      "[ 2018-04-26 14:43:41,239][kfold_wrapper.log_eval_metrics] Accuracy(layer_0 - estimator_0 - 10_folds.test.predict)=98.75%\n",
      "[ 2018-04-26 14:43:41,246][cascade_classifier.calc_accuracy] Accuracy(layer_0 - train.classifier_average)=98.14%\n",
      "[ 2018-04-26 14:43:41,247][cascade_classifier.calc_accuracy] Accuracy(layer_0 - test.classifier_average)=98.75%\n",
      "[ 2018-04-26 14:43:41,249][cascade_classifier.fit_transform] [Result][Reach Max Layer] opt_layer_num=1, accuracy_train=98.14%, accuracy_test=98.75%\n",
      "[ 2018-04-26 14:43:41,250][cascade_classifier.transform] X_groups_test.shape=[(558, 23)]\n",
      "[ 2018-04-26 14:43:41,251][cascade_classifier.transform] group_dims=[23]\n",
      "[ 2018-04-26 14:43:41,252][cascade_classifier.transform] X_test.shape=(558, 23)\n",
      "[ 2018-04-26 14:43:41,254][cascade_classifier.transform] [layer=0] look_indexs=[0], X_cur_test.shape=(558, 23)\n",
      "[ 2018-04-26 14:43:43,794][cascade_classifier.fit_transform] X_groups_train.shape=[(1130, 23)],y_train.shape=(1130,),X_groups_test.shape=[(558, 23)],y_test.shape=(558,)\n",
      "[ 2018-04-26 14:43:43,795][cascade_classifier.fit_transform] group_dims=[23]\n",
      "[ 2018-04-26 14:43:43,797][cascade_classifier.fit_transform] group_starts=[0]\n",
      "[ 2018-04-26 14:43:43,798][cascade_classifier.fit_transform] group_ends=[23]\n",
      "[ 2018-04-26 14:43:43,799][cascade_classifier.fit_transform] X_train.shape=(1130, 23),X_test.shape=(558, 23)\n",
      "[ 2018-04-26 14:43:43,800][cascade_classifier.fit_transform] [layer=0] look_indexs=[0], X_cur_train.shape=(1130, 23), X_cur_test.shape=(558, 23)\n"
     ]
    },
    {
     "name": "stdout",
     "output_type": "stream",
     "text": [
      "('Test Accuracy of ExtraTrees = 98.745520 %', 3, 'fois')\n",
      "('Time', '10.553', ' seconds')\n"
     ]
    },
    {
     "name": "stderr",
     "output_type": "stream",
     "text": [
      "[ 2018-04-26 14:43:44,606][kfold_wrapper.log_eval_metrics] Accuracy(layer_0 - estimator_0 - 10_folds.train_0.predict)=98.25%\n",
      "[ 2018-04-26 14:43:45,718][kfold_wrapper.log_eval_metrics] Accuracy(layer_0 - estimator_0 - 10_folds.train_1.predict)=96.49%\n",
      "[ 2018-04-26 14:43:46,786][kfold_wrapper.log_eval_metrics] Accuracy(layer_0 - estimator_0 - 10_folds.train_2.predict)=98.25%\n",
      "[ 2018-04-26 14:43:47,723][kfold_wrapper.log_eval_metrics] Accuracy(layer_0 - estimator_0 - 10_folds.train_3.predict)=97.37%\n",
      "[ 2018-04-26 14:43:48,779][kfold_wrapper.log_eval_metrics] Accuracy(layer_0 - estimator_0 - 10_folds.train_4.predict)=99.12%\n",
      "[ 2018-04-26 14:43:49,905][kfold_wrapper.log_eval_metrics] Accuracy(layer_0 - estimator_0 - 10_folds.train_5.predict)=98.23%\n",
      "[ 2018-04-26 14:43:50,843][kfold_wrapper.log_eval_metrics] Accuracy(layer_0 - estimator_0 - 10_folds.train_6.predict)=98.21%\n",
      "[ 2018-04-26 14:43:51,937][kfold_wrapper.log_eval_metrics] Accuracy(layer_0 - estimator_0 - 10_folds.train_7.predict)=98.21%\n",
      "[ 2018-04-26 14:43:52,875][kfold_wrapper.log_eval_metrics] Accuracy(layer_0 - estimator_0 - 10_folds.train_8.predict)=98.21%\n",
      "[ 2018-04-26 14:43:53,864][kfold_wrapper.log_eval_metrics] Accuracy(layer_0 - estimator_0 - 10_folds.train_9.predict)=98.21%\n",
      "[ 2018-04-26 14:43:54,233][kfold_wrapper.log_eval_metrics] Accuracy(layer_0 - estimator_0 - 10_folds.train_cv.predict)=98.05%\n",
      "[ 2018-04-26 14:43:54,235][kfold_wrapper.log_eval_metrics] Accuracy(layer_0 - estimator_0 - 10_folds.test.predict)=98.75%\n",
      "[ 2018-04-26 14:43:54,241][cascade_classifier.calc_accuracy] Accuracy(layer_0 - train.classifier_average)=98.05%\n",
      "[ 2018-04-26 14:43:54,242][cascade_classifier.calc_accuracy] Accuracy(layer_0 - test.classifier_average)=98.75%\n",
      "[ 2018-04-26 14:43:54,243][cascade_classifier.fit_transform] [Result][Reach Max Layer] opt_layer_num=1, accuracy_train=98.05%, accuracy_test=98.75%\n",
      "[ 2018-04-26 14:43:54,244][cascade_classifier.transform] X_groups_test.shape=[(558, 23)]\n",
      "[ 2018-04-26 14:43:54,246][cascade_classifier.transform] group_dims=[23]\n",
      "[ 2018-04-26 14:43:54,247][cascade_classifier.transform] X_test.shape=(558, 23)\n",
      "[ 2018-04-26 14:43:54,248][cascade_classifier.transform] [layer=0] look_indexs=[0], X_cur_test.shape=(558, 23)\n",
      "[ 2018-04-26 14:43:56,797][cascade_classifier.fit_transform] X_groups_train.shape=[(1130, 23)],y_train.shape=(1130,),X_groups_test.shape=[(558, 23)],y_test.shape=(558,)\n",
      "[ 2018-04-26 14:43:56,798][cascade_classifier.fit_transform] group_dims=[23]\n",
      "[ 2018-04-26 14:43:56,800][cascade_classifier.fit_transform] group_starts=[0]\n",
      "[ 2018-04-26 14:43:56,801][cascade_classifier.fit_transform] group_ends=[23]\n",
      "[ 2018-04-26 14:43:56,802][cascade_classifier.fit_transform] X_train.shape=(1130, 23),X_test.shape=(558, 23)\n",
      "[ 2018-04-26 14:43:56,803][cascade_classifier.fit_transform] [layer=0] look_indexs=[0], X_cur_train.shape=(1130, 23), X_cur_test.shape=(558, 23)\n"
     ]
    },
    {
     "name": "stdout",
     "output_type": "stream",
     "text": [
      "('Test Accuracy of ExtraTrees = 98.745520 %', 4, 'fois')\n",
      "('Time', '10.451', ' seconds')\n"
     ]
    },
    {
     "name": "stderr",
     "output_type": "stream",
     "text": [
      "[ 2018-04-26 14:43:57,510][kfold_wrapper.log_eval_metrics] Accuracy(layer_0 - estimator_0 - 10_folds.train_0.predict)=98.25%\n",
      "[ 2018-04-26 14:43:58,343][kfold_wrapper.log_eval_metrics] Accuracy(layer_0 - estimator_0 - 10_folds.train_1.predict)=96.49%\n",
      "[ 2018-04-26 14:43:59,395][kfold_wrapper.log_eval_metrics] Accuracy(layer_0 - estimator_0 - 10_folds.train_2.predict)=98.25%\n",
      "[ 2018-04-26 14:44:00,357][kfold_wrapper.log_eval_metrics] Accuracy(layer_0 - estimator_0 - 10_folds.train_3.predict)=97.37%\n",
      "[ 2018-04-26 14:44:01,500][kfold_wrapper.log_eval_metrics] Accuracy(layer_0 - estimator_0 - 10_folds.train_4.predict)=99.12%\n",
      "[ 2018-04-26 14:44:02,572][kfold_wrapper.log_eval_metrics] Accuracy(layer_0 - estimator_0 - 10_folds.train_5.predict)=98.23%\n",
      "[ 2018-04-26 14:44:03,752][kfold_wrapper.log_eval_metrics] Accuracy(layer_0 - estimator_0 - 10_folds.train_6.predict)=98.21%\n",
      "[ 2018-04-26 14:44:04,706][kfold_wrapper.log_eval_metrics] Accuracy(layer_0 - estimator_0 - 10_folds.train_7.predict)=99.11%\n",
      "[ 2018-04-26 14:44:05,677][kfold_wrapper.log_eval_metrics] Accuracy(layer_0 - estimator_0 - 10_folds.train_8.predict)=98.21%\n",
      "[ 2018-04-26 14:44:06,858][kfold_wrapper.log_eval_metrics] Accuracy(layer_0 - estimator_0 - 10_folds.train_9.predict)=98.21%\n",
      "[ 2018-04-26 14:44:07,101][kfold_wrapper.log_eval_metrics] Accuracy(layer_0 - estimator_0 - 10_folds.train_cv.predict)=98.14%\n",
      "[ 2018-04-26 14:44:07,103][kfold_wrapper.log_eval_metrics] Accuracy(layer_0 - estimator_0 - 10_folds.test.predict)=98.75%\n",
      "[ 2018-04-26 14:44:07,113][cascade_classifier.calc_accuracy] Accuracy(layer_0 - train.classifier_average)=98.14%\n",
      "[ 2018-04-26 14:44:07,115][cascade_classifier.calc_accuracy] Accuracy(layer_0 - test.classifier_average)=98.75%\n",
      "[ 2018-04-26 14:44:07,116][cascade_classifier.fit_transform] [Result][Reach Max Layer] opt_layer_num=1, accuracy_train=98.14%, accuracy_test=98.75%\n",
      "[ 2018-04-26 14:44:07,118][cascade_classifier.transform] X_groups_test.shape=[(558, 23)]\n",
      "[ 2018-04-26 14:44:07,120][cascade_classifier.transform] group_dims=[23]\n",
      "[ 2018-04-26 14:44:07,121][cascade_classifier.transform] X_test.shape=(558, 23)\n",
      "[ 2018-04-26 14:44:07,122][cascade_classifier.transform] [layer=0] look_indexs=[0], X_cur_test.shape=(558, 23)\n",
      "[ 2018-04-26 14:44:09,605][cascade_classifier.fit_transform] X_groups_train.shape=[(1130, 23)],y_train.shape=(1130,),X_groups_test.shape=[(558, 23)],y_test.shape=(558,)\n",
      "[ 2018-04-26 14:44:09,607][cascade_classifier.fit_transform] group_dims=[23]\n",
      "[ 2018-04-26 14:44:09,608][cascade_classifier.fit_transform] group_starts=[0]\n",
      "[ 2018-04-26 14:44:09,609][cascade_classifier.fit_transform] group_ends=[23]\n",
      "[ 2018-04-26 14:44:09,610][cascade_classifier.fit_transform] X_train.shape=(1130, 23),X_test.shape=(558, 23)\n",
      "[ 2018-04-26 14:44:09,611][cascade_classifier.fit_transform] [layer=0] look_indexs=[0], X_cur_train.shape=(1130, 23), X_cur_test.shape=(558, 23)\n"
     ]
    },
    {
     "name": "stdout",
     "output_type": "stream",
     "text": [
      "('Test Accuracy of ExtraTrees = 98.745520 %', 5, 'fois')\n",
      "('Time', '10.322', ' seconds')\n"
     ]
    },
    {
     "name": "stderr",
     "output_type": "stream",
     "text": [
      "[ 2018-04-26 14:44:10,414][kfold_wrapper.log_eval_metrics] Accuracy(layer_0 - estimator_0 - 10_folds.train_0.predict)=98.25%\n",
      "[ 2018-04-26 14:44:11,498][kfold_wrapper.log_eval_metrics] Accuracy(layer_0 - estimator_0 - 10_folds.train_1.predict)=96.49%\n",
      "[ 2018-04-26 14:44:12,600][kfold_wrapper.log_eval_metrics] Accuracy(layer_0 - estimator_0 - 10_folds.train_2.predict)=98.25%\n",
      "[ 2018-04-26 14:44:13,751][kfold_wrapper.log_eval_metrics] Accuracy(layer_0 - estimator_0 - 10_folds.train_3.predict)=97.37%\n",
      "[ 2018-04-26 14:44:14,744][kfold_wrapper.log_eval_metrics] Accuracy(layer_0 - estimator_0 - 10_folds.train_4.predict)=99.12%\n",
      "[ 2018-04-26 14:44:15,746][kfold_wrapper.log_eval_metrics] Accuracy(layer_0 - estimator_0 - 10_folds.train_5.predict)=97.35%\n",
      "[ 2018-04-26 14:44:16,830][kfold_wrapper.log_eval_metrics] Accuracy(layer_0 - estimator_0 - 10_folds.train_6.predict)=98.21%\n",
      "[ 2018-04-26 14:44:17,913][kfold_wrapper.log_eval_metrics] Accuracy(layer_0 - estimator_0 - 10_folds.train_7.predict)=99.11%\n",
      "[ 2018-04-26 14:44:18,983][kfold_wrapper.log_eval_metrics] Accuracy(layer_0 - estimator_0 - 10_folds.train_8.predict)=98.21%\n",
      "[ 2018-04-26 14:44:20,179][kfold_wrapper.log_eval_metrics] Accuracy(layer_0 - estimator_0 - 10_folds.train_9.predict)=98.21%\n",
      "[ 2018-04-26 14:44:20,444][kfold_wrapper.log_eval_metrics] Accuracy(layer_0 - estimator_0 - 10_folds.train_cv.predict)=98.05%\n",
      "[ 2018-04-26 14:44:20,446][kfold_wrapper.log_eval_metrics] Accuracy(layer_0 - estimator_0 - 10_folds.test.predict)=98.75%\n",
      "[ 2018-04-26 14:44:20,456][cascade_classifier.calc_accuracy] Accuracy(layer_0 - train.classifier_average)=98.05%\n",
      "[ 2018-04-26 14:44:20,457][cascade_classifier.calc_accuracy] Accuracy(layer_0 - test.classifier_average)=98.75%\n",
      "[ 2018-04-26 14:44:20,458][cascade_classifier.fit_transform] [Result][Reach Max Layer] opt_layer_num=1, accuracy_train=98.05%, accuracy_test=98.75%\n",
      "[ 2018-04-26 14:44:20,459][cascade_classifier.transform] X_groups_test.shape=[(558, 23)]\n",
      "[ 2018-04-26 14:44:20,461][cascade_classifier.transform] group_dims=[23]\n",
      "[ 2018-04-26 14:44:20,462][cascade_classifier.transform] X_test.shape=(558, 23)\n",
      "[ 2018-04-26 14:44:20,463][cascade_classifier.transform] [layer=0] look_indexs=[0], X_cur_test.shape=(558, 23)\n",
      "[ 2018-04-26 14:44:23,122][cascade_classifier.fit_transform] X_groups_train.shape=[(1130, 23)],y_train.shape=(1130,),X_groups_test.shape=[(558, 23)],y_test.shape=(558,)\n",
      "[ 2018-04-26 14:44:23,124][cascade_classifier.fit_transform] group_dims=[23]\n",
      "[ 2018-04-26 14:44:23,125][cascade_classifier.fit_transform] group_starts=[0]\n",
      "[ 2018-04-26 14:44:23,126][cascade_classifier.fit_transform] group_ends=[23]\n",
      "[ 2018-04-26 14:44:23,128][cascade_classifier.fit_transform] X_train.shape=(1130, 23),X_test.shape=(558, 23)\n",
      "[ 2018-04-26 14:44:23,129][cascade_classifier.fit_transform] [layer=0] look_indexs=[0], X_cur_train.shape=(1130, 23), X_cur_test.shape=(558, 23)\n"
     ]
    },
    {
     "name": "stdout",
     "output_type": "stream",
     "text": [
      "('Test Accuracy of ExtraTrees = 98.745520 %', 6, 'fois')\n",
      "('Time', '10.856', ' seconds')\n"
     ]
    },
    {
     "name": "stderr",
     "output_type": "stream",
     "text": [
      "[ 2018-04-26 14:44:23,963][kfold_wrapper.log_eval_metrics] Accuracy(layer_0 - estimator_0 - 10_folds.train_0.predict)=98.25%\n",
      "[ 2018-04-26 14:44:25,041][kfold_wrapper.log_eval_metrics] Accuracy(layer_0 - estimator_0 - 10_folds.train_1.predict)=94.74%\n",
      "[ 2018-04-26 14:44:26,052][kfold_wrapper.log_eval_metrics] Accuracy(layer_0 - estimator_0 - 10_folds.train_2.predict)=98.25%\n",
      "[ 2018-04-26 14:44:27,121][kfold_wrapper.log_eval_metrics] Accuracy(layer_0 - estimator_0 - 10_folds.train_3.predict)=97.37%\n",
      "[ 2018-04-26 14:44:28,225][kfold_wrapper.log_eval_metrics] Accuracy(layer_0 - estimator_0 - 10_folds.train_4.predict)=99.12%\n",
      "[ 2018-04-26 14:44:29,199][kfold_wrapper.log_eval_metrics] Accuracy(layer_0 - estimator_0 - 10_folds.train_5.predict)=97.35%\n",
      "[ 2018-04-26 14:44:30,274][kfold_wrapper.log_eval_metrics] Accuracy(layer_0 - estimator_0 - 10_folds.train_6.predict)=98.21%\n",
      "[ 2018-04-26 14:44:31,258][kfold_wrapper.log_eval_metrics] Accuracy(layer_0 - estimator_0 - 10_folds.train_7.predict)=99.11%\n",
      "[ 2018-04-26 14:44:32,275][kfold_wrapper.log_eval_metrics] Accuracy(layer_0 - estimator_0 - 10_folds.train_8.predict)=98.21%\n",
      "[ 2018-04-26 14:44:33,210][kfold_wrapper.log_eval_metrics] Accuracy(layer_0 - estimator_0 - 10_folds.train_9.predict)=98.21%\n",
      "[ 2018-04-26 14:44:33,470][kfold_wrapper.log_eval_metrics] Accuracy(layer_0 - estimator_0 - 10_folds.train_cv.predict)=97.88%\n",
      "[ 2018-04-26 14:44:33,471][kfold_wrapper.log_eval_metrics] Accuracy(layer_0 - estimator_0 - 10_folds.test.predict)=98.75%\n",
      "[ 2018-04-26 14:44:33,479][cascade_classifier.calc_accuracy] Accuracy(layer_0 - train.classifier_average)=97.88%\n",
      "[ 2018-04-26 14:44:33,480][cascade_classifier.calc_accuracy] Accuracy(layer_0 - test.classifier_average)=98.75%\n",
      "[ 2018-04-26 14:44:33,482][cascade_classifier.fit_transform] [Result][Reach Max Layer] opt_layer_num=1, accuracy_train=97.88%, accuracy_test=98.75%\n",
      "[ 2018-04-26 14:44:33,483][cascade_classifier.transform] X_groups_test.shape=[(558, 23)]\n",
      "[ 2018-04-26 14:44:33,485][cascade_classifier.transform] group_dims=[23]\n",
      "[ 2018-04-26 14:44:33,486][cascade_classifier.transform] X_test.shape=(558, 23)\n",
      "[ 2018-04-26 14:44:33,487][cascade_classifier.transform] [layer=0] look_indexs=[0], X_cur_test.shape=(558, 23)\n",
      "[ 2018-04-26 14:44:36,005][cascade_classifier.fit_transform] X_groups_train.shape=[(1130, 23)],y_train.shape=(1130,),X_groups_test.shape=[(558, 23)],y_test.shape=(558,)\n",
      "[ 2018-04-26 14:44:36,007][cascade_classifier.fit_transform] group_dims=[23]\n",
      "[ 2018-04-26 14:44:36,008][cascade_classifier.fit_transform] group_starts=[0]\n",
      "[ 2018-04-26 14:44:36,009][cascade_classifier.fit_transform] group_ends=[23]\n",
      "[ 2018-04-26 14:44:36,010][cascade_classifier.fit_transform] X_train.shape=(1130, 23),X_test.shape=(558, 23)\n",
      "[ 2018-04-26 14:44:36,011][cascade_classifier.fit_transform] [layer=0] look_indexs=[0], X_cur_train.shape=(1130, 23), X_cur_test.shape=(558, 23)\n"
     ]
    },
    {
     "name": "stdout",
     "output_type": "stream",
     "text": [
      "('Test Accuracy of ExtraTrees = 98.745520 %', 7, 'fois')\n",
      "('Time', '10.362', ' seconds')\n"
     ]
    },
    {
     "name": "stderr",
     "output_type": "stream",
     "text": [
      "[ 2018-04-26 14:44:36,836][kfold_wrapper.log_eval_metrics] Accuracy(layer_0 - estimator_0 - 10_folds.train_0.predict)=98.25%\n",
      "[ 2018-04-26 14:44:37,923][kfold_wrapper.log_eval_metrics] Accuracy(layer_0 - estimator_0 - 10_folds.train_1.predict)=93.86%\n",
      "[ 2018-04-26 14:44:38,983][kfold_wrapper.log_eval_metrics] Accuracy(layer_0 - estimator_0 - 10_folds.train_2.predict)=98.25%\n",
      "[ 2018-04-26 14:44:40,064][kfold_wrapper.log_eval_metrics] Accuracy(layer_0 - estimator_0 - 10_folds.train_3.predict)=97.37%\n",
      "[ 2018-04-26 14:44:41,158][kfold_wrapper.log_eval_metrics] Accuracy(layer_0 - estimator_0 - 10_folds.train_4.predict)=99.12%\n",
      "[ 2018-04-26 14:44:42,177][kfold_wrapper.log_eval_metrics] Accuracy(layer_0 - estimator_0 - 10_folds.train_5.predict)=97.35%\n",
      "[ 2018-04-26 14:44:43,219][kfold_wrapper.log_eval_metrics] Accuracy(layer_0 - estimator_0 - 10_folds.train_6.predict)=98.21%\n",
      "[ 2018-04-26 14:44:44,149][kfold_wrapper.log_eval_metrics] Accuracy(layer_0 - estimator_0 - 10_folds.train_7.predict)=97.32%\n",
      "[ 2018-04-26 14:44:45,266][kfold_wrapper.log_eval_metrics] Accuracy(layer_0 - estimator_0 - 10_folds.train_8.predict)=98.21%\n",
      "[ 2018-04-26 14:44:46,345][kfold_wrapper.log_eval_metrics] Accuracy(layer_0 - estimator_0 - 10_folds.train_9.predict)=98.21%\n",
      "[ 2018-04-26 14:44:46,597][kfold_wrapper.log_eval_metrics] Accuracy(layer_0 - estimator_0 - 10_folds.train_cv.predict)=97.61%\n",
      "[ 2018-04-26 14:44:46,599][kfold_wrapper.log_eval_metrics] Accuracy(layer_0 - estimator_0 - 10_folds.test.predict)=98.75%\n",
      "[ 2018-04-26 14:44:46,607][cascade_classifier.calc_accuracy] Accuracy(layer_0 - train.classifier_average)=97.61%\n",
      "[ 2018-04-26 14:44:46,608][cascade_classifier.calc_accuracy] Accuracy(layer_0 - test.classifier_average)=98.75%\n",
      "[ 2018-04-26 14:44:46,610][cascade_classifier.fit_transform] [Result][Reach Max Layer] opt_layer_num=1, accuracy_train=97.61%, accuracy_test=98.75%\n",
      "[ 2018-04-26 14:44:46,611][cascade_classifier.transform] X_groups_test.shape=[(558, 23)]\n",
      "[ 2018-04-26 14:44:46,613][cascade_classifier.transform] group_dims=[23]\n",
      "[ 2018-04-26 14:44:46,614][cascade_classifier.transform] X_test.shape=(558, 23)\n",
      "[ 2018-04-26 14:44:46,615][cascade_classifier.transform] [layer=0] look_indexs=[0], X_cur_test.shape=(558, 23)\n",
      "[ 2018-04-26 14:44:49,246][cascade_classifier.fit_transform] X_groups_train.shape=[(1130, 23)],y_train.shape=(1130,),X_groups_test.shape=[(558, 23)],y_test.shape=(558,)\n",
      "[ 2018-04-26 14:44:49,247][cascade_classifier.fit_transform] group_dims=[23]\n",
      "[ 2018-04-26 14:44:49,249][cascade_classifier.fit_transform] group_starts=[0]\n",
      "[ 2018-04-26 14:44:49,250][cascade_classifier.fit_transform] group_ends=[23]\n",
      "[ 2018-04-26 14:44:49,251][cascade_classifier.fit_transform] X_train.shape=(1130, 23),X_test.shape=(558, 23)\n",
      "[ 2018-04-26 14:44:49,252][cascade_classifier.fit_transform] [layer=0] look_indexs=[0], X_cur_train.shape=(1130, 23), X_cur_test.shape=(558, 23)\n"
     ]
    },
    {
     "name": "stdout",
     "output_type": "stream",
     "text": [
      "('Test Accuracy of ExtraTrees = 98.745520 %', 8, 'fois')\n",
      "('Time', '10.607', ' seconds')\n"
     ]
    },
    {
     "name": "stderr",
     "output_type": "stream",
     "text": [
      "[ 2018-04-26 14:44:49,929][kfold_wrapper.log_eval_metrics] Accuracy(layer_0 - estimator_0 - 10_folds.train_0.predict)=97.37%\n",
      "[ 2018-04-26 14:44:51,027][kfold_wrapper.log_eval_metrics] Accuracy(layer_0 - estimator_0 - 10_folds.train_1.predict)=93.86%\n",
      "[ 2018-04-26 14:44:52,160][kfold_wrapper.log_eval_metrics] Accuracy(layer_0 - estimator_0 - 10_folds.train_2.predict)=98.25%\n",
      "[ 2018-04-26 14:44:53,366][kfold_wrapper.log_eval_metrics] Accuracy(layer_0 - estimator_0 - 10_folds.train_3.predict)=98.25%\n",
      "[ 2018-04-26 14:44:54,294][kfold_wrapper.log_eval_metrics] Accuracy(layer_0 - estimator_0 - 10_folds.train_4.predict)=99.12%\n",
      "[ 2018-04-26 14:44:55,409][kfold_wrapper.log_eval_metrics] Accuracy(layer_0 - estimator_0 - 10_folds.train_5.predict)=96.46%\n",
      "[ 2018-04-26 14:44:56,211][kfold_wrapper.log_eval_metrics] Accuracy(layer_0 - estimator_0 - 10_folds.train_6.predict)=98.21%\n",
      "[ 2018-04-26 14:44:57,267][kfold_wrapper.log_eval_metrics] Accuracy(layer_0 - estimator_0 - 10_folds.train_7.predict)=98.21%\n",
      "[ 2018-04-26 14:44:58,235][kfold_wrapper.log_eval_metrics] Accuracy(layer_0 - estimator_0 - 10_folds.train_8.predict)=98.21%\n",
      "[ 2018-04-26 14:44:59,191][kfold_wrapper.log_eval_metrics] Accuracy(layer_0 - estimator_0 - 10_folds.train_9.predict)=98.21%\n",
      "[ 2018-04-26 14:44:59,453][kfold_wrapper.log_eval_metrics] Accuracy(layer_0 - estimator_0 - 10_folds.train_cv.predict)=97.61%\n",
      "[ 2018-04-26 14:44:59,454][kfold_wrapper.log_eval_metrics] Accuracy(layer_0 - estimator_0 - 10_folds.test.predict)=98.75%\n",
      "[ 2018-04-26 14:44:59,461][cascade_classifier.calc_accuracy] Accuracy(layer_0 - train.classifier_average)=97.61%\n",
      "[ 2018-04-26 14:44:59,463][cascade_classifier.calc_accuracy] Accuracy(layer_0 - test.classifier_average)=98.75%\n",
      "[ 2018-04-26 14:44:59,464][cascade_classifier.fit_transform] [Result][Reach Max Layer] opt_layer_num=1, accuracy_train=97.61%, accuracy_test=98.75%\n",
      "[ 2018-04-26 14:44:59,466][cascade_classifier.transform] X_groups_test.shape=[(558, 23)]\n",
      "[ 2018-04-26 14:44:59,468][cascade_classifier.transform] group_dims=[23]\n",
      "[ 2018-04-26 14:44:59,469][cascade_classifier.transform] X_test.shape=(558, 23)\n",
      "[ 2018-04-26 14:44:59,470][cascade_classifier.transform] [layer=0] look_indexs=[0], X_cur_test.shape=(558, 23)\n",
      "[ 2018-04-26 14:45:01,957][cascade_classifier.fit_transform] X_groups_train.shape=[(1130, 23)],y_train.shape=(1130,),X_groups_test.shape=[(558, 23)],y_test.shape=(558,)\n",
      "[ 2018-04-26 14:45:01,959][cascade_classifier.fit_transform] group_dims=[23]\n",
      "[ 2018-04-26 14:45:01,960][cascade_classifier.fit_transform] group_starts=[0]\n",
      "[ 2018-04-26 14:45:01,961][cascade_classifier.fit_transform] group_ends=[23]\n",
      "[ 2018-04-26 14:45:01,963][cascade_classifier.fit_transform] X_train.shape=(1130, 23),X_test.shape=(558, 23)\n",
      "[ 2018-04-26 14:45:01,964][cascade_classifier.fit_transform] [layer=0] look_indexs=[0], X_cur_train.shape=(1130, 23), X_cur_test.shape=(558, 23)\n"
     ]
    },
    {
     "name": "stdout",
     "output_type": "stream",
     "text": [
      "('Test Accuracy of ExtraTrees = 98.745520 %', 9, 'fois')\n",
      "('Time', '10.221', ' seconds')\n"
     ]
    },
    {
     "name": "stderr",
     "output_type": "stream",
     "text": [
      "[ 2018-04-26 14:45:02,833][kfold_wrapper.log_eval_metrics] Accuracy(layer_0 - estimator_0 - 10_folds.train_0.predict)=97.37%\n",
      "[ 2018-04-26 14:45:03,863][kfold_wrapper.log_eval_metrics] Accuracy(layer_0 - estimator_0 - 10_folds.train_1.predict)=93.86%\n",
      "[ 2018-04-26 14:45:04,964][kfold_wrapper.log_eval_metrics] Accuracy(layer_0 - estimator_0 - 10_folds.train_2.predict)=98.25%\n",
      "[ 2018-04-26 14:45:05,935][kfold_wrapper.log_eval_metrics] Accuracy(layer_0 - estimator_0 - 10_folds.train_3.predict)=98.25%\n",
      "[ 2018-04-26 14:45:07,073][kfold_wrapper.log_eval_metrics] Accuracy(layer_0 - estimator_0 - 10_folds.train_4.predict)=99.12%\n",
      "[ 2018-04-26 14:45:08,222][kfold_wrapper.log_eval_metrics] Accuracy(layer_0 - estimator_0 - 10_folds.train_5.predict)=96.46%\n",
      "[ 2018-04-26 14:45:09,250][kfold_wrapper.log_eval_metrics] Accuracy(layer_0 - estimator_0 - 10_folds.train_6.predict)=98.21%\n",
      "[ 2018-04-26 14:45:10,412][kfold_wrapper.log_eval_metrics] Accuracy(layer_0 - estimator_0 - 10_folds.train_7.predict)=98.21%\n",
      "[ 2018-04-26 14:45:11,514][kfold_wrapper.log_eval_metrics] Accuracy(layer_0 - estimator_0 - 10_folds.train_8.predict)=98.21%\n",
      "[ 2018-04-26 14:45:12,461][kfold_wrapper.log_eval_metrics] Accuracy(layer_0 - estimator_0 - 10_folds.train_9.predict)=98.21%\n",
      "[ 2018-04-26 14:45:12,713][kfold_wrapper.log_eval_metrics] Accuracy(layer_0 - estimator_0 - 10_folds.train_cv.predict)=97.61%\n",
      "[ 2018-04-26 14:45:12,715][kfold_wrapper.log_eval_metrics] Accuracy(layer_0 - estimator_0 - 10_folds.test.predict)=98.75%\n",
      "[ 2018-04-26 14:45:12,725][cascade_classifier.calc_accuracy] Accuracy(layer_0 - train.classifier_average)=97.61%\n",
      "[ 2018-04-26 14:45:12,727][cascade_classifier.calc_accuracy] Accuracy(layer_0 - test.classifier_average)=98.75%\n",
      "[ 2018-04-26 14:45:12,728][cascade_classifier.fit_transform] [Result][Reach Max Layer] opt_layer_num=1, accuracy_train=97.61%, accuracy_test=98.75%\n",
      "[ 2018-04-26 14:45:12,729][cascade_classifier.transform] X_groups_test.shape=[(558, 23)]\n",
      "[ 2018-04-26 14:45:12,731][cascade_classifier.transform] group_dims=[23]\n",
      "[ 2018-04-26 14:45:12,732][cascade_classifier.transform] X_test.shape=(558, 23)\n",
      "[ 2018-04-26 14:45:12,733][cascade_classifier.transform] [layer=0] look_indexs=[0], X_cur_test.shape=(558, 23)\n",
      "[ 2018-04-26 14:45:15,270][cascade_classifier.fit_transform] X_groups_train.shape=[(1130, 23)],y_train.shape=(1130,),X_groups_test.shape=[(558, 23)],y_test.shape=(558,)\n",
      "[ 2018-04-26 14:45:15,272][cascade_classifier.fit_transform] group_dims=[23]\n",
      "[ 2018-04-26 14:45:15,273][cascade_classifier.fit_transform] group_starts=[0]\n",
      "[ 2018-04-26 14:45:15,274][cascade_classifier.fit_transform] group_ends=[23]\n",
      "[ 2018-04-26 14:45:15,275][cascade_classifier.fit_transform] X_train.shape=(1130, 23),X_test.shape=(558, 23)\n",
      "[ 2018-04-26 14:45:15,276][cascade_classifier.fit_transform] [layer=0] look_indexs=[0], X_cur_train.shape=(1130, 23), X_cur_test.shape=(558, 23)\n"
     ]
    },
    {
     "name": "stdout",
     "output_type": "stream",
     "text": [
      "('Test Accuracy of ExtraTrees = 98.745520 %', 10, 'fois')\n",
      "('Time', '10.773', ' seconds')\n"
     ]
    },
    {
     "name": "stderr",
     "output_type": "stream",
     "text": [
      "[ 2018-04-26 14:45:16,137][kfold_wrapper.log_eval_metrics] Accuracy(layer_0 - estimator_0 - 10_folds.train_0.predict)=98.25%\n",
      "[ 2018-04-26 14:45:17,213][kfold_wrapper.log_eval_metrics] Accuracy(layer_0 - estimator_0 - 10_folds.train_1.predict)=93.86%\n",
      "[ 2018-04-26 14:45:18,297][kfold_wrapper.log_eval_metrics] Accuracy(layer_0 - estimator_0 - 10_folds.train_2.predict)=98.25%\n",
      "[ 2018-04-26 14:45:19,393][kfold_wrapper.log_eval_metrics] Accuracy(layer_0 - estimator_0 - 10_folds.train_3.predict)=98.25%\n",
      "[ 2018-04-26 14:45:20,314][kfold_wrapper.log_eval_metrics] Accuracy(layer_0 - estimator_0 - 10_folds.train_4.predict)=99.12%\n",
      "[ 2018-04-26 14:45:21,390][kfold_wrapper.log_eval_metrics] Accuracy(layer_0 - estimator_0 - 10_folds.train_5.predict)=98.23%\n",
      "[ 2018-04-26 14:45:22,358][kfold_wrapper.log_eval_metrics] Accuracy(layer_0 - estimator_0 - 10_folds.train_6.predict)=98.21%\n",
      "[ 2018-04-26 14:45:23,314][kfold_wrapper.log_eval_metrics] Accuracy(layer_0 - estimator_0 - 10_folds.train_7.predict)=98.21%\n",
      "[ 2018-04-26 14:45:24,454][kfold_wrapper.log_eval_metrics] Accuracy(layer_0 - estimator_0 - 10_folds.train_8.predict)=98.21%\n",
      "[ 2018-04-26 14:45:25,438][kfold_wrapper.log_eval_metrics] Accuracy(layer_0 - estimator_0 - 10_folds.train_9.predict)=98.21%\n",
      "[ 2018-04-26 14:45:25,720][kfold_wrapper.log_eval_metrics] Accuracy(layer_0 - estimator_0 - 10_folds.train_cv.predict)=97.88%\n",
      "[ 2018-04-26 14:45:25,721][kfold_wrapper.log_eval_metrics] Accuracy(layer_0 - estimator_0 - 10_folds.test.predict)=99.10%\n",
      "[ 2018-04-26 14:45:25,728][cascade_classifier.calc_accuracy] Accuracy(layer_0 - train.classifier_average)=97.88%\n",
      "[ 2018-04-26 14:45:25,729][cascade_classifier.calc_accuracy] Accuracy(layer_0 - test.classifier_average)=99.10%\n",
      "[ 2018-04-26 14:45:25,730][cascade_classifier.fit_transform] [Result][Reach Max Layer] opt_layer_num=1, accuracy_train=97.88%, accuracy_test=99.10%\n",
      "[ 2018-04-26 14:45:25,731][cascade_classifier.transform] X_groups_test.shape=[(558, 23)]\n",
      "[ 2018-04-26 14:45:25,733][cascade_classifier.transform] group_dims=[23]\n",
      "[ 2018-04-26 14:45:25,734][cascade_classifier.transform] X_test.shape=(558, 23)\n",
      "[ 2018-04-26 14:45:25,735][cascade_classifier.transform] [layer=0] look_indexs=[0], X_cur_test.shape=(558, 23)\n",
      "[ 2018-04-26 14:45:28,309][cascade_classifier.fit_transform] X_groups_train.shape=[(1130, 23)],y_train.shape=(1130,),X_groups_test.shape=[(558, 23)],y_test.shape=(558,)\n",
      "[ 2018-04-26 14:45:28,311][cascade_classifier.fit_transform] group_dims=[23]\n",
      "[ 2018-04-26 14:45:28,312][cascade_classifier.fit_transform] group_starts=[0]\n",
      "[ 2018-04-26 14:45:28,313][cascade_classifier.fit_transform] group_ends=[23]\n",
      "[ 2018-04-26 14:45:28,315][cascade_classifier.fit_transform] X_train.shape=(1130, 23),X_test.shape=(558, 23)\n",
      "[ 2018-04-26 14:45:28,316][cascade_classifier.fit_transform] [layer=0] look_indexs=[0], X_cur_train.shape=(1130, 23), X_cur_test.shape=(558, 23)\n"
     ]
    },
    {
     "name": "stdout",
     "output_type": "stream",
     "text": [
      "('Test Accuracy of ExtraTrees = 99.103943 %', 11, 'fois')\n",
      "('Time', '10.462', ' seconds')\n"
     ]
    },
    {
     "name": "stderr",
     "output_type": "stream",
     "text": [
      "[ 2018-04-26 14:45:29,018][kfold_wrapper.log_eval_metrics] Accuracy(layer_0 - estimator_0 - 10_folds.train_0.predict)=97.37%\n",
      "[ 2018-04-26 14:45:30,102][kfold_wrapper.log_eval_metrics] Accuracy(layer_0 - estimator_0 - 10_folds.train_1.predict)=93.86%\n",
      "[ 2018-04-26 14:45:31,181][kfold_wrapper.log_eval_metrics] Accuracy(layer_0 - estimator_0 - 10_folds.train_2.predict)=98.25%\n",
      "[ 2018-04-26 14:45:32,268][kfold_wrapper.log_eval_metrics] Accuracy(layer_0 - estimator_0 - 10_folds.train_3.predict)=98.25%\n",
      "[ 2018-04-26 14:45:33,357][kfold_wrapper.log_eval_metrics] Accuracy(layer_0 - estimator_0 - 10_folds.train_4.predict)=98.23%\n",
      "[ 2018-04-26 14:45:34,400][kfold_wrapper.log_eval_metrics] Accuracy(layer_0 - estimator_0 - 10_folds.train_5.predict)=97.35%\n",
      "[ 2018-04-26 14:45:35,476][kfold_wrapper.log_eval_metrics] Accuracy(layer_0 - estimator_0 - 10_folds.train_6.predict)=98.21%\n",
      "[ 2018-04-26 14:45:36,533][kfold_wrapper.log_eval_metrics] Accuracy(layer_0 - estimator_0 - 10_folds.train_7.predict)=98.21%\n",
      "[ 2018-04-26 14:45:37,645][kfold_wrapper.log_eval_metrics] Accuracy(layer_0 - estimator_0 - 10_folds.train_8.predict)=97.32%\n",
      "[ 2018-04-26 14:45:38,751][kfold_wrapper.log_eval_metrics] Accuracy(layer_0 - estimator_0 - 10_folds.train_9.predict)=98.21%\n",
      "[ 2018-04-26 14:45:39,005][kfold_wrapper.log_eval_metrics] Accuracy(layer_0 - estimator_0 - 10_folds.train_cv.predict)=97.52%\n",
      "[ 2018-04-26 14:45:39,007][kfold_wrapper.log_eval_metrics] Accuracy(layer_0 - estimator_0 - 10_folds.test.predict)=98.75%\n",
      "[ 2018-04-26 14:45:39,014][cascade_classifier.calc_accuracy] Accuracy(layer_0 - train.classifier_average)=97.52%\n",
      "[ 2018-04-26 14:45:39,016][cascade_classifier.calc_accuracy] Accuracy(layer_0 - test.classifier_average)=98.75%\n",
      "[ 2018-04-26 14:45:39,017][cascade_classifier.fit_transform] [Result][Reach Max Layer] opt_layer_num=1, accuracy_train=97.52%, accuracy_test=98.75%\n",
      "[ 2018-04-26 14:45:39,018][cascade_classifier.transform] X_groups_test.shape=[(558, 23)]\n",
      "[ 2018-04-26 14:45:39,020][cascade_classifier.transform] group_dims=[23]\n",
      "[ 2018-04-26 14:45:39,021][cascade_classifier.transform] X_test.shape=(558, 23)\n",
      "[ 2018-04-26 14:45:39,022][cascade_classifier.transform] [layer=0] look_indexs=[0], X_cur_test.shape=(558, 23)\n",
      "[ 2018-04-26 14:45:41,629][cascade_classifier.fit_transform] X_groups_train.shape=[(1130, 23)],y_train.shape=(1130,),X_groups_test.shape=[(558, 23)],y_test.shape=(558,)\n",
      "[ 2018-04-26 14:45:41,631][cascade_classifier.fit_transform] group_dims=[23]\n",
      "[ 2018-04-26 14:45:41,632][cascade_classifier.fit_transform] group_starts=[0]\n",
      "[ 2018-04-26 14:45:41,633][cascade_classifier.fit_transform] group_ends=[23]\n",
      "[ 2018-04-26 14:45:41,635][cascade_classifier.fit_transform] X_train.shape=(1130, 23),X_test.shape=(558, 23)\n",
      "[ 2018-04-26 14:45:41,636][cascade_classifier.fit_transform] [layer=0] look_indexs=[0], X_cur_train.shape=(1130, 23), X_cur_test.shape=(558, 23)\n"
     ]
    },
    {
     "name": "stdout",
     "output_type": "stream",
     "text": [
      "('Test Accuracy of ExtraTrees = 98.745520 %', 12, 'fois')\n",
      "('Time', '10.711', ' seconds')\n"
     ]
    },
    {
     "name": "stderr",
     "output_type": "stream",
     "text": [
      "[ 2018-04-26 14:45:42,343][kfold_wrapper.log_eval_metrics] Accuracy(layer_0 - estimator_0 - 10_folds.train_0.predict)=97.37%\n",
      "[ 2018-04-26 14:45:43,287][kfold_wrapper.log_eval_metrics] Accuracy(layer_0 - estimator_0 - 10_folds.train_1.predict)=93.86%\n",
      "[ 2018-04-26 14:45:44,386][kfold_wrapper.log_eval_metrics] Accuracy(layer_0 - estimator_0 - 10_folds.train_2.predict)=98.25%\n",
      "[ 2018-04-26 14:45:45,335][kfold_wrapper.log_eval_metrics] Accuracy(layer_0 - estimator_0 - 10_folds.train_3.predict)=98.25%\n",
      "[ 2018-04-26 14:45:46,279][kfold_wrapper.log_eval_metrics] Accuracy(layer_0 - estimator_0 - 10_folds.train_4.predict)=99.12%\n",
      "[ 2018-04-26 14:45:47,329][kfold_wrapper.log_eval_metrics] Accuracy(layer_0 - estimator_0 - 10_folds.train_5.predict)=98.23%\n",
      "[ 2018-04-26 14:45:48,430][kfold_wrapper.log_eval_metrics] Accuracy(layer_0 - estimator_0 - 10_folds.train_6.predict)=98.21%\n",
      "[ 2018-04-26 14:45:49,485][kfold_wrapper.log_eval_metrics] Accuracy(layer_0 - estimator_0 - 10_folds.train_7.predict)=98.21%\n",
      "[ 2018-04-26 14:45:50,584][kfold_wrapper.log_eval_metrics] Accuracy(layer_0 - estimator_0 - 10_folds.train_8.predict)=97.32%\n",
      "[ 2018-04-26 14:45:51,667][kfold_wrapper.log_eval_metrics] Accuracy(layer_0 - estimator_0 - 10_folds.train_9.predict)=98.21%\n",
      "[ 2018-04-26 14:45:51,910][kfold_wrapper.log_eval_metrics] Accuracy(layer_0 - estimator_0 - 10_folds.train_cv.predict)=97.70%\n",
      "[ 2018-04-26 14:45:51,911][kfold_wrapper.log_eval_metrics] Accuracy(layer_0 - estimator_0 - 10_folds.test.predict)=98.92%\n",
      "[ 2018-04-26 14:45:51,921][cascade_classifier.calc_accuracy] Accuracy(layer_0 - train.classifier_average)=97.70%\n",
      "[ 2018-04-26 14:45:51,922][cascade_classifier.calc_accuracy] Accuracy(layer_0 - test.classifier_average)=98.92%\n",
      "[ 2018-04-26 14:45:51,924][cascade_classifier.fit_transform] [Result][Reach Max Layer] opt_layer_num=1, accuracy_train=97.70%, accuracy_test=98.92%\n",
      "[ 2018-04-26 14:45:51,925][cascade_classifier.transform] X_groups_test.shape=[(558, 23)]\n",
      "[ 2018-04-26 14:45:51,926][cascade_classifier.transform] group_dims=[23]\n",
      "[ 2018-04-26 14:45:51,927][cascade_classifier.transform] X_test.shape=(558, 23)\n",
      "[ 2018-04-26 14:45:51,929][cascade_classifier.transform] [layer=0] look_indexs=[0], X_cur_test.shape=(558, 23)\n",
      "[ 2018-04-26 14:45:54,455][cascade_classifier.fit_transform] X_groups_train.shape=[(1130, 23)],y_train.shape=(1130,),X_groups_test.shape=[(558, 23)],y_test.shape=(558,)\n",
      "[ 2018-04-26 14:45:54,457][cascade_classifier.fit_transform] group_dims=[23]\n",
      "[ 2018-04-26 14:45:54,458][cascade_classifier.fit_transform] group_starts=[0]\n",
      "[ 2018-04-26 14:45:54,459][cascade_classifier.fit_transform] group_ends=[23]\n",
      "[ 2018-04-26 14:45:54,460][cascade_classifier.fit_transform] X_train.shape=(1130, 23),X_test.shape=(558, 23)\n",
      "[ 2018-04-26 14:45:54,462][cascade_classifier.fit_transform] [layer=0] look_indexs=[0], X_cur_train.shape=(1130, 23), X_cur_test.shape=(558, 23)\n"
     ]
    },
    {
     "name": "stdout",
     "output_type": "stream",
     "text": [
      "('Test Accuracy of ExtraTrees = 98.924731 %', 13, 'fois')\n",
      "('Time', '10.297', ' seconds')\n"
     ]
    },
    {
     "name": "stderr",
     "output_type": "stream",
     "text": [
      "[ 2018-04-26 14:45:55,293][kfold_wrapper.log_eval_metrics] Accuracy(layer_0 - estimator_0 - 10_folds.train_0.predict)=97.37%\n",
      "[ 2018-04-26 14:45:56,211][kfold_wrapper.log_eval_metrics] Accuracy(layer_0 - estimator_0 - 10_folds.train_1.predict)=93.86%\n",
      "[ 2018-04-26 14:45:57,371][kfold_wrapper.log_eval_metrics] Accuracy(layer_0 - estimator_0 - 10_folds.train_2.predict)=98.25%\n",
      "[ 2018-04-26 14:45:58,181][kfold_wrapper.log_eval_metrics] Accuracy(layer_0 - estimator_0 - 10_folds.train_3.predict)=98.25%\n",
      "[ 2018-04-26 14:45:59,034][kfold_wrapper.log_eval_metrics] Accuracy(layer_0 - estimator_0 - 10_folds.train_4.predict)=97.35%\n",
      "[ 2018-04-26 14:46:00,061][kfold_wrapper.log_eval_metrics] Accuracy(layer_0 - estimator_0 - 10_folds.train_5.predict)=97.35%\n",
      "[ 2018-04-26 14:46:01,149][kfold_wrapper.log_eval_metrics] Accuracy(layer_0 - estimator_0 - 10_folds.train_6.predict)=98.21%\n",
      "[ 2018-04-26 14:46:02,048][kfold_wrapper.log_eval_metrics] Accuracy(layer_0 - estimator_0 - 10_folds.train_7.predict)=98.21%\n",
      "[ 2018-04-26 14:46:03,157][kfold_wrapper.log_eval_metrics] Accuracy(layer_0 - estimator_0 - 10_folds.train_8.predict)=98.21%\n",
      "[ 2018-04-26 14:46:04,204][kfold_wrapper.log_eval_metrics] Accuracy(layer_0 - estimator_0 - 10_folds.train_9.predict)=98.21%\n",
      "[ 2018-04-26 14:46:04,459][kfold_wrapper.log_eval_metrics] Accuracy(layer_0 - estimator_0 - 10_folds.train_cv.predict)=97.52%\n",
      "[ 2018-04-26 14:46:04,461][kfold_wrapper.log_eval_metrics] Accuracy(layer_0 - estimator_0 - 10_folds.test.predict)=98.75%\n",
      "[ 2018-04-26 14:46:04,468][cascade_classifier.calc_accuracy] Accuracy(layer_0 - train.classifier_average)=97.52%\n",
      "[ 2018-04-26 14:46:04,470][cascade_classifier.calc_accuracy] Accuracy(layer_0 - test.classifier_average)=98.75%\n",
      "[ 2018-04-26 14:46:04,471][cascade_classifier.fit_transform] [Result][Reach Max Layer] opt_layer_num=1, accuracy_train=97.52%, accuracy_test=98.75%\n",
      "[ 2018-04-26 14:46:04,472][cascade_classifier.transform] X_groups_test.shape=[(558, 23)]\n",
      "[ 2018-04-26 14:46:04,474][cascade_classifier.transform] group_dims=[23]\n",
      "[ 2018-04-26 14:46:04,475][cascade_classifier.transform] X_test.shape=(558, 23)\n",
      "[ 2018-04-26 14:46:04,476][cascade_classifier.transform] [layer=0] look_indexs=[0], X_cur_test.shape=(558, 23)\n",
      "[ 2018-04-26 14:46:06,972][cascade_classifier.fit_transform] X_groups_train.shape=[(1130, 23)],y_train.shape=(1130,),X_groups_test.shape=[(558, 23)],y_test.shape=(558,)\n",
      "[ 2018-04-26 14:46:06,974][cascade_classifier.fit_transform] group_dims=[23]\n",
      "[ 2018-04-26 14:46:06,976][cascade_classifier.fit_transform] group_starts=[0]\n",
      "[ 2018-04-26 14:46:06,977][cascade_classifier.fit_transform] group_ends=[23]\n",
      "[ 2018-04-26 14:46:06,978][cascade_classifier.fit_transform] X_train.shape=(1130, 23),X_test.shape=(558, 23)\n",
      "[ 2018-04-26 14:46:06,980][cascade_classifier.fit_transform] [layer=0] look_indexs=[0], X_cur_train.shape=(1130, 23), X_cur_test.shape=(558, 23)\n"
     ]
    },
    {
     "name": "stdout",
     "output_type": "stream",
     "text": [
      "('Test Accuracy of ExtraTrees = 98.745520 %', 14, 'fois')\n",
      "('Time', '10.019', ' seconds')\n"
     ]
    },
    {
     "name": "stderr",
     "output_type": "stream",
     "text": [
      "[ 2018-04-26 14:46:07,722][kfold_wrapper.log_eval_metrics] Accuracy(layer_0 - estimator_0 - 10_folds.train_0.predict)=97.37%\n",
      "[ 2018-04-26 14:46:08,744][kfold_wrapper.log_eval_metrics] Accuracy(layer_0 - estimator_0 - 10_folds.train_1.predict)=93.86%\n",
      "[ 2018-04-26 14:46:09,647][kfold_wrapper.log_eval_metrics] Accuracy(layer_0 - estimator_0 - 10_folds.train_2.predict)=98.25%\n",
      "[ 2018-04-26 14:46:10,523][kfold_wrapper.log_eval_metrics] Accuracy(layer_0 - estimator_0 - 10_folds.train_3.predict)=98.25%\n",
      "[ 2018-04-26 14:46:11,424][kfold_wrapper.log_eval_metrics] Accuracy(layer_0 - estimator_0 - 10_folds.train_4.predict)=99.12%\n",
      "[ 2018-04-26 14:46:12,489][kfold_wrapper.log_eval_metrics] Accuracy(layer_0 - estimator_0 - 10_folds.train_5.predict)=98.23%\n",
      "[ 2018-04-26 14:46:13,521][kfold_wrapper.log_eval_metrics] Accuracy(layer_0 - estimator_0 - 10_folds.train_6.predict)=98.21%\n",
      "[ 2018-04-26 14:46:14,656][kfold_wrapper.log_eval_metrics] Accuracy(layer_0 - estimator_0 - 10_folds.train_7.predict)=98.21%\n",
      "[ 2018-04-26 14:46:15,705][kfold_wrapper.log_eval_metrics] Accuracy(layer_0 - estimator_0 - 10_folds.train_8.predict)=97.32%\n",
      "[ 2018-04-26 14:46:16,851][kfold_wrapper.log_eval_metrics] Accuracy(layer_0 - estimator_0 - 10_folds.train_9.predict)=98.21%\n",
      "[ 2018-04-26 14:46:17,109][kfold_wrapper.log_eval_metrics] Accuracy(layer_0 - estimator_0 - 10_folds.train_cv.predict)=97.70%\n",
      "[ 2018-04-26 14:46:17,111][kfold_wrapper.log_eval_metrics] Accuracy(layer_0 - estimator_0 - 10_folds.test.predict)=98.75%\n",
      "[ 2018-04-26 14:46:17,120][cascade_classifier.calc_accuracy] Accuracy(layer_0 - train.classifier_average)=97.70%\n",
      "[ 2018-04-26 14:46:17,122][cascade_classifier.calc_accuracy] Accuracy(layer_0 - test.classifier_average)=98.75%\n",
      "[ 2018-04-26 14:46:17,123][cascade_classifier.fit_transform] [Result][Reach Max Layer] opt_layer_num=1, accuracy_train=97.70%, accuracy_test=98.75%\n",
      "[ 2018-04-26 14:46:17,124][cascade_classifier.transform] X_groups_test.shape=[(558, 23)]\n",
      "[ 2018-04-26 14:46:17,126][cascade_classifier.transform] group_dims=[23]\n",
      "[ 2018-04-26 14:46:17,127][cascade_classifier.transform] X_test.shape=(558, 23)\n",
      "[ 2018-04-26 14:46:17,128][cascade_classifier.transform] [layer=0] look_indexs=[0], X_cur_test.shape=(558, 23)\n",
      "[ 2018-04-26 14:46:19,758][cascade_classifier.fit_transform] X_groups_train.shape=[(1130, 23)],y_train.shape=(1130,),X_groups_test.shape=[(558, 23)],y_test.shape=(558,)\n",
      "[ 2018-04-26 14:46:19,759][cascade_classifier.fit_transform] group_dims=[23]\n",
      "[ 2018-04-26 14:46:19,760][cascade_classifier.fit_transform] group_starts=[0]\n",
      "[ 2018-04-26 14:46:19,762][cascade_classifier.fit_transform] group_ends=[23]\n",
      "[ 2018-04-26 14:46:19,763][cascade_classifier.fit_transform] X_train.shape=(1130, 23),X_test.shape=(558, 23)\n",
      "[ 2018-04-26 14:46:19,764][cascade_classifier.fit_transform] [layer=0] look_indexs=[0], X_cur_train.shape=(1130, 23), X_cur_test.shape=(558, 23)\n"
     ]
    },
    {
     "name": "stdout",
     "output_type": "stream",
     "text": [
      "('Test Accuracy of ExtraTrees = 98.745520 %', 15, 'fois')\n",
      "('Time', '10.154', ' seconds')\n"
     ]
    },
    {
     "name": "stderr",
     "output_type": "stream",
     "text": [
      "[ 2018-04-26 14:46:20,598][kfold_wrapper.log_eval_metrics] Accuracy(layer_0 - estimator_0 - 10_folds.train_0.predict)=97.37%\n",
      "[ 2018-04-26 14:46:21,695][kfold_wrapper.log_eval_metrics] Accuracy(layer_0 - estimator_0 - 10_folds.train_1.predict)=93.86%\n",
      "[ 2018-04-26 14:46:22,764][kfold_wrapper.log_eval_metrics] Accuracy(layer_0 - estimator_0 - 10_folds.train_2.predict)=98.25%\n",
      "[ 2018-04-26 14:46:23,742][kfold_wrapper.log_eval_metrics] Accuracy(layer_0 - estimator_0 - 10_folds.train_3.predict)=98.25%\n",
      "[ 2018-04-26 14:46:24,805][kfold_wrapper.log_eval_metrics] Accuracy(layer_0 - estimator_0 - 10_folds.train_4.predict)=99.12%\n",
      "[ 2018-04-26 14:46:25,887][kfold_wrapper.log_eval_metrics] Accuracy(layer_0 - estimator_0 - 10_folds.train_5.predict)=98.23%\n",
      "[ 2018-04-26 14:46:26,964][kfold_wrapper.log_eval_metrics] Accuracy(layer_0 - estimator_0 - 10_folds.train_6.predict)=98.21%\n",
      "[ 2018-04-26 14:46:27,994][kfold_wrapper.log_eval_metrics] Accuracy(layer_0 - estimator_0 - 10_folds.train_7.predict)=99.11%\n",
      "[ 2018-04-26 14:46:28,990][kfold_wrapper.log_eval_metrics] Accuracy(layer_0 - estimator_0 - 10_folds.train_8.predict)=97.32%\n",
      "[ 2018-04-26 14:46:29,963][kfold_wrapper.log_eval_metrics] Accuracy(layer_0 - estimator_0 - 10_folds.train_9.predict)=98.21%\n",
      "[ 2018-04-26 14:46:30,207][kfold_wrapper.log_eval_metrics] Accuracy(layer_0 - estimator_0 - 10_folds.train_cv.predict)=97.79%\n",
      "[ 2018-04-26 14:46:30,208][kfold_wrapper.log_eval_metrics] Accuracy(layer_0 - estimator_0 - 10_folds.test.predict)=98.75%\n",
      "[ 2018-04-26 14:46:30,216][cascade_classifier.calc_accuracy] Accuracy(layer_0 - train.classifier_average)=97.79%\n",
      "[ 2018-04-26 14:46:30,217][cascade_classifier.calc_accuracy] Accuracy(layer_0 - test.classifier_average)=98.75%\n",
      "[ 2018-04-26 14:46:30,218][cascade_classifier.fit_transform] [Result][Reach Max Layer] opt_layer_num=1, accuracy_train=97.79%, accuracy_test=98.75%\n",
      "[ 2018-04-26 14:46:30,220][cascade_classifier.transform] X_groups_test.shape=[(558, 23)]\n",
      "[ 2018-04-26 14:46:30,221][cascade_classifier.transform] group_dims=[23]\n",
      "[ 2018-04-26 14:46:30,222][cascade_classifier.transform] X_test.shape=(558, 23)\n",
      "[ 2018-04-26 14:46:30,224][cascade_classifier.transform] [layer=0] look_indexs=[0], X_cur_test.shape=(558, 23)\n",
      "[ 2018-04-26 14:46:32,721][cascade_classifier.fit_transform] X_groups_train.shape=[(1130, 23)],y_train.shape=(1130,),X_groups_test.shape=[(558, 23)],y_test.shape=(558,)\n",
      "[ 2018-04-26 14:46:32,723][cascade_classifier.fit_transform] group_dims=[23]\n",
      "[ 2018-04-26 14:46:32,725][cascade_classifier.fit_transform] group_starts=[0]\n",
      "[ 2018-04-26 14:46:32,726][cascade_classifier.fit_transform] group_ends=[23]\n",
      "[ 2018-04-26 14:46:32,727][cascade_classifier.fit_transform] X_train.shape=(1130, 23),X_test.shape=(558, 23)\n",
      "[ 2018-04-26 14:46:32,728][cascade_classifier.fit_transform] [layer=0] look_indexs=[0], X_cur_train.shape=(1130, 23), X_cur_test.shape=(558, 23)\n"
     ]
    },
    {
     "name": "stdout",
     "output_type": "stream",
     "text": [
      "('Test Accuracy of ExtraTrees = 98.745520 %', 16, 'fois')\n",
      "('Time', '10.463', ' seconds')\n"
     ]
    },
    {
     "name": "stderr",
     "output_type": "stream",
     "text": [
      "[ 2018-04-26 14:46:33,443][kfold_wrapper.log_eval_metrics] Accuracy(layer_0 - estimator_0 - 10_folds.train_0.predict)=97.37%\n",
      "[ 2018-04-26 14:46:34,400][kfold_wrapper.log_eval_metrics] Accuracy(layer_0 - estimator_0 - 10_folds.train_1.predict)=93.86%\n",
      "[ 2018-04-26 14:46:35,471][kfold_wrapper.log_eval_metrics] Accuracy(layer_0 - estimator_0 - 10_folds.train_2.predict)=98.25%\n",
      "[ 2018-04-26 14:46:36,533][kfold_wrapper.log_eval_metrics] Accuracy(layer_0 - estimator_0 - 10_folds.train_3.predict)=98.25%\n",
      "[ 2018-04-26 14:46:37,741][kfold_wrapper.log_eval_metrics] Accuracy(layer_0 - estimator_0 - 10_folds.train_4.predict)=99.12%\n",
      "[ 2018-04-26 14:46:38,756][kfold_wrapper.log_eval_metrics] Accuracy(layer_0 - estimator_0 - 10_folds.train_5.predict)=98.23%\n",
      "[ 2018-04-26 14:46:39,844][kfold_wrapper.log_eval_metrics] Accuracy(layer_0 - estimator_0 - 10_folds.train_6.predict)=98.21%\n",
      "[ 2018-04-26 14:46:40,936][kfold_wrapper.log_eval_metrics] Accuracy(layer_0 - estimator_0 - 10_folds.train_7.predict)=98.21%\n",
      "[ 2018-04-26 14:46:42,141][kfold_wrapper.log_eval_metrics] Accuracy(layer_0 - estimator_0 - 10_folds.train_8.predict)=97.32%\n",
      "[ 2018-04-26 14:46:43,219][kfold_wrapper.log_eval_metrics] Accuracy(layer_0 - estimator_0 - 10_folds.train_9.predict)=98.21%\n",
      "[ 2018-04-26 14:46:43,468][kfold_wrapper.log_eval_metrics] Accuracy(layer_0 - estimator_0 - 10_folds.train_cv.predict)=97.70%\n",
      "[ 2018-04-26 14:46:43,470][kfold_wrapper.log_eval_metrics] Accuracy(layer_0 - estimator_0 - 10_folds.test.predict)=98.75%\n",
      "[ 2018-04-26 14:46:43,479][cascade_classifier.calc_accuracy] Accuracy(layer_0 - train.classifier_average)=97.70%\n",
      "[ 2018-04-26 14:46:43,481][cascade_classifier.calc_accuracy] Accuracy(layer_0 - test.classifier_average)=98.75%\n",
      "[ 2018-04-26 14:46:43,482][cascade_classifier.fit_transform] [Result][Reach Max Layer] opt_layer_num=1, accuracy_train=97.70%, accuracy_test=98.75%\n",
      "[ 2018-04-26 14:46:43,484][cascade_classifier.transform] X_groups_test.shape=[(558, 23)]\n",
      "[ 2018-04-26 14:46:43,485][cascade_classifier.transform] group_dims=[23]\n",
      "[ 2018-04-26 14:46:43,486][cascade_classifier.transform] X_test.shape=(558, 23)\n",
      "[ 2018-04-26 14:46:43,487][cascade_classifier.transform] [layer=0] look_indexs=[0], X_cur_test.shape=(558, 23)\n",
      "[ 2018-04-26 14:46:46,007][cascade_classifier.fit_transform] X_groups_train.shape=[(1130, 23)],y_train.shape=(1130,),X_groups_test.shape=[(558, 23)],y_test.shape=(558,)\n",
      "[ 2018-04-26 14:46:46,008][cascade_classifier.fit_transform] group_dims=[23]\n",
      "[ 2018-04-26 14:46:46,009][cascade_classifier.fit_transform] group_starts=[0]\n",
      "[ 2018-04-26 14:46:46,010][cascade_classifier.fit_transform] group_ends=[23]\n",
      "[ 2018-04-26 14:46:46,011][cascade_classifier.fit_transform] X_train.shape=(1130, 23),X_test.shape=(558, 23)\n",
      "[ 2018-04-26 14:46:46,012][cascade_classifier.fit_transform] [layer=0] look_indexs=[0], X_cur_train.shape=(1130, 23), X_cur_test.shape=(558, 23)\n"
     ]
    },
    {
     "name": "stdout",
     "output_type": "stream",
     "text": [
      "('Test Accuracy of ExtraTrees = 98.745520 %', 17, 'fois')\n",
      "('Time', '10.764', ' seconds')\n"
     ]
    },
    {
     "name": "stderr",
     "output_type": "stream",
     "text": [
      "[ 2018-04-26 14:46:46,868][kfold_wrapper.log_eval_metrics] Accuracy(layer_0 - estimator_0 - 10_folds.train_0.predict)=98.25%\n",
      "[ 2018-04-26 14:46:47,822][kfold_wrapper.log_eval_metrics] Accuracy(layer_0 - estimator_0 - 10_folds.train_1.predict)=93.86%\n",
      "[ 2018-04-26 14:46:48,922][kfold_wrapper.log_eval_metrics] Accuracy(layer_0 - estimator_0 - 10_folds.train_2.predict)=98.25%\n",
      "[ 2018-04-26 14:46:49,907][kfold_wrapper.log_eval_metrics] Accuracy(layer_0 - estimator_0 - 10_folds.train_3.predict)=98.25%\n",
      "[ 2018-04-26 14:46:51,006][kfold_wrapper.log_eval_metrics] Accuracy(layer_0 - estimator_0 - 10_folds.train_4.predict)=99.12%\n",
      "[ 2018-04-26 14:46:52,162][kfold_wrapper.log_eval_metrics] Accuracy(layer_0 - estimator_0 - 10_folds.train_5.predict)=97.35%\n",
      "[ 2018-04-26 14:46:53,245][kfold_wrapper.log_eval_metrics] Accuracy(layer_0 - estimator_0 - 10_folds.train_6.predict)=98.21%\n",
      "[ 2018-04-26 14:46:54,350][kfold_wrapper.log_eval_metrics] Accuracy(layer_0 - estimator_0 - 10_folds.train_7.predict)=98.21%\n",
      "[ 2018-04-26 14:46:55,458][kfold_wrapper.log_eval_metrics] Accuracy(layer_0 - estimator_0 - 10_folds.train_8.predict)=97.32%\n",
      "[ 2018-04-26 14:46:56,507][kfold_wrapper.log_eval_metrics] Accuracy(layer_0 - estimator_0 - 10_folds.train_9.predict)=98.21%\n",
      "[ 2018-04-26 14:46:56,628][kfold_wrapper.log_eval_metrics] Accuracy(layer_0 - estimator_0 - 10_folds.train_cv.predict)=97.70%\n",
      "[ 2018-04-26 14:46:56,629][kfold_wrapper.log_eval_metrics] Accuracy(layer_0 - estimator_0 - 10_folds.test.predict)=98.57%\n",
      "[ 2018-04-26 14:46:56,637][cascade_classifier.calc_accuracy] Accuracy(layer_0 - train.classifier_average)=97.70%\n",
      "[ 2018-04-26 14:46:56,638][cascade_classifier.calc_accuracy] Accuracy(layer_0 - test.classifier_average)=98.57%\n",
      "[ 2018-04-26 14:46:56,639][cascade_classifier.fit_transform] [Result][Reach Max Layer] opt_layer_num=1, accuracy_train=97.70%, accuracy_test=98.57%\n",
      "[ 2018-04-26 14:46:56,641][cascade_classifier.transform] X_groups_test.shape=[(558, 23)]\n",
      "[ 2018-04-26 14:46:56,642][cascade_classifier.transform] group_dims=[23]\n",
      "[ 2018-04-26 14:46:56,643][cascade_classifier.transform] X_test.shape=(558, 23)\n",
      "[ 2018-04-26 14:46:56,645][cascade_classifier.transform] [layer=0] look_indexs=[0], X_cur_test.shape=(558, 23)\n",
      "[ 2018-04-26 14:46:59,073][cascade_classifier.fit_transform] X_groups_train.shape=[(1130, 23)],y_train.shape=(1130,),X_groups_test.shape=[(558, 23)],y_test.shape=(558,)\n",
      "[ 2018-04-26 14:46:59,075][cascade_classifier.fit_transform] group_dims=[23]\n",
      "[ 2018-04-26 14:46:59,076][cascade_classifier.fit_transform] group_starts=[0]\n",
      "[ 2018-04-26 14:46:59,077][cascade_classifier.fit_transform] group_ends=[23]\n",
      "[ 2018-04-26 14:46:59,079][cascade_classifier.fit_transform] X_train.shape=(1130, 23),X_test.shape=(558, 23)\n",
      "[ 2018-04-26 14:46:59,080][cascade_classifier.fit_transform] [layer=0] look_indexs=[0], X_cur_train.shape=(1130, 23), X_cur_test.shape=(558, 23)\n"
     ]
    },
    {
     "name": "stdout",
     "output_type": "stream",
     "text": [
      "('Test Accuracy of ExtraTrees = 98.566308 %', 18, 'fois')\n",
      "('Time', '10.635', ' seconds')\n"
     ]
    },
    {
     "name": "stderr",
     "output_type": "stream",
     "text": [
      "[ 2018-04-26 14:46:59,933][kfold_wrapper.log_eval_metrics] Accuracy(layer_0 - estimator_0 - 10_folds.train_0.predict)=97.37%\n",
      "[ 2018-04-26 14:47:01,003][kfold_wrapper.log_eval_metrics] Accuracy(layer_0 - estimator_0 - 10_folds.train_1.predict)=93.86%\n",
      "[ 2018-04-26 14:47:02,107][kfold_wrapper.log_eval_metrics] Accuracy(layer_0 - estimator_0 - 10_folds.train_2.predict)=97.37%\n",
      "[ 2018-04-26 14:47:03,072][kfold_wrapper.log_eval_metrics] Accuracy(layer_0 - estimator_0 - 10_folds.train_3.predict)=98.25%\n",
      "[ 2018-04-26 14:47:04,294][kfold_wrapper.log_eval_metrics] Accuracy(layer_0 - estimator_0 - 10_folds.train_4.predict)=99.12%\n",
      "[ 2018-04-26 14:47:05,294][kfold_wrapper.log_eval_metrics] Accuracy(layer_0 - estimator_0 - 10_folds.train_5.predict)=97.35%\n",
      "[ 2018-04-26 14:47:06,307][kfold_wrapper.log_eval_metrics] Accuracy(layer_0 - estimator_0 - 10_folds.train_6.predict)=98.21%\n",
      "[ 2018-04-26 14:47:07,254][kfold_wrapper.log_eval_metrics] Accuracy(layer_0 - estimator_0 - 10_folds.train_7.predict)=98.21%\n",
      "[ 2018-04-26 14:47:08,333][kfold_wrapper.log_eval_metrics] Accuracy(layer_0 - estimator_0 - 10_folds.train_8.predict)=97.32%\n",
      "[ 2018-04-26 14:47:09,349][kfold_wrapper.log_eval_metrics] Accuracy(layer_0 - estimator_0 - 10_folds.train_9.predict)=98.21%\n",
      "[ 2018-04-26 14:47:09,601][kfold_wrapper.log_eval_metrics] Accuracy(layer_0 - estimator_0 - 10_folds.train_cv.predict)=97.52%\n",
      "[ 2018-04-26 14:47:09,602][kfold_wrapper.log_eval_metrics] Accuracy(layer_0 - estimator_0 - 10_folds.test.predict)=98.57%\n",
      "[ 2018-04-26 14:47:09,612][cascade_classifier.calc_accuracy] Accuracy(layer_0 - train.classifier_average)=97.52%\n",
      "[ 2018-04-26 14:47:09,613][cascade_classifier.calc_accuracy] Accuracy(layer_0 - test.classifier_average)=98.57%\n",
      "[ 2018-04-26 14:47:09,614][cascade_classifier.fit_transform] [Result][Reach Max Layer] opt_layer_num=1, accuracy_train=97.52%, accuracy_test=98.57%\n",
      "[ 2018-04-26 14:47:09,616][cascade_classifier.transform] X_groups_test.shape=[(558, 23)]\n",
      "[ 2018-04-26 14:47:09,617][cascade_classifier.transform] group_dims=[23]\n",
      "[ 2018-04-26 14:47:09,618][cascade_classifier.transform] X_test.shape=(558, 23)\n",
      "[ 2018-04-26 14:47:09,620][cascade_classifier.transform] [layer=0] look_indexs=[0], X_cur_test.shape=(558, 23)\n"
     ]
    },
    {
     "name": "stdout",
     "output_type": "stream",
     "text": [
      "('Test Accuracy of ExtraTrees = 98.566308 %', 19, 'fois')\n",
      "('Time', '10.544', ' seconds')\n"
     ]
    }
   ],
   "source": [
    "# Deep\n",
    "for i in range (20):\n",
    "    t0 = time()\n",
    "    X_train,X_test=update(X_train,X_test)\n",
    "    X_test_enc, X_train_enc=newdata(X_test_enc, X_train_enc)\n",
    "\n",
    "    X_train=X_train_enc\n",
    "    X_test=X_test_enc \n",
    "    X_train_enc, X_test_enc = gc.fit_transform(X_train, y_train, X_test=X_test, y_test=y_test)\n",
    "    tt = time() - t0\n",
    "    affiche() \n",
    "    print (\"Time\",format(round(tt,3)),\" seconds\")"
   ]
  },
  {
   "cell_type": "code",
   "execution_count": null,
   "metadata": {
    "collapsed": true
   },
   "outputs": [],
   "source": []
  },
  {
   "cell_type": "markdown",
   "metadata": {
    "collapsed": true
   },
   "source": [
    "# ('Test Accuracy of ExtraTrees = 99.283154 %', 1, 'fois')"
   ]
  },
  {
   "cell_type": "code",
   "execution_count": null,
   "metadata": {
    "collapsed": true
   },
   "outputs": [],
   "source": []
  }
 ],
 "metadata": {
  "kernelspec": {
   "display_name": "Python 2",
   "language": "python",
   "name": "python2"
  },
  "language_info": {
   "codemirror_mode": {
    "name": "ipython",
    "version": 2
   },
   "file_extension": ".py",
   "mimetype": "text/x-python",
   "name": "python",
   "nbconvert_exporter": "python",
   "pygments_lexer": "ipython2",
   "version": "2.7.13"
  }
 },
 "nbformat": 4,
 "nbformat_minor": 2
}
