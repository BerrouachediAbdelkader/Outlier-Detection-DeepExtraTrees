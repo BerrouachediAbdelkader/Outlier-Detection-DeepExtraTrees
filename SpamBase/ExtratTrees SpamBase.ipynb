{
 "cells": [
  {
   "cell_type": "code",
   "execution_count": 1,
   "metadata": {
    "collapsed": true
   },
   "outputs": [],
   "source": [
    "# imports \n",
    "import numpy as np\n",
    "from math import sqrt \n",
    "from pprint import pprint\n",
    "from numpy import array\n",
    "from scipy.io import arff\n",
    "import pandas as pd\n",
    "from time import time"
   ]
  },
  {
   "cell_type": "code",
   "execution_count": 2,
   "metadata": {},
   "outputs": [
    {
     "data": {
      "text/html": [
       "<div>\n",
       "<style>\n",
       "    .dataframe thead tr:only-child th {\n",
       "        text-align: right;\n",
       "    }\n",
       "\n",
       "    .dataframe thead th {\n",
       "        text-align: left;\n",
       "    }\n",
       "\n",
       "    .dataframe tbody tr th {\n",
       "        vertical-align: top;\n",
       "    }\n",
       "</style>\n",
       "<table border=\"1\" class=\"dataframe\">\n",
       "  <thead>\n",
       "    <tr style=\"text-align: right;\">\n",
       "      <th></th>\n",
       "      <th>att1</th>\n",
       "      <th>att2</th>\n",
       "      <th>att3</th>\n",
       "      <th>att4</th>\n",
       "      <th>att5</th>\n",
       "      <th>att6</th>\n",
       "      <th>att7</th>\n",
       "      <th>att8</th>\n",
       "      <th>att9</th>\n",
       "      <th>att10</th>\n",
       "      <th>...</th>\n",
       "      <th>att49</th>\n",
       "      <th>att50</th>\n",
       "      <th>att51</th>\n",
       "      <th>att52</th>\n",
       "      <th>att53</th>\n",
       "      <th>att54</th>\n",
       "      <th>att55</th>\n",
       "      <th>att56</th>\n",
       "      <th>att57</th>\n",
       "      <th>outlier</th>\n",
       "    </tr>\n",
       "  </thead>\n",
       "  <tbody>\n",
       "    <tr>\n",
       "      <th>0</th>\n",
       "      <td>0.000000</td>\n",
       "      <td>0.044818</td>\n",
       "      <td>0.125490</td>\n",
       "      <td>0.0</td>\n",
       "      <td>0.032</td>\n",
       "      <td>0.000000</td>\n",
       "      <td>0.000000</td>\n",
       "      <td>0.000000</td>\n",
       "      <td>0.000000</td>\n",
       "      <td>0.000000</td>\n",
       "      <td>...</td>\n",
       "      <td>0.000000</td>\n",
       "      <td>0.000000</td>\n",
       "      <td>0.0</td>\n",
       "      <td>0.023955</td>\n",
       "      <td>0.000000</td>\n",
       "      <td>0.000000</td>\n",
       "      <td>0.002502</td>\n",
       "      <td>0.006007</td>\n",
       "      <td>0.017487</td>\n",
       "      <td>1</td>\n",
       "    </tr>\n",
       "    <tr>\n",
       "      <th>1</th>\n",
       "      <td>0.046256</td>\n",
       "      <td>0.019608</td>\n",
       "      <td>0.098039</td>\n",
       "      <td>0.0</td>\n",
       "      <td>0.014</td>\n",
       "      <td>0.047619</td>\n",
       "      <td>0.028886</td>\n",
       "      <td>0.006301</td>\n",
       "      <td>0.000000</td>\n",
       "      <td>0.051705</td>\n",
       "      <td>...</td>\n",
       "      <td>0.000000</td>\n",
       "      <td>0.013536</td>\n",
       "      <td>0.0</td>\n",
       "      <td>0.011454</td>\n",
       "      <td>0.029985</td>\n",
       "      <td>0.002421</td>\n",
       "      <td>0.003735</td>\n",
       "      <td>0.010012</td>\n",
       "      <td>0.064836</td>\n",
       "      <td>1</td>\n",
       "    </tr>\n",
       "    <tr>\n",
       "      <th>2</th>\n",
       "      <td>0.013216</td>\n",
       "      <td>0.000000</td>\n",
       "      <td>0.139216</td>\n",
       "      <td>0.0</td>\n",
       "      <td>0.123</td>\n",
       "      <td>0.032313</td>\n",
       "      <td>0.026135</td>\n",
       "      <td>0.010801</td>\n",
       "      <td>0.121673</td>\n",
       "      <td>0.013751</td>\n",
       "      <td>...</td>\n",
       "      <td>0.002281</td>\n",
       "      <td>0.014664</td>\n",
       "      <td>0.0</td>\n",
       "      <td>0.008498</td>\n",
       "      <td>0.030651</td>\n",
       "      <td>0.000504</td>\n",
       "      <td>0.008008</td>\n",
       "      <td>0.048458</td>\n",
       "      <td>0.142551</td>\n",
       "      <td>1</td>\n",
       "    </tr>\n",
       "    <tr>\n",
       "      <th>3</th>\n",
       "      <td>0.000000</td>\n",
       "      <td>0.000000</td>\n",
       "      <td>0.000000</td>\n",
       "      <td>0.0</td>\n",
       "      <td>0.063</td>\n",
       "      <td>0.000000</td>\n",
       "      <td>0.042641</td>\n",
       "      <td>0.056706</td>\n",
       "      <td>0.058935</td>\n",
       "      <td>0.034653</td>\n",
       "      <td>...</td>\n",
       "      <td>0.000000</td>\n",
       "      <td>0.014048</td>\n",
       "      <td>0.0</td>\n",
       "      <td>0.004218</td>\n",
       "      <td>0.000000</td>\n",
       "      <td>0.000000</td>\n",
       "      <td>0.002303</td>\n",
       "      <td>0.003905</td>\n",
       "      <td>0.011995</td>\n",
       "      <td>1</td>\n",
       "    </tr>\n",
       "    <tr>\n",
       "      <th>4</th>\n",
       "      <td>0.000000</td>\n",
       "      <td>0.000000</td>\n",
       "      <td>0.000000</td>\n",
       "      <td>0.0</td>\n",
       "      <td>0.063</td>\n",
       "      <td>0.000000</td>\n",
       "      <td>0.042641</td>\n",
       "      <td>0.056706</td>\n",
       "      <td>0.058935</td>\n",
       "      <td>0.034653</td>\n",
       "      <td>...</td>\n",
       "      <td>0.000000</td>\n",
       "      <td>0.013843</td>\n",
       "      <td>0.0</td>\n",
       "      <td>0.004157</td>\n",
       "      <td>0.000000</td>\n",
       "      <td>0.000000</td>\n",
       "      <td>0.002303</td>\n",
       "      <td>0.003905</td>\n",
       "      <td>0.011995</td>\n",
       "      <td>1</td>\n",
       "    </tr>\n",
       "  </tbody>\n",
       "</table>\n",
       "<p>5 rows × 58 columns</p>\n",
       "</div>"
      ],
      "text/plain": [
       "       att1      att2      att3  att4   att5      att6      att7      att8  \\\n",
       "0  0.000000  0.044818  0.125490   0.0  0.032  0.000000  0.000000  0.000000   \n",
       "1  0.046256  0.019608  0.098039   0.0  0.014  0.047619  0.028886  0.006301   \n",
       "2  0.013216  0.000000  0.139216   0.0  0.123  0.032313  0.026135  0.010801   \n",
       "3  0.000000  0.000000  0.000000   0.0  0.063  0.000000  0.042641  0.056706   \n",
       "4  0.000000  0.000000  0.000000   0.0  0.063  0.000000  0.042641  0.056706   \n",
       "\n",
       "       att9     att10   ...        att49     att50  att51     att52     att53  \\\n",
       "0  0.000000  0.000000   ...     0.000000  0.000000    0.0  0.023955  0.000000   \n",
       "1  0.000000  0.051705   ...     0.000000  0.013536    0.0  0.011454  0.029985   \n",
       "2  0.121673  0.013751   ...     0.002281  0.014664    0.0  0.008498  0.030651   \n",
       "3  0.058935  0.034653   ...     0.000000  0.014048    0.0  0.004218  0.000000   \n",
       "4  0.058935  0.034653   ...     0.000000  0.013843    0.0  0.004157  0.000000   \n",
       "\n",
       "      att54     att55     att56     att57  outlier  \n",
       "0  0.000000  0.002502  0.006007  0.017487        1  \n",
       "1  0.002421  0.003735  0.010012  0.064836        1  \n",
       "2  0.000504  0.008008  0.048458  0.142551        1  \n",
       "3  0.000000  0.002303  0.003905  0.011995        1  \n",
       "4  0.000000  0.002303  0.003905  0.011995        1  \n",
       "\n",
       "[5 rows x 58 columns]"
      ]
     },
     "execution_count": 2,
     "metadata": {},
     "output_type": "execute_result"
    }
   ],
   "source": [
    "# load data\n",
    "\n",
    "df=pd.read_csv('SpamBase_withoutdupl_norm_40.csv')  \n",
    "\n",
    "del df['id']\n",
    "del df['Unnamed: 0']\n",
    "df['outlier'] = df.outlier.apply(lambda label: 1 if label == \"'yes'\" else 0)\n",
    "\n",
    "df.head()"
   ]
  },
  {
   "cell_type": "code",
   "execution_count": 3,
   "metadata": {},
   "outputs": [
    {
     "data": {
      "text/plain": [
       "(4207, 58)"
      ]
     },
     "execution_count": 3,
     "metadata": {},
     "output_type": "execute_result"
    }
   ],
   "source": [
    "df.shape"
   ]
  },
  {
   "cell_type": "code",
   "execution_count": 4,
   "metadata": {
    "collapsed": true
   },
   "outputs": [],
   "source": [
    "# data to values\n",
    "df = df.values"
   ]
  },
  {
   "cell_type": "code",
   "execution_count": 5,
   "metadata": {
    "collapsed": true
   },
   "outputs": [],
   "source": [
    "# Extratrees Deep\n",
    "import argparse\n",
    "import sys\n",
    "import pickle\n",
    "from sklearn.metrics import accuracy_score\n",
    "sys.path.insert(0, \"lib\")\n",
    "from gcforest.gcforest import GCForest\n",
    "from gcforest.utils.config_utils import load_json\n",
    "config = load_json(\"./examples/SpamBase.json\")\n",
    "gc = GCForest(config)"
   ]
  },
  {
   "cell_type": "code",
   "execution_count": 6,
   "metadata": {},
   "outputs": [
    {
     "name": "stderr",
     "output_type": "stream",
     "text": [
      "/home/ubuntu/anaconda2/lib/python2.7/site-packages/sklearn/cross_validation.py:44: DeprecationWarning: This module was deprecated in version 0.18 in favor of the model_selection module into which all the refactored classes and functions are moved. Also note that the interface of the new CV iterators are different from that of this module. This module will be removed in 0.20.\n",
      "  \"This module will be removed in 0.20.\", DeprecationWarning)\n"
     ]
    }
   ],
   "source": [
    "# train test \n",
    "from sklearn.cross_validation import train_test_split\n",
    "y = df[:,57]\n",
    "X = df[:,0:57]\n",
    "\n",
    "X_train,X_test,y_train,y_test = train_test_split(X, y, test_size=0.33, random_state=42)"
   ]
  },
  {
   "cell_type": "code",
   "execution_count": 7,
   "metadata": {},
   "outputs": [
    {
     "data": {
      "text/plain": [
       "2"
      ]
     },
     "execution_count": 7,
     "metadata": {},
     "output_type": "execute_result"
    }
   ],
   "source": [
    "# number of class\n",
    "len(np.unique(y_train))"
   ]
  },
  {
   "cell_type": "code",
   "execution_count": 8,
   "metadata": {},
   "outputs": [
    {
     "name": "stderr",
     "output_type": "stream",
     "text": [
      "[ 2018-04-26 15:16:46,677][cascade_classifier.fit_transform] X_groups_train.shape=[(2818, 57)],y_train.shape=(2818,),X_groups_test.shape=[(1389, 57)],y_test.shape=(1389,)\n",
      "[ 2018-04-26 15:16:46,679][cascade_classifier.fit_transform] group_dims=[57]\n",
      "[ 2018-04-26 15:16:46,681][cascade_classifier.fit_transform] group_starts=[0]\n",
      "[ 2018-04-26 15:16:46,682][cascade_classifier.fit_transform] group_ends=[57]\n",
      "[ 2018-04-26 15:16:46,683][cascade_classifier.fit_transform] X_train.shape=(2818, 57),X_test.shape=(1389, 57)\n",
      "[ 2018-04-26 15:16:46,685][cascade_classifier.fit_transform] [layer=0] look_indexs=[0], X_cur_train.shape=(2818, 57), X_cur_test.shape=(1389, 57)\n",
      "[ 2018-04-26 15:16:47,498][kfold_wrapper.log_eval_metrics] Accuracy(layer_0 - estimator_0 - 10_folds.train_0.predict)=95.41%\n",
      "[ 2018-04-26 15:16:48,670][kfold_wrapper.log_eval_metrics] Accuracy(layer_0 - estimator_0 - 10_folds.train_1.predict)=95.05%\n",
      "[ 2018-04-26 15:16:49,615][kfold_wrapper.log_eval_metrics] Accuracy(layer_0 - estimator_0 - 10_folds.train_2.predict)=95.74%\n",
      "[ 2018-04-26 15:16:50,705][kfold_wrapper.log_eval_metrics] Accuracy(layer_0 - estimator_0 - 10_folds.train_3.predict)=95.39%\n",
      "[ 2018-04-26 15:16:51,830][kfold_wrapper.log_eval_metrics] Accuracy(layer_0 - estimator_0 - 10_folds.train_4.predict)=94.68%\n",
      "[ 2018-04-26 15:16:52,882][kfold_wrapper.log_eval_metrics] Accuracy(layer_0 - estimator_0 - 10_folds.train_5.predict)=95.74%\n",
      "[ 2018-04-26 15:16:53,947][kfold_wrapper.log_eval_metrics] Accuracy(layer_0 - estimator_0 - 10_folds.train_6.predict)=93.59%\n",
      "[ 2018-04-26 15:16:55,082][kfold_wrapper.log_eval_metrics] Accuracy(layer_0 - estimator_0 - 10_folds.train_7.predict)=94.31%\n",
      "[ 2018-04-26 15:16:56,203][kfold_wrapper.log_eval_metrics] Accuracy(layer_0 - estimator_0 - 10_folds.train_8.predict)=91.81%\n",
      "[ 2018-04-26 15:16:57,403][kfold_wrapper.log_eval_metrics] Accuracy(layer_0 - estimator_0 - 10_folds.train_9.predict)=96.09%\n",
      "[ 2018-04-26 15:16:57,653][kfold_wrapper.log_eval_metrics] Accuracy(layer_0 - estimator_0 - 10_folds.train_cv.predict)=94.78%\n",
      "[ 2018-04-26 15:16:57,655][kfold_wrapper.log_eval_metrics] Accuracy(layer_0 - estimator_0 - 10_folds.test.predict)=95.18%\n",
      "[ 2018-04-26 15:16:57,656][cascade_classifier.calc_accuracy] Accuracy(layer_0 - train.classifier_average)=94.78%\n",
      "[ 2018-04-26 15:16:57,658][cascade_classifier.calc_accuracy] Accuracy(layer_0 - test.classifier_average)=95.18%\n",
      "[ 2018-04-26 15:16:57,659][cascade_classifier.fit_transform] [Result][Reach Max Layer] opt_layer_num=1, accuracy_train=94.78%, accuracy_test=95.18%\n"
     ]
    }
   ],
   "source": [
    "            # X_enc is the concatenated predict_proba result of ExtraTrees\n",
    "\n",
    "X_train_enc, X_test_enc = gc.fit_transform(X_train, y_train, X_test=X_test, y_test=y_test)\n",
    "   "
   ]
  },
  {
   "cell_type": "code",
   "execution_count": 9,
   "metadata": {},
   "outputs": [
    {
     "name": "stderr",
     "output_type": "stream",
     "text": [
      "[ 2018-04-26 15:16:57,672][cascade_classifier.transform] X_groups_test.shape=[(1389, 57)]\n",
      "[ 2018-04-26 15:16:57,676][cascade_classifier.transform] group_dims=[57]\n",
      "[ 2018-04-26 15:16:57,678][cascade_classifier.transform] X_test.shape=(1389, 57)\n",
      "[ 2018-04-26 15:16:57,680][cascade_classifier.transform] [layer=0] look_indexs=[0], X_cur_test.shape=(1389, 57)\n"
     ]
    },
    {
     "name": "stdout",
     "output_type": "stream",
     "text": [
      "Test Accuracy of ExtraTrees = 95.176386 %\n"
     ]
    }
   ],
   "source": [
    "# predict\n",
    "y_pred = gc.predict(X_test)\n",
    "acc = accuracy_score(y_test, y_pred)\n",
    "print(\"Test Accuracy of ExtraTrees = {:.6f} %\".format(acc * 100))"
   ]
  },
  {
   "cell_type": "code",
   "execution_count": 10,
   "metadata": {},
   "outputs": [
    {
     "name": "stderr",
     "output_type": "stream",
     "text": [
      "[ 2018-04-26 15:17:00,109][cascade_classifier.transform] X_groups_test.shape=[(1389, 57)]\n",
      "[ 2018-04-26 15:17:00,110][cascade_classifier.transform] group_dims=[57]\n",
      "[ 2018-04-26 15:17:00,112][cascade_classifier.transform] X_test.shape=(1389, 57)\n",
      "[ 2018-04-26 15:17:00,113][cascade_classifier.transform] [layer=0] look_indexs=[0], X_cur_test.shape=(1389, 57)\n"
     ]
    }
   ],
   "source": [
    "# Make data + estimators\n",
    "X_test_enc = gc.transform(X_test)\n",
    "X_train_enc = X_train_enc.reshape((X_train_enc.shape[0], -1))\n",
    "X_test_enc = X_test_enc.reshape((X_test_enc.shape[0], -1))\n",
    "X_train_origin = X_train.reshape((X_train.shape[0], -1))\n",
    "X_test_origin = X_test.reshape((X_test.shape[0], -1))\n",
    "X_train_enc = np.hstack((X_train_origin, X_train_enc))\n",
    "X_test_enc = np.hstack((X_test_origin, X_test_enc))"
   ]
  },
  {
   "cell_type": "code",
   "execution_count": 11,
   "metadata": {},
   "outputs": [
    {
     "name": "stderr",
     "output_type": "stream",
     "text": [
      "[ 2018-04-26 15:17:02,507][cascade_classifier.fit_transform] X_groups_train.shape=[(2818, 59)],y_train.shape=(2818,),X_groups_test.shape=[(1389, 59)],y_test.shape=(1389,)\n",
      "[ 2018-04-26 15:17:02,511][cascade_classifier.fit_transform] group_dims=[59]\n",
      "[ 2018-04-26 15:17:02,512][cascade_classifier.fit_transform] group_starts=[0]\n",
      "[ 2018-04-26 15:17:02,513][cascade_classifier.fit_transform] group_ends=[59]\n",
      "[ 2018-04-26 15:17:02,515][cascade_classifier.fit_transform] X_train.shape=(2818, 59),X_test.shape=(1389, 59)\n",
      "[ 2018-04-26 15:17:02,520][cascade_classifier.fit_transform] [layer=0] look_indexs=[0], X_cur_train.shape=(2818, 59), X_cur_test.shape=(1389, 59)\n",
      "[ 2018-04-26 15:17:03,372][kfold_wrapper.log_eval_metrics] Accuracy(layer_0 - estimator_0 - 10_folds.train_0.predict)=95.05%\n",
      "[ 2018-04-26 15:17:04,585][kfold_wrapper.log_eval_metrics] Accuracy(layer_0 - estimator_0 - 10_folds.train_1.predict)=94.35%\n",
      "[ 2018-04-26 15:17:05,411][kfold_wrapper.log_eval_metrics] Accuracy(layer_0 - estimator_0 - 10_folds.train_2.predict)=97.16%\n",
      "[ 2018-04-26 15:17:06,343][kfold_wrapper.log_eval_metrics] Accuracy(layer_0 - estimator_0 - 10_folds.train_3.predict)=95.39%\n",
      "[ 2018-04-26 15:17:07,527][kfold_wrapper.log_eval_metrics] Accuracy(layer_0 - estimator_0 - 10_folds.train_4.predict)=95.39%\n",
      "[ 2018-04-26 15:17:08,590][kfold_wrapper.log_eval_metrics] Accuracy(layer_0 - estimator_0 - 10_folds.train_5.predict)=95.74%\n",
      "[ 2018-04-26 15:17:09,510][kfold_wrapper.log_eval_metrics] Accuracy(layer_0 - estimator_0 - 10_folds.train_6.predict)=92.53%\n",
      "[ 2018-04-26 15:17:10,615][kfold_wrapper.log_eval_metrics] Accuracy(layer_0 - estimator_0 - 10_folds.train_7.predict)=93.59%\n",
      "[ 2018-04-26 15:17:11,711][kfold_wrapper.log_eval_metrics] Accuracy(layer_0 - estimator_0 - 10_folds.train_8.predict)=93.24%\n",
      "[ 2018-04-26 15:17:12,609][kfold_wrapper.log_eval_metrics] Accuracy(layer_0 - estimator_0 - 10_folds.train_9.predict)=96.80%\n",
      "[ 2018-04-26 15:17:13,022][kfold_wrapper.log_eval_metrics] Accuracy(layer_0 - estimator_0 - 10_folds.train_cv.predict)=94.93%\n",
      "[ 2018-04-26 15:17:13,024][kfold_wrapper.log_eval_metrics] Accuracy(layer_0 - estimator_0 - 10_folds.test.predict)=95.39%\n",
      "[ 2018-04-26 15:17:13,036][cascade_classifier.calc_accuracy] Accuracy(layer_0 - train.classifier_average)=94.93%\n",
      "[ 2018-04-26 15:17:13,037][cascade_classifier.calc_accuracy] Accuracy(layer_0 - test.classifier_average)=95.39%\n",
      "[ 2018-04-26 15:17:13,039][cascade_classifier.fit_transform] [Result][Reach Max Layer] opt_layer_num=1, accuracy_train=94.93%, accuracy_test=95.39%\n"
     ]
    }
   ],
   "source": [
    "# New data\n",
    "X_train=X_train_enc\n",
    "X_test=X_test_enc \n",
    "X_train_enc, X_test_enc = gc.fit_transform(X_train, y_train, X_test=X_test, y_test=y_test)"
   ]
  },
  {
   "cell_type": "code",
   "execution_count": 12,
   "metadata": {},
   "outputs": [
    {
     "name": "stderr",
     "output_type": "stream",
     "text": [
      "[ 2018-04-26 15:17:13,047][cascade_classifier.transform] X_groups_test.shape=[(1389, 59)]\n",
      "[ 2018-04-26 15:17:13,050][cascade_classifier.transform] group_dims=[59]\n",
      "[ 2018-04-26 15:17:13,053][cascade_classifier.transform] X_test.shape=(1389, 59)\n",
      "[ 2018-04-26 15:17:13,054][cascade_classifier.transform] [layer=0] look_indexs=[0], X_cur_test.shape=(1389, 59)\n"
     ]
    },
    {
     "name": "stdout",
     "output_type": "stream",
     "text": [
      "Test Accuracy of ExtraTrees = 95.392369 %\n"
     ]
    }
   ],
   "source": [
    "# predict  data + Es\n",
    "y_pred = gc.predict(X_test)\n",
    "acc = accuracy_score(y_test, y_pred)\n",
    "print(\"Test Accuracy of ExtraTrees = {:.6f} %\".format(acc * 100))"
   ]
  },
  {
   "cell_type": "code",
   "execution_count": 13,
   "metadata": {
    "collapsed": true
   },
   "outputs": [],
   "source": [
    "def update(X_train,X_test):\n",
    "    # update Estimators\n",
    "    M = np.delete(X_train, (-1), axis=1)\n",
    "    X_train= np.delete(M, (-1), axis=1)\n",
    "    M = np.delete(X_test, (-1), axis=1)\n",
    "    X_test = np.delete(M, (-1), axis=1)\n",
    "    return X_train,X_test\n",
    "\n",
    "def newdata(X_test_enc, X_train_enc):\n",
    "    # Make Data + Estimators\n",
    "    X_train_origin = X_train.reshape((X_train.shape[0], -1))\n",
    "    X_test_origin = X_test.reshape((X_test.shape[0], -1))\n",
    "    X_train_enc = np.hstack((X_train_origin, X_train_enc))\n",
    "    X_test_enc = np.hstack((X_test_origin, X_test_enc))\n",
    "    return X_test_enc, X_train_enc\n",
    "\n",
    "def affiche():\n",
    "    # predict\n",
    "    y_pred = gc.predict(X_test)\n",
    "    acc = accuracy_score(y_test, y_pred)\n",
    "    print(\"Test Accuracy of ExtraTrees = {:.6f} %\".format(acc * 100),i,'fois')"
   ]
  },
  {
   "cell_type": "code",
   "execution_count": 14,
   "metadata": {},
   "outputs": [
    {
     "name": "stderr",
     "output_type": "stream",
     "text": [
      "[ 2018-04-26 15:17:15,565][cascade_classifier.fit_transform] X_groups_train.shape=[(2818, 59)],y_train.shape=(2818,),X_groups_test.shape=[(1389, 59)],y_test.shape=(1389,)\n",
      "[ 2018-04-26 15:17:15,567][cascade_classifier.fit_transform] group_dims=[59]\n",
      "[ 2018-04-26 15:17:15,568][cascade_classifier.fit_transform] group_starts=[0]\n",
      "[ 2018-04-26 15:17:15,569][cascade_classifier.fit_transform] group_ends=[59]\n",
      "[ 2018-04-26 15:17:15,570][cascade_classifier.fit_transform] X_train.shape=(2818, 59),X_test.shape=(1389, 59)\n",
      "[ 2018-04-26 15:17:15,572][cascade_classifier.fit_transform] [layer=0] look_indexs=[0], X_cur_train.shape=(2818, 59), X_cur_test.shape=(1389, 59)\n",
      "[ 2018-04-26 15:17:16,382][kfold_wrapper.log_eval_metrics] Accuracy(layer_0 - estimator_0 - 10_folds.train_0.predict)=95.41%\n",
      "[ 2018-04-26 15:17:17,622][kfold_wrapper.log_eval_metrics] Accuracy(layer_0 - estimator_0 - 10_folds.train_1.predict)=94.35%\n",
      "[ 2018-04-26 15:17:18,740][kfold_wrapper.log_eval_metrics] Accuracy(layer_0 - estimator_0 - 10_folds.train_2.predict)=96.10%\n",
      "[ 2018-04-26 15:17:19,857][kfold_wrapper.log_eval_metrics] Accuracy(layer_0 - estimator_0 - 10_folds.train_3.predict)=95.04%\n",
      "[ 2018-04-26 15:17:20,995][kfold_wrapper.log_eval_metrics] Accuracy(layer_0 - estimator_0 - 10_folds.train_4.predict)=96.10%\n",
      "[ 2018-04-26 15:17:22,217][kfold_wrapper.log_eval_metrics] Accuracy(layer_0 - estimator_0 - 10_folds.train_5.predict)=95.39%\n",
      "[ 2018-04-26 15:17:23,272][kfold_wrapper.log_eval_metrics] Accuracy(layer_0 - estimator_0 - 10_folds.train_6.predict)=92.17%\n",
      "[ 2018-04-26 15:17:24,425][kfold_wrapper.log_eval_metrics] Accuracy(layer_0 - estimator_0 - 10_folds.train_7.predict)=93.95%\n",
      "[ 2018-04-26 15:17:25,544][kfold_wrapper.log_eval_metrics] Accuracy(layer_0 - estimator_0 - 10_folds.train_8.predict)=92.53%\n",
      "[ 2018-04-26 15:17:26,760][kfold_wrapper.log_eval_metrics] Accuracy(layer_0 - estimator_0 - 10_folds.train_9.predict)=96.44%\n",
      "[ 2018-04-26 15:17:27,006][kfold_wrapper.log_eval_metrics] Accuracy(layer_0 - estimator_0 - 10_folds.train_cv.predict)=94.75%\n",
      "[ 2018-04-26 15:17:27,007][kfold_wrapper.log_eval_metrics] Accuracy(layer_0 - estimator_0 - 10_folds.test.predict)=95.25%\n",
      "[ 2018-04-26 15:17:27,017][cascade_classifier.calc_accuracy] Accuracy(layer_0 - train.classifier_average)=94.75%\n",
      "[ 2018-04-26 15:17:27,018][cascade_classifier.calc_accuracy] Accuracy(layer_0 - test.classifier_average)=95.25%\n",
      "[ 2018-04-26 15:17:27,020][cascade_classifier.fit_transform] [Result][Reach Max Layer] opt_layer_num=1, accuracy_train=94.75%, accuracy_test=95.25%\n",
      "[ 2018-04-26 15:17:27,021][cascade_classifier.transform] X_groups_test.shape=[(1389, 59)]\n",
      "[ 2018-04-26 15:17:27,023][cascade_classifier.transform] group_dims=[59]\n",
      "[ 2018-04-26 15:17:27,024][cascade_classifier.transform] X_test.shape=(1389, 59)\n",
      "[ 2018-04-26 15:17:27,026][cascade_classifier.transform] [layer=0] look_indexs=[0], X_cur_test.shape=(1389, 59)\n",
      "[ 2018-04-26 15:17:29,560][cascade_classifier.fit_transform] X_groups_train.shape=[(2818, 59)],y_train.shape=(2818,),X_groups_test.shape=[(1389, 59)],y_test.shape=(1389,)\n",
      "[ 2018-04-26 15:17:29,562][cascade_classifier.fit_transform] group_dims=[59]\n",
      "[ 2018-04-26 15:17:29,563][cascade_classifier.fit_transform] group_starts=[0]\n",
      "[ 2018-04-26 15:17:29,564][cascade_classifier.fit_transform] group_ends=[59]\n",
      "[ 2018-04-26 15:17:29,565][cascade_classifier.fit_transform] X_train.shape=(2818, 59),X_test.shape=(1389, 59)\n",
      "[ 2018-04-26 15:17:29,567][cascade_classifier.fit_transform] [layer=0] look_indexs=[0], X_cur_train.shape=(2818, 59), X_cur_test.shape=(1389, 59)\n"
     ]
    },
    {
     "name": "stdout",
     "output_type": "stream",
     "text": [
      "('Test Accuracy of ExtraTrees = 95.248380 %', 0, 'fois')\n",
      "(' Time ', '11.459', ' seconds')\n"
     ]
    },
    {
     "name": "stderr",
     "output_type": "stream",
     "text": [
      "[ 2018-04-26 15:17:30,412][kfold_wrapper.log_eval_metrics] Accuracy(layer_0 - estimator_0 - 10_folds.train_0.predict)=96.11%\n",
      "[ 2018-04-26 15:17:31,533][kfold_wrapper.log_eval_metrics] Accuracy(layer_0 - estimator_0 - 10_folds.train_1.predict)=94.35%\n",
      "[ 2018-04-26 15:17:32,676][kfold_wrapper.log_eval_metrics] Accuracy(layer_0 - estimator_0 - 10_folds.train_2.predict)=96.81%\n",
      "[ 2018-04-26 15:17:33,842][kfold_wrapper.log_eval_metrics] Accuracy(layer_0 - estimator_0 - 10_folds.train_3.predict)=95.04%\n",
      "[ 2018-04-26 15:17:34,893][kfold_wrapper.log_eval_metrics] Accuracy(layer_0 - estimator_0 - 10_folds.train_4.predict)=95.39%\n",
      "[ 2018-04-26 15:17:35,937][kfold_wrapper.log_eval_metrics] Accuracy(layer_0 - estimator_0 - 10_folds.train_5.predict)=95.74%\n",
      "[ 2018-04-26 15:17:37,040][kfold_wrapper.log_eval_metrics] Accuracy(layer_0 - estimator_0 - 10_folds.train_6.predict)=93.24%\n",
      "[ 2018-04-26 15:17:38,111][kfold_wrapper.log_eval_metrics] Accuracy(layer_0 - estimator_0 - 10_folds.train_7.predict)=93.59%\n",
      "[ 2018-04-26 15:17:39,216][kfold_wrapper.log_eval_metrics] Accuracy(layer_0 - estimator_0 - 10_folds.train_8.predict)=93.59%\n",
      "[ 2018-04-26 15:17:40,396][kfold_wrapper.log_eval_metrics] Accuracy(layer_0 - estimator_0 - 10_folds.train_9.predict)=96.09%\n",
      "[ 2018-04-26 15:17:40,649][kfold_wrapper.log_eval_metrics] Accuracy(layer_0 - estimator_0 - 10_folds.train_cv.predict)=95.00%\n",
      "[ 2018-04-26 15:17:40,651][kfold_wrapper.log_eval_metrics] Accuracy(layer_0 - estimator_0 - 10_folds.test.predict)=94.82%\n",
      "[ 2018-04-26 15:17:40,661][cascade_classifier.calc_accuracy] Accuracy(layer_0 - train.classifier_average)=95.00%\n",
      "[ 2018-04-26 15:17:40,663][cascade_classifier.calc_accuracy] Accuracy(layer_0 - test.classifier_average)=94.82%\n",
      "[ 2018-04-26 15:17:40,664][cascade_classifier.fit_transform] [Result][Reach Max Layer] opt_layer_num=1, accuracy_train=95.00%, accuracy_test=94.82%\n",
      "[ 2018-04-26 15:17:40,665][cascade_classifier.transform] X_groups_test.shape=[(1389, 59)]\n",
      "[ 2018-04-26 15:17:40,667][cascade_classifier.transform] group_dims=[59]\n",
      "[ 2018-04-26 15:17:40,668][cascade_classifier.transform] X_test.shape=(1389, 59)\n",
      "[ 2018-04-26 15:17:40,670][cascade_classifier.transform] [layer=0] look_indexs=[0], X_cur_test.shape=(1389, 59)\n",
      "[ 2018-04-26 15:17:43,144][cascade_classifier.fit_transform] X_groups_train.shape=[(2818, 59)],y_train.shape=(2818,),X_groups_test.shape=[(1389, 59)],y_test.shape=(1389,)\n",
      "[ 2018-04-26 15:17:43,147][cascade_classifier.fit_transform] group_dims=[59]\n",
      "[ 2018-04-26 15:17:43,148][cascade_classifier.fit_transform] group_starts=[0]\n",
      "[ 2018-04-26 15:17:43,149][cascade_classifier.fit_transform] group_ends=[59]\n",
      "[ 2018-04-26 15:17:43,150][cascade_classifier.fit_transform] X_train.shape=(2818, 59),X_test.shape=(1389, 59)\n",
      "[ 2018-04-26 15:17:43,152][cascade_classifier.fit_transform] [layer=0] look_indexs=[0], X_cur_train.shape=(2818, 59), X_cur_test.shape=(1389, 59)\n"
     ]
    },
    {
     "name": "stdout",
     "output_type": "stream",
     "text": [
      "('Test Accuracy of ExtraTrees = 94.816415 %', 1, 'fois')\n",
      "(' Time ', '11.109', ' seconds')\n"
     ]
    },
    {
     "name": "stderr",
     "output_type": "stream",
     "text": [
      "[ 2018-04-26 15:17:44,042][kfold_wrapper.log_eval_metrics] Accuracy(layer_0 - estimator_0 - 10_folds.train_0.predict)=96.47%\n",
      "[ 2018-04-26 15:17:45,133][kfold_wrapper.log_eval_metrics] Accuracy(layer_0 - estimator_0 - 10_folds.train_1.predict)=94.35%\n",
      "[ 2018-04-26 15:17:46,226][kfold_wrapper.log_eval_metrics] Accuracy(layer_0 - estimator_0 - 10_folds.train_2.predict)=96.81%\n",
      "[ 2018-04-26 15:17:47,256][kfold_wrapper.log_eval_metrics] Accuracy(layer_0 - estimator_0 - 10_folds.train_3.predict)=95.39%\n",
      "[ 2018-04-26 15:17:48,347][kfold_wrapper.log_eval_metrics] Accuracy(layer_0 - estimator_0 - 10_folds.train_4.predict)=95.39%\n",
      "[ 2018-04-26 15:17:49,511][kfold_wrapper.log_eval_metrics] Accuracy(layer_0 - estimator_0 - 10_folds.train_5.predict)=95.74%\n",
      "[ 2018-04-26 15:17:50,639][kfold_wrapper.log_eval_metrics] Accuracy(layer_0 - estimator_0 - 10_folds.train_6.predict)=92.88%\n",
      "[ 2018-04-26 15:17:51,768][kfold_wrapper.log_eval_metrics] Accuracy(layer_0 - estimator_0 - 10_folds.train_7.predict)=93.24%\n",
      "[ 2018-04-26 15:17:52,848][kfold_wrapper.log_eval_metrics] Accuracy(layer_0 - estimator_0 - 10_folds.train_8.predict)=93.24%\n",
      "[ 2018-04-26 15:17:53,940][kfold_wrapper.log_eval_metrics] Accuracy(layer_0 - estimator_0 - 10_folds.train_9.predict)=96.80%\n",
      "[ 2018-04-26 15:17:54,176][kfold_wrapper.log_eval_metrics] Accuracy(layer_0 - estimator_0 - 10_folds.train_cv.predict)=95.03%\n",
      "[ 2018-04-26 15:17:54,177][kfold_wrapper.log_eval_metrics] Accuracy(layer_0 - estimator_0 - 10_folds.test.predict)=94.96%\n",
      "[ 2018-04-26 15:17:54,189][cascade_classifier.calc_accuracy] Accuracy(layer_0 - train.classifier_average)=95.03%\n",
      "[ 2018-04-26 15:17:54,191][cascade_classifier.calc_accuracy] Accuracy(layer_0 - test.classifier_average)=94.96%\n",
      "[ 2018-04-26 15:17:54,192][cascade_classifier.fit_transform] [Result][Reach Max Layer] opt_layer_num=1, accuracy_train=95.03%, accuracy_test=94.96%\n",
      "[ 2018-04-26 15:17:54,193][cascade_classifier.transform] X_groups_test.shape=[(1389, 59)]\n",
      "[ 2018-04-26 15:17:54,195][cascade_classifier.transform] group_dims=[59]\n",
      "[ 2018-04-26 15:17:54,196][cascade_classifier.transform] X_test.shape=(1389, 59)\n",
      "[ 2018-04-26 15:17:54,198][cascade_classifier.transform] [layer=0] look_indexs=[0], X_cur_test.shape=(1389, 59)\n",
      "[ 2018-04-26 15:17:56,741][cascade_classifier.fit_transform] X_groups_train.shape=[(2818, 59)],y_train.shape=(2818,),X_groups_test.shape=[(1389, 59)],y_test.shape=(1389,)\n",
      "[ 2018-04-26 15:17:56,743][cascade_classifier.fit_transform] group_dims=[59]\n",
      "[ 2018-04-26 15:17:56,744][cascade_classifier.fit_transform] group_starts=[0]\n",
      "[ 2018-04-26 15:17:56,745][cascade_classifier.fit_transform] group_ends=[59]\n",
      "[ 2018-04-26 15:17:56,746][cascade_classifier.fit_transform] X_train.shape=(2818, 59),X_test.shape=(1389, 59)\n",
      "[ 2018-04-26 15:17:56,748][cascade_classifier.fit_transform] [layer=0] look_indexs=[0], X_cur_train.shape=(2818, 59), X_cur_test.shape=(1389, 59)\n"
     ]
    },
    {
     "name": "stdout",
     "output_type": "stream",
     "text": [
      "('Test Accuracy of ExtraTrees = 94.960403 %', 2, 'fois')\n",
      "(' Time ', '11.052', ' seconds')\n"
     ]
    },
    {
     "name": "stderr",
     "output_type": "stream",
     "text": [
      "[ 2018-04-26 15:17:57,657][kfold_wrapper.log_eval_metrics] Accuracy(layer_0 - estimator_0 - 10_folds.train_0.predict)=96.47%\n",
      "[ 2018-04-26 15:17:58,718][kfold_wrapper.log_eval_metrics] Accuracy(layer_0 - estimator_0 - 10_folds.train_1.predict)=94.70%\n",
      "[ 2018-04-26 15:17:59,853][kfold_wrapper.log_eval_metrics] Accuracy(layer_0 - estimator_0 - 10_folds.train_2.predict)=96.45%\n",
      "[ 2018-04-26 15:18:00,918][kfold_wrapper.log_eval_metrics] Accuracy(layer_0 - estimator_0 - 10_folds.train_3.predict)=94.68%\n",
      "[ 2018-04-26 15:18:02,033][kfold_wrapper.log_eval_metrics] Accuracy(layer_0 - estimator_0 - 10_folds.train_4.predict)=95.04%\n",
      "[ 2018-04-26 15:18:03,136][kfold_wrapper.log_eval_metrics] Accuracy(layer_0 - estimator_0 - 10_folds.train_5.predict)=95.74%\n",
      "[ 2018-04-26 15:18:04,260][kfold_wrapper.log_eval_metrics] Accuracy(layer_0 - estimator_0 - 10_folds.train_6.predict)=91.81%\n",
      "[ 2018-04-26 15:18:05,282][kfold_wrapper.log_eval_metrics] Accuracy(layer_0 - estimator_0 - 10_folds.train_7.predict)=93.59%\n",
      "[ 2018-04-26 15:18:06,375][kfold_wrapper.log_eval_metrics] Accuracy(layer_0 - estimator_0 - 10_folds.train_8.predict)=92.88%\n",
      "[ 2018-04-26 15:18:07,452][kfold_wrapper.log_eval_metrics] Accuracy(layer_0 - estimator_0 - 10_folds.train_9.predict)=96.44%\n",
      "[ 2018-04-26 15:18:07,710][kfold_wrapper.log_eval_metrics] Accuracy(layer_0 - estimator_0 - 10_folds.train_cv.predict)=94.78%\n",
      "[ 2018-04-26 15:18:07,711][kfold_wrapper.log_eval_metrics] Accuracy(layer_0 - estimator_0 - 10_folds.test.predict)=94.82%\n",
      "[ 2018-04-26 15:18:07,722][cascade_classifier.calc_accuracy] Accuracy(layer_0 - train.classifier_average)=94.78%\n",
      "[ 2018-04-26 15:18:07,724][cascade_classifier.calc_accuracy] Accuracy(layer_0 - test.classifier_average)=94.82%\n",
      "[ 2018-04-26 15:18:07,725][cascade_classifier.fit_transform] [Result][Reach Max Layer] opt_layer_num=1, accuracy_train=94.78%, accuracy_test=94.82%\n",
      "[ 2018-04-26 15:18:07,727][cascade_classifier.transform] X_groups_test.shape=[(1389, 59)]\n",
      "[ 2018-04-26 15:18:07,728][cascade_classifier.transform] group_dims=[59]\n",
      "[ 2018-04-26 15:18:07,729][cascade_classifier.transform] X_test.shape=(1389, 59)\n",
      "[ 2018-04-26 15:18:07,731][cascade_classifier.transform] [layer=0] look_indexs=[0], X_cur_test.shape=(1389, 59)\n",
      "[ 2018-04-26 15:18:10,409][cascade_classifier.fit_transform] X_groups_train.shape=[(2818, 59)],y_train.shape=(2818,),X_groups_test.shape=[(1389, 59)],y_test.shape=(1389,)\n",
      "[ 2018-04-26 15:18:10,411][cascade_classifier.fit_transform] group_dims=[59]\n",
      "[ 2018-04-26 15:18:10,412][cascade_classifier.fit_transform] group_starts=[0]\n",
      "[ 2018-04-26 15:18:10,413][cascade_classifier.fit_transform] group_ends=[59]\n",
      "[ 2018-04-26 15:18:10,415][cascade_classifier.fit_transform] X_train.shape=(2818, 59),X_test.shape=(1389, 59)\n",
      "[ 2018-04-26 15:18:10,417][cascade_classifier.fit_transform] [layer=0] look_indexs=[0], X_cur_train.shape=(2818, 59), X_cur_test.shape=(1389, 59)\n"
     ]
    },
    {
     "name": "stdout",
     "output_type": "stream",
     "text": [
      "('Test Accuracy of ExtraTrees = 94.816415 %', 3, 'fois')\n",
      "(' Time ', '10.988', ' seconds')\n"
     ]
    },
    {
     "name": "stderr",
     "output_type": "stream",
     "text": [
      "[ 2018-04-26 15:18:11,282][kfold_wrapper.log_eval_metrics] Accuracy(layer_0 - estimator_0 - 10_folds.train_0.predict)=95.41%\n",
      "[ 2018-04-26 15:18:12,258][kfold_wrapper.log_eval_metrics] Accuracy(layer_0 - estimator_0 - 10_folds.train_1.predict)=94.70%\n",
      "[ 2018-04-26 15:18:13,321][kfold_wrapper.log_eval_metrics] Accuracy(layer_0 - estimator_0 - 10_folds.train_2.predict)=96.81%\n",
      "[ 2018-04-26 15:18:14,382][kfold_wrapper.log_eval_metrics] Accuracy(layer_0 - estimator_0 - 10_folds.train_3.predict)=95.39%\n",
      "[ 2018-04-26 15:18:15,437][kfold_wrapper.log_eval_metrics] Accuracy(layer_0 - estimator_0 - 10_folds.train_4.predict)=95.39%\n",
      "[ 2018-04-26 15:18:16,527][kfold_wrapper.log_eval_metrics] Accuracy(layer_0 - estimator_0 - 10_folds.train_5.predict)=95.39%\n",
      "[ 2018-04-26 15:18:17,603][kfold_wrapper.log_eval_metrics] Accuracy(layer_0 - estimator_0 - 10_folds.train_6.predict)=92.53%\n",
      "[ 2018-04-26 15:18:18,542][kfold_wrapper.log_eval_metrics] Accuracy(layer_0 - estimator_0 - 10_folds.train_7.predict)=93.24%\n",
      "[ 2018-04-26 15:18:19,659][kfold_wrapper.log_eval_metrics] Accuracy(layer_0 - estimator_0 - 10_folds.train_8.predict)=92.88%\n",
      "[ 2018-04-26 15:18:20,790][kfold_wrapper.log_eval_metrics] Accuracy(layer_0 - estimator_0 - 10_folds.train_9.predict)=96.44%\n",
      "[ 2018-04-26 15:18:21,032][kfold_wrapper.log_eval_metrics] Accuracy(layer_0 - estimator_0 - 10_folds.train_cv.predict)=94.82%\n",
      "[ 2018-04-26 15:18:21,034][kfold_wrapper.log_eval_metrics] Accuracy(layer_0 - estimator_0 - 10_folds.test.predict)=95.10%\n",
      "[ 2018-04-26 15:18:21,043][cascade_classifier.calc_accuracy] Accuracy(layer_0 - train.classifier_average)=94.82%\n",
      "[ 2018-04-26 15:18:21,044][cascade_classifier.calc_accuracy] Accuracy(layer_0 - test.classifier_average)=95.10%\n",
      "[ 2018-04-26 15:18:21,046][cascade_classifier.fit_transform] [Result][Reach Max Layer] opt_layer_num=1, accuracy_train=94.82%, accuracy_test=95.10%\n",
      "[ 2018-04-26 15:18:21,047][cascade_classifier.transform] X_groups_test.shape=[(1389, 59)]\n",
      "[ 2018-04-26 15:18:21,049][cascade_classifier.transform] group_dims=[59]\n",
      "[ 2018-04-26 15:18:21,050][cascade_classifier.transform] X_test.shape=(1389, 59)\n",
      "[ 2018-04-26 15:18:21,052][cascade_classifier.transform] [layer=0] look_indexs=[0], X_cur_test.shape=(1389, 59)\n",
      "[ 2018-04-26 15:18:23,524][cascade_classifier.fit_transform] X_groups_train.shape=[(2818, 59)],y_train.shape=(2818,),X_groups_test.shape=[(1389, 59)],y_test.shape=(1389,)\n",
      "[ 2018-04-26 15:18:23,526][cascade_classifier.fit_transform] group_dims=[59]\n",
      "[ 2018-04-26 15:18:23,527][cascade_classifier.fit_transform] group_starts=[0]\n",
      "[ 2018-04-26 15:18:23,528][cascade_classifier.fit_transform] group_ends=[59]\n",
      "[ 2018-04-26 15:18:23,529][cascade_classifier.fit_transform] X_train.shape=(2818, 59),X_test.shape=(1389, 59)\n",
      "[ 2018-04-26 15:18:23,531][cascade_classifier.fit_transform] [layer=0] look_indexs=[0], X_cur_train.shape=(2818, 59), X_cur_test.shape=(1389, 59)\n"
     ]
    },
    {
     "name": "stdout",
     "output_type": "stream",
     "text": [
      "('Test Accuracy of ExtraTrees = 95.104392 %', 4, 'fois')\n",
      "(' Time ', '10.642', ' seconds')\n"
     ]
    },
    {
     "name": "stderr",
     "output_type": "stream",
     "text": [
      "[ 2018-04-26 15:18:24,371][kfold_wrapper.log_eval_metrics] Accuracy(layer_0 - estimator_0 - 10_folds.train_0.predict)=95.41%\n",
      "[ 2018-04-26 15:18:25,440][kfold_wrapper.log_eval_metrics] Accuracy(layer_0 - estimator_0 - 10_folds.train_1.predict)=94.35%\n",
      "[ 2018-04-26 15:18:26,552][kfold_wrapper.log_eval_metrics] Accuracy(layer_0 - estimator_0 - 10_folds.train_2.predict)=96.10%\n",
      "[ 2018-04-26 15:18:27,604][kfold_wrapper.log_eval_metrics] Accuracy(layer_0 - estimator_0 - 10_folds.train_3.predict)=94.68%\n",
      "[ 2018-04-26 15:18:28,680][kfold_wrapper.log_eval_metrics] Accuracy(layer_0 - estimator_0 - 10_folds.train_4.predict)=95.04%\n",
      "[ 2018-04-26 15:18:29,819][kfold_wrapper.log_eval_metrics] Accuracy(layer_0 - estimator_0 - 10_folds.train_5.predict)=95.39%\n",
      "[ 2018-04-26 15:18:30,869][kfold_wrapper.log_eval_metrics] Accuracy(layer_0 - estimator_0 - 10_folds.train_6.predict)=92.88%\n",
      "[ 2018-04-26 15:18:32,003][kfold_wrapper.log_eval_metrics] Accuracy(layer_0 - estimator_0 - 10_folds.train_7.predict)=93.24%\n",
      "[ 2018-04-26 15:18:33,151][kfold_wrapper.log_eval_metrics] Accuracy(layer_0 - estimator_0 - 10_folds.train_8.predict)=92.88%\n",
      "[ 2018-04-26 15:18:34,216][kfold_wrapper.log_eval_metrics] Accuracy(layer_0 - estimator_0 - 10_folds.train_9.predict)=96.44%\n",
      "[ 2018-04-26 15:18:34,457][kfold_wrapper.log_eval_metrics] Accuracy(layer_0 - estimator_0 - 10_folds.train_cv.predict)=94.64%\n",
      "[ 2018-04-26 15:18:34,459][kfold_wrapper.log_eval_metrics] Accuracy(layer_0 - estimator_0 - 10_folds.test.predict)=94.74%\n",
      "[ 2018-04-26 15:18:34,469][cascade_classifier.calc_accuracy] Accuracy(layer_0 - train.classifier_average)=94.64%\n",
      "[ 2018-04-26 15:18:34,470][cascade_classifier.calc_accuracy] Accuracy(layer_0 - test.classifier_average)=94.74%\n",
      "[ 2018-04-26 15:18:34,471][cascade_classifier.fit_transform] [Result][Reach Max Layer] opt_layer_num=1, accuracy_train=94.64%, accuracy_test=94.74%\n",
      "[ 2018-04-26 15:18:34,473][cascade_classifier.transform] X_groups_test.shape=[(1389, 59)]\n",
      "[ 2018-04-26 15:18:34,475][cascade_classifier.transform] group_dims=[59]\n",
      "[ 2018-04-26 15:18:34,476][cascade_classifier.transform] X_test.shape=(1389, 59)\n",
      "[ 2018-04-26 15:18:34,477][cascade_classifier.transform] [layer=0] look_indexs=[0], X_cur_test.shape=(1389, 59)\n",
      "[ 2018-04-26 15:18:37,076][cascade_classifier.fit_transform] X_groups_train.shape=[(2818, 59)],y_train.shape=(2818,),X_groups_test.shape=[(1389, 59)],y_test.shape=(1389,)\n",
      "[ 2018-04-26 15:18:37,079][cascade_classifier.fit_transform] group_dims=[59]\n",
      "[ 2018-04-26 15:18:37,080][cascade_classifier.fit_transform] group_starts=[0]\n",
      "[ 2018-04-26 15:18:37,081][cascade_classifier.fit_transform] group_ends=[59]\n",
      "[ 2018-04-26 15:18:37,082][cascade_classifier.fit_transform] X_train.shape=(2818, 59),X_test.shape=(1389, 59)\n",
      "[ 2018-04-26 15:18:37,084][cascade_classifier.fit_transform] [layer=0] look_indexs=[0], X_cur_train.shape=(2818, 59), X_cur_test.shape=(1389, 59)\n"
     ]
    },
    {
     "name": "stdout",
     "output_type": "stream",
     "text": [
      "('Test Accuracy of ExtraTrees = 94.744420 %', 5, 'fois')\n",
      "(' Time ', '10.951', ' seconds')\n"
     ]
    },
    {
     "name": "stderr",
     "output_type": "stream",
     "text": [
      "[ 2018-04-26 15:18:37,920][kfold_wrapper.log_eval_metrics] Accuracy(layer_0 - estimator_0 - 10_folds.train_0.predict)=95.05%\n",
      "[ 2018-04-26 15:18:38,980][kfold_wrapper.log_eval_metrics] Accuracy(layer_0 - estimator_0 - 10_folds.train_1.predict)=94.35%\n",
      "[ 2018-04-26 15:18:40,157][kfold_wrapper.log_eval_metrics] Accuracy(layer_0 - estimator_0 - 10_folds.train_2.predict)=96.10%\n",
      "[ 2018-04-26 15:18:41,202][kfold_wrapper.log_eval_metrics] Accuracy(layer_0 - estimator_0 - 10_folds.train_3.predict)=95.04%\n",
      "[ 2018-04-26 15:18:42,310][kfold_wrapper.log_eval_metrics] Accuracy(layer_0 - estimator_0 - 10_folds.train_4.predict)=95.74%\n",
      "[ 2018-04-26 15:18:43,426][kfold_wrapper.log_eval_metrics] Accuracy(layer_0 - estimator_0 - 10_folds.train_5.predict)=95.39%\n",
      "[ 2018-04-26 15:18:44,508][kfold_wrapper.log_eval_metrics] Accuracy(layer_0 - estimator_0 - 10_folds.train_6.predict)=92.17%\n",
      "[ 2018-04-26 15:18:45,750][kfold_wrapper.log_eval_metrics] Accuracy(layer_0 - estimator_0 - 10_folds.train_7.predict)=93.24%\n",
      "[ 2018-04-26 15:18:46,877][kfold_wrapper.log_eval_metrics] Accuracy(layer_0 - estimator_0 - 10_folds.train_8.predict)=92.88%\n",
      "[ 2018-04-26 15:18:47,929][kfold_wrapper.log_eval_metrics] Accuracy(layer_0 - estimator_0 - 10_folds.train_9.predict)=96.44%\n",
      "[ 2018-04-26 15:18:48,176][kfold_wrapper.log_eval_metrics] Accuracy(layer_0 - estimator_0 - 10_folds.train_cv.predict)=94.64%\n",
      "[ 2018-04-26 15:18:48,178][kfold_wrapper.log_eval_metrics] Accuracy(layer_0 - estimator_0 - 10_folds.test.predict)=94.74%\n",
      "[ 2018-04-26 15:18:48,186][cascade_classifier.calc_accuracy] Accuracy(layer_0 - train.classifier_average)=94.64%\n",
      "[ 2018-04-26 15:18:48,187][cascade_classifier.calc_accuracy] Accuracy(layer_0 - test.classifier_average)=94.74%\n",
      "[ 2018-04-26 15:18:48,188][cascade_classifier.fit_transform] [Result][Reach Max Layer] opt_layer_num=1, accuracy_train=94.64%, accuracy_test=94.74%\n",
      "[ 2018-04-26 15:18:48,190][cascade_classifier.transform] X_groups_test.shape=[(1389, 59)]\n",
      "[ 2018-04-26 15:18:48,191][cascade_classifier.transform] group_dims=[59]\n",
      "[ 2018-04-26 15:18:48,192][cascade_classifier.transform] X_test.shape=(1389, 59)\n",
      "[ 2018-04-26 15:18:48,194][cascade_classifier.transform] [layer=0] look_indexs=[0], X_cur_test.shape=(1389, 59)\n",
      "[ 2018-04-26 15:18:50,718][cascade_classifier.fit_transform] X_groups_train.shape=[(2818, 59)],y_train.shape=(2818,),X_groups_test.shape=[(1389, 59)],y_test.shape=(1389,)\n",
      "[ 2018-04-26 15:18:50,721][cascade_classifier.fit_transform] group_dims=[59]\n",
      "[ 2018-04-26 15:18:50,722][cascade_classifier.fit_transform] group_starts=[0]\n",
      "[ 2018-04-26 15:18:50,723][cascade_classifier.fit_transform] group_ends=[59]\n",
      "[ 2018-04-26 15:18:50,724][cascade_classifier.fit_transform] X_train.shape=(2818, 59),X_test.shape=(1389, 59)\n",
      "[ 2018-04-26 15:18:50,727][cascade_classifier.fit_transform] [layer=0] look_indexs=[0], X_cur_train.shape=(2818, 59), X_cur_test.shape=(1389, 59)\n"
     ]
    },
    {
     "name": "stdout",
     "output_type": "stream",
     "text": [
      "('Test Accuracy of ExtraTrees = 94.744420 %', 6, 'fois')\n",
      "(' Time ', '11.116', ' seconds')\n"
     ]
    },
    {
     "name": "stderr",
     "output_type": "stream",
     "text": [
      "[ 2018-04-26 15:18:51,562][kfold_wrapper.log_eval_metrics] Accuracy(layer_0 - estimator_0 - 10_folds.train_0.predict)=95.05%\n",
      "[ 2018-04-26 15:18:52,638][kfold_wrapper.log_eval_metrics] Accuracy(layer_0 - estimator_0 - 10_folds.train_1.predict)=94.35%\n",
      "[ 2018-04-26 15:18:53,746][kfold_wrapper.log_eval_metrics] Accuracy(layer_0 - estimator_0 - 10_folds.train_2.predict)=95.74%\n",
      "[ 2018-04-26 15:18:54,863][kfold_wrapper.log_eval_metrics] Accuracy(layer_0 - estimator_0 - 10_folds.train_3.predict)=95.39%\n",
      "[ 2018-04-26 15:18:55,975][kfold_wrapper.log_eval_metrics] Accuracy(layer_0 - estimator_0 - 10_folds.train_4.predict)=94.68%\n",
      "[ 2018-04-26 15:18:57,052][kfold_wrapper.log_eval_metrics] Accuracy(layer_0 - estimator_0 - 10_folds.train_5.predict)=95.39%\n",
      "[ 2018-04-26 15:18:58,193][kfold_wrapper.log_eval_metrics] Accuracy(layer_0 - estimator_0 - 10_folds.train_6.predict)=92.53%\n",
      "[ 2018-04-26 15:18:59,335][kfold_wrapper.log_eval_metrics] Accuracy(layer_0 - estimator_0 - 10_folds.train_7.predict)=93.59%\n",
      "[ 2018-04-26 15:19:00,463][kfold_wrapper.log_eval_metrics] Accuracy(layer_0 - estimator_0 - 10_folds.train_8.predict)=92.88%\n",
      "[ 2018-04-26 15:19:01,263][kfold_wrapper.log_eval_metrics] Accuracy(layer_0 - estimator_0 - 10_folds.train_9.predict)=96.44%\n",
      "[ 2018-04-26 15:19:01,505][kfold_wrapper.log_eval_metrics] Accuracy(layer_0 - estimator_0 - 10_folds.train_cv.predict)=94.61%\n",
      "[ 2018-04-26 15:19:01,507][kfold_wrapper.log_eval_metrics] Accuracy(layer_0 - estimator_0 - 10_folds.test.predict)=94.38%\n",
      "[ 2018-04-26 15:19:01,519][cascade_classifier.calc_accuracy] Accuracy(layer_0 - train.classifier_average)=94.61%\n",
      "[ 2018-04-26 15:19:01,520][cascade_classifier.calc_accuracy] Accuracy(layer_0 - test.classifier_average)=94.38%\n",
      "[ 2018-04-26 15:19:01,521][cascade_classifier.fit_transform] [Result][Reach Max Layer] opt_layer_num=1, accuracy_train=94.61%, accuracy_test=94.38%\n",
      "[ 2018-04-26 15:19:01,523][cascade_classifier.transform] X_groups_test.shape=[(1389, 59)]\n",
      "[ 2018-04-26 15:19:01,525][cascade_classifier.transform] group_dims=[59]\n",
      "[ 2018-04-26 15:19:01,526][cascade_classifier.transform] X_test.shape=(1389, 59)\n",
      "[ 2018-04-26 15:19:01,528][cascade_classifier.transform] [layer=0] look_indexs=[0], X_cur_test.shape=(1389, 59)\n",
      "[ 2018-04-26 15:19:04,200][cascade_classifier.fit_transform] X_groups_train.shape=[(2818, 59)],y_train.shape=(2818,),X_groups_test.shape=[(1389, 59)],y_test.shape=(1389,)\n",
      "[ 2018-04-26 15:19:04,203][cascade_classifier.fit_transform] group_dims=[59]\n",
      "[ 2018-04-26 15:19:04,204][cascade_classifier.fit_transform] group_starts=[0]\n",
      "[ 2018-04-26 15:19:04,205][cascade_classifier.fit_transform] group_ends=[59]\n",
      "[ 2018-04-26 15:19:04,207][cascade_classifier.fit_transform] X_train.shape=(2818, 59),X_test.shape=(1389, 59)\n",
      "[ 2018-04-26 15:19:04,209][cascade_classifier.fit_transform] [layer=0] look_indexs=[0], X_cur_train.shape=(2818, 59), X_cur_test.shape=(1389, 59)\n"
     ]
    },
    {
     "name": "stdout",
     "output_type": "stream",
     "text": [
      "('Test Accuracy of ExtraTrees = 94.384449 %', 7, 'fois')\n",
      "(' Time ', '10.808', ' seconds')\n"
     ]
    },
    {
     "name": "stderr",
     "output_type": "stream",
     "text": [
      "[ 2018-04-26 15:19:05,045][kfold_wrapper.log_eval_metrics] Accuracy(layer_0 - estimator_0 - 10_folds.train_0.predict)=95.76%\n",
      "[ 2018-04-26 15:19:06,117][kfold_wrapper.log_eval_metrics] Accuracy(layer_0 - estimator_0 - 10_folds.train_1.predict)=94.70%\n",
      "[ 2018-04-26 15:19:07,141][kfold_wrapper.log_eval_metrics] Accuracy(layer_0 - estimator_0 - 10_folds.train_2.predict)=95.74%\n",
      "[ 2018-04-26 15:19:08,275][kfold_wrapper.log_eval_metrics] Accuracy(layer_0 - estimator_0 - 10_folds.train_3.predict)=94.33%\n",
      "[ 2018-04-26 15:19:09,135][kfold_wrapper.log_eval_metrics] Accuracy(layer_0 - estimator_0 - 10_folds.train_4.predict)=94.68%\n",
      "[ 2018-04-26 15:19:10,156][kfold_wrapper.log_eval_metrics] Accuracy(layer_0 - estimator_0 - 10_folds.train_5.predict)=95.04%\n",
      "[ 2018-04-26 15:19:11,037][kfold_wrapper.log_eval_metrics] Accuracy(layer_0 - estimator_0 - 10_folds.train_6.predict)=92.53%\n",
      "[ 2018-04-26 15:19:12,224][kfold_wrapper.log_eval_metrics] Accuracy(layer_0 - estimator_0 - 10_folds.train_7.predict)=93.59%\n",
      "[ 2018-04-26 15:19:13,314][kfold_wrapper.log_eval_metrics] Accuracy(layer_0 - estimator_0 - 10_folds.train_8.predict)=92.53%\n",
      "[ 2018-04-26 15:19:14,394][kfold_wrapper.log_eval_metrics] Accuracy(layer_0 - estimator_0 - 10_folds.train_9.predict)=96.09%\n",
      "[ 2018-04-26 15:19:14,648][kfold_wrapper.log_eval_metrics] Accuracy(layer_0 - estimator_0 - 10_folds.train_cv.predict)=94.50%\n",
      "[ 2018-04-26 15:19:14,650][kfold_wrapper.log_eval_metrics] Accuracy(layer_0 - estimator_0 - 10_folds.test.predict)=94.60%\n",
      "[ 2018-04-26 15:19:14,659][cascade_classifier.calc_accuracy] Accuracy(layer_0 - train.classifier_average)=94.50%\n",
      "[ 2018-04-26 15:19:14,661][cascade_classifier.calc_accuracy] Accuracy(layer_0 - test.classifier_average)=94.60%\n",
      "[ 2018-04-26 15:19:14,662][cascade_classifier.fit_transform] [Result][Reach Max Layer] opt_layer_num=1, accuracy_train=94.50%, accuracy_test=94.60%\n",
      "[ 2018-04-26 15:19:14,663][cascade_classifier.transform] X_groups_test.shape=[(1389, 59)]\n",
      "[ 2018-04-26 15:19:14,665][cascade_classifier.transform] group_dims=[59]\n",
      "[ 2018-04-26 15:19:14,666][cascade_classifier.transform] X_test.shape=(1389, 59)\n",
      "[ 2018-04-26 15:19:14,668][cascade_classifier.transform] [layer=0] look_indexs=[0], X_cur_test.shape=(1389, 59)\n",
      "[ 2018-04-26 15:19:17,262][cascade_classifier.fit_transform] X_groups_train.shape=[(2818, 59)],y_train.shape=(2818,),X_groups_test.shape=[(1389, 59)],y_test.shape=(1389,)\n",
      "[ 2018-04-26 15:19:17,265][cascade_classifier.fit_transform] group_dims=[59]\n",
      "[ 2018-04-26 15:19:17,266][cascade_classifier.fit_transform] group_starts=[0]\n",
      "[ 2018-04-26 15:19:17,267][cascade_classifier.fit_transform] group_ends=[59]\n",
      "[ 2018-04-26 15:19:17,268][cascade_classifier.fit_transform] X_train.shape=(2818, 59),X_test.shape=(1389, 59)\n",
      "[ 2018-04-26 15:19:17,270][cascade_classifier.fit_transform] [layer=0] look_indexs=[0], X_cur_train.shape=(2818, 59), X_cur_test.shape=(1389, 59)\n"
     ]
    },
    {
     "name": "stdout",
     "output_type": "stream",
     "text": [
      "('Test Accuracy of ExtraTrees = 94.600432 %', 8, 'fois')\n",
      "(' Time ', '10.465', ' seconds')\n"
     ]
    },
    {
     "name": "stderr",
     "output_type": "stream",
     "text": [
      "[ 2018-04-26 15:19:18,148][kfold_wrapper.log_eval_metrics] Accuracy(layer_0 - estimator_0 - 10_folds.train_0.predict)=95.05%\n",
      "[ 2018-04-26 15:19:19,209][kfold_wrapper.log_eval_metrics] Accuracy(layer_0 - estimator_0 - 10_folds.train_1.predict)=94.70%\n",
      "[ 2018-04-26 15:19:20,293][kfold_wrapper.log_eval_metrics] Accuracy(layer_0 - estimator_0 - 10_folds.train_2.predict)=95.74%\n",
      "[ 2018-04-26 15:19:21,447][kfold_wrapper.log_eval_metrics] Accuracy(layer_0 - estimator_0 - 10_folds.train_3.predict)=93.97%\n",
      "[ 2018-04-26 15:19:22,332][kfold_wrapper.log_eval_metrics] Accuracy(layer_0 - estimator_0 - 10_folds.train_4.predict)=95.39%\n",
      "[ 2018-04-26 15:19:23,266][kfold_wrapper.log_eval_metrics] Accuracy(layer_0 - estimator_0 - 10_folds.train_5.predict)=94.68%\n",
      "[ 2018-04-26 15:19:24,312][kfold_wrapper.log_eval_metrics] Accuracy(layer_0 - estimator_0 - 10_folds.train_6.predict)=92.53%\n",
      "[ 2018-04-26 15:19:25,431][kfold_wrapper.log_eval_metrics] Accuracy(layer_0 - estimator_0 - 10_folds.train_7.predict)=93.59%\n",
      "[ 2018-04-26 15:19:26,508][kfold_wrapper.log_eval_metrics] Accuracy(layer_0 - estimator_0 - 10_folds.train_8.predict)=92.53%\n",
      "[ 2018-04-26 15:19:27,571][kfold_wrapper.log_eval_metrics] Accuracy(layer_0 - estimator_0 - 10_folds.train_9.predict)=96.09%\n",
      "[ 2018-04-26 15:19:27,803][kfold_wrapper.log_eval_metrics] Accuracy(layer_0 - estimator_0 - 10_folds.train_cv.predict)=94.43%\n",
      "[ 2018-04-26 15:19:27,805][kfold_wrapper.log_eval_metrics] Accuracy(layer_0 - estimator_0 - 10_folds.test.predict)=94.82%\n",
      "[ 2018-04-26 15:19:27,815][cascade_classifier.calc_accuracy] Accuracy(layer_0 - train.classifier_average)=94.43%\n",
      "[ 2018-04-26 15:19:27,817][cascade_classifier.calc_accuracy] Accuracy(layer_0 - test.classifier_average)=94.82%\n",
      "[ 2018-04-26 15:19:27,818][cascade_classifier.fit_transform] [Result][Reach Max Layer] opt_layer_num=1, accuracy_train=94.43%, accuracy_test=94.82%\n",
      "[ 2018-04-26 15:19:27,819][cascade_classifier.transform] X_groups_test.shape=[(1389, 59)]\n",
      "[ 2018-04-26 15:19:27,823][cascade_classifier.transform] group_dims=[59]\n",
      "[ 2018-04-26 15:19:27,824][cascade_classifier.transform] X_test.shape=(1389, 59)\n",
      "[ 2018-04-26 15:19:27,826][cascade_classifier.transform] [layer=0] look_indexs=[0], X_cur_test.shape=(1389, 59)\n",
      "[ 2018-04-26 15:19:30,354][cascade_classifier.fit_transform] X_groups_train.shape=[(2818, 59)],y_train.shape=(2818,),X_groups_test.shape=[(1389, 59)],y_test.shape=(1389,)\n",
      "[ 2018-04-26 15:19:30,356][cascade_classifier.fit_transform] group_dims=[59]\n",
      "[ 2018-04-26 15:19:30,358][cascade_classifier.fit_transform] group_starts=[0]\n",
      "[ 2018-04-26 15:19:30,359][cascade_classifier.fit_transform] group_ends=[59]\n",
      "[ 2018-04-26 15:19:30,360][cascade_classifier.fit_transform] X_train.shape=(2818, 59),X_test.shape=(1389, 59)\n",
      "[ 2018-04-26 15:19:30,362][cascade_classifier.fit_transform] [layer=0] look_indexs=[0], X_cur_train.shape=(2818, 59), X_cur_test.shape=(1389, 59)\n"
     ]
    },
    {
     "name": "stdout",
     "output_type": "stream",
     "text": [
      "('Test Accuracy of ExtraTrees = 94.816415 %', 9, 'fois')\n",
      "(' Time ', '10.56', ' seconds')\n"
     ]
    },
    {
     "name": "stderr",
     "output_type": "stream",
     "text": [
      "[ 2018-04-26 15:19:31,154][kfold_wrapper.log_eval_metrics] Accuracy(layer_0 - estimator_0 - 10_folds.train_0.predict)=95.76%\n",
      "[ 2018-04-26 15:19:32,230][kfold_wrapper.log_eval_metrics] Accuracy(layer_0 - estimator_0 - 10_folds.train_1.predict)=94.70%\n",
      "[ 2018-04-26 15:19:33,330][kfold_wrapper.log_eval_metrics] Accuracy(layer_0 - estimator_0 - 10_folds.train_2.predict)=95.04%\n",
      "[ 2018-04-26 15:19:34,407][kfold_wrapper.log_eval_metrics] Accuracy(layer_0 - estimator_0 - 10_folds.train_3.predict)=93.97%\n",
      "[ 2018-04-26 15:19:35,483][kfold_wrapper.log_eval_metrics] Accuracy(layer_0 - estimator_0 - 10_folds.train_4.predict)=95.39%\n",
      "[ 2018-04-26 15:19:36,680][kfold_wrapper.log_eval_metrics] Accuracy(layer_0 - estimator_0 - 10_folds.train_5.predict)=94.68%\n",
      "[ 2018-04-26 15:19:37,713][kfold_wrapper.log_eval_metrics] Accuracy(layer_0 - estimator_0 - 10_folds.train_6.predict)=92.17%\n",
      "[ 2018-04-26 15:19:38,745][kfold_wrapper.log_eval_metrics] Accuracy(layer_0 - estimator_0 - 10_folds.train_7.predict)=94.31%\n",
      "[ 2018-04-26 15:19:39,811][kfold_wrapper.log_eval_metrics] Accuracy(layer_0 - estimator_0 - 10_folds.train_8.predict)=92.17%\n",
      "[ 2018-04-26 15:19:40,980][kfold_wrapper.log_eval_metrics] Accuracy(layer_0 - estimator_0 - 10_folds.train_9.predict)=95.73%\n",
      "[ 2018-04-26 15:19:41,228][kfold_wrapper.log_eval_metrics] Accuracy(layer_0 - estimator_0 - 10_folds.train_cv.predict)=94.39%\n",
      "[ 2018-04-26 15:19:41,229][kfold_wrapper.log_eval_metrics] Accuracy(layer_0 - estimator_0 - 10_folds.test.predict)=94.74%\n",
      "[ 2018-04-26 15:19:41,242][cascade_classifier.calc_accuracy] Accuracy(layer_0 - train.classifier_average)=94.39%\n",
      "[ 2018-04-26 15:19:41,243][cascade_classifier.calc_accuracy] Accuracy(layer_0 - test.classifier_average)=94.74%\n",
      "[ 2018-04-26 15:19:41,244][cascade_classifier.fit_transform] [Result][Reach Max Layer] opt_layer_num=1, accuracy_train=94.39%, accuracy_test=94.74%\n",
      "[ 2018-04-26 15:19:41,246][cascade_classifier.transform] X_groups_test.shape=[(1389, 59)]\n",
      "[ 2018-04-26 15:19:41,248][cascade_classifier.transform] group_dims=[59]\n",
      "[ 2018-04-26 15:19:41,249][cascade_classifier.transform] X_test.shape=(1389, 59)\n",
      "[ 2018-04-26 15:19:41,251][cascade_classifier.transform] [layer=0] look_indexs=[0], X_cur_test.shape=(1389, 59)\n",
      "[ 2018-04-26 15:19:43,944][cascade_classifier.fit_transform] X_groups_train.shape=[(2818, 59)],y_train.shape=(2818,),X_groups_test.shape=[(1389, 59)],y_test.shape=(1389,)\n",
      "[ 2018-04-26 15:19:43,945][cascade_classifier.fit_transform] group_dims=[59]\n",
      "[ 2018-04-26 15:19:43,946][cascade_classifier.fit_transform] group_starts=[0]\n",
      "[ 2018-04-26 15:19:43,946][cascade_classifier.fit_transform] group_ends=[59]\n",
      "[ 2018-04-26 15:19:43,947][cascade_classifier.fit_transform] X_train.shape=(2818, 59),X_test.shape=(1389, 59)\n",
      "[ 2018-04-26 15:19:43,949][cascade_classifier.fit_transform] [layer=0] look_indexs=[0], X_cur_train.shape=(2818, 59), X_cur_test.shape=(1389, 59)\n"
     ]
    },
    {
     "name": "stdout",
     "output_type": "stream",
     "text": [
      "('Test Accuracy of ExtraTrees = 94.744420 %', 10, 'fois')\n",
      "(' Time ', '10.897', ' seconds')\n"
     ]
    },
    {
     "name": "stderr",
     "output_type": "stream",
     "text": [
      "[ 2018-04-26 15:19:44,730][kfold_wrapper.log_eval_metrics] Accuracy(layer_0 - estimator_0 - 10_folds.train_0.predict)=95.76%\n",
      "[ 2018-04-26 15:19:45,514][kfold_wrapper.log_eval_metrics] Accuracy(layer_0 - estimator_0 - 10_folds.train_1.predict)=94.35%\n",
      "[ 2018-04-26 15:19:46,436][kfold_wrapper.log_eval_metrics] Accuracy(layer_0 - estimator_0 - 10_folds.train_2.predict)=94.68%\n",
      "[ 2018-04-26 15:19:47,343][kfold_wrapper.log_eval_metrics] Accuracy(layer_0 - estimator_0 - 10_folds.train_3.predict)=95.04%\n",
      "[ 2018-04-26 15:19:48,302][kfold_wrapper.log_eval_metrics] Accuracy(layer_0 - estimator_0 - 10_folds.train_4.predict)=94.68%\n",
      "[ 2018-04-26 15:19:49,423][kfold_wrapper.log_eval_metrics] Accuracy(layer_0 - estimator_0 - 10_folds.train_5.predict)=95.39%\n",
      "[ 2018-04-26 15:19:50,505][kfold_wrapper.log_eval_metrics] Accuracy(layer_0 - estimator_0 - 10_folds.train_6.predict)=92.53%\n",
      "[ 2018-04-26 15:19:51,562][kfold_wrapper.log_eval_metrics] Accuracy(layer_0 - estimator_0 - 10_folds.train_7.predict)=94.31%\n",
      "[ 2018-04-26 15:19:52,633][kfold_wrapper.log_eval_metrics] Accuracy(layer_0 - estimator_0 - 10_folds.train_8.predict)=91.10%\n",
      "[ 2018-04-26 15:19:53,712][kfold_wrapper.log_eval_metrics] Accuracy(layer_0 - estimator_0 - 10_folds.train_9.predict)=96.09%\n",
      "[ 2018-04-26 15:19:53,971][kfold_wrapper.log_eval_metrics] Accuracy(layer_0 - estimator_0 - 10_folds.train_cv.predict)=94.39%\n",
      "[ 2018-04-26 15:19:53,972][kfold_wrapper.log_eval_metrics] Accuracy(layer_0 - estimator_0 - 10_folds.test.predict)=94.89%\n",
      "[ 2018-04-26 15:19:53,981][cascade_classifier.calc_accuracy] Accuracy(layer_0 - train.classifier_average)=94.39%\n",
      "[ 2018-04-26 15:19:53,983][cascade_classifier.calc_accuracy] Accuracy(layer_0 - test.classifier_average)=94.89%\n",
      "[ 2018-04-26 15:19:53,984][cascade_classifier.fit_transform] [Result][Reach Max Layer] opt_layer_num=1, accuracy_train=94.39%, accuracy_test=94.89%\n",
      "[ 2018-04-26 15:19:53,985][cascade_classifier.transform] X_groups_test.shape=[(1389, 59)]\n",
      "[ 2018-04-26 15:19:53,989][cascade_classifier.transform] group_dims=[59]\n",
      "[ 2018-04-26 15:19:53,990][cascade_classifier.transform] X_test.shape=(1389, 59)\n",
      "[ 2018-04-26 15:19:53,993][cascade_classifier.transform] [layer=0] look_indexs=[0], X_cur_test.shape=(1389, 59)\n",
      "[ 2018-04-26 15:19:56,624][cascade_classifier.fit_transform] X_groups_train.shape=[(2818, 59)],y_train.shape=(2818,),X_groups_test.shape=[(1389, 59)],y_test.shape=(1389,)\n",
      "[ 2018-04-26 15:19:56,626][cascade_classifier.fit_transform] group_dims=[59]\n",
      "[ 2018-04-26 15:19:56,627][cascade_classifier.fit_transform] group_starts=[0]\n",
      "[ 2018-04-26 15:19:56,628][cascade_classifier.fit_transform] group_ends=[59]\n",
      "[ 2018-04-26 15:19:56,629][cascade_classifier.fit_transform] X_train.shape=(2818, 59),X_test.shape=(1389, 59)\n",
      "[ 2018-04-26 15:19:56,631][cascade_classifier.fit_transform] [layer=0] look_indexs=[0], X_cur_train.shape=(2818, 59), X_cur_test.shape=(1389, 59)\n"
     ]
    },
    {
     "name": "stdout",
     "output_type": "stream",
     "text": [
      "('Test Accuracy of ExtraTrees = 94.888409 %', 11, 'fois')\n",
      "(' Time ', '10.044', ' seconds')\n"
     ]
    },
    {
     "name": "stderr",
     "output_type": "stream",
     "text": [
      "[ 2018-04-26 15:19:57,182][kfold_wrapper.log_eval_metrics] Accuracy(layer_0 - estimator_0 - 10_folds.train_0.predict)=95.76%\n",
      "[ 2018-04-26 15:19:58,222][kfold_wrapper.log_eval_metrics] Accuracy(layer_0 - estimator_0 - 10_folds.train_1.predict)=93.99%\n",
      "[ 2018-04-26 15:19:59,389][kfold_wrapper.log_eval_metrics] Accuracy(layer_0 - estimator_0 - 10_folds.train_2.predict)=94.33%\n",
      "[ 2018-04-26 15:20:00,461][kfold_wrapper.log_eval_metrics] Accuracy(layer_0 - estimator_0 - 10_folds.train_3.predict)=95.39%\n",
      "[ 2018-04-26 15:20:01,525][kfold_wrapper.log_eval_metrics] Accuracy(layer_0 - estimator_0 - 10_folds.train_4.predict)=94.68%\n",
      "[ 2018-04-26 15:20:02,562][kfold_wrapper.log_eval_metrics] Accuracy(layer_0 - estimator_0 - 10_folds.train_5.predict)=95.04%\n",
      "[ 2018-04-26 15:20:03,359][kfold_wrapper.log_eval_metrics] Accuracy(layer_0 - estimator_0 - 10_folds.train_6.predict)=92.88%\n",
      "[ 2018-04-26 15:20:04,326][kfold_wrapper.log_eval_metrics] Accuracy(layer_0 - estimator_0 - 10_folds.train_7.predict)=93.95%\n",
      "[ 2018-04-26 15:20:05,261][kfold_wrapper.log_eval_metrics] Accuracy(layer_0 - estimator_0 - 10_folds.train_8.predict)=91.46%\n",
      "[ 2018-04-26 15:20:06,158][kfold_wrapper.log_eval_metrics] Accuracy(layer_0 - estimator_0 - 10_folds.train_9.predict)=96.09%\n",
      "[ 2018-04-26 15:20:06,420][kfold_wrapper.log_eval_metrics] Accuracy(layer_0 - estimator_0 - 10_folds.train_cv.predict)=94.36%\n",
      "[ 2018-04-26 15:20:06,422][kfold_wrapper.log_eval_metrics] Accuracy(layer_0 - estimator_0 - 10_folds.test.predict)=94.82%\n",
      "[ 2018-04-26 15:20:06,431][cascade_classifier.calc_accuracy] Accuracy(layer_0 - train.classifier_average)=94.36%\n",
      "[ 2018-04-26 15:20:06,432][cascade_classifier.calc_accuracy] Accuracy(layer_0 - test.classifier_average)=94.82%\n",
      "[ 2018-04-26 15:20:06,432][cascade_classifier.fit_transform] [Result][Reach Max Layer] opt_layer_num=1, accuracy_train=94.36%, accuracy_test=94.82%\n",
      "[ 2018-04-26 15:20:06,433][cascade_classifier.transform] X_groups_test.shape=[(1389, 59)]\n",
      "[ 2018-04-26 15:20:06,435][cascade_classifier.transform] group_dims=[59]\n",
      "[ 2018-04-26 15:20:06,436][cascade_classifier.transform] X_test.shape=(1389, 59)\n",
      "[ 2018-04-26 15:20:06,438][cascade_classifier.transform] [layer=0] look_indexs=[0], X_cur_test.shape=(1389, 59)\n",
      "[ 2018-04-26 15:20:08,997][cascade_classifier.fit_transform] X_groups_train.shape=[(2818, 59)],y_train.shape=(2818,),X_groups_test.shape=[(1389, 59)],y_test.shape=(1389,)\n",
      "[ 2018-04-26 15:20:08,999][cascade_classifier.fit_transform] group_dims=[59]\n",
      "[ 2018-04-26 15:20:09,000][cascade_classifier.fit_transform] group_starts=[0]\n",
      "[ 2018-04-26 15:20:09,002][cascade_classifier.fit_transform] group_ends=[59]\n",
      "[ 2018-04-26 15:20:09,003][cascade_classifier.fit_transform] X_train.shape=(2818, 59),X_test.shape=(1389, 59)\n",
      "[ 2018-04-26 15:20:09,005][cascade_classifier.fit_transform] [layer=0] look_indexs=[0], X_cur_train.shape=(2818, 59), X_cur_test.shape=(1389, 59)\n"
     ]
    },
    {
     "name": "stdout",
     "output_type": "stream",
     "text": [
      "('Test Accuracy of ExtraTrees = 94.816415 %', 12, 'fois')\n",
      "(' Time ', '9.815', ' seconds')\n"
     ]
    },
    {
     "name": "stderr",
     "output_type": "stream",
     "text": [
      "[ 2018-04-26 15:20:09,858][kfold_wrapper.log_eval_metrics] Accuracy(layer_0 - estimator_0 - 10_folds.train_0.predict)=95.41%\n",
      "[ 2018-04-26 15:20:10,997][kfold_wrapper.log_eval_metrics] Accuracy(layer_0 - estimator_0 - 10_folds.train_1.predict)=94.70%\n",
      "[ 2018-04-26 15:20:12,148][kfold_wrapper.log_eval_metrics] Accuracy(layer_0 - estimator_0 - 10_folds.train_2.predict)=94.33%\n",
      "[ 2018-04-26 15:20:13,230][kfold_wrapper.log_eval_metrics] Accuracy(layer_0 - estimator_0 - 10_folds.train_3.predict)=95.04%\n",
      "[ 2018-04-26 15:20:14,323][kfold_wrapper.log_eval_metrics] Accuracy(layer_0 - estimator_0 - 10_folds.train_4.predict)=95.39%\n",
      "[ 2018-04-26 15:20:15,419][kfold_wrapper.log_eval_metrics] Accuracy(layer_0 - estimator_0 - 10_folds.train_5.predict)=94.33%\n",
      "[ 2018-04-26 15:20:16,590][kfold_wrapper.log_eval_metrics] Accuracy(layer_0 - estimator_0 - 10_folds.train_6.predict)=92.88%\n",
      "[ 2018-04-26 15:20:17,678][kfold_wrapper.log_eval_metrics] Accuracy(layer_0 - estimator_0 - 10_folds.train_7.predict)=94.31%\n",
      "[ 2018-04-26 15:20:18,774][kfold_wrapper.log_eval_metrics] Accuracy(layer_0 - estimator_0 - 10_folds.train_8.predict)=92.17%\n",
      "[ 2018-04-26 15:20:19,900][kfold_wrapper.log_eval_metrics] Accuracy(layer_0 - estimator_0 - 10_folds.train_9.predict)=96.44%\n",
      "[ 2018-04-26 15:20:20,143][kfold_wrapper.log_eval_metrics] Accuracy(layer_0 - estimator_0 - 10_folds.train_cv.predict)=94.50%\n",
      "[ 2018-04-26 15:20:20,145][kfold_wrapper.log_eval_metrics] Accuracy(layer_0 - estimator_0 - 10_folds.test.predict)=94.82%\n",
      "[ 2018-04-26 15:20:20,155][cascade_classifier.calc_accuracy] Accuracy(layer_0 - train.classifier_average)=94.50%\n",
      "[ 2018-04-26 15:20:20,156][cascade_classifier.calc_accuracy] Accuracy(layer_0 - test.classifier_average)=94.82%\n",
      "[ 2018-04-26 15:20:20,158][cascade_classifier.fit_transform] [Result][Reach Max Layer] opt_layer_num=1, accuracy_train=94.50%, accuracy_test=94.82%\n",
      "[ 2018-04-26 15:20:20,159][cascade_classifier.transform] X_groups_test.shape=[(1389, 59)]\n",
      "[ 2018-04-26 15:20:20,162][cascade_classifier.transform] group_dims=[59]\n",
      "[ 2018-04-26 15:20:20,163][cascade_classifier.transform] X_test.shape=(1389, 59)\n",
      "[ 2018-04-26 15:20:20,165][cascade_classifier.transform] [layer=0] look_indexs=[0], X_cur_test.shape=(1389, 59)\n",
      "[ 2018-04-26 15:20:22,738][cascade_classifier.fit_transform] X_groups_train.shape=[(2818, 59)],y_train.shape=(2818,),X_groups_test.shape=[(1389, 59)],y_test.shape=(1389,)\n",
      "[ 2018-04-26 15:20:22,739][cascade_classifier.fit_transform] group_dims=[59]\n",
      "[ 2018-04-26 15:20:22,740][cascade_classifier.fit_transform] group_starts=[0]\n",
      "[ 2018-04-26 15:20:22,741][cascade_classifier.fit_transform] group_ends=[59]\n",
      "[ 2018-04-26 15:20:22,742][cascade_classifier.fit_transform] X_train.shape=(2818, 59),X_test.shape=(1389, 59)\n",
      "[ 2018-04-26 15:20:22,744][cascade_classifier.fit_transform] [layer=0] look_indexs=[0], X_cur_train.shape=(2818, 59), X_cur_test.shape=(1389, 59)\n"
     ]
    },
    {
     "name": "stdout",
     "output_type": "stream",
     "text": [
      "('Test Accuracy of ExtraTrees = 94.816415 %', 13, 'fois')\n",
      "(' Time ', '11.164', ' seconds')\n"
     ]
    },
    {
     "name": "stderr",
     "output_type": "stream",
     "text": [
      "[ 2018-04-26 15:20:23,453][kfold_wrapper.log_eval_metrics] Accuracy(layer_0 - estimator_0 - 10_folds.train_0.predict)=95.41%\n",
      "[ 2018-04-26 15:20:24,258][kfold_wrapper.log_eval_metrics] Accuracy(layer_0 - estimator_0 - 10_folds.train_1.predict)=94.70%\n",
      "[ 2018-04-26 15:20:25,200][kfold_wrapper.log_eval_metrics] Accuracy(layer_0 - estimator_0 - 10_folds.train_2.predict)=95.04%\n",
      "[ 2018-04-26 15:20:26,285][kfold_wrapper.log_eval_metrics] Accuracy(layer_0 - estimator_0 - 10_folds.train_3.predict)=95.39%\n",
      "[ 2018-04-26 15:20:27,381][kfold_wrapper.log_eval_metrics] Accuracy(layer_0 - estimator_0 - 10_folds.train_4.predict)=95.74%\n",
      "[ 2018-04-26 15:20:28,420][kfold_wrapper.log_eval_metrics] Accuracy(layer_0 - estimator_0 - 10_folds.train_5.predict)=94.33%\n",
      "[ 2018-04-26 15:20:29,560][kfold_wrapper.log_eval_metrics] Accuracy(layer_0 - estimator_0 - 10_folds.train_6.predict)=92.17%\n",
      "[ 2018-04-26 15:20:30,633][kfold_wrapper.log_eval_metrics] Accuracy(layer_0 - estimator_0 - 10_folds.train_7.predict)=93.59%\n",
      "[ 2018-04-26 15:20:31,700][kfold_wrapper.log_eval_metrics] Accuracy(layer_0 - estimator_0 - 10_folds.train_8.predict)=91.46%\n",
      "[ 2018-04-26 15:20:32,843][kfold_wrapper.log_eval_metrics] Accuracy(layer_0 - estimator_0 - 10_folds.train_9.predict)=96.80%\n",
      "[ 2018-04-26 15:20:33,090][kfold_wrapper.log_eval_metrics] Accuracy(layer_0 - estimator_0 - 10_folds.train_cv.predict)=94.46%\n",
      "[ 2018-04-26 15:20:33,092][kfold_wrapper.log_eval_metrics] Accuracy(layer_0 - estimator_0 - 10_folds.test.predict)=94.74%\n",
      "[ 2018-04-26 15:20:33,104][cascade_classifier.calc_accuracy] Accuracy(layer_0 - train.classifier_average)=94.46%\n",
      "[ 2018-04-26 15:20:33,106][cascade_classifier.calc_accuracy] Accuracy(layer_0 - test.classifier_average)=94.74%\n",
      "[ 2018-04-26 15:20:33,107][cascade_classifier.fit_transform] [Result][Reach Max Layer] opt_layer_num=1, accuracy_train=94.46%, accuracy_test=94.74%\n",
      "[ 2018-04-26 15:20:33,108][cascade_classifier.transform] X_groups_test.shape=[(1389, 59)]\n",
      "[ 2018-04-26 15:20:33,111][cascade_classifier.transform] group_dims=[59]\n",
      "[ 2018-04-26 15:20:33,112][cascade_classifier.transform] X_test.shape=(1389, 59)\n",
      "[ 2018-04-26 15:20:33,113][cascade_classifier.transform] [layer=0] look_indexs=[0], X_cur_test.shape=(1389, 59)\n",
      "[ 2018-04-26 15:20:35,716][cascade_classifier.fit_transform] X_groups_train.shape=[(2818, 59)],y_train.shape=(2818,),X_groups_test.shape=[(1389, 59)],y_test.shape=(1389,)\n",
      "[ 2018-04-26 15:20:35,718][cascade_classifier.fit_transform] group_dims=[59]\n",
      "[ 2018-04-26 15:20:35,719][cascade_classifier.fit_transform] group_starts=[0]\n",
      "[ 2018-04-26 15:20:35,720][cascade_classifier.fit_transform] group_ends=[59]\n",
      "[ 2018-04-26 15:20:35,721][cascade_classifier.fit_transform] X_train.shape=(2818, 59),X_test.shape=(1389, 59)\n",
      "[ 2018-04-26 15:20:35,724][cascade_classifier.fit_transform] [layer=0] look_indexs=[0], X_cur_train.shape=(2818, 59), X_cur_test.shape=(1389, 59)\n"
     ]
    },
    {
     "name": "stdout",
     "output_type": "stream",
     "text": [
      "('Test Accuracy of ExtraTrees = 94.744420 %', 14, 'fois')\n",
      "(' Time ', '10.374', ' seconds')\n"
     ]
    },
    {
     "name": "stderr",
     "output_type": "stream",
     "text": [
      "[ 2018-04-26 15:20:36,537][kfold_wrapper.log_eval_metrics] Accuracy(layer_0 - estimator_0 - 10_folds.train_0.predict)=96.11%\n",
      "[ 2018-04-26 15:20:37,656][kfold_wrapper.log_eval_metrics] Accuracy(layer_0 - estimator_0 - 10_folds.train_1.predict)=94.35%\n",
      "[ 2018-04-26 15:20:38,750][kfold_wrapper.log_eval_metrics] Accuracy(layer_0 - estimator_0 - 10_folds.train_2.predict)=94.68%\n",
      "[ 2018-04-26 15:20:39,825][kfold_wrapper.log_eval_metrics] Accuracy(layer_0 - estimator_0 - 10_folds.train_3.predict)=95.39%\n",
      "[ 2018-04-26 15:20:40,941][kfold_wrapper.log_eval_metrics] Accuracy(layer_0 - estimator_0 - 10_folds.train_4.predict)=95.74%\n",
      "[ 2018-04-26 15:20:42,014][kfold_wrapper.log_eval_metrics] Accuracy(layer_0 - estimator_0 - 10_folds.train_5.predict)=94.68%\n",
      "[ 2018-04-26 15:20:42,992][kfold_wrapper.log_eval_metrics] Accuracy(layer_0 - estimator_0 - 10_folds.train_6.predict)=92.53%\n",
      "[ 2018-04-26 15:20:44,133][kfold_wrapper.log_eval_metrics] Accuracy(layer_0 - estimator_0 - 10_folds.train_7.predict)=93.59%\n",
      "[ 2018-04-26 15:20:45,221][kfold_wrapper.log_eval_metrics] Accuracy(layer_0 - estimator_0 - 10_folds.train_8.predict)=91.46%\n",
      "[ 2018-04-26 15:20:46,288][kfold_wrapper.log_eval_metrics] Accuracy(layer_0 - estimator_0 - 10_folds.train_9.predict)=96.80%\n",
      "[ 2018-04-26 15:20:46,536][kfold_wrapper.log_eval_metrics] Accuracy(layer_0 - estimator_0 - 10_folds.train_cv.predict)=94.54%\n",
      "[ 2018-04-26 15:20:46,538][kfold_wrapper.log_eval_metrics] Accuracy(layer_0 - estimator_0 - 10_folds.test.predict)=94.82%\n",
      "[ 2018-04-26 15:20:46,546][cascade_classifier.calc_accuracy] Accuracy(layer_0 - train.classifier_average)=94.54%\n",
      "[ 2018-04-26 15:20:46,547][cascade_classifier.calc_accuracy] Accuracy(layer_0 - test.classifier_average)=94.82%\n",
      "[ 2018-04-26 15:20:46,548][cascade_classifier.fit_transform] [Result][Reach Max Layer] opt_layer_num=1, accuracy_train=94.54%, accuracy_test=94.82%\n",
      "[ 2018-04-26 15:20:46,550][cascade_classifier.transform] X_groups_test.shape=[(1389, 59)]\n",
      "[ 2018-04-26 15:20:46,552][cascade_classifier.transform] group_dims=[59]\n",
      "[ 2018-04-26 15:20:46,553][cascade_classifier.transform] X_test.shape=(1389, 59)\n",
      "[ 2018-04-26 15:20:46,554][cascade_classifier.transform] [layer=0] look_indexs=[0], X_cur_test.shape=(1389, 59)\n",
      "[ 2018-04-26 15:20:49,215][cascade_classifier.fit_transform] X_groups_train.shape=[(2818, 59)],y_train.shape=(2818,),X_groups_test.shape=[(1389, 59)],y_test.shape=(1389,)\n",
      "[ 2018-04-26 15:20:49,217][cascade_classifier.fit_transform] group_dims=[59]\n",
      "[ 2018-04-26 15:20:49,218][cascade_classifier.fit_transform] group_starts=[0]\n",
      "[ 2018-04-26 15:20:49,219][cascade_classifier.fit_transform] group_ends=[59]\n",
      "[ 2018-04-26 15:20:49,220][cascade_classifier.fit_transform] X_train.shape=(2818, 59),X_test.shape=(1389, 59)\n",
      "[ 2018-04-26 15:20:49,222][cascade_classifier.fit_transform] [layer=0] look_indexs=[0], X_cur_train.shape=(2818, 59), X_cur_test.shape=(1389, 59)\n"
     ]
    },
    {
     "name": "stdout",
     "output_type": "stream",
     "text": [
      "('Test Accuracy of ExtraTrees = 94.816415 %', 15, 'fois')\n",
      "(' Time ', '10.837', ' seconds')\n"
     ]
    },
    {
     "name": "stderr",
     "output_type": "stream",
     "text": [
      "[ 2018-04-26 15:20:50,061][kfold_wrapper.log_eval_metrics] Accuracy(layer_0 - estimator_0 - 10_folds.train_0.predict)=95.41%\n",
      "[ 2018-04-26 15:20:51,173][kfold_wrapper.log_eval_metrics] Accuracy(layer_0 - estimator_0 - 10_folds.train_1.predict)=94.35%\n",
      "[ 2018-04-26 15:20:52,299][kfold_wrapper.log_eval_metrics] Accuracy(layer_0 - estimator_0 - 10_folds.train_2.predict)=94.33%\n",
      "[ 2018-04-26 15:20:53,382][kfold_wrapper.log_eval_metrics] Accuracy(layer_0 - estimator_0 - 10_folds.train_3.predict)=95.74%\n",
      "[ 2018-04-26 15:20:54,508][kfold_wrapper.log_eval_metrics] Accuracy(layer_0 - estimator_0 - 10_folds.train_4.predict)=95.74%\n",
      "[ 2018-04-26 15:20:55,598][kfold_wrapper.log_eval_metrics] Accuracy(layer_0 - estimator_0 - 10_folds.train_5.predict)=94.68%\n",
      "[ 2018-04-26 15:20:56,705][kfold_wrapper.log_eval_metrics] Accuracy(layer_0 - estimator_0 - 10_folds.train_6.predict)=92.88%\n",
      "[ 2018-04-26 15:20:57,811][kfold_wrapper.log_eval_metrics] Accuracy(layer_0 - estimator_0 - 10_folds.train_7.predict)=93.59%\n",
      "[ 2018-04-26 15:20:58,864][kfold_wrapper.log_eval_metrics] Accuracy(layer_0 - estimator_0 - 10_folds.train_8.predict)=91.10%\n",
      "[ 2018-04-26 15:20:59,814][kfold_wrapper.log_eval_metrics] Accuracy(layer_0 - estimator_0 - 10_folds.train_9.predict)=96.80%\n",
      "[ 2018-04-26 15:21:00,052][kfold_wrapper.log_eval_metrics] Accuracy(layer_0 - estimator_0 - 10_folds.train_cv.predict)=94.46%\n",
      "[ 2018-04-26 15:21:00,054][kfold_wrapper.log_eval_metrics] Accuracy(layer_0 - estimator_0 - 10_folds.test.predict)=94.89%\n",
      "[ 2018-04-26 15:21:00,065][cascade_classifier.calc_accuracy] Accuracy(layer_0 - train.classifier_average)=94.46%\n",
      "[ 2018-04-26 15:21:00,067][cascade_classifier.calc_accuracy] Accuracy(layer_0 - test.classifier_average)=94.89%\n",
      "[ 2018-04-26 15:21:00,068][cascade_classifier.fit_transform] [Result][Reach Max Layer] opt_layer_num=1, accuracy_train=94.46%, accuracy_test=94.89%\n",
      "[ 2018-04-26 15:21:00,069][cascade_classifier.transform] X_groups_test.shape=[(1389, 59)]\n",
      "[ 2018-04-26 15:21:00,071][cascade_classifier.transform] group_dims=[59]\n",
      "[ 2018-04-26 15:21:00,072][cascade_classifier.transform] X_test.shape=(1389, 59)\n",
      "[ 2018-04-26 15:21:00,074][cascade_classifier.transform] [layer=0] look_indexs=[0], X_cur_test.shape=(1389, 59)\n",
      "[ 2018-04-26 15:21:02,366][cascade_classifier.fit_transform] X_groups_train.shape=[(2818, 59)],y_train.shape=(2818,),X_groups_test.shape=[(1389, 59)],y_test.shape=(1389,)\n",
      "[ 2018-04-26 15:21:02,367][cascade_classifier.fit_transform] group_dims=[59]\n",
      "[ 2018-04-26 15:21:02,368][cascade_classifier.fit_transform] group_starts=[0]\n",
      "[ 2018-04-26 15:21:02,369][cascade_classifier.fit_transform] group_ends=[59]\n",
      "[ 2018-04-26 15:21:02,370][cascade_classifier.fit_transform] X_train.shape=(2818, 59),X_test.shape=(1389, 59)\n",
      "[ 2018-04-26 15:21:02,372][cascade_classifier.fit_transform] [layer=0] look_indexs=[0], X_cur_train.shape=(2818, 59), X_cur_test.shape=(1389, 59)\n"
     ]
    },
    {
     "name": "stdout",
     "output_type": "stream",
     "text": [
      "('Test Accuracy of ExtraTrees = 94.888409 %', 16, 'fois')\n",
      "(' Time ', '10.857', ' seconds')\n"
     ]
    },
    {
     "name": "stderr",
     "output_type": "stream",
     "text": [
      "[ 2018-04-26 15:21:03,026][kfold_wrapper.log_eval_metrics] Accuracy(layer_0 - estimator_0 - 10_folds.train_0.predict)=96.11%\n",
      "[ 2018-04-26 15:21:04,095][kfold_wrapper.log_eval_metrics] Accuracy(layer_0 - estimator_0 - 10_folds.train_1.predict)=93.99%\n",
      "[ 2018-04-26 15:21:05,214][kfold_wrapper.log_eval_metrics] Accuracy(layer_0 - estimator_0 - 10_folds.train_2.predict)=93.97%\n",
      "[ 2018-04-26 15:21:06,267][kfold_wrapper.log_eval_metrics] Accuracy(layer_0 - estimator_0 - 10_folds.train_3.predict)=95.74%\n",
      "[ 2018-04-26 15:21:07,363][kfold_wrapper.log_eval_metrics] Accuracy(layer_0 - estimator_0 - 10_folds.train_4.predict)=96.10%\n",
      "[ 2018-04-26 15:21:08,376][kfold_wrapper.log_eval_metrics] Accuracy(layer_0 - estimator_0 - 10_folds.train_5.predict)=94.33%\n",
      "[ 2018-04-26 15:21:09,511][kfold_wrapper.log_eval_metrics] Accuracy(layer_0 - estimator_0 - 10_folds.train_6.predict)=92.17%\n",
      "[ 2018-04-26 15:21:10,595][kfold_wrapper.log_eval_metrics] Accuracy(layer_0 - estimator_0 - 10_folds.train_7.predict)=93.95%\n",
      "[ 2018-04-26 15:21:11,658][kfold_wrapper.log_eval_metrics] Accuracy(layer_0 - estimator_0 - 10_folds.train_8.predict)=91.46%\n",
      "[ 2018-04-26 15:21:12,750][kfold_wrapper.log_eval_metrics] Accuracy(layer_0 - estimator_0 - 10_folds.train_9.predict)=96.80%\n",
      "[ 2018-04-26 15:21:13,008][kfold_wrapper.log_eval_metrics] Accuracy(layer_0 - estimator_0 - 10_folds.train_cv.predict)=94.46%\n",
      "[ 2018-04-26 15:21:13,009][kfold_wrapper.log_eval_metrics] Accuracy(layer_0 - estimator_0 - 10_folds.test.predict)=94.60%\n",
      "[ 2018-04-26 15:21:13,019][cascade_classifier.calc_accuracy] Accuracy(layer_0 - train.classifier_average)=94.46%\n",
      "[ 2018-04-26 15:21:13,020][cascade_classifier.calc_accuracy] Accuracy(layer_0 - test.classifier_average)=94.60%\n",
      "[ 2018-04-26 15:21:13,022][cascade_classifier.fit_transform] [Result][Reach Max Layer] opt_layer_num=1, accuracy_train=94.46%, accuracy_test=94.60%\n",
      "[ 2018-04-26 15:21:13,023][cascade_classifier.transform] X_groups_test.shape=[(1389, 59)]\n",
      "[ 2018-04-26 15:21:13,025][cascade_classifier.transform] group_dims=[59]\n",
      "[ 2018-04-26 15:21:13,026][cascade_classifier.transform] X_test.shape=(1389, 59)\n",
      "[ 2018-04-26 15:21:13,028][cascade_classifier.transform] [layer=0] look_indexs=[0], X_cur_test.shape=(1389, 59)\n",
      "[ 2018-04-26 15:21:15,598][cascade_classifier.fit_transform] X_groups_train.shape=[(2818, 59)],y_train.shape=(2818,),X_groups_test.shape=[(1389, 59)],y_test.shape=(1389,)\n",
      "[ 2018-04-26 15:21:15,600][cascade_classifier.fit_transform] group_dims=[59]\n",
      "[ 2018-04-26 15:21:15,601][cascade_classifier.fit_transform] group_starts=[0]\n",
      "[ 2018-04-26 15:21:15,603][cascade_classifier.fit_transform] group_ends=[59]\n",
      "[ 2018-04-26 15:21:15,604][cascade_classifier.fit_transform] X_train.shape=(2818, 59),X_test.shape=(1389, 59)\n",
      "[ 2018-04-26 15:21:15,606][cascade_classifier.fit_transform] [layer=0] look_indexs=[0], X_cur_train.shape=(2818, 59), X_cur_test.shape=(1389, 59)\n"
     ]
    },
    {
     "name": "stdout",
     "output_type": "stream",
     "text": [
      "('Test Accuracy of ExtraTrees = 94.600432 %', 17, 'fois')\n",
      "(' Time ', '10.658', ' seconds')\n"
     ]
    },
    {
     "name": "stderr",
     "output_type": "stream",
     "text": [
      "[ 2018-04-26 15:21:16,414][kfold_wrapper.log_eval_metrics] Accuracy(layer_0 - estimator_0 - 10_folds.train_0.predict)=96.11%\n",
      "[ 2018-04-26 15:21:17,488][kfold_wrapper.log_eval_metrics] Accuracy(layer_0 - estimator_0 - 10_folds.train_1.predict)=93.99%\n",
      "[ 2018-04-26 15:21:18,568][kfold_wrapper.log_eval_metrics] Accuracy(layer_0 - estimator_0 - 10_folds.train_2.predict)=93.97%\n",
      "[ 2018-04-26 15:21:19,550][kfold_wrapper.log_eval_metrics] Accuracy(layer_0 - estimator_0 - 10_folds.train_3.predict)=96.10%\n",
      "[ 2018-04-26 15:21:20,656][kfold_wrapper.log_eval_metrics] Accuracy(layer_0 - estimator_0 - 10_folds.train_4.predict)=95.39%\n",
      "[ 2018-04-26 15:21:21,603][kfold_wrapper.log_eval_metrics] Accuracy(layer_0 - estimator_0 - 10_folds.train_5.predict)=94.68%\n",
      "[ 2018-04-26 15:21:22,853][kfold_wrapper.log_eval_metrics] Accuracy(layer_0 - estimator_0 - 10_folds.train_6.predict)=92.88%\n",
      "[ 2018-04-26 15:21:23,934][kfold_wrapper.log_eval_metrics] Accuracy(layer_0 - estimator_0 - 10_folds.train_7.predict)=93.95%\n",
      "[ 2018-04-26 15:21:24,992][kfold_wrapper.log_eval_metrics] Accuracy(layer_0 - estimator_0 - 10_folds.train_8.predict)=91.46%\n",
      "[ 2018-04-26 15:21:26,066][kfold_wrapper.log_eval_metrics] Accuracy(layer_0 - estimator_0 - 10_folds.train_9.predict)=96.80%\n",
      "[ 2018-04-26 15:21:26,316][kfold_wrapper.log_eval_metrics] Accuracy(layer_0 - estimator_0 - 10_folds.train_cv.predict)=94.54%\n",
      "[ 2018-04-26 15:21:26,318][kfold_wrapper.log_eval_metrics] Accuracy(layer_0 - estimator_0 - 10_folds.test.predict)=94.60%\n",
      "[ 2018-04-26 15:21:26,332][cascade_classifier.calc_accuracy] Accuracy(layer_0 - train.classifier_average)=94.54%\n",
      "[ 2018-04-26 15:21:26,333][cascade_classifier.calc_accuracy] Accuracy(layer_0 - test.classifier_average)=94.60%\n",
      "[ 2018-04-26 15:21:26,335][cascade_classifier.fit_transform] [Result][Reach Max Layer] opt_layer_num=1, accuracy_train=94.54%, accuracy_test=94.60%\n",
      "[ 2018-04-26 15:21:26,336][cascade_classifier.transform] X_groups_test.shape=[(1389, 59)]\n",
      "[ 2018-04-26 15:21:26,341][cascade_classifier.transform] group_dims=[59]\n",
      "[ 2018-04-26 15:21:26,342][cascade_classifier.transform] X_test.shape=(1389, 59)\n",
      "[ 2018-04-26 15:21:26,344][cascade_classifier.transform] [layer=0] look_indexs=[0], X_cur_test.shape=(1389, 59)\n",
      "[ 2018-04-26 15:21:28,826][cascade_classifier.fit_transform] X_groups_train.shape=[(2818, 59)],y_train.shape=(2818,),X_groups_test.shape=[(1389, 59)],y_test.shape=(1389,)\n",
      "[ 2018-04-26 15:21:28,828][cascade_classifier.fit_transform] group_dims=[59]\n",
      "[ 2018-04-26 15:21:28,829][cascade_classifier.fit_transform] group_starts=[0]\n",
      "[ 2018-04-26 15:21:28,831][cascade_classifier.fit_transform] group_ends=[59]\n",
      "[ 2018-04-26 15:21:28,832][cascade_classifier.fit_transform] X_train.shape=(2818, 59),X_test.shape=(1389, 59)\n",
      "[ 2018-04-26 15:21:28,834][cascade_classifier.fit_transform] [layer=0] look_indexs=[0], X_cur_train.shape=(2818, 59), X_cur_test.shape=(1389, 59)\n"
     ]
    },
    {
     "name": "stdout",
     "output_type": "stream",
     "text": [
      "('Test Accuracy of ExtraTrees = 94.600432 %', 18, 'fois')\n",
      "(' Time ', '10.743', ' seconds')\n"
     ]
    },
    {
     "name": "stderr",
     "output_type": "stream",
     "text": [
      "[ 2018-04-26 15:21:29,648][kfold_wrapper.log_eval_metrics] Accuracy(layer_0 - estimator_0 - 10_folds.train_0.predict)=95.41%\n",
      "[ 2018-04-26 15:21:30,684][kfold_wrapper.log_eval_metrics] Accuracy(layer_0 - estimator_0 - 10_folds.train_1.predict)=93.29%\n",
      "[ 2018-04-26 15:21:31,791][kfold_wrapper.log_eval_metrics] Accuracy(layer_0 - estimator_0 - 10_folds.train_2.predict)=93.97%\n",
      "[ 2018-04-26 15:21:32,849][kfold_wrapper.log_eval_metrics] Accuracy(layer_0 - estimator_0 - 10_folds.train_3.predict)=95.74%\n",
      "[ 2018-04-26 15:21:33,886][kfold_wrapper.log_eval_metrics] Accuracy(layer_0 - estimator_0 - 10_folds.train_4.predict)=95.74%\n",
      "[ 2018-04-26 15:21:34,935][kfold_wrapper.log_eval_metrics] Accuracy(layer_0 - estimator_0 - 10_folds.train_5.predict)=94.68%\n",
      "[ 2018-04-26 15:21:35,937][kfold_wrapper.log_eval_metrics] Accuracy(layer_0 - estimator_0 - 10_folds.train_6.predict)=92.17%\n",
      "[ 2018-04-26 15:21:37,076][kfold_wrapper.log_eval_metrics] Accuracy(layer_0 - estimator_0 - 10_folds.train_7.predict)=94.31%\n",
      "[ 2018-04-26 15:21:38,048][kfold_wrapper.log_eval_metrics] Accuracy(layer_0 - estimator_0 - 10_folds.train_8.predict)=91.46%\n",
      "[ 2018-04-26 15:21:38,958][kfold_wrapper.log_eval_metrics] Accuracy(layer_0 - estimator_0 - 10_folds.train_9.predict)=96.80%\n",
      "[ 2018-04-26 15:21:39,196][kfold_wrapper.log_eval_metrics] Accuracy(layer_0 - estimator_0 - 10_folds.train_cv.predict)=94.36%\n",
      "[ 2018-04-26 15:21:39,198][kfold_wrapper.log_eval_metrics] Accuracy(layer_0 - estimator_0 - 10_folds.test.predict)=94.74%\n",
      "[ 2018-04-26 15:21:39,206][cascade_classifier.calc_accuracy] Accuracy(layer_0 - train.classifier_average)=94.36%\n",
      "[ 2018-04-26 15:21:39,207][cascade_classifier.calc_accuracy] Accuracy(layer_0 - test.classifier_average)=94.74%\n",
      "[ 2018-04-26 15:21:39,208][cascade_classifier.fit_transform] [Result][Reach Max Layer] opt_layer_num=1, accuracy_train=94.36%, accuracy_test=94.74%\n",
      "[ 2018-04-26 15:21:39,209][cascade_classifier.transform] X_groups_test.shape=[(1389, 59)]\n",
      "[ 2018-04-26 15:21:39,213][cascade_classifier.transform] group_dims=[59]\n",
      "[ 2018-04-26 15:21:39,214][cascade_classifier.transform] X_test.shape=(1389, 59)\n",
      "[ 2018-04-26 15:21:39,217][cascade_classifier.transform] [layer=0] look_indexs=[0], X_cur_test.shape=(1389, 59)\n"
     ]
    },
    {
     "name": "stdout",
     "output_type": "stream",
     "text": [
      "('Test Accuracy of ExtraTrees = 94.744420 %', 19, 'fois')\n",
      "(' Time ', '10.387', ' seconds')\n"
     ]
    }
   ],
   "source": [
    "# Deep\n",
    "for i in range (20):\n",
    "    t0 = time()\n",
    "    X_train,X_test=update(X_train,X_test)\n",
    "    X_test_enc, X_train_enc=newdata(X_test_enc, X_train_enc)\n",
    "\n",
    "    X_train=X_train_enc\n",
    "    X_test=X_test_enc \n",
    "    X_train_enc, X_test_enc = gc.fit_transform(X_train, y_train, X_test=X_test, y_test=y_test)\n",
    "    tt = time() - t0\n",
    "    affiche() \n",
    "    print (\" Time \",format(round(tt,3)),\" seconds\")"
   ]
  },
  {
   "cell_type": "code",
   "execution_count": null,
   "metadata": {
    "collapsed": true
   },
   "outputs": [],
   "source": []
  },
  {
   "cell_type": "markdown",
   "metadata": {},
   "source": [
    "# ('Test Accuracy of ExtraTrees = 95.248380 %', 0, 'fois')"
   ]
  },
  {
   "cell_type": "markdown",
   "metadata": {
    "collapsed": true
   },
   "source": [
    "# (' Time ', '11.459', ' seconds')"
   ]
  },
  {
   "cell_type": "code",
   "execution_count": null,
   "metadata": {
    "collapsed": true
   },
   "outputs": [],
   "source": []
  },
  {
   "cell_type": "code",
   "execution_count": null,
   "metadata": {
    "collapsed": true
   },
   "outputs": [],
   "source": []
  }
 ],
 "metadata": {
  "kernelspec": {
   "display_name": "Python 2",
   "language": "python",
   "name": "python2"
  },
  "language_info": {
   "codemirror_mode": {
    "name": "ipython",
    "version": 2
   },
   "file_extension": ".py",
   "mimetype": "text/x-python",
   "name": "python",
   "nbconvert_exporter": "python",
   "pygments_lexer": "ipython2",
   "version": "2.7.13"
  }
 },
 "nbformat": 4,
 "nbformat_minor": 2
}
