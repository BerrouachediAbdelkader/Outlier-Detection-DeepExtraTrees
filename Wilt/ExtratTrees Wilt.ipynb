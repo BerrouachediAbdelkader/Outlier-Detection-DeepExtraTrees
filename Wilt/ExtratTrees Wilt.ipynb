{
 "cells": [
  {
   "cell_type": "code",
   "execution_count": 15,
   "metadata": {
    "collapsed": true
   },
   "outputs": [],
   "source": [
    "# imports \n",
    "import numpy as np\n",
    "from math import sqrt \n",
    "from pprint import pprint\n",
    "from numpy import array\n",
    "from scipy.io import arff\n",
    "import pandas as pd\n",
    "from time import time"
   ]
  },
  {
   "cell_type": "code",
   "execution_count": 16,
   "metadata": {},
   "outputs": [
    {
     "data": {
      "text/html": [
       "<div>\n",
       "<style>\n",
       "    .dataframe thead tr:only-child th {\n",
       "        text-align: right;\n",
       "    }\n",
       "\n",
       "    .dataframe thead th {\n",
       "        text-align: left;\n",
       "    }\n",
       "\n",
       "    .dataframe tbody tr th {\n",
       "        vertical-align: top;\n",
       "    }\n",
       "</style>\n",
       "<table border=\"1\" class=\"dataframe\">\n",
       "  <thead>\n",
       "    <tr style=\"text-align: right;\">\n",
       "      <th></th>\n",
       "      <th>GLCM_pan</th>\n",
       "      <th>Mean_Green</th>\n",
       "      <th>Mean_Red</th>\n",
       "      <th>Mean_NIR</th>\n",
       "      <th>SD_pan</th>\n",
       "      <th>outlier</th>\n",
       "    </tr>\n",
       "  </thead>\n",
       "  <tbody>\n",
       "    <tr>\n",
       "      <th>0</th>\n",
       "      <td>0.656711</td>\n",
       "      <td>0.050984</td>\n",
       "      <td>0.044570</td>\n",
       "      <td>0.218476</td>\n",
       "      <td>0.132110</td>\n",
       "      <td>1</td>\n",
       "    </tr>\n",
       "    <tr>\n",
       "      <th>1</th>\n",
       "      <td>0.680591</td>\n",
       "      <td>0.049425</td>\n",
       "      <td>0.041939</td>\n",
       "      <td>0.177275</td>\n",
       "      <td>0.106749</td>\n",
       "      <td>1</td>\n",
       "    </tr>\n",
       "    <tr>\n",
       "      <th>2</th>\n",
       "      <td>0.734892</td>\n",
       "      <td>0.047396</td>\n",
       "      <td>0.042926</td>\n",
       "      <td>0.259034</td>\n",
       "      <td>0.143741</td>\n",
       "      <td>1</td>\n",
       "    </tr>\n",
       "    <tr>\n",
       "      <th>3</th>\n",
       "      <td>0.698087</td>\n",
       "      <td>0.035317</td>\n",
       "      <td>0.027066</td>\n",
       "      <td>0.127065</td>\n",
       "      <td>0.095697</td>\n",
       "      <td>1</td>\n",
       "    </tr>\n",
       "    <tr>\n",
       "      <th>4</th>\n",
       "      <td>0.738927</td>\n",
       "      <td>0.046076</td>\n",
       "      <td>0.040228</td>\n",
       "      <td>0.295501</td>\n",
       "      <td>0.112481</td>\n",
       "      <td>1</td>\n",
       "    </tr>\n",
       "  </tbody>\n",
       "</table>\n",
       "</div>"
      ],
      "text/plain": [
       "   GLCM_pan  Mean_Green  Mean_Red  Mean_NIR    SD_pan  outlier\n",
       "0  0.656711    0.050984  0.044570  0.218476  0.132110        1\n",
       "1  0.680591    0.049425  0.041939  0.177275  0.106749        1\n",
       "2  0.734892    0.047396  0.042926  0.259034  0.143741        1\n",
       "3  0.698087    0.035317  0.027066  0.127065  0.095697        1\n",
       "4  0.738927    0.046076  0.040228  0.295501  0.112481        1"
      ]
     },
     "execution_count": 16,
     "metadata": {},
     "output_type": "execute_result"
    }
   ],
   "source": [
    "# load data\n",
    "\n",
    "df=pd.read_csv('Wilt_withoutdupl_norm_05.csv')  \n",
    "\n",
    "del df['id']\n",
    "del df['Unnamed: 0']\n",
    "df['outlier'] = df.outlier.apply(lambda label: 1 if label == \"'yes'\" else 0)\n",
    "\n",
    "df.head()"
   ]
  },
  {
   "cell_type": "code",
   "execution_count": 17,
   "metadata": {},
   "outputs": [
    {
     "data": {
      "text/plain": [
       "(4819, 6)"
      ]
     },
     "execution_count": 17,
     "metadata": {},
     "output_type": "execute_result"
    }
   ],
   "source": [
    "df.shape"
   ]
  },
  {
   "cell_type": "code",
   "execution_count": 18,
   "metadata": {
    "collapsed": true
   },
   "outputs": [],
   "source": [
    "# data to values\n",
    "df = df.values"
   ]
  },
  {
   "cell_type": "code",
   "execution_count": 19,
   "metadata": {
    "collapsed": true
   },
   "outputs": [],
   "source": [
    "# Extratrees Deep\n",
    "import argparse\n",
    "import sys\n",
    "import pickle\n",
    "from sklearn.metrics import accuracy_score\n",
    "sys.path.insert(0, \"lib\")\n",
    "from gcforest.gcforest import GCForest\n",
    "from gcforest.utils.config_utils import load_json\n",
    "config = load_json(\"./examples/Wilt.json\")\n",
    "gc = GCForest(config)"
   ]
  },
  {
   "cell_type": "code",
   "execution_count": 20,
   "metadata": {},
   "outputs": [],
   "source": [
    "# train test \n",
    "from sklearn.cross_validation import train_test_split\n",
    "y = df[:,5]\n",
    "X = df[:,0:5]\n",
    "\n",
    "X_train,X_test,y_train,y_test = train_test_split(X, y, test_size=0.33, random_state=42)"
   ]
  },
  {
   "cell_type": "code",
   "execution_count": 21,
   "metadata": {},
   "outputs": [
    {
     "data": {
      "text/plain": [
       "2"
      ]
     },
     "execution_count": 21,
     "metadata": {},
     "output_type": "execute_result"
    }
   ],
   "source": [
    "# number of class\n",
    "len(np.unique(y_train))"
   ]
  },
  {
   "cell_type": "code",
   "execution_count": 22,
   "metadata": {},
   "outputs": [
    {
     "name": "stderr",
     "output_type": "stream",
     "text": [
      "[ 2018-04-26 15:39:50,869][cascade_classifier.fit_transform] X_groups_train.shape=[(3228, 5)],y_train.shape=(3228,),X_groups_test.shape=[(1591, 5)],y_test.shape=(1591,)\n",
      "[ 2018-04-26 15:39:50,871][cascade_classifier.fit_transform] group_dims=[5]\n",
      "[ 2018-04-26 15:39:50,873][cascade_classifier.fit_transform] group_starts=[0]\n",
      "[ 2018-04-26 15:39:50,874][cascade_classifier.fit_transform] group_ends=[5]\n",
      "[ 2018-04-26 15:39:50,876][cascade_classifier.fit_transform] X_train.shape=(3228, 5),X_test.shape=(1591, 5)\n",
      "[ 2018-04-26 15:39:50,877][cascade_classifier.fit_transform] [layer=0] look_indexs=[0], X_cur_train.shape=(3228, 5), X_cur_test.shape=(1591, 5)\n",
      "[ 2018-04-26 15:39:51,692][kfold_wrapper.log_eval_metrics] Accuracy(layer_0 - estimator_0 - 10_folds.train_0.predict)=98.45%\n",
      "[ 2018-04-26 15:39:52,754][kfold_wrapper.log_eval_metrics] Accuracy(layer_0 - estimator_0 - 10_folds.train_1.predict)=96.90%\n",
      "[ 2018-04-26 15:39:53,832][kfold_wrapper.log_eval_metrics] Accuracy(layer_0 - estimator_0 - 10_folds.train_2.predict)=98.14%\n",
      "[ 2018-04-26 15:39:54,948][kfold_wrapper.log_eval_metrics] Accuracy(layer_0 - estimator_0 - 10_folds.train_3.predict)=97.83%\n",
      "[ 2018-04-26 15:39:56,002][kfold_wrapper.log_eval_metrics] Accuracy(layer_0 - estimator_0 - 10_folds.train_4.predict)=98.14%\n",
      "[ 2018-04-26 15:39:57,213][kfold_wrapper.log_eval_metrics] Accuracy(layer_0 - estimator_0 - 10_folds.train_5.predict)=96.90%\n",
      "[ 2018-04-26 15:39:58,355][kfold_wrapper.log_eval_metrics] Accuracy(layer_0 - estimator_0 - 10_folds.train_6.predict)=98.45%\n",
      "[ 2018-04-26 15:39:59,428][kfold_wrapper.log_eval_metrics] Accuracy(layer_0 - estimator_0 - 10_folds.train_7.predict)=98.76%\n",
      "[ 2018-04-26 15:40:00,529][kfold_wrapper.log_eval_metrics] Accuracy(layer_0 - estimator_0 - 10_folds.train_8.predict)=97.20%\n",
      "[ 2018-04-26 15:40:01,713][kfold_wrapper.log_eval_metrics] Accuracy(layer_0 - estimator_0 - 10_folds.train_9.predict)=97.52%\n",
      "[ 2018-04-26 15:40:01,951][kfold_wrapper.log_eval_metrics] Accuracy(layer_0 - estimator_0 - 10_folds.train_cv.predict)=97.83%\n",
      "[ 2018-04-26 15:40:01,958][kfold_wrapper.log_eval_metrics] Accuracy(layer_0 - estimator_0 - 10_folds.test.predict)=98.18%\n",
      "[ 2018-04-26 15:40:01,960][cascade_classifier.calc_accuracy] Accuracy(layer_0 - train.classifier_average)=97.83%\n",
      "[ 2018-04-26 15:40:01,962][cascade_classifier.calc_accuracy] Accuracy(layer_0 - test.classifier_average)=98.18%\n",
      "[ 2018-04-26 15:40:01,963][cascade_classifier.fit_transform] [Result][Reach Max Layer] opt_layer_num=1, accuracy_train=97.83%, accuracy_test=98.18%\n"
     ]
    }
   ],
   "source": [
    "             # X_enc is the concatenated predict_proba result of ExtraTrees\n",
    "\n",
    "X_train_enc, X_test_enc = gc.fit_transform(X_train, y_train, X_test=X_test, y_test=y_test)\n",
    "   "
   ]
  },
  {
   "cell_type": "code",
   "execution_count": 23,
   "metadata": {},
   "outputs": [
    {
     "name": "stderr",
     "output_type": "stream",
     "text": [
      "[ 2018-04-26 15:40:01,974][cascade_classifier.transform] X_groups_test.shape=[(1591, 5)]\n",
      "[ 2018-04-26 15:40:01,976][cascade_classifier.transform] group_dims=[5]\n",
      "[ 2018-04-26 15:40:01,977][cascade_classifier.transform] X_test.shape=(1591, 5)\n",
      "[ 2018-04-26 15:40:01,979][cascade_classifier.transform] [layer=0] look_indexs=[0], X_cur_test.shape=(1591, 5)\n"
     ]
    },
    {
     "name": "stdout",
     "output_type": "stream",
     "text": [
      "Test Accuracy of ExtraTrees = 98.177247 %\n"
     ]
    }
   ],
   "source": [
    "# predict\n",
    "y_pred = gc.predict(X_test)\n",
    "acc = accuracy_score(y_test, y_pred)\n",
    "print(\"Test Accuracy of ExtraTrees = {:.6f} %\".format(acc * 100))"
   ]
  },
  {
   "cell_type": "code",
   "execution_count": 24,
   "metadata": {},
   "outputs": [
    {
     "name": "stderr",
     "output_type": "stream",
     "text": [
      "[ 2018-04-26 15:40:04,414][cascade_classifier.transform] X_groups_test.shape=[(1591, 5)]\n",
      "[ 2018-04-26 15:40:04,415][cascade_classifier.transform] group_dims=[5]\n",
      "[ 2018-04-26 15:40:04,417][cascade_classifier.transform] X_test.shape=(1591, 5)\n",
      "[ 2018-04-26 15:40:04,419][cascade_classifier.transform] [layer=0] look_indexs=[0], X_cur_test.shape=(1591, 5)\n"
     ]
    }
   ],
   "source": [
    "# Make data + estimators\n",
    "X_test_enc = gc.transform(X_test)\n",
    "X_train_enc = X_train_enc.reshape((X_train_enc.shape[0], -1))\n",
    "X_test_enc = X_test_enc.reshape((X_test_enc.shape[0], -1))\n",
    "X_train_origin = X_train.reshape((X_train.shape[0], -1))\n",
    "X_test_origin = X_test.reshape((X_test.shape[0], -1))\n",
    "X_train_enc = np.hstack((X_train_origin, X_train_enc))\n",
    "X_test_enc = np.hstack((X_test_origin, X_test_enc))"
   ]
  },
  {
   "cell_type": "code",
   "execution_count": 25,
   "metadata": {},
   "outputs": [
    {
     "name": "stderr",
     "output_type": "stream",
     "text": [
      "[ 2018-04-26 15:40:06,911][cascade_classifier.fit_transform] X_groups_train.shape=[(3228, 7)],y_train.shape=(3228,),X_groups_test.shape=[(1591, 7)],y_test.shape=(1591,)\n",
      "[ 2018-04-26 15:40:06,913][cascade_classifier.fit_transform] group_dims=[7]\n",
      "[ 2018-04-26 15:40:06,915][cascade_classifier.fit_transform] group_starts=[0]\n",
      "[ 2018-04-26 15:40:06,917][cascade_classifier.fit_transform] group_ends=[7]\n",
      "[ 2018-04-26 15:40:06,918][cascade_classifier.fit_transform] X_train.shape=(3228, 7),X_test.shape=(1591, 7)\n",
      "[ 2018-04-26 15:40:06,920][cascade_classifier.fit_transform] [layer=0] look_indexs=[0], X_cur_train.shape=(3228, 7), X_cur_test.shape=(1591, 7)\n",
      "[ 2018-04-26 15:40:07,710][kfold_wrapper.log_eval_metrics] Accuracy(layer_0 - estimator_0 - 10_folds.train_0.predict)=98.76%\n",
      "[ 2018-04-26 15:40:08,621][kfold_wrapper.log_eval_metrics] Accuracy(layer_0 - estimator_0 - 10_folds.train_1.predict)=97.83%\n",
      "[ 2018-04-26 15:40:09,530][kfold_wrapper.log_eval_metrics] Accuracy(layer_0 - estimator_0 - 10_folds.train_2.predict)=98.45%\n",
      "[ 2018-04-26 15:40:10,418][kfold_wrapper.log_eval_metrics] Accuracy(layer_0 - estimator_0 - 10_folds.train_3.predict)=98.76%\n",
      "[ 2018-04-26 15:40:11,324][kfold_wrapper.log_eval_metrics] Accuracy(layer_0 - estimator_0 - 10_folds.train_4.predict)=98.45%\n",
      "[ 2018-04-26 15:40:12,257][kfold_wrapper.log_eval_metrics] Accuracy(layer_0 - estimator_0 - 10_folds.train_5.predict)=97.83%\n",
      "[ 2018-04-26 15:40:13,344][kfold_wrapper.log_eval_metrics] Accuracy(layer_0 - estimator_0 - 10_folds.train_6.predict)=99.07%\n",
      "[ 2018-04-26 15:40:14,462][kfold_wrapper.log_eval_metrics] Accuracy(layer_0 - estimator_0 - 10_folds.train_7.predict)=97.83%\n",
      "[ 2018-04-26 15:40:15,546][kfold_wrapper.log_eval_metrics] Accuracy(layer_0 - estimator_0 - 10_folds.train_8.predict)=97.52%\n",
      "[ 2018-04-26 15:40:16,652][kfold_wrapper.log_eval_metrics] Accuracy(layer_0 - estimator_0 - 10_folds.train_9.predict)=97.20%\n",
      "[ 2018-04-26 15:40:17,033][kfold_wrapper.log_eval_metrics] Accuracy(layer_0 - estimator_0 - 10_folds.train_cv.predict)=98.17%\n",
      "[ 2018-04-26 15:40:17,034][kfold_wrapper.log_eval_metrics] Accuracy(layer_0 - estimator_0 - 10_folds.test.predict)=98.55%\n",
      "[ 2018-04-26 15:40:17,044][cascade_classifier.calc_accuracy] Accuracy(layer_0 - train.classifier_average)=98.17%\n",
      "[ 2018-04-26 15:40:17,045][cascade_classifier.calc_accuracy] Accuracy(layer_0 - test.classifier_average)=98.55%\n",
      "[ 2018-04-26 15:40:17,046][cascade_classifier.fit_transform] [Result][Reach Max Layer] opt_layer_num=1, accuracy_train=98.17%, accuracy_test=98.55%\n"
     ]
    }
   ],
   "source": [
    "# New data\n",
    "X_train=X_train_enc\n",
    "X_test=X_test_enc \n",
    "X_train_enc, X_test_enc = gc.fit_transform(X_train, y_train, X_test=X_test, y_test=y_test)"
   ]
  },
  {
   "cell_type": "code",
   "execution_count": 26,
   "metadata": {},
   "outputs": [
    {
     "name": "stderr",
     "output_type": "stream",
     "text": [
      "[ 2018-04-26 15:40:17,054][cascade_classifier.transform] X_groups_test.shape=[(1591, 7)]\n",
      "[ 2018-04-26 15:40:17,056][cascade_classifier.transform] group_dims=[7]\n",
      "[ 2018-04-26 15:40:17,057][cascade_classifier.transform] X_test.shape=(1591, 7)\n",
      "[ 2018-04-26 15:40:17,059][cascade_classifier.transform] [layer=0] look_indexs=[0], X_cur_test.shape=(1591, 7)\n"
     ]
    },
    {
     "name": "stdout",
     "output_type": "stream",
     "text": [
      "Test Accuracy of ExtraTrees = 98.554368 %\n"
     ]
    }
   ],
   "source": [
    "# predict  data + Es\n",
    "y_pred = gc.predict(X_test)\n",
    "acc = accuracy_score(y_test, y_pred)\n",
    "print(\"Test Accuracy of ExtraTrees = {:.6f} %\".format(acc * 100))"
   ]
  },
  {
   "cell_type": "code",
   "execution_count": 27,
   "metadata": {
    "collapsed": true
   },
   "outputs": [],
   "source": [
    "def update(X_train,X_test):\n",
    "    # update Estimators\n",
    "    M = np.delete(X_train, (-1), axis=1)\n",
    "    X_train= np.delete(M, (-1), axis=1)\n",
    "    M = np.delete(X_test, (-1), axis=1)\n",
    "    X_test = np.delete(M, (-1), axis=1)\n",
    "    return X_train,X_test\n",
    "\n",
    "def newdata(X_test_enc, X_train_enc):\n",
    "    # Make Data + Estimators\n",
    "    X_train_origin = X_train.reshape((X_train.shape[0], -1))\n",
    "    X_test_origin = X_test.reshape((X_test.shape[0], -1))\n",
    "    X_train_enc = np.hstack((X_train_origin, X_train_enc))\n",
    "    X_test_enc = np.hstack((X_test_origin, X_test_enc))\n",
    "    return X_test_enc, X_train_enc\n",
    "\n",
    "def affiche():\n",
    "    # predict\n",
    "    y_pred = gc.predict(X_test)\n",
    "    acc = accuracy_score(y_test, y_pred)\n",
    "    print(\"Test Accuracy of ExtraTrees = {:.6f} %\".format(acc * 100),i,'fois')"
   ]
  },
  {
   "cell_type": "code",
   "execution_count": 28,
   "metadata": {},
   "outputs": [
    {
     "name": "stderr",
     "output_type": "stream",
     "text": [
      "[ 2018-04-26 15:40:19,577][cascade_classifier.fit_transform] X_groups_train.shape=[(3228, 7)],y_train.shape=(3228,),X_groups_test.shape=[(1591, 7)],y_test.shape=(1591,)\n",
      "[ 2018-04-26 15:40:19,579][cascade_classifier.fit_transform] group_dims=[7]\n",
      "[ 2018-04-26 15:40:19,581][cascade_classifier.fit_transform] group_starts=[0]\n",
      "[ 2018-04-26 15:40:19,582][cascade_classifier.fit_transform] group_ends=[7]\n",
      "[ 2018-04-26 15:40:19,584][cascade_classifier.fit_transform] X_train.shape=(3228, 7),X_test.shape=(1591, 7)\n",
      "[ 2018-04-26 15:40:19,585][cascade_classifier.fit_transform] [layer=0] look_indexs=[0], X_cur_train.shape=(3228, 7), X_cur_test.shape=(1591, 7)\n",
      "[ 2018-04-26 15:40:20,400][kfold_wrapper.log_eval_metrics] Accuracy(layer_0 - estimator_0 - 10_folds.train_0.predict)=99.07%\n",
      "[ 2018-04-26 15:40:21,608][kfold_wrapper.log_eval_metrics] Accuracy(layer_0 - estimator_0 - 10_folds.train_1.predict)=97.83%\n",
      "[ 2018-04-26 15:40:22,556][kfold_wrapper.log_eval_metrics] Accuracy(layer_0 - estimator_0 - 10_folds.train_2.predict)=98.45%\n",
      "[ 2018-04-26 15:40:23,662][kfold_wrapper.log_eval_metrics] Accuracy(layer_0 - estimator_0 - 10_folds.train_3.predict)=99.07%\n",
      "[ 2018-04-26 15:40:24,712][kfold_wrapper.log_eval_metrics] Accuracy(layer_0 - estimator_0 - 10_folds.train_4.predict)=98.14%\n",
      "[ 2018-04-26 15:40:25,833][kfold_wrapper.log_eval_metrics] Accuracy(layer_0 - estimator_0 - 10_folds.train_5.predict)=98.14%\n",
      "[ 2018-04-26 15:40:26,907][kfold_wrapper.log_eval_metrics] Accuracy(layer_0 - estimator_0 - 10_folds.train_6.predict)=98.76%\n",
      "[ 2018-04-26 15:40:27,977][kfold_wrapper.log_eval_metrics] Accuracy(layer_0 - estimator_0 - 10_folds.train_7.predict)=98.76%\n",
      "[ 2018-04-26 15:40:29,053][kfold_wrapper.log_eval_metrics] Accuracy(layer_0 - estimator_0 - 10_folds.train_8.predict)=97.83%\n",
      "[ 2018-04-26 15:40:30,104][kfold_wrapper.log_eval_metrics] Accuracy(layer_0 - estimator_0 - 10_folds.train_9.predict)=97.20%\n",
      "[ 2018-04-26 15:40:30,357][kfold_wrapper.log_eval_metrics] Accuracy(layer_0 - estimator_0 - 10_folds.train_cv.predict)=98.33%\n",
      "[ 2018-04-26 15:40:30,359][kfold_wrapper.log_eval_metrics] Accuracy(layer_0 - estimator_0 - 10_folds.test.predict)=98.74%\n",
      "[ 2018-04-26 15:40:30,368][cascade_classifier.calc_accuracy] Accuracy(layer_0 - train.classifier_average)=98.33%\n",
      "[ 2018-04-26 15:40:30,369][cascade_classifier.calc_accuracy] Accuracy(layer_0 - test.classifier_average)=98.74%\n",
      "[ 2018-04-26 15:40:30,371][cascade_classifier.fit_transform] [Result][Reach Max Layer] opt_layer_num=1, accuracy_train=98.33%, accuracy_test=98.74%\n",
      "[ 2018-04-26 15:40:30,372][cascade_classifier.transform] X_groups_test.shape=[(1591, 7)]\n",
      "[ 2018-04-26 15:40:30,373][cascade_classifier.transform] group_dims=[7]\n",
      "[ 2018-04-26 15:40:30,374][cascade_classifier.transform] X_test.shape=(1591, 7)\n",
      "[ 2018-04-26 15:40:30,376][cascade_classifier.transform] [layer=0] look_indexs=[0], X_cur_test.shape=(1591, 7)\n",
      "[ 2018-04-26 15:40:32,885][cascade_classifier.fit_transform] X_groups_train.shape=[(3228, 7)],y_train.shape=(3228,),X_groups_test.shape=[(1591, 7)],y_test.shape=(1591,)\n",
      "[ 2018-04-26 15:40:32,887][cascade_classifier.fit_transform] group_dims=[7]\n",
      "[ 2018-04-26 15:40:32,888][cascade_classifier.fit_transform] group_starts=[0]\n",
      "[ 2018-04-26 15:40:32,888][cascade_classifier.fit_transform] group_ends=[7]\n",
      "[ 2018-04-26 15:40:32,889][cascade_classifier.fit_transform] X_train.shape=(3228, 7),X_test.shape=(1591, 7)\n",
      "[ 2018-04-26 15:40:32,891][cascade_classifier.fit_transform] [layer=0] look_indexs=[0], X_cur_train.shape=(3228, 7), X_cur_test.shape=(1591, 7)\n"
     ]
    },
    {
     "name": "stdout",
     "output_type": "stream",
     "text": [
      "('Test Accuracy of ExtraTrees = 98.742929 %', 0, 'fois')\n",
      "(' Time ', '10.795', ' seconds')\n"
     ]
    },
    {
     "name": "stderr",
     "output_type": "stream",
     "text": [
      "[ 2018-04-26 15:40:33,661][kfold_wrapper.log_eval_metrics] Accuracy(layer_0 - estimator_0 - 10_folds.train_0.predict)=98.76%\n",
      "[ 2018-04-26 15:40:34,585][kfold_wrapper.log_eval_metrics] Accuracy(layer_0 - estimator_0 - 10_folds.train_1.predict)=97.83%\n",
      "[ 2018-04-26 15:40:35,679][kfold_wrapper.log_eval_metrics] Accuracy(layer_0 - estimator_0 - 10_folds.train_2.predict)=97.83%\n",
      "[ 2018-04-26 15:40:36,748][kfold_wrapper.log_eval_metrics] Accuracy(layer_0 - estimator_0 - 10_folds.train_3.predict)=98.76%\n",
      "[ 2018-04-26 15:40:37,856][kfold_wrapper.log_eval_metrics] Accuracy(layer_0 - estimator_0 - 10_folds.train_4.predict)=98.45%\n",
      "[ 2018-04-26 15:40:39,063][kfold_wrapper.log_eval_metrics] Accuracy(layer_0 - estimator_0 - 10_folds.train_5.predict)=98.14%\n",
      "[ 2018-04-26 15:40:40,140][kfold_wrapper.log_eval_metrics] Accuracy(layer_0 - estimator_0 - 10_folds.train_6.predict)=98.76%\n",
      "[ 2018-04-26 15:40:41,275][kfold_wrapper.log_eval_metrics] Accuracy(layer_0 - estimator_0 - 10_folds.train_7.predict)=98.45%\n",
      "[ 2018-04-26 15:40:42,364][kfold_wrapper.log_eval_metrics] Accuracy(layer_0 - estimator_0 - 10_folds.train_8.predict)=98.45%\n",
      "[ 2018-04-26 15:40:43,543][kfold_wrapper.log_eval_metrics] Accuracy(layer_0 - estimator_0 - 10_folds.train_9.predict)=97.52%\n",
      "[ 2018-04-26 15:40:43,783][kfold_wrapper.log_eval_metrics] Accuracy(layer_0 - estimator_0 - 10_folds.train_cv.predict)=98.30%\n",
      "[ 2018-04-26 15:40:43,785][kfold_wrapper.log_eval_metrics] Accuracy(layer_0 - estimator_0 - 10_folds.test.predict)=98.62%\n",
      "[ 2018-04-26 15:40:43,793][cascade_classifier.calc_accuracy] Accuracy(layer_0 - train.classifier_average)=98.30%\n",
      "[ 2018-04-26 15:40:43,794][cascade_classifier.calc_accuracy] Accuracy(layer_0 - test.classifier_average)=98.62%\n",
      "[ 2018-04-26 15:40:43,796][cascade_classifier.fit_transform] [Result][Reach Max Layer] opt_layer_num=1, accuracy_train=98.30%, accuracy_test=98.62%\n",
      "[ 2018-04-26 15:40:43,797][cascade_classifier.transform] X_groups_test.shape=[(1591, 7)]\n",
      "[ 2018-04-26 15:40:43,798][cascade_classifier.transform] group_dims=[7]\n",
      "[ 2018-04-26 15:40:43,799][cascade_classifier.transform] X_test.shape=(1591, 7)\n",
      "[ 2018-04-26 15:40:43,801][cascade_classifier.transform] [layer=0] look_indexs=[0], X_cur_test.shape=(1591, 7)\n",
      "[ 2018-04-26 15:40:46,354][cascade_classifier.fit_transform] X_groups_train.shape=[(3228, 7)],y_train.shape=(3228,),X_groups_test.shape=[(1591, 7)],y_test.shape=(1591,)\n",
      "[ 2018-04-26 15:40:46,356][cascade_classifier.fit_transform] group_dims=[7]\n",
      "[ 2018-04-26 15:40:46,357][cascade_classifier.fit_transform] group_starts=[0]\n",
      "[ 2018-04-26 15:40:46,358][cascade_classifier.fit_transform] group_ends=[7]\n",
      "[ 2018-04-26 15:40:46,359][cascade_classifier.fit_transform] X_train.shape=(3228, 7),X_test.shape=(1591, 7)\n",
      "[ 2018-04-26 15:40:46,361][cascade_classifier.fit_transform] [layer=0] look_indexs=[0], X_cur_train.shape=(3228, 7), X_cur_test.shape=(1591, 7)\n"
     ]
    },
    {
     "name": "stdout",
     "output_type": "stream",
     "text": [
      "('Test Accuracy of ExtraTrees = 98.617222 %', 1, 'fois')\n",
      "(' Time ', '10.913', ' seconds')\n"
     ]
    },
    {
     "name": "stderr",
     "output_type": "stream",
     "text": [
      "[ 2018-04-26 15:40:47,305][kfold_wrapper.log_eval_metrics] Accuracy(layer_0 - estimator_0 - 10_folds.train_0.predict)=98.76%\n",
      "[ 2018-04-26 15:40:48,326][kfold_wrapper.log_eval_metrics] Accuracy(layer_0 - estimator_0 - 10_folds.train_1.predict)=97.21%\n",
      "[ 2018-04-26 15:40:49,393][kfold_wrapper.log_eval_metrics] Accuracy(layer_0 - estimator_0 - 10_folds.train_2.predict)=97.83%\n",
      "[ 2018-04-26 15:40:50,477][kfold_wrapper.log_eval_metrics] Accuracy(layer_0 - estimator_0 - 10_folds.train_3.predict)=99.07%\n",
      "[ 2018-04-26 15:40:51,492][kfold_wrapper.log_eval_metrics] Accuracy(layer_0 - estimator_0 - 10_folds.train_4.predict)=98.45%\n",
      "[ 2018-04-26 15:40:52,557][kfold_wrapper.log_eval_metrics] Accuracy(layer_0 - estimator_0 - 10_folds.train_5.predict)=98.14%\n",
      "[ 2018-04-26 15:40:53,463][kfold_wrapper.log_eval_metrics] Accuracy(layer_0 - estimator_0 - 10_folds.train_6.predict)=98.76%\n",
      "[ 2018-04-26 15:40:54,447][kfold_wrapper.log_eval_metrics] Accuracy(layer_0 - estimator_0 - 10_folds.train_7.predict)=98.14%\n",
      "[ 2018-04-26 15:40:55,538][kfold_wrapper.log_eval_metrics] Accuracy(layer_0 - estimator_0 - 10_folds.train_8.predict)=98.76%\n",
      "[ 2018-04-26 15:40:56,658][kfold_wrapper.log_eval_metrics] Accuracy(layer_0 - estimator_0 - 10_folds.train_9.predict)=97.52%\n",
      "[ 2018-04-26 15:40:56,919][kfold_wrapper.log_eval_metrics] Accuracy(layer_0 - estimator_0 - 10_folds.train_cv.predict)=98.27%\n",
      "[ 2018-04-26 15:40:56,921][kfold_wrapper.log_eval_metrics] Accuracy(layer_0 - estimator_0 - 10_folds.test.predict)=98.74%\n",
      "[ 2018-04-26 15:40:56,925][cascade_classifier.calc_accuracy] Accuracy(layer_0 - train.classifier_average)=98.27%\n",
      "[ 2018-04-26 15:40:56,927][cascade_classifier.calc_accuracy] Accuracy(layer_0 - test.classifier_average)=98.74%\n",
      "[ 2018-04-26 15:40:56,928][cascade_classifier.fit_transform] [Result][Reach Max Layer] opt_layer_num=1, accuracy_train=98.27%, accuracy_test=98.74%\n",
      "[ 2018-04-26 15:40:56,929][cascade_classifier.transform] X_groups_test.shape=[(1591, 7)]\n",
      "[ 2018-04-26 15:40:56,930][cascade_classifier.transform] group_dims=[7]\n",
      "[ 2018-04-26 15:40:56,931][cascade_classifier.transform] X_test.shape=(1591, 7)\n",
      "[ 2018-04-26 15:40:56,933][cascade_classifier.transform] [layer=0] look_indexs=[0], X_cur_test.shape=(1591, 7)\n",
      "[ 2018-04-26 15:40:59,461][cascade_classifier.fit_transform] X_groups_train.shape=[(3228, 7)],y_train.shape=(3228,),X_groups_test.shape=[(1591, 7)],y_test.shape=(1591,)\n",
      "[ 2018-04-26 15:40:59,463][cascade_classifier.fit_transform] group_dims=[7]\n",
      "[ 2018-04-26 15:40:59,464][cascade_classifier.fit_transform] group_starts=[0]\n",
      "[ 2018-04-26 15:40:59,465][cascade_classifier.fit_transform] group_ends=[7]\n",
      "[ 2018-04-26 15:40:59,466][cascade_classifier.fit_transform] X_train.shape=(3228, 7),X_test.shape=(1591, 7)\n",
      "[ 2018-04-26 15:40:59,468][cascade_classifier.fit_transform] [layer=0] look_indexs=[0], X_cur_train.shape=(3228, 7), X_cur_test.shape=(1591, 7)\n"
     ]
    },
    {
     "name": "stdout",
     "output_type": "stream",
     "text": [
      "('Test Accuracy of ExtraTrees = 98.742929 %', 2, 'fois')\n",
      "(' Time ', '10.577', ' seconds')\n"
     ]
    },
    {
     "name": "stderr",
     "output_type": "stream",
     "text": [
      "[ 2018-04-26 15:41:00,317][kfold_wrapper.log_eval_metrics] Accuracy(layer_0 - estimator_0 - 10_folds.train_0.predict)=98.45%\n",
      "[ 2018-04-26 15:41:01,420][kfold_wrapper.log_eval_metrics] Accuracy(layer_0 - estimator_0 - 10_folds.train_1.predict)=96.90%\n",
      "[ 2018-04-26 15:41:02,357][kfold_wrapper.log_eval_metrics] Accuracy(layer_0 - estimator_0 - 10_folds.train_2.predict)=97.83%\n",
      "[ 2018-04-26 15:41:03,451][kfold_wrapper.log_eval_metrics] Accuracy(layer_0 - estimator_0 - 10_folds.train_3.predict)=99.07%\n",
      "[ 2018-04-26 15:41:04,382][kfold_wrapper.log_eval_metrics] Accuracy(layer_0 - estimator_0 - 10_folds.train_4.predict)=99.07%\n",
      "[ 2018-04-26 15:41:05,444][kfold_wrapper.log_eval_metrics] Accuracy(layer_0 - estimator_0 - 10_folds.train_5.predict)=98.14%\n",
      "[ 2018-04-26 15:41:06,514][kfold_wrapper.log_eval_metrics] Accuracy(layer_0 - estimator_0 - 10_folds.train_6.predict)=98.45%\n",
      "[ 2018-04-26 15:41:07,360][kfold_wrapper.log_eval_metrics] Accuracy(layer_0 - estimator_0 - 10_folds.train_7.predict)=98.45%\n",
      "[ 2018-04-26 15:41:08,010][kfold_wrapper.log_eval_metrics] Accuracy(layer_0 - estimator_0 - 10_folds.train_8.predict)=97.83%\n",
      "[ 2018-04-26 15:41:09,003][kfold_wrapper.log_eval_metrics] Accuracy(layer_0 - estimator_0 - 10_folds.train_9.predict)=97.52%\n",
      "[ 2018-04-26 15:41:09,243][kfold_wrapper.log_eval_metrics] Accuracy(layer_0 - estimator_0 - 10_folds.train_cv.predict)=98.17%\n",
      "[ 2018-04-26 15:41:09,245][kfold_wrapper.log_eval_metrics] Accuracy(layer_0 - estimator_0 - 10_folds.test.predict)=98.62%\n",
      "[ 2018-04-26 15:41:09,249][cascade_classifier.calc_accuracy] Accuracy(layer_0 - train.classifier_average)=98.17%\n",
      "[ 2018-04-26 15:41:09,251][cascade_classifier.calc_accuracy] Accuracy(layer_0 - test.classifier_average)=98.62%\n",
      "[ 2018-04-26 15:41:09,252][cascade_classifier.fit_transform] [Result][Reach Max Layer] opt_layer_num=1, accuracy_train=98.17%, accuracy_test=98.62%\n",
      "[ 2018-04-26 15:41:09,254][cascade_classifier.transform] X_groups_test.shape=[(1591, 7)]\n",
      "[ 2018-04-26 15:41:09,255][cascade_classifier.transform] group_dims=[7]\n",
      "[ 2018-04-26 15:41:09,256][cascade_classifier.transform] X_test.shape=(1591, 7)\n",
      "[ 2018-04-26 15:41:09,257][cascade_classifier.transform] [layer=0] look_indexs=[0], X_cur_test.shape=(1591, 7)\n",
      "[ 2018-04-26 15:41:11,753][cascade_classifier.fit_transform] X_groups_train.shape=[(3228, 7)],y_train.shape=(3228,),X_groups_test.shape=[(1591, 7)],y_test.shape=(1591,)\n",
      "[ 2018-04-26 15:41:11,755][cascade_classifier.fit_transform] group_dims=[7]\n",
      "[ 2018-04-26 15:41:11,756][cascade_classifier.fit_transform] group_starts=[0]\n",
      "[ 2018-04-26 15:41:11,757][cascade_classifier.fit_transform] group_ends=[7]\n",
      "[ 2018-04-26 15:41:11,758][cascade_classifier.fit_transform] X_train.shape=(3228, 7),X_test.shape=(1591, 7)\n",
      "[ 2018-04-26 15:41:11,760][cascade_classifier.fit_transform] [layer=0] look_indexs=[0], X_cur_train.shape=(3228, 7), X_cur_test.shape=(1591, 7)\n"
     ]
    },
    {
     "name": "stdout",
     "output_type": "stream",
     "text": [
      "('Test Accuracy of ExtraTrees = 98.617222 %', 3, 'fois')\n",
      "(' Time ', '9.793', ' seconds')\n"
     ]
    },
    {
     "name": "stderr",
     "output_type": "stream",
     "text": [
      "[ 2018-04-26 15:41:12,473][kfold_wrapper.log_eval_metrics] Accuracy(layer_0 - estimator_0 - 10_folds.train_0.predict)=98.76%\n",
      "[ 2018-04-26 15:41:13,415][kfold_wrapper.log_eval_metrics] Accuracy(layer_0 - estimator_0 - 10_folds.train_1.predict)=96.90%\n",
      "[ 2018-04-26 15:41:14,335][kfold_wrapper.log_eval_metrics] Accuracy(layer_0 - estimator_0 - 10_folds.train_2.predict)=97.83%\n",
      "[ 2018-04-26 15:41:15,473][kfold_wrapper.log_eval_metrics] Accuracy(layer_0 - estimator_0 - 10_folds.train_3.predict)=99.07%\n",
      "[ 2018-04-26 15:41:16,572][kfold_wrapper.log_eval_metrics] Accuracy(layer_0 - estimator_0 - 10_folds.train_4.predict)=98.45%\n",
      "[ 2018-04-26 15:41:17,608][kfold_wrapper.log_eval_metrics] Accuracy(layer_0 - estimator_0 - 10_folds.train_5.predict)=98.14%\n",
      "[ 2018-04-26 15:41:18,704][kfold_wrapper.log_eval_metrics] Accuracy(layer_0 - estimator_0 - 10_folds.train_6.predict)=99.07%\n",
      "[ 2018-04-26 15:41:19,741][kfold_wrapper.log_eval_metrics] Accuracy(layer_0 - estimator_0 - 10_folds.train_7.predict)=98.76%\n",
      "[ 2018-04-26 15:41:20,832][kfold_wrapper.log_eval_metrics] Accuracy(layer_0 - estimator_0 - 10_folds.train_8.predict)=97.52%\n",
      "[ 2018-04-26 15:41:21,992][kfold_wrapper.log_eval_metrics] Accuracy(layer_0 - estimator_0 - 10_folds.train_9.predict)=96.89%\n",
      "[ 2018-04-26 15:41:22,253][kfold_wrapper.log_eval_metrics] Accuracy(layer_0 - estimator_0 - 10_folds.train_cv.predict)=98.14%\n",
      "[ 2018-04-26 15:41:22,255][kfold_wrapper.log_eval_metrics] Accuracy(layer_0 - estimator_0 - 10_folds.test.predict)=98.43%\n",
      "[ 2018-04-26 15:41:22,259][cascade_classifier.calc_accuracy] Accuracy(layer_0 - train.classifier_average)=98.14%\n",
      "[ 2018-04-26 15:41:22,260][cascade_classifier.calc_accuracy] Accuracy(layer_0 - test.classifier_average)=98.43%\n",
      "[ 2018-04-26 15:41:22,262][cascade_classifier.fit_transform] [Result][Reach Max Layer] opt_layer_num=1, accuracy_train=98.14%, accuracy_test=98.43%\n",
      "[ 2018-04-26 15:41:22,263][cascade_classifier.transform] X_groups_test.shape=[(1591, 7)]\n",
      "[ 2018-04-26 15:41:22,264][cascade_classifier.transform] group_dims=[7]\n",
      "[ 2018-04-26 15:41:22,265][cascade_classifier.transform] X_test.shape=(1591, 7)\n",
      "[ 2018-04-26 15:41:22,266][cascade_classifier.transform] [layer=0] look_indexs=[0], X_cur_test.shape=(1591, 7)\n",
      "[ 2018-04-26 15:41:24,803][cascade_classifier.fit_transform] X_groups_train.shape=[(3228, 7)],y_train.shape=(3228,),X_groups_test.shape=[(1591, 7)],y_test.shape=(1591,)\n",
      "[ 2018-04-26 15:41:24,805][cascade_classifier.fit_transform] group_dims=[7]\n",
      "[ 2018-04-26 15:41:24,806][cascade_classifier.fit_transform] group_starts=[0]\n",
      "[ 2018-04-26 15:41:24,807][cascade_classifier.fit_transform] group_ends=[7]\n",
      "[ 2018-04-26 15:41:24,808][cascade_classifier.fit_transform] X_train.shape=(3228, 7),X_test.shape=(1591, 7)\n",
      "[ 2018-04-26 15:41:24,810][cascade_classifier.fit_transform] [layer=0] look_indexs=[0], X_cur_train.shape=(3228, 7), X_cur_test.shape=(1591, 7)\n"
     ]
    },
    {
     "name": "stdout",
     "output_type": "stream",
     "text": [
      "('Test Accuracy of ExtraTrees = 98.428661 %', 4, 'fois')\n",
      "(' Time ', '10.511', ' seconds')\n"
     ]
    },
    {
     "name": "stderr",
     "output_type": "stream",
     "text": [
      "[ 2018-04-26 15:41:25,659][kfold_wrapper.log_eval_metrics] Accuracy(layer_0 - estimator_0 - 10_folds.train_0.predict)=98.76%\n",
      "[ 2018-04-26 15:41:26,682][kfold_wrapper.log_eval_metrics] Accuracy(layer_0 - estimator_0 - 10_folds.train_1.predict)=96.90%\n",
      "[ 2018-04-26 15:41:27,749][kfold_wrapper.log_eval_metrics] Accuracy(layer_0 - estimator_0 - 10_folds.train_2.predict)=97.83%\n",
      "[ 2018-04-26 15:41:28,806][kfold_wrapper.log_eval_metrics] Accuracy(layer_0 - estimator_0 - 10_folds.train_3.predict)=98.76%\n",
      "[ 2018-04-26 15:41:29,746][kfold_wrapper.log_eval_metrics] Accuracy(layer_0 - estimator_0 - 10_folds.train_4.predict)=98.14%\n",
      "[ 2018-04-26 15:41:30,827][kfold_wrapper.log_eval_metrics] Accuracy(layer_0 - estimator_0 - 10_folds.train_5.predict)=98.14%\n",
      "[ 2018-04-26 15:41:31,801][kfold_wrapper.log_eval_metrics] Accuracy(layer_0 - estimator_0 - 10_folds.train_6.predict)=98.76%\n",
      "[ 2018-04-26 15:41:32,862][kfold_wrapper.log_eval_metrics] Accuracy(layer_0 - estimator_0 - 10_folds.train_7.predict)=98.14%\n",
      "[ 2018-04-26 15:41:33,945][kfold_wrapper.log_eval_metrics] Accuracy(layer_0 - estimator_0 - 10_folds.train_8.predict)=97.83%\n",
      "[ 2018-04-26 15:41:35,008][kfold_wrapper.log_eval_metrics] Accuracy(layer_0 - estimator_0 - 10_folds.train_9.predict)=97.83%\n",
      "[ 2018-04-26 15:41:35,258][kfold_wrapper.log_eval_metrics] Accuracy(layer_0 - estimator_0 - 10_folds.train_cv.predict)=98.11%\n",
      "[ 2018-04-26 15:41:35,260][kfold_wrapper.log_eval_metrics] Accuracy(layer_0 - estimator_0 - 10_folds.test.predict)=98.43%\n",
      "[ 2018-04-26 15:41:35,264][cascade_classifier.calc_accuracy] Accuracy(layer_0 - train.classifier_average)=98.11%\n",
      "[ 2018-04-26 15:41:35,266][cascade_classifier.calc_accuracy] Accuracy(layer_0 - test.classifier_average)=98.43%\n",
      "[ 2018-04-26 15:41:35,267][cascade_classifier.fit_transform] [Result][Reach Max Layer] opt_layer_num=1, accuracy_train=98.11%, accuracy_test=98.43%\n",
      "[ 2018-04-26 15:41:35,268][cascade_classifier.transform] X_groups_test.shape=[(1591, 7)]\n",
      "[ 2018-04-26 15:41:35,270][cascade_classifier.transform] group_dims=[7]\n",
      "[ 2018-04-26 15:41:35,271][cascade_classifier.transform] X_test.shape=(1591, 7)\n",
      "[ 2018-04-26 15:41:35,272][cascade_classifier.transform] [layer=0] look_indexs=[0], X_cur_test.shape=(1591, 7)\n",
      "[ 2018-04-26 15:41:37,749][cascade_classifier.fit_transform] X_groups_train.shape=[(3228, 7)],y_train.shape=(3228,),X_groups_test.shape=[(1591, 7)],y_test.shape=(1591,)\n",
      "[ 2018-04-26 15:41:37,751][cascade_classifier.fit_transform] group_dims=[7]\n",
      "[ 2018-04-26 15:41:37,752][cascade_classifier.fit_transform] group_starts=[0]\n",
      "[ 2018-04-26 15:41:37,754][cascade_classifier.fit_transform] group_ends=[7]\n",
      "[ 2018-04-26 15:41:37,755][cascade_classifier.fit_transform] X_train.shape=(3228, 7),X_test.shape=(1591, 7)\n",
      "[ 2018-04-26 15:41:37,756][cascade_classifier.fit_transform] [layer=0] look_indexs=[0], X_cur_train.shape=(3228, 7), X_cur_test.shape=(1591, 7)\n"
     ]
    },
    {
     "name": "stdout",
     "output_type": "stream",
     "text": [
      "('Test Accuracy of ExtraTrees = 98.428661 %', 5, 'fois')\n",
      "(' Time ', '10.467', ' seconds')\n"
     ]
    },
    {
     "name": "stderr",
     "output_type": "stream",
     "text": [
      "[ 2018-04-26 15:41:38,572][kfold_wrapper.log_eval_metrics] Accuracy(layer_0 - estimator_0 - 10_folds.train_0.predict)=98.45%\n",
      "[ 2018-04-26 15:41:39,693][kfold_wrapper.log_eval_metrics] Accuracy(layer_0 - estimator_0 - 10_folds.train_1.predict)=97.21%\n",
      "[ 2018-04-26 15:41:40,796][kfold_wrapper.log_eval_metrics] Accuracy(layer_0 - estimator_0 - 10_folds.train_2.predict)=97.83%\n",
      "[ 2018-04-26 15:41:41,883][kfold_wrapper.log_eval_metrics] Accuracy(layer_0 - estimator_0 - 10_folds.train_3.predict)=98.45%\n",
      "[ 2018-04-26 15:41:42,939][kfold_wrapper.log_eval_metrics] Accuracy(layer_0 - estimator_0 - 10_folds.train_4.predict)=98.14%\n",
      "[ 2018-04-26 15:41:44,119][kfold_wrapper.log_eval_metrics] Accuracy(layer_0 - estimator_0 - 10_folds.train_5.predict)=97.83%\n",
      "[ 2018-04-26 15:41:45,182][kfold_wrapper.log_eval_metrics] Accuracy(layer_0 - estimator_0 - 10_folds.train_6.predict)=98.45%\n",
      "[ 2018-04-26 15:41:46,207][kfold_wrapper.log_eval_metrics] Accuracy(layer_0 - estimator_0 - 10_folds.train_7.predict)=98.45%\n",
      "[ 2018-04-26 15:41:47,299][kfold_wrapper.log_eval_metrics] Accuracy(layer_0 - estimator_0 - 10_folds.train_8.predict)=98.14%\n",
      "[ 2018-04-26 15:41:48,384][kfold_wrapper.log_eval_metrics] Accuracy(layer_0 - estimator_0 - 10_folds.train_9.predict)=97.52%\n",
      "[ 2018-04-26 15:41:48,642][kfold_wrapper.log_eval_metrics] Accuracy(layer_0 - estimator_0 - 10_folds.train_cv.predict)=98.05%\n",
      "[ 2018-04-26 15:41:48,644][kfold_wrapper.log_eval_metrics] Accuracy(layer_0 - estimator_0 - 10_folds.test.predict)=98.43%\n",
      "[ 2018-04-26 15:41:48,654][cascade_classifier.calc_accuracy] Accuracy(layer_0 - train.classifier_average)=98.05%\n",
      "[ 2018-04-26 15:41:48,656][cascade_classifier.calc_accuracy] Accuracy(layer_0 - test.classifier_average)=98.43%\n",
      "[ 2018-04-26 15:41:48,657][cascade_classifier.fit_transform] [Result][Reach Max Layer] opt_layer_num=1, accuracy_train=98.05%, accuracy_test=98.43%\n",
      "[ 2018-04-26 15:41:48,659][cascade_classifier.transform] X_groups_test.shape=[(1591, 7)]\n",
      "[ 2018-04-26 15:41:48,660][cascade_classifier.transform] group_dims=[7]\n",
      "[ 2018-04-26 15:41:48,661][cascade_classifier.transform] X_test.shape=(1591, 7)\n",
      "[ 2018-04-26 15:41:48,663][cascade_classifier.transform] [layer=0] look_indexs=[0], X_cur_test.shape=(1591, 7)\n",
      "[ 2018-04-26 15:41:51,269][cascade_classifier.fit_transform] X_groups_train.shape=[(3228, 7)],y_train.shape=(3228,),X_groups_test.shape=[(1591, 7)],y_test.shape=(1591,)\n",
      "[ 2018-04-26 15:41:51,271][cascade_classifier.fit_transform] group_dims=[7]\n",
      "[ 2018-04-26 15:41:51,272][cascade_classifier.fit_transform] group_starts=[0]\n",
      "[ 2018-04-26 15:41:51,273][cascade_classifier.fit_transform] group_ends=[7]\n",
      "[ 2018-04-26 15:41:51,274][cascade_classifier.fit_transform] X_train.shape=(3228, 7),X_test.shape=(1591, 7)\n",
      "[ 2018-04-26 15:41:51,276][cascade_classifier.fit_transform] [layer=0] look_indexs=[0], X_cur_train.shape=(3228, 7), X_cur_test.shape=(1591, 7)\n"
     ]
    },
    {
     "name": "stdout",
     "output_type": "stream",
     "text": [
      "('Test Accuracy of ExtraTrees = 98.428661 %', 6, 'fois')\n",
      "(' Time ', '10.91', ' seconds')\n"
     ]
    },
    {
     "name": "stderr",
     "output_type": "stream",
     "text": [
      "[ 2018-04-26 15:41:52,120][kfold_wrapper.log_eval_metrics] Accuracy(layer_0 - estimator_0 - 10_folds.train_0.predict)=97.83%\n",
      "[ 2018-04-26 15:41:53,221][kfold_wrapper.log_eval_metrics] Accuracy(layer_0 - estimator_0 - 10_folds.train_1.predict)=96.90%\n",
      "[ 2018-04-26 15:41:54,215][kfold_wrapper.log_eval_metrics] Accuracy(layer_0 - estimator_0 - 10_folds.train_2.predict)=96.90%\n",
      "[ 2018-04-26 15:41:55,325][kfold_wrapper.log_eval_metrics] Accuracy(layer_0 - estimator_0 - 10_folds.train_3.predict)=99.07%\n",
      "[ 2018-04-26 15:41:56,461][kfold_wrapper.log_eval_metrics] Accuracy(layer_0 - estimator_0 - 10_folds.train_4.predict)=98.76%\n",
      "[ 2018-04-26 15:41:57,541][kfold_wrapper.log_eval_metrics] Accuracy(layer_0 - estimator_0 - 10_folds.train_5.predict)=98.14%\n",
      "[ 2018-04-26 15:41:58,637][kfold_wrapper.log_eval_metrics] Accuracy(layer_0 - estimator_0 - 10_folds.train_6.predict)=98.45%\n",
      "[ 2018-04-26 15:41:59,749][kfold_wrapper.log_eval_metrics] Accuracy(layer_0 - estimator_0 - 10_folds.train_7.predict)=98.45%\n",
      "[ 2018-04-26 15:42:00,945][kfold_wrapper.log_eval_metrics] Accuracy(layer_0 - estimator_0 - 10_folds.train_8.predict)=98.14%\n",
      "[ 2018-04-26 15:42:02,015][kfold_wrapper.log_eval_metrics] Accuracy(layer_0 - estimator_0 - 10_folds.train_9.predict)=97.83%\n",
      "[ 2018-04-26 15:42:02,267][kfold_wrapper.log_eval_metrics] Accuracy(layer_0 - estimator_0 - 10_folds.train_cv.predict)=98.05%\n",
      "[ 2018-04-26 15:42:02,269][kfold_wrapper.log_eval_metrics] Accuracy(layer_0 - estimator_0 - 10_folds.test.predict)=98.55%\n",
      "[ 2018-04-26 15:42:02,275][cascade_classifier.calc_accuracy] Accuracy(layer_0 - train.classifier_average)=98.05%\n",
      "[ 2018-04-26 15:42:02,276][cascade_classifier.calc_accuracy] Accuracy(layer_0 - test.classifier_average)=98.55%\n",
      "[ 2018-04-26 15:42:02,278][cascade_classifier.fit_transform] [Result][Reach Max Layer] opt_layer_num=1, accuracy_train=98.05%, accuracy_test=98.55%\n",
      "[ 2018-04-26 15:42:02,279][cascade_classifier.transform] X_groups_test.shape=[(1591, 7)]\n",
      "[ 2018-04-26 15:42:02,280][cascade_classifier.transform] group_dims=[7]\n",
      "[ 2018-04-26 15:42:02,281][cascade_classifier.transform] X_test.shape=(1591, 7)\n",
      "[ 2018-04-26 15:42:02,283][cascade_classifier.transform] [layer=0] look_indexs=[0], X_cur_test.shape=(1591, 7)\n",
      "[ 2018-04-26 15:42:04,762][cascade_classifier.fit_transform] X_groups_train.shape=[(3228, 7)],y_train.shape=(3228,),X_groups_test.shape=[(1591, 7)],y_test.shape=(1591,)\n",
      "[ 2018-04-26 15:42:04,764][cascade_classifier.fit_transform] group_dims=[7]\n",
      "[ 2018-04-26 15:42:04,765][cascade_classifier.fit_transform] group_starts=[0]\n",
      "[ 2018-04-26 15:42:04,766][cascade_classifier.fit_transform] group_ends=[7]\n",
      "[ 2018-04-26 15:42:04,767][cascade_classifier.fit_transform] X_train.shape=(3228, 7),X_test.shape=(1591, 7)\n",
      "[ 2018-04-26 15:42:04,768][cascade_classifier.fit_transform] [layer=0] look_indexs=[0], X_cur_train.shape=(3228, 7), X_cur_test.shape=(1591, 7)\n"
     ]
    },
    {
     "name": "stdout",
     "output_type": "stream",
     "text": [
      "('Test Accuracy of ExtraTrees = 98.554368 %', 7, 'fois')\n",
      "(' Time ', '11.011', ' seconds')\n"
     ]
    },
    {
     "name": "stderr",
     "output_type": "stream",
     "text": [
      "[ 2018-04-26 15:42:05,432][kfold_wrapper.log_eval_metrics] Accuracy(layer_0 - estimator_0 - 10_folds.train_0.predict)=98.14%\n",
      "[ 2018-04-26 15:42:06,488][kfold_wrapper.log_eval_metrics] Accuracy(layer_0 - estimator_0 - 10_folds.train_1.predict)=97.21%\n",
      "[ 2018-04-26 15:42:07,559][kfold_wrapper.log_eval_metrics] Accuracy(layer_0 - estimator_0 - 10_folds.train_2.predict)=97.83%\n",
      "[ 2018-04-26 15:42:08,641][kfold_wrapper.log_eval_metrics] Accuracy(layer_0 - estimator_0 - 10_folds.train_3.predict)=99.07%\n",
      "[ 2018-04-26 15:42:09,730][kfold_wrapper.log_eval_metrics] Accuracy(layer_0 - estimator_0 - 10_folds.train_4.predict)=98.45%\n",
      "[ 2018-04-26 15:42:10,823][kfold_wrapper.log_eval_metrics] Accuracy(layer_0 - estimator_0 - 10_folds.train_5.predict)=97.83%\n",
      "[ 2018-04-26 15:42:11,865][kfold_wrapper.log_eval_metrics] Accuracy(layer_0 - estimator_0 - 10_folds.train_6.predict)=98.76%\n",
      "[ 2018-04-26 15:42:12,961][kfold_wrapper.log_eval_metrics] Accuracy(layer_0 - estimator_0 - 10_folds.train_7.predict)=98.45%\n",
      "[ 2018-04-26 15:42:14,036][kfold_wrapper.log_eval_metrics] Accuracy(layer_0 - estimator_0 - 10_folds.train_8.predict)=98.45%\n",
      "[ 2018-04-26 15:42:15,175][kfold_wrapper.log_eval_metrics] Accuracy(layer_0 - estimator_0 - 10_folds.train_9.predict)=98.14%\n",
      "[ 2018-04-26 15:42:15,432][kfold_wrapper.log_eval_metrics] Accuracy(layer_0 - estimator_0 - 10_folds.train_cv.predict)=98.23%\n",
      "[ 2018-04-26 15:42:15,433][kfold_wrapper.log_eval_metrics] Accuracy(layer_0 - estimator_0 - 10_folds.test.predict)=98.49%\n",
      "[ 2018-04-26 15:42:15,438][cascade_classifier.calc_accuracy] Accuracy(layer_0 - train.classifier_average)=98.23%\n",
      "[ 2018-04-26 15:42:15,439][cascade_classifier.calc_accuracy] Accuracy(layer_0 - test.classifier_average)=98.49%\n",
      "[ 2018-04-26 15:42:15,440][cascade_classifier.fit_transform] [Result][Reach Max Layer] opt_layer_num=1, accuracy_train=98.23%, accuracy_test=98.49%\n",
      "[ 2018-04-26 15:42:15,442][cascade_classifier.transform] X_groups_test.shape=[(1591, 7)]\n",
      "[ 2018-04-26 15:42:15,443][cascade_classifier.transform] group_dims=[7]\n",
      "[ 2018-04-26 15:42:15,444][cascade_classifier.transform] X_test.shape=(1591, 7)\n",
      "[ 2018-04-26 15:42:15,446][cascade_classifier.transform] [layer=0] look_indexs=[0], X_cur_test.shape=(1591, 7)\n",
      "[ 2018-04-26 15:42:17,957][cascade_classifier.fit_transform] X_groups_train.shape=[(3228, 7)],y_train.shape=(3228,),X_groups_test.shape=[(1591, 7)],y_test.shape=(1591,)\n",
      "[ 2018-04-26 15:42:17,958][cascade_classifier.fit_transform] group_dims=[7]\n",
      "[ 2018-04-26 15:42:17,960][cascade_classifier.fit_transform] group_starts=[0]\n",
      "[ 2018-04-26 15:42:17,961][cascade_classifier.fit_transform] group_ends=[7]\n",
      "[ 2018-04-26 15:42:17,962][cascade_classifier.fit_transform] X_train.shape=(3228, 7),X_test.shape=(1591, 7)\n",
      "[ 2018-04-26 15:42:17,964][cascade_classifier.fit_transform] [layer=0] look_indexs=[0], X_cur_train.shape=(3228, 7), X_cur_test.shape=(1591, 7)\n"
     ]
    },
    {
     "name": "stdout",
     "output_type": "stream",
     "text": [
      "('Test Accuracy of ExtraTrees = 98.491515 %', 8, 'fois')\n",
      "(' Time ', '10.68', ' seconds')\n"
     ]
    },
    {
     "name": "stderr",
     "output_type": "stream",
     "text": [
      "[ 2018-04-26 15:42:18,785][kfold_wrapper.log_eval_metrics] Accuracy(layer_0 - estimator_0 - 10_folds.train_0.predict)=97.83%\n",
      "[ 2018-04-26 15:42:19,864][kfold_wrapper.log_eval_metrics] Accuracy(layer_0 - estimator_0 - 10_folds.train_1.predict)=97.52%\n",
      "[ 2018-04-26 15:42:20,941][kfold_wrapper.log_eval_metrics] Accuracy(layer_0 - estimator_0 - 10_folds.train_2.predict)=97.83%\n",
      "[ 2018-04-26 15:42:22,024][kfold_wrapper.log_eval_metrics] Accuracy(layer_0 - estimator_0 - 10_folds.train_3.predict)=98.76%\n",
      "[ 2018-04-26 15:42:22,991][kfold_wrapper.log_eval_metrics] Accuracy(layer_0 - estimator_0 - 10_folds.train_4.predict)=98.14%\n",
      "[ 2018-04-26 15:42:24,061][kfold_wrapper.log_eval_metrics] Accuracy(layer_0 - estimator_0 - 10_folds.train_5.predict)=97.83%\n",
      "[ 2018-04-26 15:42:25,138][kfold_wrapper.log_eval_metrics] Accuracy(layer_0 - estimator_0 - 10_folds.train_6.predict)=98.45%\n",
      "[ 2018-04-26 15:42:26,099][kfold_wrapper.log_eval_metrics] Accuracy(layer_0 - estimator_0 - 10_folds.train_7.predict)=98.45%\n",
      "[ 2018-04-26 15:42:27,187][kfold_wrapper.log_eval_metrics] Accuracy(layer_0 - estimator_0 - 10_folds.train_8.predict)=97.83%\n",
      "[ 2018-04-26 15:42:28,409][kfold_wrapper.log_eval_metrics] Accuracy(layer_0 - estimator_0 - 10_folds.train_9.predict)=98.14%\n",
      "[ 2018-04-26 15:42:28,673][kfold_wrapper.log_eval_metrics] Accuracy(layer_0 - estimator_0 - 10_folds.train_cv.predict)=98.08%\n",
      "[ 2018-04-26 15:42:28,674][kfold_wrapper.log_eval_metrics] Accuracy(layer_0 - estimator_0 - 10_folds.test.predict)=98.62%\n",
      "[ 2018-04-26 15:42:28,679][cascade_classifier.calc_accuracy] Accuracy(layer_0 - train.classifier_average)=98.08%\n",
      "[ 2018-04-26 15:42:28,680][cascade_classifier.calc_accuracy] Accuracy(layer_0 - test.classifier_average)=98.62%\n",
      "[ 2018-04-26 15:42:28,682][cascade_classifier.fit_transform] [Result][Reach Max Layer] opt_layer_num=1, accuracy_train=98.08%, accuracy_test=98.62%\n",
      "[ 2018-04-26 15:42:28,683][cascade_classifier.transform] X_groups_test.shape=[(1591, 7)]\n",
      "[ 2018-04-26 15:42:28,684][cascade_classifier.transform] group_dims=[7]\n",
      "[ 2018-04-26 15:42:28,685][cascade_classifier.transform] X_test.shape=(1591, 7)\n",
      "[ 2018-04-26 15:42:28,686][cascade_classifier.transform] [layer=0] look_indexs=[0], X_cur_test.shape=(1591, 7)\n",
      "[ 2018-04-26 15:42:31,269][cascade_classifier.fit_transform] X_groups_train.shape=[(3228, 7)],y_train.shape=(3228,),X_groups_test.shape=[(1591, 7)],y_test.shape=(1591,)\n",
      "[ 2018-04-26 15:42:31,271][cascade_classifier.fit_transform] group_dims=[7]\n",
      "[ 2018-04-26 15:42:31,272][cascade_classifier.fit_transform] group_starts=[0]\n",
      "[ 2018-04-26 15:42:31,273][cascade_classifier.fit_transform] group_ends=[7]\n",
      "[ 2018-04-26 15:42:31,274][cascade_classifier.fit_transform] X_train.shape=(3228, 7),X_test.shape=(1591, 7)\n",
      "[ 2018-04-26 15:42:31,276][cascade_classifier.fit_transform] [layer=0] look_indexs=[0], X_cur_train.shape=(3228, 7), X_cur_test.shape=(1591, 7)\n"
     ]
    },
    {
     "name": "stdout",
     "output_type": "stream",
     "text": [
      "('Test Accuracy of ExtraTrees = 98.617222 %', 9, 'fois')\n",
      "(' Time ', '10.728', ' seconds')\n"
     ]
    },
    {
     "name": "stderr",
     "output_type": "stream",
     "text": [
      "[ 2018-04-26 15:42:32,088][kfold_wrapper.log_eval_metrics] Accuracy(layer_0 - estimator_0 - 10_folds.train_0.predict)=97.83%\n",
      "[ 2018-04-26 15:42:33,028][kfold_wrapper.log_eval_metrics] Accuracy(layer_0 - estimator_0 - 10_folds.train_1.predict)=97.21%\n",
      "[ 2018-04-26 15:42:33,985][kfold_wrapper.log_eval_metrics] Accuracy(layer_0 - estimator_0 - 10_folds.train_2.predict)=97.52%\n",
      "[ 2018-04-26 15:42:35,064][kfold_wrapper.log_eval_metrics] Accuracy(layer_0 - estimator_0 - 10_folds.train_3.predict)=98.14%\n",
      "[ 2018-04-26 15:42:36,086][kfold_wrapper.log_eval_metrics] Accuracy(layer_0 - estimator_0 - 10_folds.train_4.predict)=98.45%\n",
      "[ 2018-04-26 15:42:37,151][kfold_wrapper.log_eval_metrics] Accuracy(layer_0 - estimator_0 - 10_folds.train_5.predict)=98.14%\n",
      "[ 2018-04-26 15:42:38,267][kfold_wrapper.log_eval_metrics] Accuracy(layer_0 - estimator_0 - 10_folds.train_6.predict)=98.76%\n",
      "[ 2018-04-26 15:42:39,357][kfold_wrapper.log_eval_metrics] Accuracy(layer_0 - estimator_0 - 10_folds.train_7.predict)=98.14%\n",
      "[ 2018-04-26 15:42:40,486][kfold_wrapper.log_eval_metrics] Accuracy(layer_0 - estimator_0 - 10_folds.train_8.predict)=98.14%\n",
      "[ 2018-04-26 15:42:41,560][kfold_wrapper.log_eval_metrics] Accuracy(layer_0 - estimator_0 - 10_folds.train_9.predict)=97.83%\n",
      "[ 2018-04-26 15:42:41,842][kfold_wrapper.log_eval_metrics] Accuracy(layer_0 - estimator_0 - 10_folds.train_cv.predict)=98.02%\n",
      "[ 2018-04-26 15:42:41,843][kfold_wrapper.log_eval_metrics] Accuracy(layer_0 - estimator_0 - 10_folds.test.predict)=98.62%\n",
      "[ 2018-04-26 15:42:41,848][cascade_classifier.calc_accuracy] Accuracy(layer_0 - train.classifier_average)=98.02%\n",
      "[ 2018-04-26 15:42:41,849][cascade_classifier.calc_accuracy] Accuracy(layer_0 - test.classifier_average)=98.62%\n",
      "[ 2018-04-26 15:42:41,851][cascade_classifier.fit_transform] [Result][Reach Max Layer] opt_layer_num=1, accuracy_train=98.02%, accuracy_test=98.62%\n",
      "[ 2018-04-26 15:42:41,852][cascade_classifier.transform] X_groups_test.shape=[(1591, 7)]\n",
      "[ 2018-04-26 15:42:41,853][cascade_classifier.transform] group_dims=[7]\n",
      "[ 2018-04-26 15:42:41,854][cascade_classifier.transform] X_test.shape=(1591, 7)\n",
      "[ 2018-04-26 15:42:41,855][cascade_classifier.transform] [layer=0] look_indexs=[0], X_cur_test.shape=(1591, 7)\n",
      "[ 2018-04-26 15:42:44,323][cascade_classifier.fit_transform] X_groups_train.shape=[(3228, 7)],y_train.shape=(3228,),X_groups_test.shape=[(1591, 7)],y_test.shape=(1591,)\n",
      "[ 2018-04-26 15:42:44,325][cascade_classifier.fit_transform] group_dims=[7]\n",
      "[ 2018-04-26 15:42:44,326][cascade_classifier.fit_transform] group_starts=[0]\n",
      "[ 2018-04-26 15:42:44,328][cascade_classifier.fit_transform] group_ends=[7]\n",
      "[ 2018-04-26 15:42:44,329][cascade_classifier.fit_transform] X_train.shape=(3228, 7),X_test.shape=(1591, 7)\n",
      "[ 2018-04-26 15:42:44,330][cascade_classifier.fit_transform] [layer=0] look_indexs=[0], X_cur_train.shape=(3228, 7), X_cur_test.shape=(1591, 7)\n"
     ]
    },
    {
     "name": "stdout",
     "output_type": "stream",
     "text": [
      "('Test Accuracy of ExtraTrees = 98.617222 %', 10, 'fois')\n",
      "(' Time ', '10.584', ' seconds')\n"
     ]
    },
    {
     "name": "stderr",
     "output_type": "stream",
     "text": [
      "[ 2018-04-26 15:42:45,156][kfold_wrapper.log_eval_metrics] Accuracy(layer_0 - estimator_0 - 10_folds.train_0.predict)=97.21%\n",
      "[ 2018-04-26 15:42:46,191][kfold_wrapper.log_eval_metrics] Accuracy(layer_0 - estimator_0 - 10_folds.train_1.predict)=96.90%\n",
      "[ 2018-04-26 15:42:47,310][kfold_wrapper.log_eval_metrics] Accuracy(layer_0 - estimator_0 - 10_folds.train_2.predict)=97.52%\n",
      "[ 2018-04-26 15:42:48,261][kfold_wrapper.log_eval_metrics] Accuracy(layer_0 - estimator_0 - 10_folds.train_3.predict)=98.45%\n",
      "[ 2018-04-26 15:42:49,233][kfold_wrapper.log_eval_metrics] Accuracy(layer_0 - estimator_0 - 10_folds.train_4.predict)=98.76%\n",
      "[ 2018-04-26 15:42:50,446][kfold_wrapper.log_eval_metrics] Accuracy(layer_0 - estimator_0 - 10_folds.train_5.predict)=97.83%\n",
      "[ 2018-04-26 15:42:51,566][kfold_wrapper.log_eval_metrics] Accuracy(layer_0 - estimator_0 - 10_folds.train_6.predict)=99.07%\n",
      "[ 2018-04-26 15:42:52,616][kfold_wrapper.log_eval_metrics] Accuracy(layer_0 - estimator_0 - 10_folds.train_7.predict)=98.14%\n",
      "[ 2018-04-26 15:42:53,771][kfold_wrapper.log_eval_metrics] Accuracy(layer_0 - estimator_0 - 10_folds.train_8.predict)=98.45%\n",
      "[ 2018-04-26 15:42:54,900][kfold_wrapper.log_eval_metrics] Accuracy(layer_0 - estimator_0 - 10_folds.train_9.predict)=97.52%\n",
      "[ 2018-04-26 15:42:55,156][kfold_wrapper.log_eval_metrics] Accuracy(layer_0 - estimator_0 - 10_folds.train_cv.predict)=97.99%\n",
      "[ 2018-04-26 15:42:55,157][kfold_wrapper.log_eval_metrics] Accuracy(layer_0 - estimator_0 - 10_folds.test.predict)=98.49%\n",
      "[ 2018-04-26 15:42:55,165][cascade_classifier.calc_accuracy] Accuracy(layer_0 - train.classifier_average)=97.99%\n",
      "[ 2018-04-26 15:42:55,166][cascade_classifier.calc_accuracy] Accuracy(layer_0 - test.classifier_average)=98.49%\n",
      "[ 2018-04-26 15:42:55,167][cascade_classifier.fit_transform] [Result][Reach Max Layer] opt_layer_num=1, accuracy_train=97.99%, accuracy_test=98.49%\n",
      "[ 2018-04-26 15:42:55,169][cascade_classifier.transform] X_groups_test.shape=[(1591, 7)]\n",
      "[ 2018-04-26 15:42:55,170][cascade_classifier.transform] group_dims=[7]\n",
      "[ 2018-04-26 15:42:55,171][cascade_classifier.transform] X_test.shape=(1591, 7)\n",
      "[ 2018-04-26 15:42:55,172][cascade_classifier.transform] [layer=0] look_indexs=[0], X_cur_test.shape=(1591, 7)\n",
      "[ 2018-04-26 15:42:57,655][cascade_classifier.fit_transform] X_groups_train.shape=[(3228, 7)],y_train.shape=(3228,),X_groups_test.shape=[(1591, 7)],y_test.shape=(1591,)\n",
      "[ 2018-04-26 15:42:57,656][cascade_classifier.fit_transform] group_dims=[7]\n",
      "[ 2018-04-26 15:42:57,657][cascade_classifier.fit_transform] group_starts=[0]\n",
      "[ 2018-04-26 15:42:57,658][cascade_classifier.fit_transform] group_ends=[7]\n",
      "[ 2018-04-26 15:42:57,659][cascade_classifier.fit_transform] X_train.shape=(3228, 7),X_test.shape=(1591, 7)\n",
      "[ 2018-04-26 15:42:57,660][cascade_classifier.fit_transform] [layer=0] look_indexs=[0], X_cur_train.shape=(3228, 7), X_cur_test.shape=(1591, 7)\n"
     ]
    },
    {
     "name": "stdout",
     "output_type": "stream",
     "text": [
      "('Test Accuracy of ExtraTrees = 98.491515 %', 11, 'fois')\n",
      "(' Time ', '10.846', ' seconds')\n"
     ]
    },
    {
     "name": "stderr",
     "output_type": "stream",
     "text": [
      "[ 2018-04-26 15:42:58,375][kfold_wrapper.log_eval_metrics] Accuracy(layer_0 - estimator_0 - 10_folds.train_0.predict)=97.83%\n",
      "[ 2018-04-26 15:42:59,496][kfold_wrapper.log_eval_metrics] Accuracy(layer_0 - estimator_0 - 10_folds.train_1.predict)=97.21%\n",
      "[ 2018-04-26 15:43:00,598][kfold_wrapper.log_eval_metrics] Accuracy(layer_0 - estimator_0 - 10_folds.train_2.predict)=97.21%\n",
      "[ 2018-04-26 15:43:01,629][kfold_wrapper.log_eval_metrics] Accuracy(layer_0 - estimator_0 - 10_folds.train_3.predict)=98.45%\n",
      "[ 2018-04-26 15:43:02,772][kfold_wrapper.log_eval_metrics] Accuracy(layer_0 - estimator_0 - 10_folds.train_4.predict)=98.45%\n",
      "[ 2018-04-26 15:43:03,872][kfold_wrapper.log_eval_metrics] Accuracy(layer_0 - estimator_0 - 10_folds.train_5.predict)=98.14%\n",
      "[ 2018-04-26 15:43:04,918][kfold_wrapper.log_eval_metrics] Accuracy(layer_0 - estimator_0 - 10_folds.train_6.predict)=98.76%\n",
      "[ 2018-04-26 15:43:05,952][kfold_wrapper.log_eval_metrics] Accuracy(layer_0 - estimator_0 - 10_folds.train_7.predict)=99.07%\n",
      "[ 2018-04-26 15:43:07,016][kfold_wrapper.log_eval_metrics] Accuracy(layer_0 - estimator_0 - 10_folds.train_8.predict)=98.14%\n",
      "[ 2018-04-26 15:43:08,203][kfold_wrapper.log_eval_metrics] Accuracy(layer_0 - estimator_0 - 10_folds.train_9.predict)=98.45%\n",
      "[ 2018-04-26 15:43:08,498][kfold_wrapper.log_eval_metrics] Accuracy(layer_0 - estimator_0 - 10_folds.train_cv.predict)=98.17%\n",
      "[ 2018-04-26 15:43:08,500][kfold_wrapper.log_eval_metrics] Accuracy(layer_0 - estimator_0 - 10_folds.test.predict)=98.49%\n",
      "[ 2018-04-26 15:43:08,508][cascade_classifier.calc_accuracy] Accuracy(layer_0 - train.classifier_average)=98.17%\n",
      "[ 2018-04-26 15:43:08,509][cascade_classifier.calc_accuracy] Accuracy(layer_0 - test.classifier_average)=98.49%\n",
      "[ 2018-04-26 15:43:08,510][cascade_classifier.fit_transform] [Result][Reach Max Layer] opt_layer_num=1, accuracy_train=98.17%, accuracy_test=98.49%\n",
      "[ 2018-04-26 15:43:08,512][cascade_classifier.transform] X_groups_test.shape=[(1591, 7)]\n",
      "[ 2018-04-26 15:43:08,513][cascade_classifier.transform] group_dims=[7]\n",
      "[ 2018-04-26 15:43:08,514][cascade_classifier.transform] X_test.shape=(1591, 7)\n",
      "[ 2018-04-26 15:43:08,515][cascade_classifier.transform] [layer=0] look_indexs=[0], X_cur_test.shape=(1591, 7)\n",
      "[ 2018-04-26 15:43:10,889][cascade_classifier.fit_transform] X_groups_train.shape=[(3228, 7)],y_train.shape=(3228,),X_groups_test.shape=[(1591, 7)],y_test.shape=(1591,)\n",
      "[ 2018-04-26 15:43:10,891][cascade_classifier.fit_transform] group_dims=[7]\n",
      "[ 2018-04-26 15:43:10,892][cascade_classifier.fit_transform] group_starts=[0]\n",
      "[ 2018-04-26 15:43:10,894][cascade_classifier.fit_transform] group_ends=[7]\n",
      "[ 2018-04-26 15:43:10,895][cascade_classifier.fit_transform] X_train.shape=(3228, 7),X_test.shape=(1591, 7)\n",
      "[ 2018-04-26 15:43:10,896][cascade_classifier.fit_transform] [layer=0] look_indexs=[0], X_cur_train.shape=(3228, 7), X_cur_test.shape=(1591, 7)\n"
     ]
    },
    {
     "name": "stdout",
     "output_type": "stream",
     "text": [
      "('Test Accuracy of ExtraTrees = 98.491515 %', 12, 'fois')\n",
      "(' Time ', '10.858', ' seconds')\n"
     ]
    },
    {
     "name": "stderr",
     "output_type": "stream",
     "text": [
      "[ 2018-04-26 15:43:11,668][kfold_wrapper.log_eval_metrics] Accuracy(layer_0 - estimator_0 - 10_folds.train_0.predict)=97.52%\n",
      "[ 2018-04-26 15:43:12,600][kfold_wrapper.log_eval_metrics] Accuracy(layer_0 - estimator_0 - 10_folds.train_1.predict)=97.21%\n",
      "[ 2018-04-26 15:43:13,688][kfold_wrapper.log_eval_metrics] Accuracy(layer_0 - estimator_0 - 10_folds.train_2.predict)=96.90%\n",
      "[ 2018-04-26 15:43:14,756][kfold_wrapper.log_eval_metrics] Accuracy(layer_0 - estimator_0 - 10_folds.train_3.predict)=98.14%\n",
      "[ 2018-04-26 15:43:15,720][kfold_wrapper.log_eval_metrics] Accuracy(layer_0 - estimator_0 - 10_folds.train_4.predict)=98.76%\n",
      "[ 2018-04-26 15:43:16,824][kfold_wrapper.log_eval_metrics] Accuracy(layer_0 - estimator_0 - 10_folds.train_5.predict)=97.52%\n",
      "[ 2018-04-26 15:43:17,881][kfold_wrapper.log_eval_metrics] Accuracy(layer_0 - estimator_0 - 10_folds.train_6.predict)=98.76%\n",
      "[ 2018-04-26 15:43:18,949][kfold_wrapper.log_eval_metrics] Accuracy(layer_0 - estimator_0 - 10_folds.train_7.predict)=97.83%\n",
      "[ 2018-04-26 15:43:20,019][kfold_wrapper.log_eval_metrics] Accuracy(layer_0 - estimator_0 - 10_folds.train_8.predict)=97.83%\n",
      "[ 2018-04-26 15:43:21,085][kfold_wrapper.log_eval_metrics] Accuracy(layer_0 - estimator_0 - 10_folds.train_9.predict)=98.14%\n",
      "[ 2018-04-26 15:43:21,316][kfold_wrapper.log_eval_metrics] Accuracy(layer_0 - estimator_0 - 10_folds.train_cv.predict)=97.86%\n",
      "[ 2018-04-26 15:43:21,318][kfold_wrapper.log_eval_metrics] Accuracy(layer_0 - estimator_0 - 10_folds.test.predict)=98.37%\n",
      "[ 2018-04-26 15:43:21,327][cascade_classifier.calc_accuracy] Accuracy(layer_0 - train.classifier_average)=97.86%\n",
      "[ 2018-04-26 15:43:21,329][cascade_classifier.calc_accuracy] Accuracy(layer_0 - test.classifier_average)=98.37%\n",
      "[ 2018-04-26 15:43:21,330][cascade_classifier.fit_transform] [Result][Reach Max Layer] opt_layer_num=1, accuracy_train=97.86%, accuracy_test=98.37%\n",
      "[ 2018-04-26 15:43:21,332][cascade_classifier.transform] X_groups_test.shape=[(1591, 7)]\n",
      "[ 2018-04-26 15:43:21,333][cascade_classifier.transform] group_dims=[7]\n",
      "[ 2018-04-26 15:43:21,334][cascade_classifier.transform] X_test.shape=(1591, 7)\n",
      "[ 2018-04-26 15:43:21,335][cascade_classifier.transform] [layer=0] look_indexs=[0], X_cur_test.shape=(1591, 7)\n",
      "[ 2018-04-26 15:43:23,834][cascade_classifier.fit_transform] X_groups_train.shape=[(3228, 7)],y_train.shape=(3228,),X_groups_test.shape=[(1591, 7)],y_test.shape=(1591,)\n",
      "[ 2018-04-26 15:43:23,836][cascade_classifier.fit_transform] group_dims=[7]\n",
      "[ 2018-04-26 15:43:23,837][cascade_classifier.fit_transform] group_starts=[0]\n",
      "[ 2018-04-26 15:43:23,838][cascade_classifier.fit_transform] group_ends=[7]\n",
      "[ 2018-04-26 15:43:23,839][cascade_classifier.fit_transform] X_train.shape=(3228, 7),X_test.shape=(1591, 7)\n",
      "[ 2018-04-26 15:43:23,841][cascade_classifier.fit_transform] [layer=0] look_indexs=[0], X_cur_train.shape=(3228, 7), X_cur_test.shape=(1591, 7)\n"
     ]
    },
    {
     "name": "stdout",
     "output_type": "stream",
     "text": [
      "('Test Accuracy of ExtraTrees = 98.365808 %', 13, 'fois')\n",
      "(' Time ', '10.444', ' seconds')\n"
     ]
    },
    {
     "name": "stderr",
     "output_type": "stream",
     "text": [
      "[ 2018-04-26 15:43:24,734][kfold_wrapper.log_eval_metrics] Accuracy(layer_0 - estimator_0 - 10_folds.train_0.predict)=97.52%\n",
      "[ 2018-04-26 15:43:25,806][kfold_wrapper.log_eval_metrics] Accuracy(layer_0 - estimator_0 - 10_folds.train_1.predict)=97.52%\n",
      "[ 2018-04-26 15:43:26,918][kfold_wrapper.log_eval_metrics] Accuracy(layer_0 - estimator_0 - 10_folds.train_2.predict)=96.59%\n",
      "[ 2018-04-26 15:43:28,016][kfold_wrapper.log_eval_metrics] Accuracy(layer_0 - estimator_0 - 10_folds.train_3.predict)=99.07%\n",
      "[ 2018-04-26 15:43:29,111][kfold_wrapper.log_eval_metrics] Accuracy(layer_0 - estimator_0 - 10_folds.train_4.predict)=97.83%\n",
      "[ 2018-04-26 15:43:30,343][kfold_wrapper.log_eval_metrics] Accuracy(layer_0 - estimator_0 - 10_folds.train_5.predict)=97.52%\n",
      "[ 2018-04-26 15:43:31,457][kfold_wrapper.log_eval_metrics] Accuracy(layer_0 - estimator_0 - 10_folds.train_6.predict)=98.14%\n",
      "[ 2018-04-26 15:43:32,507][kfold_wrapper.log_eval_metrics] Accuracy(layer_0 - estimator_0 - 10_folds.train_7.predict)=98.14%\n",
      "[ 2018-04-26 15:43:33,601][kfold_wrapper.log_eval_metrics] Accuracy(layer_0 - estimator_0 - 10_folds.train_8.predict)=97.83%\n",
      "[ 2018-04-26 15:43:34,700][kfold_wrapper.log_eval_metrics] Accuracy(layer_0 - estimator_0 - 10_folds.train_9.predict)=97.83%\n",
      "[ 2018-04-26 15:43:34,958][kfold_wrapper.log_eval_metrics] Accuracy(layer_0 - estimator_0 - 10_folds.train_cv.predict)=97.80%\n",
      "[ 2018-04-26 15:43:34,960][kfold_wrapper.log_eval_metrics] Accuracy(layer_0 - estimator_0 - 10_folds.test.predict)=98.43%\n",
      "[ 2018-04-26 15:43:34,968][cascade_classifier.calc_accuracy] Accuracy(layer_0 - train.classifier_average)=97.80%\n",
      "[ 2018-04-26 15:43:34,969][cascade_classifier.calc_accuracy] Accuracy(layer_0 - test.classifier_average)=98.43%\n",
      "[ 2018-04-26 15:43:34,970][cascade_classifier.fit_transform] [Result][Reach Max Layer] opt_layer_num=1, accuracy_train=97.80%, accuracy_test=98.43%\n",
      "[ 2018-04-26 15:43:34,971][cascade_classifier.transform] X_groups_test.shape=[(1591, 7)]\n",
      "[ 2018-04-26 15:43:34,972][cascade_classifier.transform] group_dims=[7]\n",
      "[ 2018-04-26 15:43:34,973][cascade_classifier.transform] X_test.shape=(1591, 7)\n",
      "[ 2018-04-26 15:43:34,974][cascade_classifier.transform] [layer=0] look_indexs=[0], X_cur_test.shape=(1591, 7)\n",
      "[ 2018-04-26 15:43:37,617][cascade_classifier.fit_transform] X_groups_train.shape=[(3228, 7)],y_train.shape=(3228,),X_groups_test.shape=[(1591, 7)],y_test.shape=(1591,)\n",
      "[ 2018-04-26 15:43:37,619][cascade_classifier.fit_transform] group_dims=[7]\n",
      "[ 2018-04-26 15:43:37,620][cascade_classifier.fit_transform] group_starts=[0]\n",
      "[ 2018-04-26 15:43:37,621][cascade_classifier.fit_transform] group_ends=[7]\n",
      "[ 2018-04-26 15:43:37,622][cascade_classifier.fit_transform] X_train.shape=(3228, 7),X_test.shape=(1591, 7)\n",
      "[ 2018-04-26 15:43:37,624][cascade_classifier.fit_transform] [layer=0] look_indexs=[0], X_cur_train.shape=(3228, 7), X_cur_test.shape=(1591, 7)\n"
     ]
    },
    {
     "name": "stdout",
     "output_type": "stream",
     "text": [
      "('Test Accuracy of ExtraTrees = 98.428661 %', 14, 'fois')\n",
      "(' Time ', '11.137', ' seconds')\n"
     ]
    },
    {
     "name": "stderr",
     "output_type": "stream",
     "text": [
      "[ 2018-04-26 15:43:38,509][kfold_wrapper.log_eval_metrics] Accuracy(layer_0 - estimator_0 - 10_folds.train_0.predict)=97.52%\n",
      "[ 2018-04-26 15:43:39,661][kfold_wrapper.log_eval_metrics] Accuracy(layer_0 - estimator_0 - 10_folds.train_1.predict)=97.52%\n",
      "[ 2018-04-26 15:43:40,756][kfold_wrapper.log_eval_metrics] Accuracy(layer_0 - estimator_0 - 10_folds.train_2.predict)=96.90%\n",
      "[ 2018-04-26 15:43:41,803][kfold_wrapper.log_eval_metrics] Accuracy(layer_0 - estimator_0 - 10_folds.train_3.predict)=98.14%\n",
      "[ 2018-04-26 15:43:42,961][kfold_wrapper.log_eval_metrics] Accuracy(layer_0 - estimator_0 - 10_folds.train_4.predict)=98.14%\n",
      "[ 2018-04-26 15:43:43,922][kfold_wrapper.log_eval_metrics] Accuracy(layer_0 - estimator_0 - 10_folds.train_5.predict)=97.83%\n",
      "[ 2018-04-26 15:43:44,713][kfold_wrapper.log_eval_metrics] Accuracy(layer_0 - estimator_0 - 10_folds.train_6.predict)=99.07%\n",
      "[ 2018-04-26 15:43:45,597][kfold_wrapper.log_eval_metrics] Accuracy(layer_0 - estimator_0 - 10_folds.train_7.predict)=98.14%\n",
      "[ 2018-04-26 15:43:46,754][kfold_wrapper.log_eval_metrics] Accuracy(layer_0 - estimator_0 - 10_folds.train_8.predict)=97.83%\n",
      "[ 2018-04-26 15:43:47,825][kfold_wrapper.log_eval_metrics] Accuracy(layer_0 - estimator_0 - 10_folds.train_9.predict)=97.83%\n",
      "[ 2018-04-26 15:43:48,047][kfold_wrapper.log_eval_metrics] Accuracy(layer_0 - estimator_0 - 10_folds.train_cv.predict)=97.89%\n",
      "[ 2018-04-26 15:43:48,049][kfold_wrapper.log_eval_metrics] Accuracy(layer_0 - estimator_0 - 10_folds.test.predict)=98.37%\n",
      "[ 2018-04-26 15:43:48,057][cascade_classifier.calc_accuracy] Accuracy(layer_0 - train.classifier_average)=97.89%\n",
      "[ 2018-04-26 15:43:48,058][cascade_classifier.calc_accuracy] Accuracy(layer_0 - test.classifier_average)=98.37%\n",
      "[ 2018-04-26 15:43:48,059][cascade_classifier.fit_transform] [Result][Reach Max Layer] opt_layer_num=1, accuracy_train=97.89%, accuracy_test=98.37%\n",
      "[ 2018-04-26 15:43:48,060][cascade_classifier.transform] X_groups_test.shape=[(1591, 7)]\n",
      "[ 2018-04-26 15:43:48,061][cascade_classifier.transform] group_dims=[7]\n",
      "[ 2018-04-26 15:43:48,062][cascade_classifier.transform] X_test.shape=(1591, 7)\n",
      "[ 2018-04-26 15:43:48,063][cascade_classifier.transform] [layer=0] look_indexs=[0], X_cur_test.shape=(1591, 7)\n",
      "[ 2018-04-26 15:43:50,590][cascade_classifier.fit_transform] X_groups_train.shape=[(3228, 7)],y_train.shape=(3228,),X_groups_test.shape=[(1591, 7)],y_test.shape=(1591,)\n",
      "[ 2018-04-26 15:43:50,593][cascade_classifier.fit_transform] group_dims=[7]\n",
      "[ 2018-04-26 15:43:50,594][cascade_classifier.fit_transform] group_starts=[0]\n",
      "[ 2018-04-26 15:43:50,595][cascade_classifier.fit_transform] group_ends=[7]\n",
      "[ 2018-04-26 15:43:50,596][cascade_classifier.fit_transform] X_train.shape=(3228, 7),X_test.shape=(1591, 7)\n",
      "[ 2018-04-26 15:43:50,598][cascade_classifier.fit_transform] [layer=0] look_indexs=[0], X_cur_train.shape=(3228, 7), X_cur_test.shape=(1591, 7)\n"
     ]
    },
    {
     "name": "stdout",
     "output_type": "stream",
     "text": [
      "('Test Accuracy of ExtraTrees = 98.365808 %', 15, 'fois')\n",
      "(' Time ', '10.445', ' seconds')\n"
     ]
    },
    {
     "name": "stderr",
     "output_type": "stream",
     "text": [
      "[ 2018-04-26 15:43:51,424][kfold_wrapper.log_eval_metrics] Accuracy(layer_0 - estimator_0 - 10_folds.train_0.predict)=97.21%\n",
      "[ 2018-04-26 15:43:52,523][kfold_wrapper.log_eval_metrics] Accuracy(layer_0 - estimator_0 - 10_folds.train_1.predict)=97.21%\n",
      "[ 2018-04-26 15:43:53,658][kfold_wrapper.log_eval_metrics] Accuracy(layer_0 - estimator_0 - 10_folds.train_2.predict)=96.90%\n",
      "[ 2018-04-26 15:43:54,743][kfold_wrapper.log_eval_metrics] Accuracy(layer_0 - estimator_0 - 10_folds.train_3.predict)=98.45%\n",
      "[ 2018-04-26 15:43:55,823][kfold_wrapper.log_eval_metrics] Accuracy(layer_0 - estimator_0 - 10_folds.train_4.predict)=98.14%\n",
      "[ 2018-04-26 15:43:56,874][kfold_wrapper.log_eval_metrics] Accuracy(layer_0 - estimator_0 - 10_folds.train_5.predict)=97.21%\n",
      "[ 2018-04-26 15:43:57,944][kfold_wrapper.log_eval_metrics] Accuracy(layer_0 - estimator_0 - 10_folds.train_6.predict)=98.45%\n",
      "[ 2018-04-26 15:43:58,926][kfold_wrapper.log_eval_metrics] Accuracy(layer_0 - estimator_0 - 10_folds.train_7.predict)=97.83%\n",
      "[ 2018-04-26 15:44:00,069][kfold_wrapper.log_eval_metrics] Accuracy(layer_0 - estimator_0 - 10_folds.train_8.predict)=97.83%\n",
      "[ 2018-04-26 15:44:01,240][kfold_wrapper.log_eval_metrics] Accuracy(layer_0 - estimator_0 - 10_folds.train_9.predict)=97.20%\n",
      "[ 2018-04-26 15:44:01,500][kfold_wrapper.log_eval_metrics] Accuracy(layer_0 - estimator_0 - 10_folds.train_cv.predict)=97.65%\n",
      "[ 2018-04-26 15:44:01,501][kfold_wrapper.log_eval_metrics] Accuracy(layer_0 - estimator_0 - 10_folds.test.predict)=98.49%\n",
      "[ 2018-04-26 15:44:01,510][cascade_classifier.calc_accuracy] Accuracy(layer_0 - train.classifier_average)=97.65%\n",
      "[ 2018-04-26 15:44:01,511][cascade_classifier.calc_accuracy] Accuracy(layer_0 - test.classifier_average)=98.49%\n",
      "[ 2018-04-26 15:44:01,512][cascade_classifier.fit_transform] [Result][Reach Max Layer] opt_layer_num=1, accuracy_train=97.65%, accuracy_test=98.49%\n",
      "[ 2018-04-26 15:44:01,514][cascade_classifier.transform] X_groups_test.shape=[(1591, 7)]\n",
      "[ 2018-04-26 15:44:01,515][cascade_classifier.transform] group_dims=[7]\n",
      "[ 2018-04-26 15:44:01,516][cascade_classifier.transform] X_test.shape=(1591, 7)\n",
      "[ 2018-04-26 15:44:01,517][cascade_classifier.transform] [layer=0] look_indexs=[0], X_cur_test.shape=(1591, 7)\n",
      "[ 2018-04-26 15:44:03,996][cascade_classifier.fit_transform] X_groups_train.shape=[(3228, 7)],y_train.shape=(3228,),X_groups_test.shape=[(1591, 7)],y_test.shape=(1591,)\n",
      "[ 2018-04-26 15:44:03,998][cascade_classifier.fit_transform] group_dims=[7]\n",
      "[ 2018-04-26 15:44:03,999][cascade_classifier.fit_transform] group_starts=[0]\n",
      "[ 2018-04-26 15:44:04,000][cascade_classifier.fit_transform] group_ends=[7]\n",
      "[ 2018-04-26 15:44:04,002][cascade_classifier.fit_transform] X_train.shape=(3228, 7),X_test.shape=(1591, 7)\n",
      "[ 2018-04-26 15:44:04,003][cascade_classifier.fit_transform] [layer=0] look_indexs=[0], X_cur_train.shape=(3228, 7), X_cur_test.shape=(1591, 7)\n"
     ]
    },
    {
     "name": "stdout",
     "output_type": "stream",
     "text": [
      "('Test Accuracy of ExtraTrees = 98.491515 %', 16, 'fois')\n",
      "(' Time ', '10.924', ' seconds')\n"
     ]
    },
    {
     "name": "stderr",
     "output_type": "stream",
     "text": [
      "[ 2018-04-26 15:44:04,975][kfold_wrapper.log_eval_metrics] Accuracy(layer_0 - estimator_0 - 10_folds.train_0.predict)=98.14%\n",
      "[ 2018-04-26 15:44:05,773][kfold_wrapper.log_eval_metrics] Accuracy(layer_0 - estimator_0 - 10_folds.train_1.predict)=97.83%\n",
      "[ 2018-04-26 15:44:06,719][kfold_wrapper.log_eval_metrics] Accuracy(layer_0 - estimator_0 - 10_folds.train_2.predict)=97.21%\n",
      "[ 2018-04-26 15:44:07,801][kfold_wrapper.log_eval_metrics] Accuracy(layer_0 - estimator_0 - 10_folds.train_3.predict)=98.14%\n",
      "[ 2018-04-26 15:44:08,868][kfold_wrapper.log_eval_metrics] Accuracy(layer_0 - estimator_0 - 10_folds.train_4.predict)=98.76%\n",
      "[ 2018-04-26 15:44:10,042][kfold_wrapper.log_eval_metrics] Accuracy(layer_0 - estimator_0 - 10_folds.train_5.predict)=97.21%\n",
      "[ 2018-04-26 15:44:10,982][kfold_wrapper.log_eval_metrics] Accuracy(layer_0 - estimator_0 - 10_folds.train_6.predict)=97.52%\n",
      "[ 2018-04-26 15:44:12,050][kfold_wrapper.log_eval_metrics] Accuracy(layer_0 - estimator_0 - 10_folds.train_7.predict)=98.14%\n",
      "[ 2018-04-26 15:44:13,096][kfold_wrapper.log_eval_metrics] Accuracy(layer_0 - estimator_0 - 10_folds.train_8.predict)=98.14%\n",
      "[ 2018-04-26 15:44:14,306][kfold_wrapper.log_eval_metrics] Accuracy(layer_0 - estimator_0 - 10_folds.train_9.predict)=97.52%\n",
      "[ 2018-04-26 15:44:14,557][kfold_wrapper.log_eval_metrics] Accuracy(layer_0 - estimator_0 - 10_folds.train_cv.predict)=97.86%\n",
      "[ 2018-04-26 15:44:14,558][kfold_wrapper.log_eval_metrics] Accuracy(layer_0 - estimator_0 - 10_folds.test.predict)=98.55%\n",
      "[ 2018-04-26 15:44:14,566][cascade_classifier.calc_accuracy] Accuracy(layer_0 - train.classifier_average)=97.86%\n",
      "[ 2018-04-26 15:44:14,568][cascade_classifier.calc_accuracy] Accuracy(layer_0 - test.classifier_average)=98.55%\n",
      "[ 2018-04-26 15:44:14,569][cascade_classifier.fit_transform] [Result][Reach Max Layer] opt_layer_num=1, accuracy_train=97.86%, accuracy_test=98.55%\n",
      "[ 2018-04-26 15:44:14,570][cascade_classifier.transform] X_groups_test.shape=[(1591, 7)]\n",
      "[ 2018-04-26 15:44:14,572][cascade_classifier.transform] group_dims=[7]\n",
      "[ 2018-04-26 15:44:14,573][cascade_classifier.transform] X_test.shape=(1591, 7)\n",
      "[ 2018-04-26 15:44:14,574][cascade_classifier.transform] [layer=0] look_indexs=[0], X_cur_test.shape=(1591, 7)\n",
      "[ 2018-04-26 15:44:17,177][cascade_classifier.fit_transform] X_groups_train.shape=[(3228, 7)],y_train.shape=(3228,),X_groups_test.shape=[(1591, 7)],y_test.shape=(1591,)\n",
      "[ 2018-04-26 15:44:17,179][cascade_classifier.fit_transform] group_dims=[7]\n",
      "[ 2018-04-26 15:44:17,180][cascade_classifier.fit_transform] group_starts=[0]\n",
      "[ 2018-04-26 15:44:17,180][cascade_classifier.fit_transform] group_ends=[7]\n",
      "[ 2018-04-26 15:44:17,181][cascade_classifier.fit_transform] X_train.shape=(3228, 7),X_test.shape=(1591, 7)\n",
      "[ 2018-04-26 15:44:17,182][cascade_classifier.fit_transform] [layer=0] look_indexs=[0], X_cur_train.shape=(3228, 7), X_cur_test.shape=(1591, 7)\n"
     ]
    },
    {
     "name": "stdout",
     "output_type": "stream",
     "text": [
      "('Test Accuracy of ExtraTrees = 98.554368 %', 17, 'fois')\n",
      "(' Time ', '10.576', ' seconds')\n"
     ]
    },
    {
     "name": "stderr",
     "output_type": "stream",
     "text": [
      "[ 2018-04-26 15:44:18,040][kfold_wrapper.log_eval_metrics] Accuracy(layer_0 - estimator_0 - 10_folds.train_0.predict)=97.52%\n",
      "[ 2018-04-26 15:44:19,139][kfold_wrapper.log_eval_metrics] Accuracy(layer_0 - estimator_0 - 10_folds.train_1.predict)=97.83%\n",
      "[ 2018-04-26 15:44:20,208][kfold_wrapper.log_eval_metrics] Accuracy(layer_0 - estimator_0 - 10_folds.train_2.predict)=97.21%\n",
      "[ 2018-04-26 15:44:21,332][kfold_wrapper.log_eval_metrics] Accuracy(layer_0 - estimator_0 - 10_folds.train_3.predict)=98.14%\n",
      "[ 2018-04-26 15:44:22,532][kfold_wrapper.log_eval_metrics] Accuracy(layer_0 - estimator_0 - 10_folds.train_4.predict)=98.45%\n",
      "[ 2018-04-26 15:44:23,645][kfold_wrapper.log_eval_metrics] Accuracy(layer_0 - estimator_0 - 10_folds.train_5.predict)=97.21%\n",
      "[ 2018-04-26 15:44:24,751][kfold_wrapper.log_eval_metrics] Accuracy(layer_0 - estimator_0 - 10_folds.train_6.predict)=98.14%\n",
      "[ 2018-04-26 15:44:25,817][kfold_wrapper.log_eval_metrics] Accuracy(layer_0 - estimator_0 - 10_folds.train_7.predict)=98.45%\n",
      "[ 2018-04-26 15:44:26,886][kfold_wrapper.log_eval_metrics] Accuracy(layer_0 - estimator_0 - 10_folds.train_8.predict)=98.14%\n",
      "[ 2018-04-26 15:44:28,111][kfold_wrapper.log_eval_metrics] Accuracy(layer_0 - estimator_0 - 10_folds.train_9.predict)=97.52%\n",
      "[ 2018-04-26 15:44:28,378][kfold_wrapper.log_eval_metrics] Accuracy(layer_0 - estimator_0 - 10_folds.train_cv.predict)=97.86%\n",
      "[ 2018-04-26 15:44:28,379][kfold_wrapper.log_eval_metrics] Accuracy(layer_0 - estimator_0 - 10_folds.test.predict)=98.62%\n",
      "[ 2018-04-26 15:44:28,390][cascade_classifier.calc_accuracy] Accuracy(layer_0 - train.classifier_average)=97.86%\n",
      "[ 2018-04-26 15:44:28,392][cascade_classifier.calc_accuracy] Accuracy(layer_0 - test.classifier_average)=98.62%\n",
      "[ 2018-04-26 15:44:28,393][cascade_classifier.fit_transform] [Result][Reach Max Layer] opt_layer_num=1, accuracy_train=97.86%, accuracy_test=98.62%\n",
      "[ 2018-04-26 15:44:28,394][cascade_classifier.transform] X_groups_test.shape=[(1591, 7)]\n",
      "[ 2018-04-26 15:44:28,396][cascade_classifier.transform] group_dims=[7]\n",
      "[ 2018-04-26 15:44:28,397][cascade_classifier.transform] X_test.shape=(1591, 7)\n",
      "[ 2018-04-26 15:44:28,398][cascade_classifier.transform] [layer=0] look_indexs=[0], X_cur_test.shape=(1591, 7)\n",
      "[ 2018-04-26 15:44:30,908][cascade_classifier.fit_transform] X_groups_train.shape=[(3228, 7)],y_train.shape=(3228,),X_groups_test.shape=[(1591, 7)],y_test.shape=(1591,)\n",
      "[ 2018-04-26 15:44:30,910][cascade_classifier.fit_transform] group_dims=[7]\n",
      "[ 2018-04-26 15:44:30,911][cascade_classifier.fit_transform] group_starts=[0]\n",
      "[ 2018-04-26 15:44:30,912][cascade_classifier.fit_transform] group_ends=[7]\n",
      "[ 2018-04-26 15:44:30,913][cascade_classifier.fit_transform] X_train.shape=(3228, 7),X_test.shape=(1591, 7)\n",
      "[ 2018-04-26 15:44:30,915][cascade_classifier.fit_transform] [layer=0] look_indexs=[0], X_cur_train.shape=(3228, 7), X_cur_test.shape=(1591, 7)\n"
     ]
    },
    {
     "name": "stdout",
     "output_type": "stream",
     "text": [
      "('Test Accuracy of ExtraTrees = 98.617222 %', 18, 'fois')\n",
      "(' Time ', '11.219', ' seconds')\n"
     ]
    },
    {
     "name": "stderr",
     "output_type": "stream",
     "text": [
      "[ 2018-04-26 15:44:31,708][kfold_wrapper.log_eval_metrics] Accuracy(layer_0 - estimator_0 - 10_folds.train_0.predict)=97.52%\n",
      "[ 2018-04-26 15:44:32,837][kfold_wrapper.log_eval_metrics] Accuracy(layer_0 - estimator_0 - 10_folds.train_1.predict)=97.83%\n",
      "[ 2018-04-26 15:44:33,946][kfold_wrapper.log_eval_metrics] Accuracy(layer_0 - estimator_0 - 10_folds.train_2.predict)=96.59%\n",
      "[ 2018-04-26 15:44:35,041][kfold_wrapper.log_eval_metrics] Accuracy(layer_0 - estimator_0 - 10_folds.train_3.predict)=98.45%\n",
      "[ 2018-04-26 15:44:36,144][kfold_wrapper.log_eval_metrics] Accuracy(layer_0 - estimator_0 - 10_folds.train_4.predict)=98.76%\n",
      "[ 2018-04-26 15:44:37,240][kfold_wrapper.log_eval_metrics] Accuracy(layer_0 - estimator_0 - 10_folds.train_5.predict)=97.21%\n",
      "[ 2018-04-26 15:44:38,358][kfold_wrapper.log_eval_metrics] Accuracy(layer_0 - estimator_0 - 10_folds.train_6.predict)=97.83%\n",
      "[ 2018-04-26 15:44:39,467][kfold_wrapper.log_eval_metrics] Accuracy(layer_0 - estimator_0 - 10_folds.train_7.predict)=97.52%\n",
      "[ 2018-04-26 15:44:40,679][kfold_wrapper.log_eval_metrics] Accuracy(layer_0 - estimator_0 - 10_folds.train_8.predict)=97.83%\n",
      "[ 2018-04-26 15:44:41,667][kfold_wrapper.log_eval_metrics] Accuracy(layer_0 - estimator_0 - 10_folds.train_9.predict)=97.83%\n",
      "[ 2018-04-26 15:44:41,911][kfold_wrapper.log_eval_metrics] Accuracy(layer_0 - estimator_0 - 10_folds.train_cv.predict)=97.74%\n",
      "[ 2018-04-26 15:44:41,912][kfold_wrapper.log_eval_metrics] Accuracy(layer_0 - estimator_0 - 10_folds.test.predict)=98.68%\n",
      "[ 2018-04-26 15:44:41,924][cascade_classifier.calc_accuracy] Accuracy(layer_0 - train.classifier_average)=97.74%\n",
      "[ 2018-04-26 15:44:41,926][cascade_classifier.calc_accuracy] Accuracy(layer_0 - test.classifier_average)=98.68%\n",
      "[ 2018-04-26 15:44:41,927][cascade_classifier.fit_transform] [Result][Reach Max Layer] opt_layer_num=1, accuracy_train=97.74%, accuracy_test=98.68%\n",
      "[ 2018-04-26 15:44:41,929][cascade_classifier.transform] X_groups_test.shape=[(1591, 7)]\n",
      "[ 2018-04-26 15:44:41,930][cascade_classifier.transform] group_dims=[7]\n",
      "[ 2018-04-26 15:44:41,931][cascade_classifier.transform] X_test.shape=(1591, 7)\n",
      "[ 2018-04-26 15:44:41,933][cascade_classifier.transform] [layer=0] look_indexs=[0], X_cur_test.shape=(1591, 7)\n"
     ]
    },
    {
     "name": "stdout",
     "output_type": "stream",
     "text": [
      "('Test Accuracy of ExtraTrees = 98.680075 %', 19, 'fois')\n",
      "(' Time ', '11.021', ' seconds')\n"
     ]
    }
   ],
   "source": [
    "# Deep\n",
    "for i in range (20):\n",
    "    t0 = time()\n",
    "    X_train,X_test=update(X_train,X_test)\n",
    "    X_test_enc, X_train_enc=newdata(X_test_enc, X_train_enc)\n",
    "\n",
    "    X_train=X_train_enc\n",
    "    X_test=X_test_enc \n",
    "    X_train_enc, X_test_enc = gc.fit_transform(X_train, y_train, X_test=X_test, y_test=y_test)\n",
    "    tt = time() - t0\n",
    "    affiche() \n",
    "    print (\" Time \",format(round(tt,3)),\" seconds\")"
   ]
  },
  {
   "cell_type": "code",
   "execution_count": null,
   "metadata": {
    "collapsed": true
   },
   "outputs": [],
   "source": []
  },
  {
   "cell_type": "markdown",
   "metadata": {},
   "source": [
    "# ('Test Accuracy of ExtraTrees = 98.931490 %', 14, 'fois')"
   ]
  },
  {
   "cell_type": "markdown",
   "metadata": {},
   "source": [
    "# (' Time ', '10.795', ' seconds')"
   ]
  },
  {
   "cell_type": "code",
   "execution_count": null,
   "metadata": {
    "collapsed": true
   },
   "outputs": [],
   "source": []
  }
 ],
 "metadata": {
  "kernelspec": {
   "display_name": "Python 2",
   "language": "python",
   "name": "python2"
  },
  "language_info": {
   "codemirror_mode": {
    "name": "ipython",
    "version": 2
   },
   "file_extension": ".py",
   "mimetype": "text/x-python",
   "name": "python",
   "nbconvert_exporter": "python",
   "pygments_lexer": "ipython2",
   "version": "2.7.13"
  }
 },
 "nbformat": 4,
 "nbformat_minor": 2
}
