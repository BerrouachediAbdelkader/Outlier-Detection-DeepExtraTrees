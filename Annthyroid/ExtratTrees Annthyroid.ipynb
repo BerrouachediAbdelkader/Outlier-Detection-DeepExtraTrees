{
 "cells": [
  {
   "cell_type": "code",
   "execution_count": 31,
   "metadata": {
    "collapsed": true
   },
   "outputs": [],
   "source": [
    "# imports \n",
    "import numpy as np\n",
    "from math import sqrt \n",
    "from pprint import pprint\n",
    "from numpy import array\n",
    "from scipy.io import arff\n",
    "import pandas as pd\n",
    "from time import time"
   ]
  },
  {
   "cell_type": "code",
   "execution_count": 32,
   "metadata": {},
   "outputs": [
    {
     "data": {
      "text/html": [
       "<div>\n",
       "<style>\n",
       "    .dataframe thead tr:only-child th {\n",
       "        text-align: right;\n",
       "    }\n",
       "\n",
       "    .dataframe thead th {\n",
       "        text-align: left;\n",
       "    }\n",
       "\n",
       "    .dataframe tbody tr th {\n",
       "        vertical-align: top;\n",
       "    }\n",
       "</style>\n",
       "<table border=\"1\" class=\"dataframe\">\n",
       "  <thead>\n",
       "    <tr style=\"text-align: right;\">\n",
       "      <th></th>\n",
       "      <th>att1</th>\n",
       "      <th>att2</th>\n",
       "      <th>att3</th>\n",
       "      <th>att4</th>\n",
       "      <th>att5</th>\n",
       "      <th>att6</th>\n",
       "      <th>att7</th>\n",
       "      <th>att8</th>\n",
       "      <th>att9</th>\n",
       "      <th>att10</th>\n",
       "      <th>...</th>\n",
       "      <th>att13</th>\n",
       "      <th>att14</th>\n",
       "      <th>att15</th>\n",
       "      <th>att16</th>\n",
       "      <th>att17</th>\n",
       "      <th>att18</th>\n",
       "      <th>att19</th>\n",
       "      <th>att20</th>\n",
       "      <th>att21</th>\n",
       "      <th>outlier</th>\n",
       "    </tr>\n",
       "  </thead>\n",
       "  <tbody>\n",
       "    <tr>\n",
       "      <th>0</th>\n",
       "      <td>0.73</td>\n",
       "      <td>0.0</td>\n",
       "      <td>1.0</td>\n",
       "      <td>0.0</td>\n",
       "      <td>0.0</td>\n",
       "      <td>0.0</td>\n",
       "      <td>0.0</td>\n",
       "      <td>0.0</td>\n",
       "      <td>1.0</td>\n",
       "      <td>0.0</td>\n",
       "      <td>...</td>\n",
       "      <td>0.0</td>\n",
       "      <td>0.0</td>\n",
       "      <td>0.0</td>\n",
       "      <td>0.0</td>\n",
       "      <td>0.00060</td>\n",
       "      <td>0.015</td>\n",
       "      <td>0.120</td>\n",
       "      <td>0.082</td>\n",
       "      <td>0.146</td>\n",
       "      <td>0</td>\n",
       "    </tr>\n",
       "    <tr>\n",
       "      <th>1</th>\n",
       "      <td>0.24</td>\n",
       "      <td>0.0</td>\n",
       "      <td>0.0</td>\n",
       "      <td>0.0</td>\n",
       "      <td>0.0</td>\n",
       "      <td>0.0</td>\n",
       "      <td>0.0</td>\n",
       "      <td>0.0</td>\n",
       "      <td>0.0</td>\n",
       "      <td>0.0</td>\n",
       "      <td>...</td>\n",
       "      <td>0.0</td>\n",
       "      <td>0.0</td>\n",
       "      <td>0.0</td>\n",
       "      <td>0.0</td>\n",
       "      <td>0.00025</td>\n",
       "      <td>0.030</td>\n",
       "      <td>0.143</td>\n",
       "      <td>0.133</td>\n",
       "      <td>0.108</td>\n",
       "      <td>0</td>\n",
       "    </tr>\n",
       "    <tr>\n",
       "      <th>2</th>\n",
       "      <td>0.47</td>\n",
       "      <td>0.0</td>\n",
       "      <td>0.0</td>\n",
       "      <td>0.0</td>\n",
       "      <td>0.0</td>\n",
       "      <td>0.0</td>\n",
       "      <td>0.0</td>\n",
       "      <td>0.0</td>\n",
       "      <td>0.0</td>\n",
       "      <td>0.0</td>\n",
       "      <td>...</td>\n",
       "      <td>0.0</td>\n",
       "      <td>0.0</td>\n",
       "      <td>0.0</td>\n",
       "      <td>0.0</td>\n",
       "      <td>0.00190</td>\n",
       "      <td>0.024</td>\n",
       "      <td>0.102</td>\n",
       "      <td>0.131</td>\n",
       "      <td>0.078</td>\n",
       "      <td>0</td>\n",
       "    </tr>\n",
       "    <tr>\n",
       "      <th>3</th>\n",
       "      <td>0.64</td>\n",
       "      <td>1.0</td>\n",
       "      <td>0.0</td>\n",
       "      <td>0.0</td>\n",
       "      <td>0.0</td>\n",
       "      <td>0.0</td>\n",
       "      <td>0.0</td>\n",
       "      <td>0.0</td>\n",
       "      <td>0.0</td>\n",
       "      <td>0.0</td>\n",
       "      <td>...</td>\n",
       "      <td>0.0</td>\n",
       "      <td>0.0</td>\n",
       "      <td>0.0</td>\n",
       "      <td>0.0</td>\n",
       "      <td>0.00090</td>\n",
       "      <td>0.017</td>\n",
       "      <td>0.077</td>\n",
       "      <td>0.090</td>\n",
       "      <td>0.085</td>\n",
       "      <td>0</td>\n",
       "    </tr>\n",
       "    <tr>\n",
       "      <th>4</th>\n",
       "      <td>0.23</td>\n",
       "      <td>0.0</td>\n",
       "      <td>0.0</td>\n",
       "      <td>0.0</td>\n",
       "      <td>0.0</td>\n",
       "      <td>0.0</td>\n",
       "      <td>0.0</td>\n",
       "      <td>0.0</td>\n",
       "      <td>0.0</td>\n",
       "      <td>0.0</td>\n",
       "      <td>...</td>\n",
       "      <td>0.0</td>\n",
       "      <td>0.0</td>\n",
       "      <td>0.0</td>\n",
       "      <td>0.0</td>\n",
       "      <td>0.00025</td>\n",
       "      <td>0.026</td>\n",
       "      <td>0.139</td>\n",
       "      <td>0.090</td>\n",
       "      <td>0.153</td>\n",
       "      <td>0</td>\n",
       "    </tr>\n",
       "  </tbody>\n",
       "</table>\n",
       "<p>5 rows × 22 columns</p>\n",
       "</div>"
      ],
      "text/plain": [
       "   att1  att2  att3  att4  att5  att6  att7  att8  att9  att10   ...     \\\n",
       "0  0.73   0.0   1.0   0.0   0.0   0.0   0.0   0.0   1.0    0.0   ...      \n",
       "1  0.24   0.0   0.0   0.0   0.0   0.0   0.0   0.0   0.0    0.0   ...      \n",
       "2  0.47   0.0   0.0   0.0   0.0   0.0   0.0   0.0   0.0    0.0   ...      \n",
       "3  0.64   1.0   0.0   0.0   0.0   0.0   0.0   0.0   0.0    0.0   ...      \n",
       "4  0.23   0.0   0.0   0.0   0.0   0.0   0.0   0.0   0.0    0.0   ...      \n",
       "\n",
       "   att13  att14  att15  att16    att17  att18  att19  att20  att21  outlier  \n",
       "0    0.0    0.0    0.0    0.0  0.00060  0.015  0.120  0.082  0.146        0  \n",
       "1    0.0    0.0    0.0    0.0  0.00025  0.030  0.143  0.133  0.108        0  \n",
       "2    0.0    0.0    0.0    0.0  0.00190  0.024  0.102  0.131  0.078        0  \n",
       "3    0.0    0.0    0.0    0.0  0.00090  0.017  0.077  0.090  0.085        0  \n",
       "4    0.0    0.0    0.0    0.0  0.00025  0.026  0.139  0.090  0.153        0  \n",
       "\n",
       "[5 rows x 22 columns]"
      ]
     },
     "execution_count": 32,
     "metadata": {},
     "output_type": "execute_result"
    }
   ],
   "source": [
    "# load data\n",
    "\n",
    "df=pd.read_csv('Annthyroid_02_v01.csv')  \n",
    "\n",
    "del df['id']\n",
    "del df['Unnamed: 0']\n",
    "df['outlier'] = df.outlier.apply(lambda label: 1 if label == \"'yes'\" else 0)\n",
    "\n",
    "df.head()"
   ]
  },
  {
   "cell_type": "code",
   "execution_count": 33,
   "metadata": {},
   "outputs": [
    {
     "data": {
      "text/plain": [
       "(6802, 22)"
      ]
     },
     "execution_count": 33,
     "metadata": {},
     "output_type": "execute_result"
    }
   ],
   "source": [
    "df.shape"
   ]
  },
  {
   "cell_type": "code",
   "execution_count": 34,
   "metadata": {
    "collapsed": true
   },
   "outputs": [],
   "source": [
    "# data to values\n",
    "df = df.values"
   ]
  },
  {
   "cell_type": "code",
   "execution_count": 35,
   "metadata": {
    "collapsed": true
   },
   "outputs": [],
   "source": [
    "# Extratrees Deep\n",
    "import argparse\n",
    "import sys\n",
    "import pickle\n",
    "from sklearn.metrics import accuracy_score\n",
    "sys.path.insert(0, \"lib\")\n",
    "from gcforest.gcforest import GCForest\n",
    "from gcforest.utils.config_utils import load_json\n",
    "config = load_json(\"./examples/Annthyroid.json\")\n",
    "gc = GCForest(config)"
   ]
  },
  {
   "cell_type": "code",
   "execution_count": 36,
   "metadata": {
    "collapsed": true
   },
   "outputs": [],
   "source": [
    "# train test \n",
    "from sklearn.cross_validation import train_test_split\n",
    "y = df[:,21]\n",
    "X = df[:,0:21]\n",
    "\n",
    "X_train,X_test,y_train,y_test = train_test_split(X, y, test_size=0.33, random_state=42)"
   ]
  },
  {
   "cell_type": "code",
   "execution_count": 37,
   "metadata": {},
   "outputs": [
    {
     "data": {
      "text/plain": [
       "2"
      ]
     },
     "execution_count": 37,
     "metadata": {},
     "output_type": "execute_result"
    }
   ],
   "source": [
    "# number of class\n",
    "len(np.unique(y_train))"
   ]
  },
  {
   "cell_type": "code",
   "execution_count": 38,
   "metadata": {},
   "outputs": [
    {
     "name": "stderr",
     "output_type": "stream",
     "text": [
      "[ 2018-04-26 14:33:14,194][cascade_classifier.fit_transform] X_groups_train.shape=[(4557, 21)],y_train.shape=(4557,),X_groups_test.shape=[(2245, 21)],y_test.shape=(2245,)\n",
      "[ 2018-04-26 14:33:14,196][cascade_classifier.fit_transform] group_dims=[21]\n",
      "[ 2018-04-26 14:33:14,197][cascade_classifier.fit_transform] group_starts=[0]\n",
      "[ 2018-04-26 14:33:14,199][cascade_classifier.fit_transform] group_ends=[21]\n",
      "[ 2018-04-26 14:33:14,200][cascade_classifier.fit_transform] X_train.shape=(4557, 21),X_test.shape=(2245, 21)\n",
      "[ 2018-04-26 14:33:14,201][cascade_classifier.fit_transform] [layer=0] look_indexs=[0], X_cur_train.shape=(4557, 21), X_cur_test.shape=(2245, 21)\n",
      "[ 2018-04-26 14:33:14,968][kfold_wrapper.log_eval_metrics] Accuracy(layer_0 - estimator_0 - 10_folds.train_0.predict)=98.25%\n",
      "[ 2018-04-26 14:33:16,043][kfold_wrapper.log_eval_metrics] Accuracy(layer_0 - estimator_0 - 10_folds.train_1.predict)=99.56%\n",
      "[ 2018-04-26 14:33:17,181][kfold_wrapper.log_eval_metrics] Accuracy(layer_0 - estimator_0 - 10_folds.train_2.predict)=100.00%\n",
      "[ 2018-04-26 14:33:18,269][kfold_wrapper.log_eval_metrics] Accuracy(layer_0 - estimator_0 - 10_folds.train_3.predict)=98.46%\n",
      "[ 2018-04-26 14:33:19,416][kfold_wrapper.log_eval_metrics] Accuracy(layer_0 - estimator_0 - 10_folds.train_4.predict)=98.68%\n",
      "[ 2018-04-26 14:33:20,567][kfold_wrapper.log_eval_metrics] Accuracy(layer_0 - estimator_0 - 10_folds.train_5.predict)=98.90%\n",
      "[ 2018-04-26 14:33:21,667][kfold_wrapper.log_eval_metrics] Accuracy(layer_0 - estimator_0 - 10_folds.train_6.predict)=98.68%\n",
      "[ 2018-04-26 14:33:22,776][kfold_wrapper.log_eval_metrics] Accuracy(layer_0 - estimator_0 - 10_folds.train_7.predict)=98.25%\n",
      "[ 2018-04-26 14:33:23,988][kfold_wrapper.log_eval_metrics] Accuracy(layer_0 - estimator_0 - 10_folds.train_8.predict)=98.90%\n",
      "[ 2018-04-26 14:33:25,093][kfold_wrapper.log_eval_metrics] Accuracy(layer_0 - estimator_0 - 10_folds.train_9.predict)=99.12%\n",
      "[ 2018-04-26 14:33:25,336][kfold_wrapper.log_eval_metrics] Accuracy(layer_0 - estimator_0 - 10_folds.train_cv.predict)=98.88%\n",
      "[ 2018-04-26 14:33:25,337][kfold_wrapper.log_eval_metrics] Accuracy(layer_0 - estimator_0 - 10_folds.test.predict)=98.84%\n",
      "[ 2018-04-26 14:33:25,339][cascade_classifier.calc_accuracy] Accuracy(layer_0 - train.classifier_average)=98.88%\n",
      "[ 2018-04-26 14:33:25,341][cascade_classifier.calc_accuracy] Accuracy(layer_0 - test.classifier_average)=98.84%\n",
      "[ 2018-04-26 14:33:25,342][cascade_classifier.fit_transform] [Result][Reach Max Layer] opt_layer_num=1, accuracy_train=98.88%, accuracy_test=98.84%\n"
     ]
    }
   ],
   "source": [
    "         # X_enc is the concatenated predict_proba result of ExtraTrees\n",
    "\n",
    "X_train_enc, X_test_enc = gc.fit_transform(X_train, y_train, X_test=X_test, y_test=y_test)\n",
    "   "
   ]
  },
  {
   "cell_type": "code",
   "execution_count": 39,
   "metadata": {},
   "outputs": [
    {
     "name": "stderr",
     "output_type": "stream",
     "text": [
      "[ 2018-04-26 14:33:25,350][cascade_classifier.transform] X_groups_test.shape=[(2245, 21)]\n",
      "[ 2018-04-26 14:33:25,353][cascade_classifier.transform] group_dims=[21]\n",
      "[ 2018-04-26 14:33:25,354][cascade_classifier.transform] X_test.shape=(2245, 21)\n",
      "[ 2018-04-26 14:33:25,357][cascade_classifier.transform] [layer=0] look_indexs=[0], X_cur_test.shape=(2245, 21)\n"
     ]
    },
    {
     "name": "stdout",
     "output_type": "stream",
     "text": [
      "Test Accuracy of ExtraTrees = 98.841871 %\n"
     ]
    }
   ],
   "source": [
    "# predict\n",
    "y_pred = gc.predict(X_test)\n",
    "acc = accuracy_score(y_test, y_pred)\n",
    "print(\"Test Accuracy of ExtraTrees = {:.6f} %\".format(acc * 100))"
   ]
  },
  {
   "cell_type": "code",
   "execution_count": 40,
   "metadata": {},
   "outputs": [
    {
     "name": "stderr",
     "output_type": "stream",
     "text": [
      "[ 2018-04-26 14:33:27,868][cascade_classifier.transform] X_groups_test.shape=[(2245, 21)]\n",
      "[ 2018-04-26 14:33:27,870][cascade_classifier.transform] group_dims=[21]\n",
      "[ 2018-04-26 14:33:27,871][cascade_classifier.transform] X_test.shape=(2245, 21)\n",
      "[ 2018-04-26 14:33:27,873][cascade_classifier.transform] [layer=0] look_indexs=[0], X_cur_test.shape=(2245, 21)\n"
     ]
    }
   ],
   "source": [
    "# Make data + estimators\n",
    "X_test_enc = gc.transform(X_test)\n",
    "X_train_enc = X_train_enc.reshape((X_train_enc.shape[0], -1))\n",
    "X_test_enc = X_test_enc.reshape((X_test_enc.shape[0], -1))\n",
    "X_train_origin = X_train.reshape((X_train.shape[0], -1))\n",
    "X_test_origin = X_test.reshape((X_test.shape[0], -1))\n",
    "X_train_enc = np.hstack((X_train_origin, X_train_enc))\n",
    "X_test_enc = np.hstack((X_test_origin, X_test_enc))"
   ]
  },
  {
   "cell_type": "code",
   "execution_count": 41,
   "metadata": {},
   "outputs": [
    {
     "name": "stderr",
     "output_type": "stream",
     "text": [
      "[ 2018-04-26 14:33:30,483][cascade_classifier.fit_transform] X_groups_train.shape=[(4557, 23)],y_train.shape=(4557,),X_groups_test.shape=[(2245, 23)],y_test.shape=(2245,)\n",
      "[ 2018-04-26 14:33:30,486][cascade_classifier.fit_transform] group_dims=[23]\n",
      "[ 2018-04-26 14:33:30,487][cascade_classifier.fit_transform] group_starts=[0]\n",
      "[ 2018-04-26 14:33:30,489][cascade_classifier.fit_transform] group_ends=[23]\n",
      "[ 2018-04-26 14:33:30,490][cascade_classifier.fit_transform] X_train.shape=(4557, 23),X_test.shape=(2245, 23)\n",
      "[ 2018-04-26 14:33:30,493][cascade_classifier.fit_transform] [layer=0] look_indexs=[0], X_cur_train.shape=(4557, 23), X_cur_test.shape=(2245, 23)\n",
      "[ 2018-04-26 14:33:31,370][kfold_wrapper.log_eval_metrics] Accuracy(layer_0 - estimator_0 - 10_folds.train_0.predict)=98.68%\n",
      "[ 2018-04-26 14:33:32,432][kfold_wrapper.log_eval_metrics] Accuracy(layer_0 - estimator_0 - 10_folds.train_1.predict)=99.56%\n",
      "[ 2018-04-26 14:33:33,587][kfold_wrapper.log_eval_metrics] Accuracy(layer_0 - estimator_0 - 10_folds.train_2.predict)=99.56%\n",
      "[ 2018-04-26 14:33:34,712][kfold_wrapper.log_eval_metrics] Accuracy(layer_0 - estimator_0 - 10_folds.train_3.predict)=99.56%\n",
      "[ 2018-04-26 14:33:35,819][kfold_wrapper.log_eval_metrics] Accuracy(layer_0 - estimator_0 - 10_folds.train_4.predict)=98.68%\n",
      "[ 2018-04-26 14:33:36,949][kfold_wrapper.log_eval_metrics] Accuracy(layer_0 - estimator_0 - 10_folds.train_5.predict)=98.46%\n",
      "[ 2018-04-26 14:33:38,089][kfold_wrapper.log_eval_metrics] Accuracy(layer_0 - estimator_0 - 10_folds.train_6.predict)=98.90%\n",
      "[ 2018-04-26 14:33:39,161][kfold_wrapper.log_eval_metrics] Accuracy(layer_0 - estimator_0 - 10_folds.train_7.predict)=99.34%\n",
      "[ 2018-04-26 14:33:40,293][kfold_wrapper.log_eval_metrics] Accuracy(layer_0 - estimator_0 - 10_folds.train_8.predict)=99.34%\n",
      "[ 2018-04-26 14:33:41,370][kfold_wrapper.log_eval_metrics] Accuracy(layer_0 - estimator_0 - 10_folds.train_9.predict)=99.34%\n",
      "[ 2018-04-26 14:33:41,605][kfold_wrapper.log_eval_metrics] Accuracy(layer_0 - estimator_0 - 10_folds.train_cv.predict)=99.14%\n",
      "[ 2018-04-26 14:33:41,606][kfold_wrapper.log_eval_metrics] Accuracy(layer_0 - estimator_0 - 10_folds.test.predict)=99.11%\n",
      "[ 2018-04-26 14:33:41,617][cascade_classifier.calc_accuracy] Accuracy(layer_0 - train.classifier_average)=99.14%\n",
      "[ 2018-04-26 14:33:41,618][cascade_classifier.calc_accuracy] Accuracy(layer_0 - test.classifier_average)=99.11%\n",
      "[ 2018-04-26 14:33:41,619][cascade_classifier.fit_transform] [Result][Reach Max Layer] opt_layer_num=1, accuracy_train=99.14%, accuracy_test=99.11%\n"
     ]
    }
   ],
   "source": [
    "# New data\n",
    "X_train=X_train_enc\n",
    "X_test=X_test_enc \n",
    "X_train_enc, X_test_enc = gc.fit_transform(X_train, y_train, X_test=X_test, y_test=y_test)"
   ]
  },
  {
   "cell_type": "code",
   "execution_count": 42,
   "metadata": {},
   "outputs": [
    {
     "name": "stderr",
     "output_type": "stream",
     "text": [
      "[ 2018-04-26 14:33:41,628][cascade_classifier.transform] X_groups_test.shape=[(2245, 23)]\n",
      "[ 2018-04-26 14:33:41,630][cascade_classifier.transform] group_dims=[23]\n",
      "[ 2018-04-26 14:33:41,632][cascade_classifier.transform] X_test.shape=(2245, 23)\n",
      "[ 2018-04-26 14:33:41,634][cascade_classifier.transform] [layer=0] look_indexs=[0], X_cur_test.shape=(2245, 23)\n"
     ]
    },
    {
     "name": "stdout",
     "output_type": "stream",
     "text": [
      "Test Accuracy of ExtraTrees = 99.109131 %\n"
     ]
    }
   ],
   "source": [
    "# predict  data + Es\n",
    "y_pred = gc.predict(X_test)\n",
    "acc = accuracy_score(y_test, y_pred)\n",
    "print(\"Test Accuracy of ExtraTrees = {:.6f} %\".format(acc * 100))"
   ]
  },
  {
   "cell_type": "code",
   "execution_count": 43,
   "metadata": {
    "collapsed": true
   },
   "outputs": [],
   "source": [
    "def update(X_train,X_test):\n",
    "    # update Estimators\n",
    "    M = np.delete(X_train, (-1), axis=1)\n",
    "    X_train= np.delete(M, (-1), axis=1)\n",
    "    M = np.delete(X_test, (-1), axis=1)\n",
    "    X_test = np.delete(M, (-1), axis=1)\n",
    "    return X_train,X_test\n",
    "\n",
    "def newdata(X_test_enc, X_train_enc):\n",
    "    # Make Data + Estimators\n",
    "    X_train_origin = X_train.reshape((X_train.shape[0], -1))\n",
    "    X_test_origin = X_test.reshape((X_test.shape[0], -1))\n",
    "    X_train_enc = np.hstack((X_train_origin, X_train_enc))\n",
    "    X_test_enc = np.hstack((X_test_origin, X_test_enc))\n",
    "    return X_test_enc, X_train_enc\n",
    "\n",
    "def affiche():\n",
    "    # predict\n",
    "    y_pred = gc.predict(X_test)\n",
    "    acc = accuracy_score(y_test, y_pred)\n",
    "    print(\"Test Accuracy of ExtraTrees = {:.6f} %\".format(acc * 100),i,'fois')"
   ]
  },
  {
   "cell_type": "code",
   "execution_count": 44,
   "metadata": {},
   "outputs": [
    {
     "name": "stderr",
     "output_type": "stream",
     "text": [
      "[ 2018-04-26 14:33:44,247][cascade_classifier.fit_transform] X_groups_train.shape=[(4557, 23)],y_train.shape=(4557,),X_groups_test.shape=[(2245, 23)],y_test.shape=(2245,)\n",
      "[ 2018-04-26 14:33:44,249][cascade_classifier.fit_transform] group_dims=[23]\n",
      "[ 2018-04-26 14:33:44,250][cascade_classifier.fit_transform] group_starts=[0]\n",
      "[ 2018-04-26 14:33:44,251][cascade_classifier.fit_transform] group_ends=[23]\n",
      "[ 2018-04-26 14:33:44,252][cascade_classifier.fit_transform] X_train.shape=(4557, 23),X_test.shape=(2245, 23)\n",
      "[ 2018-04-26 14:33:44,254][cascade_classifier.fit_transform] [layer=0] look_indexs=[0], X_cur_train.shape=(4557, 23), X_cur_test.shape=(2245, 23)\n",
      "[ 2018-04-26 14:33:45,064][kfold_wrapper.log_eval_metrics] Accuracy(layer_0 - estimator_0 - 10_folds.train_0.predict)=98.68%\n",
      "[ 2018-04-26 14:33:46,139][kfold_wrapper.log_eval_metrics] Accuracy(layer_0 - estimator_0 - 10_folds.train_1.predict)=99.56%\n",
      "[ 2018-04-26 14:33:47,206][kfold_wrapper.log_eval_metrics] Accuracy(layer_0 - estimator_0 - 10_folds.train_2.predict)=99.56%\n",
      "[ 2018-04-26 14:33:48,318][kfold_wrapper.log_eval_metrics] Accuracy(layer_0 - estimator_0 - 10_folds.train_3.predict)=99.34%\n",
      "[ 2018-04-26 14:33:49,341][kfold_wrapper.log_eval_metrics] Accuracy(layer_0 - estimator_0 - 10_folds.train_4.predict)=98.46%\n",
      "[ 2018-04-26 14:33:50,415][kfold_wrapper.log_eval_metrics] Accuracy(layer_0 - estimator_0 - 10_folds.train_5.predict)=98.46%\n",
      "[ 2018-04-26 14:33:51,656][kfold_wrapper.log_eval_metrics] Accuracy(layer_0 - estimator_0 - 10_folds.train_6.predict)=98.68%\n",
      "[ 2018-04-26 14:33:52,705][kfold_wrapper.log_eval_metrics] Accuracy(layer_0 - estimator_0 - 10_folds.train_7.predict)=99.34%\n",
      "[ 2018-04-26 14:33:53,647][kfold_wrapper.log_eval_metrics] Accuracy(layer_0 - estimator_0 - 10_folds.train_8.predict)=99.78%\n",
      "[ 2018-04-26 14:33:54,656][kfold_wrapper.log_eval_metrics] Accuracy(layer_0 - estimator_0 - 10_folds.train_9.predict)=99.56%\n",
      "[ 2018-04-26 14:33:54,878][kfold_wrapper.log_eval_metrics] Accuracy(layer_0 - estimator_0 - 10_folds.train_cv.predict)=99.14%\n",
      "[ 2018-04-26 14:33:54,880][kfold_wrapper.log_eval_metrics] Accuracy(layer_0 - estimator_0 - 10_folds.test.predict)=99.11%\n",
      "[ 2018-04-26 14:33:54,891][cascade_classifier.calc_accuracy] Accuracy(layer_0 - train.classifier_average)=99.14%\n",
      "[ 2018-04-26 14:33:54,892][cascade_classifier.calc_accuracy] Accuracy(layer_0 - test.classifier_average)=99.11%\n",
      "[ 2018-04-26 14:33:54,893][cascade_classifier.fit_transform] [Result][Reach Max Layer] opt_layer_num=1, accuracy_train=99.14%, accuracy_test=99.11%\n",
      "[ 2018-04-26 14:33:54,895][cascade_classifier.transform] X_groups_test.shape=[(2245, 23)]\n",
      "[ 2018-04-26 14:33:54,897][cascade_classifier.transform] group_dims=[23]\n",
      "[ 2018-04-26 14:33:54,898][cascade_classifier.transform] X_test.shape=(2245, 23)\n",
      "[ 2018-04-26 14:33:54,899][cascade_classifier.transform] [layer=0] look_indexs=[0], X_cur_test.shape=(2245, 23)\n",
      "[ 2018-04-26 14:33:57,491][cascade_classifier.fit_transform] X_groups_train.shape=[(4557, 23)],y_train.shape=(4557,),X_groups_test.shape=[(2245, 23)],y_test.shape=(2245,)\n",
      "[ 2018-04-26 14:33:57,493][cascade_classifier.fit_transform] group_dims=[23]\n",
      "[ 2018-04-26 14:33:57,494][cascade_classifier.fit_transform] group_starts=[0]\n",
      "[ 2018-04-26 14:33:57,496][cascade_classifier.fit_transform] group_ends=[23]\n",
      "[ 2018-04-26 14:33:57,497][cascade_classifier.fit_transform] X_train.shape=(4557, 23),X_test.shape=(2245, 23)\n",
      "[ 2018-04-26 14:33:57,499][cascade_classifier.fit_transform] [layer=0] look_indexs=[0], X_cur_train.shape=(4557, 23), X_cur_test.shape=(2245, 23)\n"
     ]
    },
    {
     "name": "stdout",
     "output_type": "stream",
     "text": [
      "('Test Accuracy of ExtraTrees = 99.109131 %', 0, 'fois')\n",
      "('Time ', '10.651', ' seconds')\n"
     ]
    },
    {
     "name": "stderr",
     "output_type": "stream",
     "text": [
      "[ 2018-04-26 14:33:58,185][kfold_wrapper.log_eval_metrics] Accuracy(layer_0 - estimator_0 - 10_folds.train_0.predict)=98.68%\n",
      "[ 2018-04-26 14:33:59,280][kfold_wrapper.log_eval_metrics] Accuracy(layer_0 - estimator_0 - 10_folds.train_1.predict)=99.56%\n",
      "[ 2018-04-26 14:34:00,294][kfold_wrapper.log_eval_metrics] Accuracy(layer_0 - estimator_0 - 10_folds.train_2.predict)=99.34%\n",
      "[ 2018-04-26 14:34:01,477][kfold_wrapper.log_eval_metrics] Accuracy(layer_0 - estimator_0 - 10_folds.train_3.predict)=99.12%\n",
      "[ 2018-04-26 14:34:02,521][kfold_wrapper.log_eval_metrics] Accuracy(layer_0 - estimator_0 - 10_folds.train_4.predict)=98.68%\n",
      "[ 2018-04-26 14:34:03,592][kfold_wrapper.log_eval_metrics] Accuracy(layer_0 - estimator_0 - 10_folds.train_5.predict)=98.46%\n",
      "[ 2018-04-26 14:34:04,539][kfold_wrapper.log_eval_metrics] Accuracy(layer_0 - estimator_0 - 10_folds.train_6.predict)=98.68%\n",
      "[ 2018-04-26 14:34:05,578][kfold_wrapper.log_eval_metrics] Accuracy(layer_0 - estimator_0 - 10_folds.train_7.predict)=99.56%\n",
      "[ 2018-04-26 14:34:06,724][kfold_wrapper.log_eval_metrics] Accuracy(layer_0 - estimator_0 - 10_folds.train_8.predict)=99.78%\n",
      "[ 2018-04-26 14:34:07,881][kfold_wrapper.log_eval_metrics] Accuracy(layer_0 - estimator_0 - 10_folds.train_9.predict)=99.56%\n",
      "[ 2018-04-26 14:34:08,121][kfold_wrapper.log_eval_metrics] Accuracy(layer_0 - estimator_0 - 10_folds.train_cv.predict)=99.14%\n",
      "[ 2018-04-26 14:34:08,123][kfold_wrapper.log_eval_metrics] Accuracy(layer_0 - estimator_0 - 10_folds.test.predict)=98.98%\n",
      "[ 2018-04-26 14:34:08,135][cascade_classifier.calc_accuracy] Accuracy(layer_0 - train.classifier_average)=99.14%\n",
      "[ 2018-04-26 14:34:08,136][cascade_classifier.calc_accuracy] Accuracy(layer_0 - test.classifier_average)=98.98%\n",
      "[ 2018-04-26 14:34:08,138][cascade_classifier.fit_transform] [Result][Reach Max Layer] opt_layer_num=1, accuracy_train=99.14%, accuracy_test=98.98%\n",
      "[ 2018-04-26 14:34:08,139][cascade_classifier.transform] X_groups_test.shape=[(2245, 23)]\n",
      "[ 2018-04-26 14:34:08,141][cascade_classifier.transform] group_dims=[23]\n",
      "[ 2018-04-26 14:34:08,142][cascade_classifier.transform] X_test.shape=(2245, 23)\n",
      "[ 2018-04-26 14:34:08,144][cascade_classifier.transform] [layer=0] look_indexs=[0], X_cur_test.shape=(2245, 23)\n",
      "[ 2018-04-26 14:34:10,661][cascade_classifier.fit_transform] X_groups_train.shape=[(4557, 23)],y_train.shape=(4557,),X_groups_test.shape=[(2245, 23)],y_test.shape=(2245,)\n",
      "[ 2018-04-26 14:34:10,663][cascade_classifier.fit_transform] group_dims=[23]\n",
      "[ 2018-04-26 14:34:10,664][cascade_classifier.fit_transform] group_starts=[0]\n",
      "[ 2018-04-26 14:34:10,665][cascade_classifier.fit_transform] group_ends=[23]\n",
      "[ 2018-04-26 14:34:10,666][cascade_classifier.fit_transform] X_train.shape=(4557, 23),X_test.shape=(2245, 23)\n",
      "[ 2018-04-26 14:34:10,669][cascade_classifier.fit_transform] [layer=0] look_indexs=[0], X_cur_train.shape=(4557, 23), X_cur_test.shape=(2245, 23)\n"
     ]
    },
    {
     "name": "stdout",
     "output_type": "stream",
     "text": [
      "('Test Accuracy of ExtraTrees = 98.975501 %', 1, 'fois')\n",
      "('Time ', '10.65', ' seconds')\n"
     ]
    },
    {
     "name": "stderr",
     "output_type": "stream",
     "text": [
      "[ 2018-04-26 14:34:11,376][kfold_wrapper.log_eval_metrics] Accuracy(layer_0 - estimator_0 - 10_folds.train_0.predict)=98.46%\n",
      "[ 2018-04-26 14:34:12,403][kfold_wrapper.log_eval_metrics] Accuracy(layer_0 - estimator_0 - 10_folds.train_1.predict)=99.34%\n",
      "[ 2018-04-26 14:34:13,530][kfold_wrapper.log_eval_metrics] Accuracy(layer_0 - estimator_0 - 10_folds.train_2.predict)=99.34%\n",
      "[ 2018-04-26 14:34:14,655][kfold_wrapper.log_eval_metrics] Accuracy(layer_0 - estimator_0 - 10_folds.train_3.predict)=99.12%\n",
      "[ 2018-04-26 14:34:15,813][kfold_wrapper.log_eval_metrics] Accuracy(layer_0 - estimator_0 - 10_folds.train_4.predict)=98.68%\n",
      "[ 2018-04-26 14:34:16,951][kfold_wrapper.log_eval_metrics] Accuracy(layer_0 - estimator_0 - 10_folds.train_5.predict)=98.25%\n",
      "[ 2018-04-26 14:34:18,045][kfold_wrapper.log_eval_metrics] Accuracy(layer_0 - estimator_0 - 10_folds.train_6.predict)=98.90%\n",
      "[ 2018-04-26 14:34:19,181][kfold_wrapper.log_eval_metrics] Accuracy(layer_0 - estimator_0 - 10_folds.train_7.predict)=99.12%\n",
      "[ 2018-04-26 14:34:20,242][kfold_wrapper.log_eval_metrics] Accuracy(layer_0 - estimator_0 - 10_folds.train_8.predict)=99.78%\n",
      "[ 2018-04-26 14:34:21,336][kfold_wrapper.log_eval_metrics] Accuracy(layer_0 - estimator_0 - 10_folds.train_9.predict)=99.34%\n",
      "[ 2018-04-26 14:34:21,577][kfold_wrapper.log_eval_metrics] Accuracy(layer_0 - estimator_0 - 10_folds.train_cv.predict)=99.03%\n",
      "[ 2018-04-26 14:34:21,578][kfold_wrapper.log_eval_metrics] Accuracy(layer_0 - estimator_0 - 10_folds.test.predict)=99.06%\n",
      "[ 2018-04-26 14:34:21,588][cascade_classifier.calc_accuracy] Accuracy(layer_0 - train.classifier_average)=99.03%\n",
      "[ 2018-04-26 14:34:21,590][cascade_classifier.calc_accuracy] Accuracy(layer_0 - test.classifier_average)=99.06%\n",
      "[ 2018-04-26 14:34:21,591][cascade_classifier.fit_transform] [Result][Reach Max Layer] opt_layer_num=1, accuracy_train=99.03%, accuracy_test=99.06%\n",
      "[ 2018-04-26 14:34:21,593][cascade_classifier.transform] X_groups_test.shape=[(2245, 23)]\n",
      "[ 2018-04-26 14:34:21,595][cascade_classifier.transform] group_dims=[23]\n",
      "[ 2018-04-26 14:34:21,596][cascade_classifier.transform] X_test.shape=(2245, 23)\n",
      "[ 2018-04-26 14:34:21,598][cascade_classifier.transform] [layer=0] look_indexs=[0], X_cur_test.shape=(2245, 23)\n",
      "[ 2018-04-26 14:34:24,190][cascade_classifier.fit_transform] X_groups_train.shape=[(4557, 23)],y_train.shape=(4557,),X_groups_test.shape=[(2245, 23)],y_test.shape=(2245,)\n",
      "[ 2018-04-26 14:34:24,192][cascade_classifier.fit_transform] group_dims=[23]\n",
      "[ 2018-04-26 14:34:24,193][cascade_classifier.fit_transform] group_starts=[0]\n",
      "[ 2018-04-26 14:34:24,194][cascade_classifier.fit_transform] group_ends=[23]\n",
      "[ 2018-04-26 14:34:24,195][cascade_classifier.fit_transform] X_train.shape=(4557, 23),X_test.shape=(2245, 23)\n",
      "[ 2018-04-26 14:34:24,197][cascade_classifier.fit_transform] [layer=0] look_indexs=[0], X_cur_train.shape=(4557, 23), X_cur_test.shape=(2245, 23)\n"
     ]
    },
    {
     "name": "stdout",
     "output_type": "stream",
     "text": [
      "('Test Accuracy of ExtraTrees = 99.064588 %', 2, 'fois')\n",
      "('Time ', '10.936', ' seconds')\n"
     ]
    },
    {
     "name": "stderr",
     "output_type": "stream",
     "text": [
      "[ 2018-04-26 14:34:24,981][kfold_wrapper.log_eval_metrics] Accuracy(layer_0 - estimator_0 - 10_folds.train_0.predict)=98.68%\n",
      "[ 2018-04-26 14:34:26,067][kfold_wrapper.log_eval_metrics] Accuracy(layer_0 - estimator_0 - 10_folds.train_1.predict)=99.34%\n",
      "[ 2018-04-26 14:34:27,171][kfold_wrapper.log_eval_metrics] Accuracy(layer_0 - estimator_0 - 10_folds.train_2.predict)=99.12%\n",
      "[ 2018-04-26 14:34:28,310][kfold_wrapper.log_eval_metrics] Accuracy(layer_0 - estimator_0 - 10_folds.train_3.predict)=99.34%\n",
      "[ 2018-04-26 14:34:29,415][kfold_wrapper.log_eval_metrics] Accuracy(layer_0 - estimator_0 - 10_folds.train_4.predict)=98.46%\n",
      "[ 2018-04-26 14:34:30,469][kfold_wrapper.log_eval_metrics] Accuracy(layer_0 - estimator_0 - 10_folds.train_5.predict)=98.46%\n",
      "[ 2018-04-26 14:34:31,558][kfold_wrapper.log_eval_metrics] Accuracy(layer_0 - estimator_0 - 10_folds.train_6.predict)=98.90%\n",
      "[ 2018-04-26 14:34:32,639][kfold_wrapper.log_eval_metrics] Accuracy(layer_0 - estimator_0 - 10_folds.train_7.predict)=99.34%\n",
      "[ 2018-04-26 14:34:33,852][kfold_wrapper.log_eval_metrics] Accuracy(layer_0 - estimator_0 - 10_folds.train_8.predict)=99.56%\n",
      "[ 2018-04-26 14:34:34,980][kfold_wrapper.log_eval_metrics] Accuracy(layer_0 - estimator_0 - 10_folds.train_9.predict)=99.56%\n",
      "[ 2018-04-26 14:34:35,261][kfold_wrapper.log_eval_metrics] Accuracy(layer_0 - estimator_0 - 10_folds.train_cv.predict)=99.08%\n",
      "[ 2018-04-26 14:34:35,262][kfold_wrapper.log_eval_metrics] Accuracy(layer_0 - estimator_0 - 10_folds.test.predict)=99.15%\n",
      "[ 2018-04-26 14:34:35,276][cascade_classifier.calc_accuracy] Accuracy(layer_0 - train.classifier_average)=99.08%\n",
      "[ 2018-04-26 14:34:35,277][cascade_classifier.calc_accuracy] Accuracy(layer_0 - test.classifier_average)=99.15%\n",
      "[ 2018-04-26 14:34:35,279][cascade_classifier.fit_transform] [Result][Reach Max Layer] opt_layer_num=1, accuracy_train=99.08%, accuracy_test=99.15%\n",
      "[ 2018-04-26 14:34:35,280][cascade_classifier.transform] X_groups_test.shape=[(2245, 23)]\n",
      "[ 2018-04-26 14:34:35,282][cascade_classifier.transform] group_dims=[23]\n",
      "[ 2018-04-26 14:34:35,283][cascade_classifier.transform] X_test.shape=(2245, 23)\n",
      "[ 2018-04-26 14:34:35,285][cascade_classifier.transform] [layer=0] look_indexs=[0], X_cur_test.shape=(2245, 23)\n",
      "[ 2018-04-26 14:34:37,912][cascade_classifier.fit_transform] X_groups_train.shape=[(4557, 23)],y_train.shape=(4557,),X_groups_test.shape=[(2245, 23)],y_test.shape=(2245,)\n",
      "[ 2018-04-26 14:34:37,914][cascade_classifier.fit_transform] group_dims=[23]\n",
      "[ 2018-04-26 14:34:37,915][cascade_classifier.fit_transform] group_starts=[0]\n",
      "[ 2018-04-26 14:34:37,916][cascade_classifier.fit_transform] group_ends=[23]\n",
      "[ 2018-04-26 14:34:37,918][cascade_classifier.fit_transform] X_train.shape=(4557, 23),X_test.shape=(2245, 23)\n",
      "[ 2018-04-26 14:34:37,920][cascade_classifier.fit_transform] [layer=0] look_indexs=[0], X_cur_train.shape=(4557, 23), X_cur_test.shape=(2245, 23)\n"
     ]
    },
    {
     "name": "stdout",
     "output_type": "stream",
     "text": [
      "('Test Accuracy of ExtraTrees = 99.153675 %', 3, 'fois')\n",
      "('Time ', '11.095', ' seconds')\n"
     ]
    },
    {
     "name": "stderr",
     "output_type": "stream",
     "text": [
      "[ 2018-04-26 14:34:38,743][kfold_wrapper.log_eval_metrics] Accuracy(layer_0 - estimator_0 - 10_folds.train_0.predict)=98.68%\n",
      "[ 2018-04-26 14:34:39,891][kfold_wrapper.log_eval_metrics] Accuracy(layer_0 - estimator_0 - 10_folds.train_1.predict)=99.34%\n",
      "[ 2018-04-26 14:34:40,930][kfold_wrapper.log_eval_metrics] Accuracy(layer_0 - estimator_0 - 10_folds.train_2.predict)=99.12%\n",
      "[ 2018-04-26 14:34:42,104][kfold_wrapper.log_eval_metrics] Accuracy(layer_0 - estimator_0 - 10_folds.train_3.predict)=99.34%\n",
      "[ 2018-04-26 14:34:43,161][kfold_wrapper.log_eval_metrics] Accuracy(layer_0 - estimator_0 - 10_folds.train_4.predict)=98.46%\n",
      "[ 2018-04-26 14:34:44,238][kfold_wrapper.log_eval_metrics] Accuracy(layer_0 - estimator_0 - 10_folds.train_5.predict)=98.68%\n",
      "[ 2018-04-26 14:34:45,327][kfold_wrapper.log_eval_metrics] Accuracy(layer_0 - estimator_0 - 10_folds.train_6.predict)=99.12%\n",
      "[ 2018-04-26 14:34:46,519][kfold_wrapper.log_eval_metrics] Accuracy(layer_0 - estimator_0 - 10_folds.train_7.predict)=99.12%\n",
      "[ 2018-04-26 14:34:47,603][kfold_wrapper.log_eval_metrics] Accuracy(layer_0 - estimator_0 - 10_folds.train_8.predict)=99.78%\n",
      "[ 2018-04-26 14:34:48,664][kfold_wrapper.log_eval_metrics] Accuracy(layer_0 - estimator_0 - 10_folds.train_9.predict)=99.56%\n",
      "[ 2018-04-26 14:34:48,934][kfold_wrapper.log_eval_metrics] Accuracy(layer_0 - estimator_0 - 10_folds.train_cv.predict)=99.12%\n",
      "[ 2018-04-26 14:34:48,935][kfold_wrapper.log_eval_metrics] Accuracy(layer_0 - estimator_0 - 10_folds.test.predict)=99.15%\n",
      "[ 2018-04-26 14:34:48,947][cascade_classifier.calc_accuracy] Accuracy(layer_0 - train.classifier_average)=99.12%\n",
      "[ 2018-04-26 14:34:48,949][cascade_classifier.calc_accuracy] Accuracy(layer_0 - test.classifier_average)=99.15%\n",
      "[ 2018-04-26 14:34:48,950][cascade_classifier.fit_transform] [Result][Reach Max Layer] opt_layer_num=1, accuracy_train=99.12%, accuracy_test=99.15%\n",
      "[ 2018-04-26 14:34:48,952][cascade_classifier.transform] X_groups_test.shape=[(2245, 23)]\n",
      "[ 2018-04-26 14:34:48,954][cascade_classifier.transform] group_dims=[23]\n",
      "[ 2018-04-26 14:34:48,955][cascade_classifier.transform] X_test.shape=(2245, 23)\n",
      "[ 2018-04-26 14:34:48,956][cascade_classifier.transform] [layer=0] look_indexs=[0], X_cur_test.shape=(2245, 23)\n",
      "[ 2018-04-26 14:34:51,582][cascade_classifier.fit_transform] X_groups_train.shape=[(4557, 23)],y_train.shape=(4557,),X_groups_test.shape=[(2245, 23)],y_test.shape=(2245,)\n",
      "[ 2018-04-26 14:34:51,584][cascade_classifier.fit_transform] group_dims=[23]\n",
      "[ 2018-04-26 14:34:51,585][cascade_classifier.fit_transform] group_starts=[0]\n",
      "[ 2018-04-26 14:34:51,586][cascade_classifier.fit_transform] group_ends=[23]\n",
      "[ 2018-04-26 14:34:51,587][cascade_classifier.fit_transform] X_train.shape=(4557, 23),X_test.shape=(2245, 23)\n",
      "[ 2018-04-26 14:34:51,590][cascade_classifier.fit_transform] [layer=0] look_indexs=[0], X_cur_train.shape=(4557, 23), X_cur_test.shape=(2245, 23)\n"
     ]
    },
    {
     "name": "stdout",
     "output_type": "stream",
     "text": [
      "('Test Accuracy of ExtraTrees = 99.153675 %', 4, 'fois')\n",
      "('Time ', '11.045', ' seconds')\n"
     ]
    },
    {
     "name": "stderr",
     "output_type": "stream",
     "text": [
      "[ 2018-04-26 14:34:52,417][kfold_wrapper.log_eval_metrics] Accuracy(layer_0 - estimator_0 - 10_folds.train_0.predict)=98.68%\n",
      "[ 2018-04-26 14:34:53,251][kfold_wrapper.log_eval_metrics] Accuracy(layer_0 - estimator_0 - 10_folds.train_1.predict)=99.34%\n",
      "[ 2018-04-26 14:34:54,183][kfold_wrapper.log_eval_metrics] Accuracy(layer_0 - estimator_0 - 10_folds.train_2.predict)=99.12%\n",
      "[ 2018-04-26 14:34:55,275][kfold_wrapper.log_eval_metrics] Accuracy(layer_0 - estimator_0 - 10_folds.train_3.predict)=99.12%\n",
      "[ 2018-04-26 14:34:56,395][kfold_wrapper.log_eval_metrics] Accuracy(layer_0 - estimator_0 - 10_folds.train_4.predict)=98.68%\n",
      "[ 2018-04-26 14:34:57,475][kfold_wrapper.log_eval_metrics] Accuracy(layer_0 - estimator_0 - 10_folds.train_5.predict)=98.68%\n",
      "[ 2018-04-26 14:34:58,538][kfold_wrapper.log_eval_metrics] Accuracy(layer_0 - estimator_0 - 10_folds.train_6.predict)=99.12%\n",
      "[ 2018-04-26 14:34:59,668][kfold_wrapper.log_eval_metrics] Accuracy(layer_0 - estimator_0 - 10_folds.train_7.predict)=99.12%\n",
      "[ 2018-04-26 14:35:00,746][kfold_wrapper.log_eval_metrics] Accuracy(layer_0 - estimator_0 - 10_folds.train_8.predict)=99.78%\n",
      "[ 2018-04-26 14:35:01,851][kfold_wrapper.log_eval_metrics] Accuracy(layer_0 - estimator_0 - 10_folds.train_9.predict)=99.34%\n",
      "[ 2018-04-26 14:35:02,120][kfold_wrapper.log_eval_metrics] Accuracy(layer_0 - estimator_0 - 10_folds.train_cv.predict)=99.10%\n",
      "[ 2018-04-26 14:35:02,122][kfold_wrapper.log_eval_metrics] Accuracy(layer_0 - estimator_0 - 10_folds.test.predict)=99.15%\n",
      "[ 2018-04-26 14:35:02,131][cascade_classifier.calc_accuracy] Accuracy(layer_0 - train.classifier_average)=99.10%\n",
      "[ 2018-04-26 14:35:02,132][cascade_classifier.calc_accuracy] Accuracy(layer_0 - test.classifier_average)=99.15%\n",
      "[ 2018-04-26 14:35:02,133][cascade_classifier.fit_transform] [Result][Reach Max Layer] opt_layer_num=1, accuracy_train=99.10%, accuracy_test=99.15%\n",
      "[ 2018-04-26 14:35:02,134][cascade_classifier.transform] X_groups_test.shape=[(2245, 23)]\n",
      "[ 2018-04-26 14:35:02,137][cascade_classifier.transform] group_dims=[23]\n",
      "[ 2018-04-26 14:35:02,138][cascade_classifier.transform] X_test.shape=(2245, 23)\n",
      "[ 2018-04-26 14:35:02,139][cascade_classifier.transform] [layer=0] look_indexs=[0], X_cur_test.shape=(2245, 23)\n",
      "[ 2018-04-26 14:35:04,776][cascade_classifier.fit_transform] X_groups_train.shape=[(4557, 23)],y_train.shape=(4557,),X_groups_test.shape=[(2245, 23)],y_test.shape=(2245,)\n",
      "[ 2018-04-26 14:35:04,779][cascade_classifier.fit_transform] group_dims=[23]\n",
      "[ 2018-04-26 14:35:04,780][cascade_classifier.fit_transform] group_starts=[0]\n",
      "[ 2018-04-26 14:35:04,781][cascade_classifier.fit_transform] group_ends=[23]\n",
      "[ 2018-04-26 14:35:04,782][cascade_classifier.fit_transform] X_train.shape=(4557, 23),X_test.shape=(2245, 23)\n",
      "[ 2018-04-26 14:35:04,784][cascade_classifier.fit_transform] [layer=0] look_indexs=[0], X_cur_train.shape=(4557, 23), X_cur_test.shape=(2245, 23)\n"
     ]
    },
    {
     "name": "stdout",
     "output_type": "stream",
     "text": [
      "('Test Accuracy of ExtraTrees = 99.153675 %', 5, 'fois')\n",
      "('Time ', '10.556', ' seconds')\n"
     ]
    },
    {
     "name": "stderr",
     "output_type": "stream",
     "text": [
      "[ 2018-04-26 14:35:05,654][kfold_wrapper.log_eval_metrics] Accuracy(layer_0 - estimator_0 - 10_folds.train_0.predict)=98.46%\n",
      "[ 2018-04-26 14:35:06,763][kfold_wrapper.log_eval_metrics] Accuracy(layer_0 - estimator_0 - 10_folds.train_1.predict)=99.34%\n",
      "[ 2018-04-26 14:35:07,850][kfold_wrapper.log_eval_metrics] Accuracy(layer_0 - estimator_0 - 10_folds.train_2.predict)=99.34%\n",
      "[ 2018-04-26 14:35:09,033][kfold_wrapper.log_eval_metrics] Accuracy(layer_0 - estimator_0 - 10_folds.train_3.predict)=99.12%\n",
      "[ 2018-04-26 14:35:10,142][kfold_wrapper.log_eval_metrics] Accuracy(layer_0 - estimator_0 - 10_folds.train_4.predict)=98.46%\n",
      "[ 2018-04-26 14:35:11,310][kfold_wrapper.log_eval_metrics] Accuracy(layer_0 - estimator_0 - 10_folds.train_5.predict)=98.68%\n",
      "[ 2018-04-26 14:35:12,372][kfold_wrapper.log_eval_metrics] Accuracy(layer_0 - estimator_0 - 10_folds.train_6.predict)=99.12%\n",
      "[ 2018-04-26 14:35:13,455][kfold_wrapper.log_eval_metrics] Accuracy(layer_0 - estimator_0 - 10_folds.train_7.predict)=98.90%\n",
      "[ 2018-04-26 14:35:14,585][kfold_wrapper.log_eval_metrics] Accuracy(layer_0 - estimator_0 - 10_folds.train_8.predict)=99.78%\n",
      "[ 2018-04-26 14:35:15,775][kfold_wrapper.log_eval_metrics] Accuracy(layer_0 - estimator_0 - 10_folds.train_9.predict)=99.12%\n",
      "[ 2018-04-26 14:35:16,033][kfold_wrapper.log_eval_metrics] Accuracy(layer_0 - estimator_0 - 10_folds.train_cv.predict)=99.03%\n",
      "[ 2018-04-26 14:35:16,035][kfold_wrapper.log_eval_metrics] Accuracy(layer_0 - estimator_0 - 10_folds.test.predict)=99.20%\n",
      "[ 2018-04-26 14:35:16,044][cascade_classifier.calc_accuracy] Accuracy(layer_0 - train.classifier_average)=99.03%\n",
      "[ 2018-04-26 14:35:16,046][cascade_classifier.calc_accuracy] Accuracy(layer_0 - test.classifier_average)=99.20%\n",
      "[ 2018-04-26 14:35:16,047][cascade_classifier.fit_transform] [Result][Reach Max Layer] opt_layer_num=1, accuracy_train=99.03%, accuracy_test=99.20%\n",
      "[ 2018-04-26 14:35:16,048][cascade_classifier.transform] X_groups_test.shape=[(2245, 23)]\n",
      "[ 2018-04-26 14:35:16,050][cascade_classifier.transform] group_dims=[23]\n",
      "[ 2018-04-26 14:35:16,051][cascade_classifier.transform] X_test.shape=(2245, 23)\n",
      "[ 2018-04-26 14:35:16,052][cascade_classifier.transform] [layer=0] look_indexs=[0], X_cur_test.shape=(2245, 23)\n",
      "[ 2018-04-26 14:35:18,590][cascade_classifier.fit_transform] X_groups_train.shape=[(4557, 23)],y_train.shape=(4557,),X_groups_test.shape=[(2245, 23)],y_test.shape=(2245,)\n",
      "[ 2018-04-26 14:35:18,592][cascade_classifier.fit_transform] group_dims=[23]\n",
      "[ 2018-04-26 14:35:18,593][cascade_classifier.fit_transform] group_starts=[0]\n",
      "[ 2018-04-26 14:35:18,594][cascade_classifier.fit_transform] group_ends=[23]\n",
      "[ 2018-04-26 14:35:18,595][cascade_classifier.fit_transform] X_train.shape=(4557, 23),X_test.shape=(2245, 23)\n",
      "[ 2018-04-26 14:35:18,597][cascade_classifier.fit_transform] [layer=0] look_indexs=[0], X_cur_train.shape=(4557, 23), X_cur_test.shape=(2245, 23)\n"
     ]
    },
    {
     "name": "stdout",
     "output_type": "stream",
     "text": [
      "('Test Accuracy of ExtraTrees = 99.198218 %', 6, 'fois')\n",
      "('Time ', '11.274', ' seconds')\n"
     ]
    },
    {
     "name": "stderr",
     "output_type": "stream",
     "text": [
      "[ 2018-04-26 14:35:19,427][kfold_wrapper.log_eval_metrics] Accuracy(layer_0 - estimator_0 - 10_folds.train_0.predict)=98.46%\n",
      "[ 2018-04-26 14:35:20,547][kfold_wrapper.log_eval_metrics] Accuracy(layer_0 - estimator_0 - 10_folds.train_1.predict)=99.12%\n",
      "[ 2018-04-26 14:35:21,623][kfold_wrapper.log_eval_metrics] Accuracy(layer_0 - estimator_0 - 10_folds.train_2.predict)=99.56%\n",
      "[ 2018-04-26 14:35:22,769][kfold_wrapper.log_eval_metrics] Accuracy(layer_0 - estimator_0 - 10_folds.train_3.predict)=99.12%\n",
      "[ 2018-04-26 14:35:23,890][kfold_wrapper.log_eval_metrics] Accuracy(layer_0 - estimator_0 - 10_folds.train_4.predict)=98.46%\n",
      "[ 2018-04-26 14:35:24,953][kfold_wrapper.log_eval_metrics] Accuracy(layer_0 - estimator_0 - 10_folds.train_5.predict)=98.68%\n",
      "[ 2018-04-26 14:35:26,076][kfold_wrapper.log_eval_metrics] Accuracy(layer_0 - estimator_0 - 10_folds.train_6.predict)=98.90%\n",
      "[ 2018-04-26 14:35:27,167][kfold_wrapper.log_eval_metrics] Accuracy(layer_0 - estimator_0 - 10_folds.train_7.predict)=99.12%\n",
      "[ 2018-04-26 14:35:28,233][kfold_wrapper.log_eval_metrics] Accuracy(layer_0 - estimator_0 - 10_folds.train_8.predict)=99.56%\n",
      "[ 2018-04-26 14:35:29,340][kfold_wrapper.log_eval_metrics] Accuracy(layer_0 - estimator_0 - 10_folds.train_9.predict)=98.46%\n",
      "[ 2018-04-26 14:35:29,597][kfold_wrapper.log_eval_metrics] Accuracy(layer_0 - estimator_0 - 10_folds.train_cv.predict)=98.95%\n",
      "[ 2018-04-26 14:35:29,599][kfold_wrapper.log_eval_metrics] Accuracy(layer_0 - estimator_0 - 10_folds.test.predict)=99.20%\n",
      "[ 2018-04-26 14:35:29,610][cascade_classifier.calc_accuracy] Accuracy(layer_0 - train.classifier_average)=98.95%\n",
      "[ 2018-04-26 14:35:29,612][cascade_classifier.calc_accuracy] Accuracy(layer_0 - test.classifier_average)=99.20%\n",
      "[ 2018-04-26 14:35:29,613][cascade_classifier.fit_transform] [Result][Reach Max Layer] opt_layer_num=1, accuracy_train=98.95%, accuracy_test=99.20%\n",
      "[ 2018-04-26 14:35:29,614][cascade_classifier.transform] X_groups_test.shape=[(2245, 23)]\n",
      "[ 2018-04-26 14:35:29,616][cascade_classifier.transform] group_dims=[23]\n",
      "[ 2018-04-26 14:35:29,617][cascade_classifier.transform] X_test.shape=(2245, 23)\n",
      "[ 2018-04-26 14:35:29,619][cascade_classifier.transform] [layer=0] look_indexs=[0], X_cur_test.shape=(2245, 23)\n",
      "[ 2018-04-26 14:35:32,210][cascade_classifier.fit_transform] X_groups_train.shape=[(4557, 23)],y_train.shape=(4557,),X_groups_test.shape=[(2245, 23)],y_test.shape=(2245,)\n",
      "[ 2018-04-26 14:35:32,212][cascade_classifier.fit_transform] group_dims=[23]\n",
      "[ 2018-04-26 14:35:32,214][cascade_classifier.fit_transform] group_starts=[0]\n",
      "[ 2018-04-26 14:35:32,215][cascade_classifier.fit_transform] group_ends=[23]\n",
      "[ 2018-04-26 14:35:32,216][cascade_classifier.fit_transform] X_train.shape=(4557, 23),X_test.shape=(2245, 23)\n",
      "[ 2018-04-26 14:35:32,218][cascade_classifier.fit_transform] [layer=0] look_indexs=[0], X_cur_train.shape=(4557, 23), X_cur_test.shape=(2245, 23)\n"
     ]
    },
    {
     "name": "stdout",
     "output_type": "stream",
     "text": [
      "('Test Accuracy of ExtraTrees = 99.198218 %', 7, 'fois')\n",
      "('Time ', '11.026', ' seconds')\n"
     ]
    },
    {
     "name": "stderr",
     "output_type": "stream",
     "text": [
      "[ 2018-04-26 14:35:33,071][kfold_wrapper.log_eval_metrics] Accuracy(layer_0 - estimator_0 - 10_folds.train_0.predict)=98.68%\n",
      "[ 2018-04-26 14:35:34,169][kfold_wrapper.log_eval_metrics] Accuracy(layer_0 - estimator_0 - 10_folds.train_1.predict)=99.12%\n",
      "[ 2018-04-26 14:35:35,206][kfold_wrapper.log_eval_metrics] Accuracy(layer_0 - estimator_0 - 10_folds.train_2.predict)=99.34%\n",
      "[ 2018-04-26 14:35:36,271][kfold_wrapper.log_eval_metrics] Accuracy(layer_0 - estimator_0 - 10_folds.train_3.predict)=99.12%\n",
      "[ 2018-04-26 14:35:37,344][kfold_wrapper.log_eval_metrics] Accuracy(layer_0 - estimator_0 - 10_folds.train_4.predict)=98.68%\n",
      "[ 2018-04-26 14:35:38,542][kfold_wrapper.log_eval_metrics] Accuracy(layer_0 - estimator_0 - 10_folds.train_5.predict)=98.90%\n",
      "[ 2018-04-26 14:35:39,674][kfold_wrapper.log_eval_metrics] Accuracy(layer_0 - estimator_0 - 10_folds.train_6.predict)=99.12%\n",
      "[ 2018-04-26 14:35:40,765][kfold_wrapper.log_eval_metrics] Accuracy(layer_0 - estimator_0 - 10_folds.train_7.predict)=99.12%\n",
      "[ 2018-04-26 14:35:41,897][kfold_wrapper.log_eval_metrics] Accuracy(layer_0 - estimator_0 - 10_folds.train_8.predict)=99.56%\n",
      "[ 2018-04-26 14:35:42,966][kfold_wrapper.log_eval_metrics] Accuracy(layer_0 - estimator_0 - 10_folds.train_9.predict)=98.68%\n",
      "[ 2018-04-26 14:35:43,205][kfold_wrapper.log_eval_metrics] Accuracy(layer_0 - estimator_0 - 10_folds.train_cv.predict)=99.03%\n",
      "[ 2018-04-26 14:35:43,207][kfold_wrapper.log_eval_metrics] Accuracy(layer_0 - estimator_0 - 10_folds.test.predict)=99.15%\n",
      "[ 2018-04-26 14:35:43,216][cascade_classifier.calc_accuracy] Accuracy(layer_0 - train.classifier_average)=99.03%\n",
      "[ 2018-04-26 14:35:43,217][cascade_classifier.calc_accuracy] Accuracy(layer_0 - test.classifier_average)=99.15%\n",
      "[ 2018-04-26 14:35:43,219][cascade_classifier.fit_transform] [Result][Reach Max Layer] opt_layer_num=1, accuracy_train=99.03%, accuracy_test=99.15%\n",
      "[ 2018-04-26 14:35:43,220][cascade_classifier.transform] X_groups_test.shape=[(2245, 23)]\n",
      "[ 2018-04-26 14:35:43,222][cascade_classifier.transform] group_dims=[23]\n",
      "[ 2018-04-26 14:35:43,223][cascade_classifier.transform] X_test.shape=(2245, 23)\n",
      "[ 2018-04-26 14:35:43,224][cascade_classifier.transform] [layer=0] look_indexs=[0], X_cur_test.shape=(2245, 23)\n",
      "[ 2018-04-26 14:35:45,927][cascade_classifier.fit_transform] X_groups_train.shape=[(4557, 23)],y_train.shape=(4557,),X_groups_test.shape=[(2245, 23)],y_test.shape=(2245,)\n",
      "[ 2018-04-26 14:35:45,929][cascade_classifier.fit_transform] group_dims=[23]\n",
      "[ 2018-04-26 14:35:45,930][cascade_classifier.fit_transform] group_starts=[0]\n",
      "[ 2018-04-26 14:35:45,932][cascade_classifier.fit_transform] group_ends=[23]\n",
      "[ 2018-04-26 14:35:45,933][cascade_classifier.fit_transform] X_train.shape=(4557, 23),X_test.shape=(2245, 23)\n",
      "[ 2018-04-26 14:35:45,934][cascade_classifier.fit_transform] [layer=0] look_indexs=[0], X_cur_train.shape=(4557, 23), X_cur_test.shape=(2245, 23)\n"
     ]
    },
    {
     "name": "stdout",
     "output_type": "stream",
     "text": [
      "('Test Accuracy of ExtraTrees = 99.153675 %', 8, 'fois')\n",
      "('Time ', '11.012', ' seconds')\n"
     ]
    },
    {
     "name": "stderr",
     "output_type": "stream",
     "text": [
      "[ 2018-04-26 14:35:46,792][kfold_wrapper.log_eval_metrics] Accuracy(layer_0 - estimator_0 - 10_folds.train_0.predict)=98.46%\n",
      "[ 2018-04-26 14:35:47,834][kfold_wrapper.log_eval_metrics] Accuracy(layer_0 - estimator_0 - 10_folds.train_1.predict)=99.34%\n",
      "[ 2018-04-26 14:35:48,951][kfold_wrapper.log_eval_metrics] Accuracy(layer_0 - estimator_0 - 10_folds.train_2.predict)=99.34%\n",
      "[ 2018-04-26 14:35:50,123][kfold_wrapper.log_eval_metrics] Accuracy(layer_0 - estimator_0 - 10_folds.train_3.predict)=99.12%\n",
      "[ 2018-04-26 14:35:51,269][kfold_wrapper.log_eval_metrics] Accuracy(layer_0 - estimator_0 - 10_folds.train_4.predict)=98.68%\n",
      "[ 2018-04-26 14:35:52,350][kfold_wrapper.log_eval_metrics] Accuracy(layer_0 - estimator_0 - 10_folds.train_5.predict)=98.68%\n",
      "[ 2018-04-26 14:35:53,428][kfold_wrapper.log_eval_metrics] Accuracy(layer_0 - estimator_0 - 10_folds.train_6.predict)=98.90%\n",
      "[ 2018-04-26 14:35:54,445][kfold_wrapper.log_eval_metrics] Accuracy(layer_0 - estimator_0 - 10_folds.train_7.predict)=98.68%\n",
      "[ 2018-04-26 14:35:55,535][kfold_wrapper.log_eval_metrics] Accuracy(layer_0 - estimator_0 - 10_folds.train_8.predict)=99.56%\n",
      "[ 2018-04-26 14:35:56,679][kfold_wrapper.log_eval_metrics] Accuracy(layer_0 - estimator_0 - 10_folds.train_9.predict)=98.68%\n",
      "[ 2018-04-26 14:35:56,952][kfold_wrapper.log_eval_metrics] Accuracy(layer_0 - estimator_0 - 10_folds.train_cv.predict)=98.95%\n",
      "[ 2018-04-26 14:35:56,954][kfold_wrapper.log_eval_metrics] Accuracy(layer_0 - estimator_0 - 10_folds.test.predict)=99.11%\n",
      "[ 2018-04-26 14:35:56,968][cascade_classifier.calc_accuracy] Accuracy(layer_0 - train.classifier_average)=98.95%\n",
      "[ 2018-04-26 14:35:56,969][cascade_classifier.calc_accuracy] Accuracy(layer_0 - test.classifier_average)=99.11%\n",
      "[ 2018-04-26 14:35:56,971][cascade_classifier.fit_transform] [Result][Reach Max Layer] opt_layer_num=1, accuracy_train=98.95%, accuracy_test=99.11%\n",
      "[ 2018-04-26 14:35:56,972][cascade_classifier.transform] X_groups_test.shape=[(2245, 23)]\n",
      "[ 2018-04-26 14:35:56,974][cascade_classifier.transform] group_dims=[23]\n",
      "[ 2018-04-26 14:35:56,975][cascade_classifier.transform] X_test.shape=(2245, 23)\n",
      "[ 2018-04-26 14:35:56,976][cascade_classifier.transform] [layer=0] look_indexs=[0], X_cur_test.shape=(2245, 23)\n",
      "[ 2018-04-26 14:35:59,529][cascade_classifier.fit_transform] X_groups_train.shape=[(4557, 23)],y_train.shape=(4557,),X_groups_test.shape=[(2245, 23)],y_test.shape=(2245,)\n",
      "[ 2018-04-26 14:35:59,531][cascade_classifier.fit_transform] group_dims=[23]\n",
      "[ 2018-04-26 14:35:59,532][cascade_classifier.fit_transform] group_starts=[0]\n",
      "[ 2018-04-26 14:35:59,533][cascade_classifier.fit_transform] group_ends=[23]\n",
      "[ 2018-04-26 14:35:59,535][cascade_classifier.fit_transform] X_train.shape=(4557, 23),X_test.shape=(2245, 23)\n",
      "[ 2018-04-26 14:35:59,536][cascade_classifier.fit_transform] [layer=0] look_indexs=[0], X_cur_train.shape=(4557, 23), X_cur_test.shape=(2245, 23)\n"
     ]
    },
    {
     "name": "stdout",
     "output_type": "stream",
     "text": [
      "('Test Accuracy of ExtraTrees = 99.109131 %', 9, 'fois')\n",
      "('Time ', '11.047', ' seconds')\n"
     ]
    },
    {
     "name": "stderr",
     "output_type": "stream",
     "text": [
      "[ 2018-04-26 14:36:00,450][kfold_wrapper.log_eval_metrics] Accuracy(layer_0 - estimator_0 - 10_folds.train_0.predict)=98.68%\n",
      "[ 2018-04-26 14:36:01,539][kfold_wrapper.log_eval_metrics] Accuracy(layer_0 - estimator_0 - 10_folds.train_1.predict)=99.12%\n",
      "[ 2018-04-26 14:36:02,655][kfold_wrapper.log_eval_metrics] Accuracy(layer_0 - estimator_0 - 10_folds.train_2.predict)=99.12%\n",
      "[ 2018-04-26 14:36:03,759][kfold_wrapper.log_eval_metrics] Accuracy(layer_0 - estimator_0 - 10_folds.train_3.predict)=99.12%\n",
      "[ 2018-04-26 14:36:04,979][kfold_wrapper.log_eval_metrics] Accuracy(layer_0 - estimator_0 - 10_folds.train_4.predict)=98.03%\n",
      "[ 2018-04-26 14:36:06,144][kfold_wrapper.log_eval_metrics] Accuracy(layer_0 - estimator_0 - 10_folds.train_5.predict)=98.68%\n",
      "[ 2018-04-26 14:36:07,180][kfold_wrapper.log_eval_metrics] Accuracy(layer_0 - estimator_0 - 10_folds.train_6.predict)=98.90%\n",
      "[ 2018-04-26 14:36:08,248][kfold_wrapper.log_eval_metrics] Accuracy(layer_0 - estimator_0 - 10_folds.train_7.predict)=98.68%\n",
      "[ 2018-04-26 14:36:09,202][kfold_wrapper.log_eval_metrics] Accuracy(layer_0 - estimator_0 - 10_folds.train_8.predict)=99.34%\n",
      "[ 2018-04-26 14:36:10,266][kfold_wrapper.log_eval_metrics] Accuracy(layer_0 - estimator_0 - 10_folds.train_9.predict)=98.68%\n",
      "[ 2018-04-26 14:36:10,513][kfold_wrapper.log_eval_metrics] Accuracy(layer_0 - estimator_0 - 10_folds.train_cv.predict)=98.84%\n",
      "[ 2018-04-26 14:36:10,515][kfold_wrapper.log_eval_metrics] Accuracy(layer_0 - estimator_0 - 10_folds.test.predict)=99.02%\n",
      "[ 2018-04-26 14:36:10,529][cascade_classifier.calc_accuracy] Accuracy(layer_0 - train.classifier_average)=98.84%\n",
      "[ 2018-04-26 14:36:10,530][cascade_classifier.calc_accuracy] Accuracy(layer_0 - test.classifier_average)=99.02%\n",
      "[ 2018-04-26 14:36:10,532][cascade_classifier.fit_transform] [Result][Reach Max Layer] opt_layer_num=1, accuracy_train=98.84%, accuracy_test=99.02%\n",
      "[ 2018-04-26 14:36:10,533][cascade_classifier.transform] X_groups_test.shape=[(2245, 23)]\n",
      "[ 2018-04-26 14:36:10,534][cascade_classifier.transform] group_dims=[23]\n",
      "[ 2018-04-26 14:36:10,536][cascade_classifier.transform] X_test.shape=(2245, 23)\n",
      "[ 2018-04-26 14:36:10,537][cascade_classifier.transform] [layer=0] look_indexs=[0], X_cur_test.shape=(2245, 23)\n",
      "[ 2018-04-26 14:36:13,073][cascade_classifier.fit_transform] X_groups_train.shape=[(4557, 23)],y_train.shape=(4557,),X_groups_test.shape=[(2245, 23)],y_test.shape=(2245,)\n",
      "[ 2018-04-26 14:36:13,075][cascade_classifier.fit_transform] group_dims=[23]\n",
      "[ 2018-04-26 14:36:13,076][cascade_classifier.fit_transform] group_starts=[0]\n",
      "[ 2018-04-26 14:36:13,078][cascade_classifier.fit_transform] group_ends=[23]\n",
      "[ 2018-04-26 14:36:13,079][cascade_classifier.fit_transform] X_train.shape=(4557, 23),X_test.shape=(2245, 23)\n",
      "[ 2018-04-26 14:36:13,081][cascade_classifier.fit_transform] [layer=0] look_indexs=[0], X_cur_train.shape=(4557, 23), X_cur_test.shape=(2245, 23)\n"
     ]
    },
    {
     "name": "stdout",
     "output_type": "stream",
     "text": [
      "('Test Accuracy of ExtraTrees = 99.020045 %', 10, 'fois')\n",
      "('Time ', '11.006', ' seconds')\n"
     ]
    },
    {
     "name": "stderr",
     "output_type": "stream",
     "text": [
      "[ 2018-04-26 14:36:14,001][kfold_wrapper.log_eval_metrics] Accuracy(layer_0 - estimator_0 - 10_folds.train_0.predict)=98.46%\n",
      "[ 2018-04-26 14:36:15,110][kfold_wrapper.log_eval_metrics] Accuracy(layer_0 - estimator_0 - 10_folds.train_1.predict)=99.34%\n",
      "[ 2018-04-26 14:36:16,152][kfold_wrapper.log_eval_metrics] Accuracy(layer_0 - estimator_0 - 10_folds.train_2.predict)=98.68%\n",
      "[ 2018-04-26 14:36:17,261][kfold_wrapper.log_eval_metrics] Accuracy(layer_0 - estimator_0 - 10_folds.train_3.predict)=99.34%\n",
      "[ 2018-04-26 14:36:18,348][kfold_wrapper.log_eval_metrics] Accuracy(layer_0 - estimator_0 - 10_folds.train_4.predict)=98.68%\n",
      "[ 2018-04-26 14:36:19,408][kfold_wrapper.log_eval_metrics] Accuracy(layer_0 - estimator_0 - 10_folds.train_5.predict)=98.68%\n",
      "[ 2018-04-26 14:36:20,583][kfold_wrapper.log_eval_metrics] Accuracy(layer_0 - estimator_0 - 10_folds.train_6.predict)=99.12%\n",
      "[ 2018-04-26 14:36:21,677][kfold_wrapper.log_eval_metrics] Accuracy(layer_0 - estimator_0 - 10_folds.train_7.predict)=99.12%\n",
      "[ 2018-04-26 14:36:22,757][kfold_wrapper.log_eval_metrics] Accuracy(layer_0 - estimator_0 - 10_folds.train_8.predict)=99.34%\n",
      "[ 2018-04-26 14:36:23,814][kfold_wrapper.log_eval_metrics] Accuracy(layer_0 - estimator_0 - 10_folds.train_9.predict)=98.90%\n",
      "[ 2018-04-26 14:36:24,077][kfold_wrapper.log_eval_metrics] Accuracy(layer_0 - estimator_0 - 10_folds.train_cv.predict)=98.97%\n",
      "[ 2018-04-26 14:36:24,078][kfold_wrapper.log_eval_metrics] Accuracy(layer_0 - estimator_0 - 10_folds.test.predict)=99.24%\n",
      "[ 2018-04-26 14:36:24,089][cascade_classifier.calc_accuracy] Accuracy(layer_0 - train.classifier_average)=98.97%\n",
      "[ 2018-04-26 14:36:24,090][cascade_classifier.calc_accuracy] Accuracy(layer_0 - test.classifier_average)=99.24%\n",
      "[ 2018-04-26 14:36:24,092][cascade_classifier.fit_transform] [Result][Reach Max Layer] opt_layer_num=1, accuracy_train=98.97%, accuracy_test=99.24%\n",
      "[ 2018-04-26 14:36:24,093][cascade_classifier.transform] X_groups_test.shape=[(2245, 23)]\n",
      "[ 2018-04-26 14:36:24,094][cascade_classifier.transform] group_dims=[23]\n",
      "[ 2018-04-26 14:36:24,096][cascade_classifier.transform] X_test.shape=(2245, 23)\n",
      "[ 2018-04-26 14:36:24,097][cascade_classifier.transform] [layer=0] look_indexs=[0], X_cur_test.shape=(2245, 23)\n",
      "[ 2018-04-26 14:36:26,615][cascade_classifier.fit_transform] X_groups_train.shape=[(4557, 23)],y_train.shape=(4557,),X_groups_test.shape=[(2245, 23)],y_test.shape=(2245,)\n",
      "[ 2018-04-26 14:36:26,617][cascade_classifier.fit_transform] group_dims=[23]\n",
      "[ 2018-04-26 14:36:26,618][cascade_classifier.fit_transform] group_starts=[0]\n",
      "[ 2018-04-26 14:36:26,619][cascade_classifier.fit_transform] group_ends=[23]\n",
      "[ 2018-04-26 14:36:26,620][cascade_classifier.fit_transform] X_train.shape=(4557, 23),X_test.shape=(2245, 23)\n",
      "[ 2018-04-26 14:36:26,622][cascade_classifier.fit_transform] [layer=0] look_indexs=[0], X_cur_train.shape=(4557, 23), X_cur_test.shape=(2245, 23)\n"
     ]
    },
    {
     "name": "stdout",
     "output_type": "stream",
     "text": [
      "('Test Accuracy of ExtraTrees = 99.242762 %', 11, 'fois')\n",
      "('Time ', '11.022', ' seconds')\n"
     ]
    },
    {
     "name": "stderr",
     "output_type": "stream",
     "text": [
      "[ 2018-04-26 14:36:27,431][kfold_wrapper.log_eval_metrics] Accuracy(layer_0 - estimator_0 - 10_folds.train_0.predict)=98.68%\n",
      "[ 2018-04-26 14:36:28,536][kfold_wrapper.log_eval_metrics] Accuracy(layer_0 - estimator_0 - 10_folds.train_1.predict)=99.34%\n",
      "[ 2018-04-26 14:36:29,607][kfold_wrapper.log_eval_metrics] Accuracy(layer_0 - estimator_0 - 10_folds.train_2.predict)=98.90%\n",
      "[ 2018-04-26 14:36:30,709][kfold_wrapper.log_eval_metrics] Accuracy(layer_0 - estimator_0 - 10_folds.train_3.predict)=99.34%\n",
      "[ 2018-04-26 14:36:31,911][kfold_wrapper.log_eval_metrics] Accuracy(layer_0 - estimator_0 - 10_folds.train_4.predict)=98.68%\n",
      "[ 2018-04-26 14:36:33,014][kfold_wrapper.log_eval_metrics] Accuracy(layer_0 - estimator_0 - 10_folds.train_5.predict)=98.90%\n",
      "[ 2018-04-26 14:36:34,115][kfold_wrapper.log_eval_metrics] Accuracy(layer_0 - estimator_0 - 10_folds.train_6.predict)=98.68%\n",
      "[ 2018-04-26 14:36:35,236][kfold_wrapper.log_eval_metrics] Accuracy(layer_0 - estimator_0 - 10_folds.train_7.predict)=99.12%\n",
      "[ 2018-04-26 14:36:36,389][kfold_wrapper.log_eval_metrics] Accuracy(layer_0 - estimator_0 - 10_folds.train_8.predict)=99.56%\n",
      "[ 2018-04-26 14:36:37,471][kfold_wrapper.log_eval_metrics] Accuracy(layer_0 - estimator_0 - 10_folds.train_9.predict)=98.68%\n",
      "[ 2018-04-26 14:36:37,719][kfold_wrapper.log_eval_metrics] Accuracy(layer_0 - estimator_0 - 10_folds.train_cv.predict)=98.99%\n",
      "[ 2018-04-26 14:36:37,721][kfold_wrapper.log_eval_metrics] Accuracy(layer_0 - estimator_0 - 10_folds.test.predict)=99.15%\n",
      "[ 2018-04-26 14:36:37,734][cascade_classifier.calc_accuracy] Accuracy(layer_0 - train.classifier_average)=98.99%\n",
      "[ 2018-04-26 14:36:37,736][cascade_classifier.calc_accuracy] Accuracy(layer_0 - test.classifier_average)=99.15%\n",
      "[ 2018-04-26 14:36:37,737][cascade_classifier.fit_transform] [Result][Reach Max Layer] opt_layer_num=1, accuracy_train=98.99%, accuracy_test=99.15%\n",
      "[ 2018-04-26 14:36:37,738][cascade_classifier.transform] X_groups_test.shape=[(2245, 23)]\n",
      "[ 2018-04-26 14:36:37,740][cascade_classifier.transform] group_dims=[23]\n",
      "[ 2018-04-26 14:36:37,741][cascade_classifier.transform] X_test.shape=(2245, 23)\n",
      "[ 2018-04-26 14:36:37,742][cascade_classifier.transform] [layer=0] look_indexs=[0], X_cur_test.shape=(2245, 23)\n",
      "[ 2018-04-26 14:36:40,397][cascade_classifier.fit_transform] X_groups_train.shape=[(4557, 23)],y_train.shape=(4557,),X_groups_test.shape=[(2245, 23)],y_test.shape=(2245,)\n",
      "[ 2018-04-26 14:36:40,399][cascade_classifier.fit_transform] group_dims=[23]\n",
      "[ 2018-04-26 14:36:40,400][cascade_classifier.fit_transform] group_starts=[0]\n",
      "[ 2018-04-26 14:36:40,401][cascade_classifier.fit_transform] group_ends=[23]\n",
      "[ 2018-04-26 14:36:40,402][cascade_classifier.fit_transform] X_train.shape=(4557, 23),X_test.shape=(2245, 23)\n",
      "[ 2018-04-26 14:36:40,404][cascade_classifier.fit_transform] [layer=0] look_indexs=[0], X_cur_train.shape=(4557, 23), X_cur_test.shape=(2245, 23)\n"
     ]
    },
    {
     "name": "stdout",
     "output_type": "stream",
     "text": [
      "('Test Accuracy of ExtraTrees = 99.153675 %', 12, 'fois')\n",
      "('Time ', '11.125', ' seconds')\n"
     ]
    },
    {
     "name": "stderr",
     "output_type": "stream",
     "text": [
      "[ 2018-04-26 14:36:41,263][kfold_wrapper.log_eval_metrics] Accuracy(layer_0 - estimator_0 - 10_folds.train_0.predict)=98.68%\n",
      "[ 2018-04-26 14:36:42,335][kfold_wrapper.log_eval_metrics] Accuracy(layer_0 - estimator_0 - 10_folds.train_1.predict)=99.34%\n",
      "[ 2018-04-26 14:36:43,495][kfold_wrapper.log_eval_metrics] Accuracy(layer_0 - estimator_0 - 10_folds.train_2.predict)=99.12%\n",
      "[ 2018-04-26 14:36:44,471][kfold_wrapper.log_eval_metrics] Accuracy(layer_0 - estimator_0 - 10_folds.train_3.predict)=99.34%\n",
      "[ 2018-04-26 14:36:45,540][kfold_wrapper.log_eval_metrics] Accuracy(layer_0 - estimator_0 - 10_folds.train_4.predict)=98.68%\n",
      "[ 2018-04-26 14:36:46,626][kfold_wrapper.log_eval_metrics] Accuracy(layer_0 - estimator_0 - 10_folds.train_5.predict)=98.90%\n",
      "[ 2018-04-26 14:36:47,658][kfold_wrapper.log_eval_metrics] Accuracy(layer_0 - estimator_0 - 10_folds.train_6.predict)=98.68%\n",
      "[ 2018-04-26 14:36:48,716][kfold_wrapper.log_eval_metrics] Accuracy(layer_0 - estimator_0 - 10_folds.train_7.predict)=98.90%\n",
      "[ 2018-04-26 14:36:49,835][kfold_wrapper.log_eval_metrics] Accuracy(layer_0 - estimator_0 - 10_folds.train_8.predict)=99.56%\n",
      "[ 2018-04-26 14:36:50,979][kfold_wrapper.log_eval_metrics] Accuracy(layer_0 - estimator_0 - 10_folds.train_9.predict)=98.68%\n",
      "[ 2018-04-26 14:36:51,216][kfold_wrapper.log_eval_metrics] Accuracy(layer_0 - estimator_0 - 10_folds.train_cv.predict)=98.99%\n",
      "[ 2018-04-26 14:36:51,218][kfold_wrapper.log_eval_metrics] Accuracy(layer_0 - estimator_0 - 10_folds.test.predict)=99.24%\n",
      "[ 2018-04-26 14:36:51,231][cascade_classifier.calc_accuracy] Accuracy(layer_0 - train.classifier_average)=98.99%\n",
      "[ 2018-04-26 14:36:51,232][cascade_classifier.calc_accuracy] Accuracy(layer_0 - test.classifier_average)=99.24%\n",
      "[ 2018-04-26 14:36:51,234][cascade_classifier.fit_transform] [Result][Reach Max Layer] opt_layer_num=1, accuracy_train=98.99%, accuracy_test=99.24%\n",
      "[ 2018-04-26 14:36:51,235][cascade_classifier.transform] X_groups_test.shape=[(2245, 23)]\n",
      "[ 2018-04-26 14:36:51,237][cascade_classifier.transform] group_dims=[23]\n",
      "[ 2018-04-26 14:36:51,238][cascade_classifier.transform] X_test.shape=(2245, 23)\n",
      "[ 2018-04-26 14:36:51,239][cascade_classifier.transform] [layer=0] look_indexs=[0], X_cur_test.shape=(2245, 23)\n",
      "[ 2018-04-26 14:36:53,806][cascade_classifier.fit_transform] X_groups_train.shape=[(4557, 23)],y_train.shape=(4557,),X_groups_test.shape=[(2245, 23)],y_test.shape=(2245,)\n",
      "[ 2018-04-26 14:36:53,808][cascade_classifier.fit_transform] group_dims=[23]\n",
      "[ 2018-04-26 14:36:53,810][cascade_classifier.fit_transform] group_starts=[0]\n",
      "[ 2018-04-26 14:36:53,811][cascade_classifier.fit_transform] group_ends=[23]\n",
      "[ 2018-04-26 14:36:53,812][cascade_classifier.fit_transform] X_train.shape=(4557, 23),X_test.shape=(2245, 23)\n",
      "[ 2018-04-26 14:36:53,814][cascade_classifier.fit_transform] [layer=0] look_indexs=[0], X_cur_train.shape=(4557, 23), X_cur_test.shape=(2245, 23)\n"
     ]
    },
    {
     "name": "stdout",
     "output_type": "stream",
     "text": [
      "('Test Accuracy of ExtraTrees = 99.242762 %', 13, 'fois')\n",
      "('Time ', '10.84', ' seconds')\n"
     ]
    },
    {
     "name": "stderr",
     "output_type": "stream",
     "text": [
      "[ 2018-04-26 14:36:54,646][kfold_wrapper.log_eval_metrics] Accuracy(layer_0 - estimator_0 - 10_folds.train_0.predict)=98.46%\n",
      "[ 2018-04-26 14:36:55,911][kfold_wrapper.log_eval_metrics] Accuracy(layer_0 - estimator_0 - 10_folds.train_1.predict)=99.34%\n",
      "[ 2018-04-26 14:36:56,996][kfold_wrapper.log_eval_metrics] Accuracy(layer_0 - estimator_0 - 10_folds.train_2.predict)=99.34%\n",
      "[ 2018-04-26 14:36:57,945][kfold_wrapper.log_eval_metrics] Accuracy(layer_0 - estimator_0 - 10_folds.train_3.predict)=99.12%\n",
      "[ 2018-04-26 14:36:58,968][kfold_wrapper.log_eval_metrics] Accuracy(layer_0 - estimator_0 - 10_folds.train_4.predict)=98.68%\n",
      "[ 2018-04-26 14:37:00,037][kfold_wrapper.log_eval_metrics] Accuracy(layer_0 - estimator_0 - 10_folds.train_5.predict)=98.68%\n",
      "[ 2018-04-26 14:37:01,118][kfold_wrapper.log_eval_metrics] Accuracy(layer_0 - estimator_0 - 10_folds.train_6.predict)=98.68%\n",
      "[ 2018-04-26 14:37:02,252][kfold_wrapper.log_eval_metrics] Accuracy(layer_0 - estimator_0 - 10_folds.train_7.predict)=98.68%\n",
      "[ 2018-04-26 14:37:03,334][kfold_wrapper.log_eval_metrics] Accuracy(layer_0 - estimator_0 - 10_folds.train_8.predict)=99.34%\n",
      "[ 2018-04-26 14:37:04,433][kfold_wrapper.log_eval_metrics] Accuracy(layer_0 - estimator_0 - 10_folds.train_9.predict)=98.68%\n",
      "[ 2018-04-26 14:37:04,693][kfold_wrapper.log_eval_metrics] Accuracy(layer_0 - estimator_0 - 10_folds.train_cv.predict)=98.90%\n",
      "[ 2018-04-26 14:37:04,694][kfold_wrapper.log_eval_metrics] Accuracy(layer_0 - estimator_0 - 10_folds.test.predict)=99.11%\n",
      "[ 2018-04-26 14:37:04,703][cascade_classifier.calc_accuracy] Accuracy(layer_0 - train.classifier_average)=98.90%\n",
      "[ 2018-04-26 14:37:04,705][cascade_classifier.calc_accuracy] Accuracy(layer_0 - test.classifier_average)=99.11%\n",
      "[ 2018-04-26 14:37:04,706][cascade_classifier.fit_transform] [Result][Reach Max Layer] opt_layer_num=1, accuracy_train=98.90%, accuracy_test=99.11%\n",
      "[ 2018-04-26 14:37:04,708][cascade_classifier.transform] X_groups_test.shape=[(2245, 23)]\n",
      "[ 2018-04-26 14:37:04,709][cascade_classifier.transform] group_dims=[23]\n",
      "[ 2018-04-26 14:37:04,710][cascade_classifier.transform] X_test.shape=(2245, 23)\n",
      "[ 2018-04-26 14:37:04,711][cascade_classifier.transform] [layer=0] look_indexs=[0], X_cur_test.shape=(2245, 23)\n",
      "[ 2018-04-26 14:37:07,344][cascade_classifier.fit_transform] X_groups_train.shape=[(4557, 23)],y_train.shape=(4557,),X_groups_test.shape=[(2245, 23)],y_test.shape=(2245,)\n",
      "[ 2018-04-26 14:37:07,346][cascade_classifier.fit_transform] group_dims=[23]\n",
      "[ 2018-04-26 14:37:07,347][cascade_classifier.fit_transform] group_starts=[0]\n",
      "[ 2018-04-26 14:37:07,349][cascade_classifier.fit_transform] group_ends=[23]\n",
      "[ 2018-04-26 14:37:07,350][cascade_classifier.fit_transform] X_train.shape=(4557, 23),X_test.shape=(2245, 23)\n",
      "[ 2018-04-26 14:37:07,351][cascade_classifier.fit_transform] [layer=0] look_indexs=[0], X_cur_train.shape=(4557, 23), X_cur_test.shape=(2245, 23)\n"
     ]
    },
    {
     "name": "stdout",
     "output_type": "stream",
     "text": [
      "('Test Accuracy of ExtraTrees = 99.109131 %', 14, 'fois')\n",
      "('Time ', '10.904', ' seconds')\n"
     ]
    },
    {
     "name": "stderr",
     "output_type": "stream",
     "text": [
      "[ 2018-04-26 14:37:08,229][kfold_wrapper.log_eval_metrics] Accuracy(layer_0 - estimator_0 - 10_folds.train_0.predict)=98.25%\n",
      "[ 2018-04-26 14:37:09,228][kfold_wrapper.log_eval_metrics] Accuracy(layer_0 - estimator_0 - 10_folds.train_1.predict)=99.12%\n",
      "[ 2018-04-26 14:37:10,020][kfold_wrapper.log_eval_metrics] Accuracy(layer_0 - estimator_0 - 10_folds.train_2.predict)=99.34%\n",
      "[ 2018-04-26 14:37:11,097][kfold_wrapper.log_eval_metrics] Accuracy(layer_0 - estimator_0 - 10_folds.train_3.predict)=98.68%\n",
      "[ 2018-04-26 14:37:11,877][kfold_wrapper.log_eval_metrics] Accuracy(layer_0 - estimator_0 - 10_folds.train_4.predict)=98.25%\n",
      "[ 2018-04-26 14:37:12,942][kfold_wrapper.log_eval_metrics] Accuracy(layer_0 - estimator_0 - 10_folds.train_5.predict)=98.90%\n",
      "[ 2018-04-26 14:37:14,095][kfold_wrapper.log_eval_metrics] Accuracy(layer_0 - estimator_0 - 10_folds.train_6.predict)=98.90%\n",
      "[ 2018-04-26 14:37:15,191][kfold_wrapper.log_eval_metrics] Accuracy(layer_0 - estimator_0 - 10_folds.train_7.predict)=98.90%\n",
      "[ 2018-04-26 14:37:16,275][kfold_wrapper.log_eval_metrics] Accuracy(layer_0 - estimator_0 - 10_folds.train_8.predict)=98.90%\n",
      "[ 2018-04-26 14:37:17,345][kfold_wrapper.log_eval_metrics] Accuracy(layer_0 - estimator_0 - 10_folds.train_9.predict)=98.90%\n",
      "[ 2018-04-26 14:37:17,588][kfold_wrapper.log_eval_metrics] Accuracy(layer_0 - estimator_0 - 10_folds.train_cv.predict)=98.82%\n",
      "[ 2018-04-26 14:37:17,590][kfold_wrapper.log_eval_metrics] Accuracy(layer_0 - estimator_0 - 10_folds.test.predict)=99.38%\n",
      "[ 2018-04-26 14:37:17,601][cascade_classifier.calc_accuracy] Accuracy(layer_0 - train.classifier_average)=98.82%\n",
      "[ 2018-04-26 14:37:17,603][cascade_classifier.calc_accuracy] Accuracy(layer_0 - test.classifier_average)=99.38%\n",
      "[ 2018-04-26 14:37:17,604][cascade_classifier.fit_transform] [Result][Reach Max Layer] opt_layer_num=1, accuracy_train=98.82%, accuracy_test=99.38%\n",
      "[ 2018-04-26 14:37:17,605][cascade_classifier.transform] X_groups_test.shape=[(2245, 23)]\n",
      "[ 2018-04-26 14:37:17,607][cascade_classifier.transform] group_dims=[23]\n",
      "[ 2018-04-26 14:37:17,608][cascade_classifier.transform] X_test.shape=(2245, 23)\n",
      "[ 2018-04-26 14:37:17,609][cascade_classifier.transform] [layer=0] look_indexs=[0], X_cur_test.shape=(2245, 23)\n",
      "[ 2018-04-26 14:37:20,173][cascade_classifier.fit_transform] X_groups_train.shape=[(4557, 23)],y_train.shape=(4557,),X_groups_test.shape=[(2245, 23)],y_test.shape=(2245,)\n",
      "[ 2018-04-26 14:37:20,175][cascade_classifier.fit_transform] group_dims=[23]\n",
      "[ 2018-04-26 14:37:20,176][cascade_classifier.fit_transform] group_starts=[0]\n",
      "[ 2018-04-26 14:37:20,177][cascade_classifier.fit_transform] group_ends=[23]\n",
      "[ 2018-04-26 14:37:20,178][cascade_classifier.fit_transform] X_train.shape=(4557, 23),X_test.shape=(2245, 23)\n",
      "[ 2018-04-26 14:37:20,180][cascade_classifier.fit_transform] [layer=0] look_indexs=[0], X_cur_train.shape=(4557, 23), X_cur_test.shape=(2245, 23)\n"
     ]
    },
    {
     "name": "stdout",
     "output_type": "stream",
     "text": [
      "('Test Accuracy of ExtraTrees = 99.376392 %', 15, 'fois')\n",
      "('Time ', '10.264', ' seconds')\n"
     ]
    },
    {
     "name": "stderr",
     "output_type": "stream",
     "text": [
      "[ 2018-04-26 14:37:21,024][kfold_wrapper.log_eval_metrics] Accuracy(layer_0 - estimator_0 - 10_folds.train_0.predict)=98.68%\n",
      "[ 2018-04-26 14:37:22,128][kfold_wrapper.log_eval_metrics] Accuracy(layer_0 - estimator_0 - 10_folds.train_1.predict)=99.12%\n",
      "[ 2018-04-26 14:37:23,175][kfold_wrapper.log_eval_metrics] Accuracy(layer_0 - estimator_0 - 10_folds.train_2.predict)=99.34%\n",
      "[ 2018-04-26 14:37:24,268][kfold_wrapper.log_eval_metrics] Accuracy(layer_0 - estimator_0 - 10_folds.train_3.predict)=98.68%\n",
      "[ 2018-04-26 14:37:25,316][kfold_wrapper.log_eval_metrics] Accuracy(layer_0 - estimator_0 - 10_folds.train_4.predict)=98.25%\n",
      "[ 2018-04-26 14:37:26,398][kfold_wrapper.log_eval_metrics] Accuracy(layer_0 - estimator_0 - 10_folds.train_5.predict)=98.90%\n",
      "[ 2018-04-26 14:37:27,481][kfold_wrapper.log_eval_metrics] Accuracy(layer_0 - estimator_0 - 10_folds.train_6.predict)=99.12%\n",
      "[ 2018-04-26 14:37:28,553][kfold_wrapper.log_eval_metrics] Accuracy(layer_0 - estimator_0 - 10_folds.train_7.predict)=98.46%\n",
      "[ 2018-04-26 14:37:29,662][kfold_wrapper.log_eval_metrics] Accuracy(layer_0 - estimator_0 - 10_folds.train_8.predict)=99.56%\n",
      "[ 2018-04-26 14:37:30,782][kfold_wrapper.log_eval_metrics] Accuracy(layer_0 - estimator_0 - 10_folds.train_9.predict)=98.90%\n",
      "[ 2018-04-26 14:37:31,022][kfold_wrapper.log_eval_metrics] Accuracy(layer_0 - estimator_0 - 10_folds.train_cv.predict)=98.90%\n",
      "[ 2018-04-26 14:37:31,024][kfold_wrapper.log_eval_metrics] Accuracy(layer_0 - estimator_0 - 10_folds.test.predict)=99.15%\n",
      "[ 2018-04-26 14:37:31,038][cascade_classifier.calc_accuracy] Accuracy(layer_0 - train.classifier_average)=98.90%\n",
      "[ 2018-04-26 14:37:31,040][cascade_classifier.calc_accuracy] Accuracy(layer_0 - test.classifier_average)=99.15%\n",
      "[ 2018-04-26 14:37:31,041][cascade_classifier.fit_transform] [Result][Reach Max Layer] opt_layer_num=1, accuracy_train=98.90%, accuracy_test=99.15%\n",
      "[ 2018-04-26 14:37:31,042][cascade_classifier.transform] X_groups_test.shape=[(2245, 23)]\n",
      "[ 2018-04-26 14:37:31,044][cascade_classifier.transform] group_dims=[23]\n",
      "[ 2018-04-26 14:37:31,045][cascade_classifier.transform] X_test.shape=(2245, 23)\n",
      "[ 2018-04-26 14:37:31,046][cascade_classifier.transform] [layer=0] look_indexs=[0], X_cur_test.shape=(2245, 23)\n",
      "[ 2018-04-26 14:37:33,654][cascade_classifier.fit_transform] X_groups_train.shape=[(4557, 23)],y_train.shape=(4557,),X_groups_test.shape=[(2245, 23)],y_test.shape=(2245,)\n",
      "[ 2018-04-26 14:37:33,657][cascade_classifier.fit_transform] group_dims=[23]\n",
      "[ 2018-04-26 14:37:33,658][cascade_classifier.fit_transform] group_starts=[0]\n",
      "[ 2018-04-26 14:37:33,659][cascade_classifier.fit_transform] group_ends=[23]\n",
      "[ 2018-04-26 14:37:33,660][cascade_classifier.fit_transform] X_train.shape=(4557, 23),X_test.shape=(2245, 23)\n",
      "[ 2018-04-26 14:37:33,662][cascade_classifier.fit_transform] [layer=0] look_indexs=[0], X_cur_train.shape=(4557, 23), X_cur_test.shape=(2245, 23)\n"
     ]
    },
    {
     "name": "stdout",
     "output_type": "stream",
     "text": [
      "('Test Accuracy of ExtraTrees = 99.153675 %', 16, 'fois')\n",
      "('Time ', '10.871', ' seconds')\n"
     ]
    },
    {
     "name": "stderr",
     "output_type": "stream",
     "text": [
      "[ 2018-04-26 14:37:34,507][kfold_wrapper.log_eval_metrics] Accuracy(layer_0 - estimator_0 - 10_folds.train_0.predict)=98.46%\n",
      "[ 2018-04-26 14:37:35,607][kfold_wrapper.log_eval_metrics] Accuracy(layer_0 - estimator_0 - 10_folds.train_1.predict)=98.90%\n",
      "[ 2018-04-26 14:37:36,716][kfold_wrapper.log_eval_metrics] Accuracy(layer_0 - estimator_0 - 10_folds.train_2.predict)=99.12%\n",
      "[ 2018-04-26 14:37:37,829][kfold_wrapper.log_eval_metrics] Accuracy(layer_0 - estimator_0 - 10_folds.train_3.predict)=98.68%\n",
      "[ 2018-04-26 14:37:38,896][kfold_wrapper.log_eval_metrics] Accuracy(layer_0 - estimator_0 - 10_folds.train_4.predict)=98.68%\n",
      "[ 2018-04-26 14:37:39,985][kfold_wrapper.log_eval_metrics] Accuracy(layer_0 - estimator_0 - 10_folds.train_5.predict)=99.12%\n",
      "[ 2018-04-26 14:37:41,071][kfold_wrapper.log_eval_metrics] Accuracy(layer_0 - estimator_0 - 10_folds.train_6.predict)=98.90%\n",
      "[ 2018-04-26 14:37:42,169][kfold_wrapper.log_eval_metrics] Accuracy(layer_0 - estimator_0 - 10_folds.train_7.predict)=98.46%\n",
      "[ 2018-04-26 14:37:43,239][kfold_wrapper.log_eval_metrics] Accuracy(layer_0 - estimator_0 - 10_folds.train_8.predict)=99.56%\n",
      "[ 2018-04-26 14:37:44,380][kfold_wrapper.log_eval_metrics] Accuracy(layer_0 - estimator_0 - 10_folds.train_9.predict)=98.90%\n",
      "[ 2018-04-26 14:37:44,647][kfold_wrapper.log_eval_metrics] Accuracy(layer_0 - estimator_0 - 10_folds.train_cv.predict)=98.88%\n",
      "[ 2018-04-26 14:37:44,649][kfold_wrapper.log_eval_metrics] Accuracy(layer_0 - estimator_0 - 10_folds.test.predict)=99.29%\n",
      "[ 2018-04-26 14:37:44,661][cascade_classifier.calc_accuracy] Accuracy(layer_0 - train.classifier_average)=98.88%\n",
      "[ 2018-04-26 14:37:44,662][cascade_classifier.calc_accuracy] Accuracy(layer_0 - test.classifier_average)=99.29%\n",
      "[ 2018-04-26 14:37:44,664][cascade_classifier.fit_transform] [Result][Reach Max Layer] opt_layer_num=1, accuracy_train=98.88%, accuracy_test=99.29%\n",
      "[ 2018-04-26 14:37:44,665][cascade_classifier.transform] X_groups_test.shape=[(2245, 23)]\n",
      "[ 2018-04-26 14:37:44,667][cascade_classifier.transform] group_dims=[23]\n",
      "[ 2018-04-26 14:37:44,668][cascade_classifier.transform] X_test.shape=(2245, 23)\n",
      "[ 2018-04-26 14:37:44,669][cascade_classifier.transform] [layer=0] look_indexs=[0], X_cur_test.shape=(2245, 23)\n",
      "[ 2018-04-26 14:37:47,275][cascade_classifier.fit_transform] X_groups_train.shape=[(4557, 23)],y_train.shape=(4557,),X_groups_test.shape=[(2245, 23)],y_test.shape=(2245,)\n",
      "[ 2018-04-26 14:37:47,277][cascade_classifier.fit_transform] group_dims=[23]\n",
      "[ 2018-04-26 14:37:47,278][cascade_classifier.fit_transform] group_starts=[0]\n",
      "[ 2018-04-26 14:37:47,279][cascade_classifier.fit_transform] group_ends=[23]\n",
      "[ 2018-04-26 14:37:47,280][cascade_classifier.fit_transform] X_train.shape=(4557, 23),X_test.shape=(2245, 23)\n",
      "[ 2018-04-26 14:37:47,282][cascade_classifier.fit_transform] [layer=0] look_indexs=[0], X_cur_train.shape=(4557, 23), X_cur_test.shape=(2245, 23)\n"
     ]
    },
    {
     "name": "stdout",
     "output_type": "stream",
     "text": [
      "('Test Accuracy of ExtraTrees = 99.287305 %', 17, 'fois')\n",
      "('Time ', '11.013', ' seconds')\n"
     ]
    },
    {
     "name": "stderr",
     "output_type": "stream",
     "text": [
      "[ 2018-04-26 14:37:48,090][kfold_wrapper.log_eval_metrics] Accuracy(layer_0 - estimator_0 - 10_folds.train_0.predict)=98.46%\n",
      "[ 2018-04-26 14:37:49,140][kfold_wrapper.log_eval_metrics] Accuracy(layer_0 - estimator_0 - 10_folds.train_1.predict)=99.12%\n",
      "[ 2018-04-26 14:37:50,292][kfold_wrapper.log_eval_metrics] Accuracy(layer_0 - estimator_0 - 10_folds.train_2.predict)=99.12%\n",
      "[ 2018-04-26 14:37:51,372][kfold_wrapper.log_eval_metrics] Accuracy(layer_0 - estimator_0 - 10_folds.train_3.predict)=98.68%\n",
      "[ 2018-04-26 14:37:52,458][kfold_wrapper.log_eval_metrics] Accuracy(layer_0 - estimator_0 - 10_folds.train_4.predict)=98.68%\n",
      "[ 2018-04-26 14:37:53,539][kfold_wrapper.log_eval_metrics] Accuracy(layer_0 - estimator_0 - 10_folds.train_5.predict)=98.46%\n",
      "[ 2018-04-26 14:37:54,505][kfold_wrapper.log_eval_metrics] Accuracy(layer_0 - estimator_0 - 10_folds.train_6.predict)=98.90%\n",
      "[ 2018-04-26 14:37:55,527][kfold_wrapper.log_eval_metrics] Accuracy(layer_0 - estimator_0 - 10_folds.train_7.predict)=98.46%\n",
      "[ 2018-04-26 14:37:56,602][kfold_wrapper.log_eval_metrics] Accuracy(layer_0 - estimator_0 - 10_folds.train_8.predict)=99.56%\n",
      "[ 2018-04-26 14:37:57,690][kfold_wrapper.log_eval_metrics] Accuracy(layer_0 - estimator_0 - 10_folds.train_9.predict)=99.34%\n",
      "[ 2018-04-26 14:37:57,927][kfold_wrapper.log_eval_metrics] Accuracy(layer_0 - estimator_0 - 10_folds.train_cv.predict)=98.88%\n",
      "[ 2018-04-26 14:37:57,929][kfold_wrapper.log_eval_metrics] Accuracy(layer_0 - estimator_0 - 10_folds.test.predict)=99.29%\n",
      "[ 2018-04-26 14:37:57,937][cascade_classifier.calc_accuracy] Accuracy(layer_0 - train.classifier_average)=98.88%\n",
      "[ 2018-04-26 14:37:57,939][cascade_classifier.calc_accuracy] Accuracy(layer_0 - test.classifier_average)=99.29%\n",
      "[ 2018-04-26 14:37:57,940][cascade_classifier.fit_transform] [Result][Reach Max Layer] opt_layer_num=1, accuracy_train=98.88%, accuracy_test=99.29%\n",
      "[ 2018-04-26 14:37:57,941][cascade_classifier.transform] X_groups_test.shape=[(2245, 23)]\n",
      "[ 2018-04-26 14:37:57,943][cascade_classifier.transform] group_dims=[23]\n",
      "[ 2018-04-26 14:37:57,944][cascade_classifier.transform] X_test.shape=(2245, 23)\n",
      "[ 2018-04-26 14:37:57,945][cascade_classifier.transform] [layer=0] look_indexs=[0], X_cur_test.shape=(2245, 23)\n",
      "[ 2018-04-26 14:38:00,433][cascade_classifier.fit_transform] X_groups_train.shape=[(4557, 23)],y_train.shape=(4557,),X_groups_test.shape=[(2245, 23)],y_test.shape=(2245,)\n",
      "[ 2018-04-26 14:38:00,435][cascade_classifier.fit_transform] group_dims=[23]\n",
      "[ 2018-04-26 14:38:00,436][cascade_classifier.fit_transform] group_starts=[0]\n",
      "[ 2018-04-26 14:38:00,437][cascade_classifier.fit_transform] group_ends=[23]\n",
      "[ 2018-04-26 14:38:00,439][cascade_classifier.fit_transform] X_train.shape=(4557, 23),X_test.shape=(2245, 23)\n",
      "[ 2018-04-26 14:38:00,440][cascade_classifier.fit_transform] [layer=0] look_indexs=[0], X_cur_train.shape=(4557, 23), X_cur_test.shape=(2245, 23)\n"
     ]
    },
    {
     "name": "stdout",
     "output_type": "stream",
     "text": [
      "('Test Accuracy of ExtraTrees = 99.287305 %', 18, 'fois')\n",
      "('Time ', '10.668', ' seconds')\n"
     ]
    },
    {
     "name": "stderr",
     "output_type": "stream",
     "text": [
      "[ 2018-04-26 14:38:01,440][kfold_wrapper.log_eval_metrics] Accuracy(layer_0 - estimator_0 - 10_folds.train_0.predict)=98.25%\n",
      "[ 2018-04-26 14:38:02,559][kfold_wrapper.log_eval_metrics] Accuracy(layer_0 - estimator_0 - 10_folds.train_1.predict)=98.90%\n",
      "[ 2018-04-26 14:38:03,628][kfold_wrapper.log_eval_metrics] Accuracy(layer_0 - estimator_0 - 10_folds.train_2.predict)=99.12%\n",
      "[ 2018-04-26 14:38:04,705][kfold_wrapper.log_eval_metrics] Accuracy(layer_0 - estimator_0 - 10_folds.train_3.predict)=98.68%\n",
      "[ 2018-04-26 14:38:05,829][kfold_wrapper.log_eval_metrics] Accuracy(layer_0 - estimator_0 - 10_folds.train_4.predict)=98.46%\n",
      "[ 2018-04-26 14:38:07,118][kfold_wrapper.log_eval_metrics] Accuracy(layer_0 - estimator_0 - 10_folds.train_5.predict)=98.90%\n",
      "[ 2018-04-26 14:38:08,232][kfold_wrapper.log_eval_metrics] Accuracy(layer_0 - estimator_0 - 10_folds.train_6.predict)=98.68%\n",
      "[ 2018-04-26 14:38:09,350][kfold_wrapper.log_eval_metrics] Accuracy(layer_0 - estimator_0 - 10_folds.train_7.predict)=98.68%\n",
      "[ 2018-04-26 14:38:10,407][kfold_wrapper.log_eval_metrics] Accuracy(layer_0 - estimator_0 - 10_folds.train_8.predict)=98.90%\n",
      "[ 2018-04-26 14:38:11,630][kfold_wrapper.log_eval_metrics] Accuracy(layer_0 - estimator_0 - 10_folds.train_9.predict)=99.12%\n",
      "[ 2018-04-26 14:38:11,875][kfold_wrapper.log_eval_metrics] Accuracy(layer_0 - estimator_0 - 10_folds.train_cv.predict)=98.77%\n",
      "[ 2018-04-26 14:38:11,876][kfold_wrapper.log_eval_metrics] Accuracy(layer_0 - estimator_0 - 10_folds.test.predict)=99.20%\n",
      "[ 2018-04-26 14:38:11,886][cascade_classifier.calc_accuracy] Accuracy(layer_0 - train.classifier_average)=98.77%\n",
      "[ 2018-04-26 14:38:11,887][cascade_classifier.calc_accuracy] Accuracy(layer_0 - test.classifier_average)=99.20%\n",
      "[ 2018-04-26 14:38:11,889][cascade_classifier.fit_transform] [Result][Reach Max Layer] opt_layer_num=1, accuracy_train=98.77%, accuracy_test=99.20%\n",
      "[ 2018-04-26 14:38:11,890][cascade_classifier.transform] X_groups_test.shape=[(2245, 23)]\n",
      "[ 2018-04-26 14:38:11,891][cascade_classifier.transform] group_dims=[23]\n",
      "[ 2018-04-26 14:38:11,893][cascade_classifier.transform] X_test.shape=(2245, 23)\n",
      "[ 2018-04-26 14:38:11,894][cascade_classifier.transform] [layer=0] look_indexs=[0], X_cur_test.shape=(2245, 23)\n"
     ]
    },
    {
     "name": "stdout",
     "output_type": "stream",
     "text": [
      "('Test Accuracy of ExtraTrees = 99.198218 %', 19, 'fois')\n",
      "('Time ', '11.459', ' seconds')\n"
     ]
    }
   ],
   "source": [
    "# Deep\n",
    "for i in range (20):\n",
    "    \n",
    "    t0 = time()\n",
    "    X_train,X_test=update(X_train,X_test)\n",
    "    X_test_enc, X_train_enc=newdata(X_test_enc, X_train_enc)\n",
    "    \n",
    "    X_train=X_train_enc\n",
    "    X_test=X_test_enc \n",
    "    X_train_enc, X_test_enc = gc.fit_transform(X_train, y_train, X_test=X_test, y_test=y_test)\n",
    "    tt = time() - t0\n",
    "    affiche()\n",
    "    print (\"Time \",format(round(tt,3)),\" seconds\")   "
   ]
  },
  {
   "cell_type": "code",
   "execution_count": null,
   "metadata": {
    "collapsed": true
   },
   "outputs": [],
   "source": []
  },
  {
   "cell_type": "markdown",
   "metadata": {},
   "source": [
    "# ('Test Accuracy of ExtraTrees = 99.287305 %', 2, 'fois')"
   ]
  },
  {
   "cell_type": "markdown",
   "metadata": {
    "collapsed": true
   },
   "source": [
    "# ('Test Accuracy of ExtraTrees = 99.376392 %', 15, 'fois')\n",
    "('Time ', '10.264', ' seconds')"
   ]
  },
  {
   "cell_type": "code",
   "execution_count": null,
   "metadata": {
    "collapsed": true
   },
   "outputs": [],
   "source": []
  }
 ],
 "metadata": {
  "kernelspec": {
   "display_name": "Python 2",
   "language": "python",
   "name": "python2"
  },
  "language_info": {
   "codemirror_mode": {
    "name": "ipython",
    "version": 2
   },
   "file_extension": ".py",
   "mimetype": "text/x-python",
   "name": "python",
   "nbconvert_exporter": "python",
   "pygments_lexer": "ipython2",
   "version": "2.7.13"
  }
 },
 "nbformat": 4,
 "nbformat_minor": 2
}
