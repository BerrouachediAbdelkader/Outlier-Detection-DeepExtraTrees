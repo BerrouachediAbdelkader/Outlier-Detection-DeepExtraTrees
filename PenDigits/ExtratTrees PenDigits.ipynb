{
 "cells": [
  {
   "cell_type": "code",
   "execution_count": 1,
   "metadata": {
    "collapsed": true
   },
   "outputs": [],
   "source": [
    "# imports \n",
    "import numpy as np\n",
    "from math import sqrt \n",
    "from pprint import pprint\n",
    "from numpy import array\n",
    "from scipy.io import arff\n",
    "import pandas as pd\n",
    "from time import time"
   ]
  },
  {
   "cell_type": "code",
   "execution_count": 2,
   "metadata": {},
   "outputs": [
    {
     "data": {
      "text/html": [
       "<div>\n",
       "<style>\n",
       "    .dataframe thead tr:only-child th {\n",
       "        text-align: right;\n",
       "    }\n",
       "\n",
       "    .dataframe thead th {\n",
       "        text-align: left;\n",
       "    }\n",
       "\n",
       "    .dataframe tbody tr th {\n",
       "        vertical-align: top;\n",
       "    }\n",
       "</style>\n",
       "<table border=\"1\" class=\"dataframe\">\n",
       "  <thead>\n",
       "    <tr style=\"text-align: right;\">\n",
       "      <th></th>\n",
       "      <th>att1</th>\n",
       "      <th>att2</th>\n",
       "      <th>att3</th>\n",
       "      <th>att4</th>\n",
       "      <th>att5</th>\n",
       "      <th>att6</th>\n",
       "      <th>att7</th>\n",
       "      <th>att8</th>\n",
       "      <th>att9</th>\n",
       "      <th>att10</th>\n",
       "      <th>att11</th>\n",
       "      <th>att12</th>\n",
       "      <th>att13</th>\n",
       "      <th>att14</th>\n",
       "      <th>att15</th>\n",
       "      <th>att16</th>\n",
       "      <th>outlier</th>\n",
       "    </tr>\n",
       "  </thead>\n",
       "  <tbody>\n",
       "    <tr>\n",
       "      <th>0</th>\n",
       "      <td>48.0</td>\n",
       "      <td>100.0</td>\n",
       "      <td>20.0</td>\n",
       "      <td>80.0</td>\n",
       "      <td>0.0</td>\n",
       "      <td>51.0</td>\n",
       "      <td>55.0</td>\n",
       "      <td>43.0</td>\n",
       "      <td>100.0</td>\n",
       "      <td>56.0</td>\n",
       "      <td>90.0</td>\n",
       "      <td>62.0</td>\n",
       "      <td>86.0</td>\n",
       "      <td>30.0</td>\n",
       "      <td>73.0</td>\n",
       "      <td>0.0</td>\n",
       "      <td>1</td>\n",
       "    </tr>\n",
       "    <tr>\n",
       "      <th>1</th>\n",
       "      <td>38.0</td>\n",
       "      <td>100.0</td>\n",
       "      <td>4.0</td>\n",
       "      <td>85.0</td>\n",
       "      <td>0.0</td>\n",
       "      <td>53.0</td>\n",
       "      <td>58.0</td>\n",
       "      <td>46.0</td>\n",
       "      <td>100.0</td>\n",
       "      <td>52.0</td>\n",
       "      <td>88.0</td>\n",
       "      <td>64.0</td>\n",
       "      <td>78.0</td>\n",
       "      <td>32.0</td>\n",
       "      <td>73.0</td>\n",
       "      <td>0.0</td>\n",
       "      <td>1</td>\n",
       "    </tr>\n",
       "    <tr>\n",
       "      <th>2</th>\n",
       "      <td>53.0</td>\n",
       "      <td>100.0</td>\n",
       "      <td>25.0</td>\n",
       "      <td>70.0</td>\n",
       "      <td>0.0</td>\n",
       "      <td>39.0</td>\n",
       "      <td>50.0</td>\n",
       "      <td>34.0</td>\n",
       "      <td>100.0</td>\n",
       "      <td>42.0</td>\n",
       "      <td>85.0</td>\n",
       "      <td>64.0</td>\n",
       "      <td>77.0</td>\n",
       "      <td>32.0</td>\n",
       "      <td>80.0</td>\n",
       "      <td>0.0</td>\n",
       "      <td>1</td>\n",
       "    </tr>\n",
       "    <tr>\n",
       "      <th>3</th>\n",
       "      <td>12.0</td>\n",
       "      <td>100.0</td>\n",
       "      <td>0.0</td>\n",
       "      <td>71.0</td>\n",
       "      <td>25.0</td>\n",
       "      <td>43.0</td>\n",
       "      <td>86.0</td>\n",
       "      <td>44.0</td>\n",
       "      <td>100.0</td>\n",
       "      <td>75.0</td>\n",
       "      <td>90.0</td>\n",
       "      <td>52.0</td>\n",
       "      <td>90.0</td>\n",
       "      <td>20.0</td>\n",
       "      <td>90.0</td>\n",
       "      <td>0.0</td>\n",
       "      <td>1</td>\n",
       "    </tr>\n",
       "    <tr>\n",
       "      <th>4</th>\n",
       "      <td>26.0</td>\n",
       "      <td>100.0</td>\n",
       "      <td>0.0</td>\n",
       "      <td>83.0</td>\n",
       "      <td>23.0</td>\n",
       "      <td>51.0</td>\n",
       "      <td>83.0</td>\n",
       "      <td>42.0</td>\n",
       "      <td>100.0</td>\n",
       "      <td>55.0</td>\n",
       "      <td>79.0</td>\n",
       "      <td>84.0</td>\n",
       "      <td>56.0</td>\n",
       "      <td>42.0</td>\n",
       "      <td>37.0</td>\n",
       "      <td>0.0</td>\n",
       "      <td>1</td>\n",
       "    </tr>\n",
       "  </tbody>\n",
       "</table>\n",
       "</div>"
      ],
      "text/plain": [
       "   att1   att2  att3  att4  att5  att6  att7  att8   att9  att10  att11  \\\n",
       "0  48.0  100.0  20.0  80.0   0.0  51.0  55.0  43.0  100.0   56.0   90.0   \n",
       "1  38.0  100.0   4.0  85.0   0.0  53.0  58.0  46.0  100.0   52.0   88.0   \n",
       "2  53.0  100.0  25.0  70.0   0.0  39.0  50.0  34.0  100.0   42.0   85.0   \n",
       "3  12.0  100.0   0.0  71.0  25.0  43.0  86.0  44.0  100.0   75.0   90.0   \n",
       "4  26.0  100.0   0.0  83.0  23.0  51.0  83.0  42.0  100.0   55.0   79.0   \n",
       "\n",
       "   att12  att13  att14  att15  att16  outlier  \n",
       "0   62.0   86.0   30.0   73.0    0.0        1  \n",
       "1   64.0   78.0   32.0   73.0    0.0        1  \n",
       "2   64.0   77.0   32.0   80.0    0.0        1  \n",
       "3   52.0   90.0   20.0   90.0    0.0        1  \n",
       "4   84.0   56.0   42.0   37.0    0.0        1  "
      ]
     },
     "execution_count": 2,
     "metadata": {},
     "output_type": "execute_result"
    }
   ],
   "source": [
    "# load data\n",
    "df=pd.read_csv('PenDigits_withoutdupl_norm_v01.csv')  \n",
    "\n",
    "del df['id']\n",
    "del df['Unnamed: 0']\n",
    "df['outlier'] = df.outlier.apply(lambda label: 1 if label == \"'yes'\" else 0)\n",
    "\n",
    "df.head()"
   ]
  },
  {
   "cell_type": "code",
   "execution_count": 3,
   "metadata": {},
   "outputs": [
    {
     "data": {
      "text/plain": [
       "(9868, 17)"
      ]
     },
     "execution_count": 3,
     "metadata": {},
     "output_type": "execute_result"
    }
   ],
   "source": [
    "df.shape"
   ]
  },
  {
   "cell_type": "code",
   "execution_count": 4,
   "metadata": {
    "collapsed": true
   },
   "outputs": [],
   "source": [
    "# data to values\n",
    "df = df.values"
   ]
  },
  {
   "cell_type": "code",
   "execution_count": 5,
   "metadata": {
    "collapsed": true
   },
   "outputs": [],
   "source": [
    "# Extratrees Deep\n",
    "import argparse\n",
    "import sys\n",
    "import pickle\n",
    "from sklearn.metrics import accuracy_score\n",
    "sys.path.insert(0, \"lib\")\n",
    "from gcforest.gcforest import GCForest\n",
    "from gcforest.utils.config_utils import load_json\n",
    "config = load_json(\"./examples/Pendigits.json\")\n",
    "gc = GCForest(config)"
   ]
  },
  {
   "cell_type": "code",
   "execution_count": 6,
   "metadata": {},
   "outputs": [
    {
     "name": "stderr",
     "output_type": "stream",
     "text": [
      "/home/ubuntu/anaconda2/lib/python2.7/site-packages/sklearn/cross_validation.py:44: DeprecationWarning: This module was deprecated in version 0.18 in favor of the model_selection module into which all the refactored classes and functions are moved. Also note that the interface of the new CV iterators are different from that of this module. This module will be removed in 0.20.\n",
      "  \"This module will be removed in 0.20.\", DeprecationWarning)\n"
     ]
    }
   ],
   "source": [
    "# train test \n",
    "from sklearn.cross_validation import train_test_split\n",
    "y = df[:,16]\n",
    "X = df[:,0:16]\n",
    "\n",
    "X_train,X_test,y_train,y_test = train_test_split(X, y, test_size=0.33, random_state=42)"
   ]
  },
  {
   "cell_type": "code",
   "execution_count": 7,
   "metadata": {},
   "outputs": [
    {
     "data": {
      "text/plain": [
       "2"
      ]
     },
     "execution_count": 7,
     "metadata": {},
     "output_type": "execute_result"
    }
   ],
   "source": [
    "# number of class\n",
    "len(np.unique(y_train))"
   ]
  },
  {
   "cell_type": "code",
   "execution_count": 8,
   "metadata": {},
   "outputs": [
    {
     "name": "stderr",
     "output_type": "stream",
     "text": [
      "[ 2018-04-26 15:03:09,851][cascade_classifier.fit_transform] X_groups_train.shape=[(6611, 16)],y_train.shape=(6611,),X_groups_test.shape=[(3257, 16)],y_test.shape=(3257,)\n",
      "[ 2018-04-26 15:03:09,853][cascade_classifier.fit_transform] group_dims=[16]\n",
      "[ 2018-04-26 15:03:09,855][cascade_classifier.fit_transform] group_starts=[0]\n",
      "[ 2018-04-26 15:03:09,856][cascade_classifier.fit_transform] group_ends=[16]\n",
      "[ 2018-04-26 15:03:09,857][cascade_classifier.fit_transform] X_train.shape=(6611, 16),X_test.shape=(3257, 16)\n",
      "[ 2018-04-26 15:03:09,859][cascade_classifier.fit_transform] [layer=0] look_indexs=[0], X_cur_train.shape=(6611, 16), X_cur_test.shape=(3257, 16)\n",
      "[ 2018-04-26 15:03:10,658][kfold_wrapper.log_eval_metrics] Accuracy(layer_0 - estimator_0 - 10_folds.train_0.predict)=100.00%\n",
      "[ 2018-04-26 15:03:11,735][kfold_wrapper.log_eval_metrics] Accuracy(layer_0 - estimator_0 - 10_folds.train_1.predict)=99.85%\n",
      "[ 2018-04-26 15:03:12,847][kfold_wrapper.log_eval_metrics] Accuracy(layer_0 - estimator_0 - 10_folds.train_2.predict)=100.00%\n",
      "[ 2018-04-26 15:03:13,944][kfold_wrapper.log_eval_metrics] Accuracy(layer_0 - estimator_0 - 10_folds.train_3.predict)=100.00%\n",
      "[ 2018-04-26 15:03:15,111][kfold_wrapper.log_eval_metrics] Accuracy(layer_0 - estimator_0 - 10_folds.train_4.predict)=99.85%\n",
      "[ 2018-04-26 15:03:16,232][kfold_wrapper.log_eval_metrics] Accuracy(layer_0 - estimator_0 - 10_folds.train_5.predict)=100.00%\n",
      "[ 2018-04-26 15:03:17,372][kfold_wrapper.log_eval_metrics] Accuracy(layer_0 - estimator_0 - 10_folds.train_6.predict)=100.00%\n",
      "[ 2018-04-26 15:03:18,492][kfold_wrapper.log_eval_metrics] Accuracy(layer_0 - estimator_0 - 10_folds.train_7.predict)=100.00%\n",
      "[ 2018-04-26 15:03:19,596][kfold_wrapper.log_eval_metrics] Accuracy(layer_0 - estimator_0 - 10_folds.train_8.predict)=100.00%\n",
      "[ 2018-04-26 15:03:20,717][kfold_wrapper.log_eval_metrics] Accuracy(layer_0 - estimator_0 - 10_folds.train_9.predict)=99.85%\n",
      "[ 2018-04-26 15:03:20,953][kfold_wrapper.log_eval_metrics] Accuracy(layer_0 - estimator_0 - 10_folds.train_cv.predict)=99.95%\n",
      "[ 2018-04-26 15:03:20,955][kfold_wrapper.log_eval_metrics] Accuracy(layer_0 - estimator_0 - 10_folds.test.predict)=99.88%\n",
      "[ 2018-04-26 15:03:20,957][cascade_classifier.calc_accuracy] Accuracy(layer_0 - train.classifier_average)=99.95%\n",
      "[ 2018-04-26 15:03:20,958][cascade_classifier.calc_accuracy] Accuracy(layer_0 - test.classifier_average)=99.88%\n",
      "[ 2018-04-26 15:03:20,960][cascade_classifier.fit_transform] [Result][Reach Max Layer] opt_layer_num=1, accuracy_train=99.95%, accuracy_test=99.88%\n"
     ]
    }
   ],
   "source": [
    "           # X_enc is the concatenated predict_proba result of ExtraTrees\n",
    "\n",
    "X_train_enc, X_test_enc = gc.fit_transform(X_train, y_train, X_test=X_test, y_test=y_test)\n",
    "   "
   ]
  },
  {
   "cell_type": "code",
   "execution_count": 9,
   "metadata": {},
   "outputs": [
    {
     "name": "stderr",
     "output_type": "stream",
     "text": [
      "[ 2018-04-26 15:03:20,969][cascade_classifier.transform] X_groups_test.shape=[(3257, 16)]\n",
      "[ 2018-04-26 15:03:20,972][cascade_classifier.transform] group_dims=[16]\n",
      "[ 2018-04-26 15:03:20,974][cascade_classifier.transform] X_test.shape=(3257, 16)\n",
      "[ 2018-04-26 15:03:20,976][cascade_classifier.transform] [layer=0] look_indexs=[0], X_cur_test.shape=(3257, 16)\n"
     ]
    },
    {
     "name": "stdout",
     "output_type": "stream",
     "text": [
      "Test Accuracy of ExtraTrees = 99.877188 %\n"
     ]
    }
   ],
   "source": [
    "# predict\n",
    "y_pred = gc.predict(X_test)\n",
    "acc = accuracy_score(y_test, y_pred)\n",
    "print(\"Test Accuracy of ExtraTrees = {:.6f} %\".format(acc * 100))"
   ]
  },
  {
   "cell_type": "code",
   "execution_count": 10,
   "metadata": {},
   "outputs": [
    {
     "name": "stderr",
     "output_type": "stream",
     "text": [
      "[ 2018-04-26 15:03:23,505][cascade_classifier.transform] X_groups_test.shape=[(3257, 16)]\n",
      "[ 2018-04-26 15:03:23,508][cascade_classifier.transform] group_dims=[16]\n",
      "[ 2018-04-26 15:03:23,509][cascade_classifier.transform] X_test.shape=(3257, 16)\n",
      "[ 2018-04-26 15:03:23,511][cascade_classifier.transform] [layer=0] look_indexs=[0], X_cur_test.shape=(3257, 16)\n"
     ]
    }
   ],
   "source": [
    "# Make data + estimators\n",
    "X_test_enc = gc.transform(X_test)\n",
    "X_train_enc = X_train_enc.reshape((X_train_enc.shape[0], -1))\n",
    "X_test_enc = X_test_enc.reshape((X_test_enc.shape[0], -1))\n",
    "X_train_origin = X_train.reshape((X_train.shape[0], -1))\n",
    "X_test_origin = X_test.reshape((X_test.shape[0], -1))\n",
    "X_train_enc = np.hstack((X_train_origin, X_train_enc))\n",
    "X_test_enc = np.hstack((X_test_origin, X_test_enc))"
   ]
  },
  {
   "cell_type": "code",
   "execution_count": 11,
   "metadata": {},
   "outputs": [
    {
     "name": "stderr",
     "output_type": "stream",
     "text": [
      "[ 2018-04-26 15:03:25,964][cascade_classifier.fit_transform] X_groups_train.shape=[(6611, 18)],y_train.shape=(6611,),X_groups_test.shape=[(3257, 18)],y_test.shape=(3257,)\n",
      "[ 2018-04-26 15:03:25,967][cascade_classifier.fit_transform] group_dims=[18]\n",
      "[ 2018-04-26 15:03:25,970][cascade_classifier.fit_transform] group_starts=[0]\n",
      "[ 2018-04-26 15:03:25,972][cascade_classifier.fit_transform] group_ends=[18]\n",
      "[ 2018-04-26 15:03:25,973][cascade_classifier.fit_transform] X_train.shape=(6611, 18),X_test.shape=(3257, 18)\n",
      "[ 2018-04-26 15:03:25,975][cascade_classifier.fit_transform] [layer=0] look_indexs=[0], X_cur_train.shape=(6611, 18), X_cur_test.shape=(3257, 18)\n",
      "[ 2018-04-26 15:03:26,794][kfold_wrapper.log_eval_metrics] Accuracy(layer_0 - estimator_0 - 10_folds.train_0.predict)=100.00%\n",
      "[ 2018-04-26 15:03:27,753][kfold_wrapper.log_eval_metrics] Accuracy(layer_0 - estimator_0 - 10_folds.train_1.predict)=100.00%\n",
      "[ 2018-04-26 15:03:28,662][kfold_wrapper.log_eval_metrics] Accuracy(layer_0 - estimator_0 - 10_folds.train_2.predict)=100.00%\n",
      "[ 2018-04-26 15:03:29,730][kfold_wrapper.log_eval_metrics] Accuracy(layer_0 - estimator_0 - 10_folds.train_3.predict)=100.00%\n",
      "[ 2018-04-26 15:03:30,858][kfold_wrapper.log_eval_metrics] Accuracy(layer_0 - estimator_0 - 10_folds.train_4.predict)=100.00%\n",
      "[ 2018-04-26 15:03:31,960][kfold_wrapper.log_eval_metrics] Accuracy(layer_0 - estimator_0 - 10_folds.train_5.predict)=100.00%\n",
      "[ 2018-04-26 15:03:33,058][kfold_wrapper.log_eval_metrics] Accuracy(layer_0 - estimator_0 - 10_folds.train_6.predict)=100.00%\n",
      "[ 2018-04-26 15:03:34,308][kfold_wrapper.log_eval_metrics] Accuracy(layer_0 - estimator_0 - 10_folds.train_7.predict)=100.00%\n",
      "[ 2018-04-26 15:03:35,428][kfold_wrapper.log_eval_metrics] Accuracy(layer_0 - estimator_0 - 10_folds.train_8.predict)=100.00%\n",
      "[ 2018-04-26 15:03:36,542][kfold_wrapper.log_eval_metrics] Accuracy(layer_0 - estimator_0 - 10_folds.train_9.predict)=99.85%\n",
      "[ 2018-04-26 15:03:36,802][kfold_wrapper.log_eval_metrics] Accuracy(layer_0 - estimator_0 - 10_folds.train_cv.predict)=99.98%\n",
      "[ 2018-04-26 15:03:36,804][kfold_wrapper.log_eval_metrics] Accuracy(layer_0 - estimator_0 - 10_folds.test.predict)=99.97%\n",
      "[ 2018-04-26 15:03:36,810][cascade_classifier.calc_accuracy] Accuracy(layer_0 - train.classifier_average)=99.98%\n",
      "[ 2018-04-26 15:03:36,811][cascade_classifier.calc_accuracy] Accuracy(layer_0 - test.classifier_average)=99.97%\n",
      "[ 2018-04-26 15:03:36,813][cascade_classifier.fit_transform] [Result][Reach Max Layer] opt_layer_num=1, accuracy_train=99.98%, accuracy_test=99.97%\n"
     ]
    }
   ],
   "source": [
    "X_train=X_train_enc\n",
    "X_test=X_test_enc \n",
    "X_train_enc, X_test_enc = gc.fit_transform(X_train, y_train, X_test=X_test, y_test=y_test)"
   ]
  },
  {
   "cell_type": "code",
   "execution_count": 12,
   "metadata": {},
   "outputs": [
    {
     "name": "stderr",
     "output_type": "stream",
     "text": [
      "[ 2018-04-26 15:03:36,823][cascade_classifier.transform] X_groups_test.shape=[(3257, 18)]\n",
      "[ 2018-04-26 15:03:36,827][cascade_classifier.transform] group_dims=[18]\n",
      "[ 2018-04-26 15:03:36,828][cascade_classifier.transform] X_test.shape=(3257, 18)\n",
      "[ 2018-04-26 15:03:36,831][cascade_classifier.transform] [layer=0] look_indexs=[0], X_cur_test.shape=(3257, 18)\n"
     ]
    },
    {
     "name": "stdout",
     "output_type": "stream",
     "text": [
      "Test Accuracy of ExtraTrees = 99.969297 %\n"
     ]
    }
   ],
   "source": [
    "# predict  data + Es\n",
    "y_pred = gc.predict(X_test)\n",
    "acc = accuracy_score(y_test, y_pred)\n",
    "print(\"Test Accuracy of ExtraTrees = {:.6f} %\".format(acc * 100))"
   ]
  },
  {
   "cell_type": "code",
   "execution_count": 13,
   "metadata": {
    "collapsed": true
   },
   "outputs": [],
   "source": [
    "def update(X_train,X_test):\n",
    "    # update Estimators\n",
    "    M = np.delete(X_train, (-1), axis=1)\n",
    "    X_train= np.delete(M, (-1), axis=1)\n",
    "    M = np.delete(X_test, (-1), axis=1)\n",
    "    X_test = np.delete(M, (-1), axis=1)\n",
    "    return X_train,X_test\n",
    "\n",
    "def newdata(X_test_enc, X_train_enc):\n",
    "    # Make Data + Estimators\n",
    "    X_train_origin = X_train.reshape((X_train.shape[0], -1))\n",
    "    X_test_origin = X_test.reshape((X_test.shape[0], -1))\n",
    "    X_train_enc = np.hstack((X_train_origin, X_train_enc))\n",
    "    X_test_enc = np.hstack((X_test_origin, X_test_enc))\n",
    "    return X_test_enc, X_train_enc\n",
    "\n",
    "def affiche():\n",
    "    # predict\n",
    "    y_pred = gc.predict(X_test)\n",
    "    acc = accuracy_score(y_test, y_pred)\n",
    "    print(\"Test Accuracy of ExtraTrees = {:.6f} %\".format(acc * 100),i,'fois')"
   ]
  },
  {
   "cell_type": "code",
   "execution_count": 14,
   "metadata": {},
   "outputs": [
    {
     "name": "stderr",
     "output_type": "stream",
     "text": [
      "[ 2018-04-26 15:03:39,458][cascade_classifier.fit_transform] X_groups_train.shape=[(6611, 18)],y_train.shape=(6611,),X_groups_test.shape=[(3257, 18)],y_test.shape=(3257,)\n",
      "[ 2018-04-26 15:03:39,460][cascade_classifier.fit_transform] group_dims=[18]\n",
      "[ 2018-04-26 15:03:39,461][cascade_classifier.fit_transform] group_starts=[0]\n",
      "[ 2018-04-26 15:03:39,462][cascade_classifier.fit_transform] group_ends=[18]\n",
      "[ 2018-04-26 15:03:39,464][cascade_classifier.fit_transform] X_train.shape=(6611, 18),X_test.shape=(3257, 18)\n",
      "[ 2018-04-26 15:03:39,466][cascade_classifier.fit_transform] [layer=0] look_indexs=[0], X_cur_train.shape=(6611, 18), X_cur_test.shape=(3257, 18)\n",
      "[ 2018-04-26 15:03:40,284][kfold_wrapper.log_eval_metrics] Accuracy(layer_0 - estimator_0 - 10_folds.train_0.predict)=100.00%\n",
      "[ 2018-04-26 15:03:41,333][kfold_wrapper.log_eval_metrics] Accuracy(layer_0 - estimator_0 - 10_folds.train_1.predict)=100.00%\n",
      "[ 2018-04-26 15:03:42,406][kfold_wrapper.log_eval_metrics] Accuracy(layer_0 - estimator_0 - 10_folds.train_2.predict)=100.00%\n",
      "[ 2018-04-26 15:03:43,371][kfold_wrapper.log_eval_metrics] Accuracy(layer_0 - estimator_0 - 10_folds.train_3.predict)=100.00%\n",
      "[ 2018-04-26 15:03:44,446][kfold_wrapper.log_eval_metrics] Accuracy(layer_0 - estimator_0 - 10_folds.train_4.predict)=100.00%\n",
      "[ 2018-04-26 15:03:45,493][kfold_wrapper.log_eval_metrics] Accuracy(layer_0 - estimator_0 - 10_folds.train_5.predict)=100.00%\n",
      "[ 2018-04-26 15:03:46,481][kfold_wrapper.log_eval_metrics] Accuracy(layer_0 - estimator_0 - 10_folds.train_6.predict)=100.00%\n",
      "[ 2018-04-26 15:03:47,516][kfold_wrapper.log_eval_metrics] Accuracy(layer_0 - estimator_0 - 10_folds.train_7.predict)=100.00%\n",
      "[ 2018-04-26 15:03:48,463][kfold_wrapper.log_eval_metrics] Accuracy(layer_0 - estimator_0 - 10_folds.train_8.predict)=100.00%\n",
      "[ 2018-04-26 15:03:49,423][kfold_wrapper.log_eval_metrics] Accuracy(layer_0 - estimator_0 - 10_folds.train_9.predict)=99.85%\n",
      "[ 2018-04-26 15:03:49,706][kfold_wrapper.log_eval_metrics] Accuracy(layer_0 - estimator_0 - 10_folds.train_cv.predict)=99.98%\n",
      "[ 2018-04-26 15:03:49,708][kfold_wrapper.log_eval_metrics] Accuracy(layer_0 - estimator_0 - 10_folds.test.predict)=99.97%\n",
      "[ 2018-04-26 15:03:49,714][cascade_classifier.calc_accuracy] Accuracy(layer_0 - train.classifier_average)=99.98%\n",
      "[ 2018-04-26 15:03:49,715][cascade_classifier.calc_accuracy] Accuracy(layer_0 - test.classifier_average)=99.97%\n",
      "[ 2018-04-26 15:03:49,716][cascade_classifier.fit_transform] [Result][Reach Max Layer] opt_layer_num=1, accuracy_train=99.98%, accuracy_test=99.97%\n",
      "[ 2018-04-26 15:03:49,718][cascade_classifier.transform] X_groups_test.shape=[(3257, 18)]\n",
      "[ 2018-04-26 15:03:49,722][cascade_classifier.transform] group_dims=[18]\n",
      "[ 2018-04-26 15:03:49,723][cascade_classifier.transform] X_test.shape=(3257, 18)\n",
      "[ 2018-04-26 15:03:49,725][cascade_classifier.transform] [layer=0] look_indexs=[0], X_cur_test.shape=(3257, 18)\n",
      "[ 2018-04-26 15:03:52,210][cascade_classifier.fit_transform] X_groups_train.shape=[(6611, 18)],y_train.shape=(6611,),X_groups_test.shape=[(3257, 18)],y_test.shape=(3257,)\n",
      "[ 2018-04-26 15:03:52,212][cascade_classifier.fit_transform] group_dims=[18]\n",
      "[ 2018-04-26 15:03:52,213][cascade_classifier.fit_transform] group_starts=[0]\n",
      "[ 2018-04-26 15:03:52,214][cascade_classifier.fit_transform] group_ends=[18]\n",
      "[ 2018-04-26 15:03:52,215][cascade_classifier.fit_transform] X_train.shape=(6611, 18),X_test.shape=(3257, 18)\n",
      "[ 2018-04-26 15:03:52,217][cascade_classifier.fit_transform] [layer=0] look_indexs=[0], X_cur_train.shape=(6611, 18), X_cur_test.shape=(3257, 18)\n"
     ]
    },
    {
     "name": "stdout",
     "output_type": "stream",
     "text": [
      "('Test Accuracy of ExtraTrees = 99.969297 %', 0, 'fois')\n",
      "(' Time ', '10.263', ' seconds')\n"
     ]
    },
    {
     "name": "stderr",
     "output_type": "stream",
     "text": [
      "[ 2018-04-26 15:03:53,059][kfold_wrapper.log_eval_metrics] Accuracy(layer_0 - estimator_0 - 10_folds.train_0.predict)=100.00%\n",
      "[ 2018-04-26 15:03:54,363][kfold_wrapper.log_eval_metrics] Accuracy(layer_0 - estimator_0 - 10_folds.train_1.predict)=100.00%\n",
      "[ 2018-04-26 15:03:55,448][kfold_wrapper.log_eval_metrics] Accuracy(layer_0 - estimator_0 - 10_folds.train_2.predict)=100.00%\n",
      "[ 2018-04-26 15:03:56,540][kfold_wrapper.log_eval_metrics] Accuracy(layer_0 - estimator_0 - 10_folds.train_3.predict)=100.00%\n",
      "[ 2018-04-26 15:03:57,628][kfold_wrapper.log_eval_metrics] Accuracy(layer_0 - estimator_0 - 10_folds.train_4.predict)=100.00%\n",
      "[ 2018-04-26 15:03:58,642][kfold_wrapper.log_eval_metrics] Accuracy(layer_0 - estimator_0 - 10_folds.train_5.predict)=100.00%\n",
      "[ 2018-04-26 15:03:59,702][kfold_wrapper.log_eval_metrics] Accuracy(layer_0 - estimator_0 - 10_folds.train_6.predict)=100.00%\n",
      "[ 2018-04-26 15:04:00,780][kfold_wrapper.log_eval_metrics] Accuracy(layer_0 - estimator_0 - 10_folds.train_7.predict)=100.00%\n",
      "[ 2018-04-26 15:04:01,847][kfold_wrapper.log_eval_metrics] Accuracy(layer_0 - estimator_0 - 10_folds.train_8.predict)=100.00%\n",
      "[ 2018-04-26 15:04:02,903][kfold_wrapper.log_eval_metrics] Accuracy(layer_0 - estimator_0 - 10_folds.train_9.predict)=99.85%\n",
      "[ 2018-04-26 15:04:03,149][kfold_wrapper.log_eval_metrics] Accuracy(layer_0 - estimator_0 - 10_folds.train_cv.predict)=99.98%\n",
      "[ 2018-04-26 15:04:03,150][kfold_wrapper.log_eval_metrics] Accuracy(layer_0 - estimator_0 - 10_folds.test.predict)=99.97%\n",
      "[ 2018-04-26 15:04:03,155][cascade_classifier.calc_accuracy] Accuracy(layer_0 - train.classifier_average)=99.98%\n",
      "[ 2018-04-26 15:04:03,156][cascade_classifier.calc_accuracy] Accuracy(layer_0 - test.classifier_average)=99.97%\n",
      "[ 2018-04-26 15:04:03,158][cascade_classifier.fit_transform] [Result][Reach Max Layer] opt_layer_num=1, accuracy_train=99.98%, accuracy_test=99.97%\n",
      "[ 2018-04-26 15:04:03,159][cascade_classifier.transform] X_groups_test.shape=[(3257, 18)]\n",
      "[ 2018-04-26 15:04:03,161][cascade_classifier.transform] group_dims=[18]\n",
      "[ 2018-04-26 15:04:03,163][cascade_classifier.transform] X_test.shape=(3257, 18)\n",
      "[ 2018-04-26 15:04:03,165][cascade_classifier.transform] [layer=0] look_indexs=[0], X_cur_test.shape=(3257, 18)\n",
      "[ 2018-04-26 15:04:05,471][cascade_classifier.fit_transform] X_groups_train.shape=[(6611, 18)],y_train.shape=(6611,),X_groups_test.shape=[(3257, 18)],y_test.shape=(3257,)\n",
      "[ 2018-04-26 15:04:05,473][cascade_classifier.fit_transform] group_dims=[18]\n",
      "[ 2018-04-26 15:04:05,475][cascade_classifier.fit_transform] group_starts=[0]\n",
      "[ 2018-04-26 15:04:05,476][cascade_classifier.fit_transform] group_ends=[18]\n",
      "[ 2018-04-26 15:04:05,477][cascade_classifier.fit_transform] X_train.shape=(6611, 18),X_test.shape=(3257, 18)\n",
      "[ 2018-04-26 15:04:05,478][cascade_classifier.fit_transform] [layer=0] look_indexs=[0], X_cur_train.shape=(6611, 18), X_cur_test.shape=(3257, 18)\n"
     ]
    },
    {
     "name": "stdout",
     "output_type": "stream",
     "text": [
      "('Test Accuracy of ExtraTrees = 99.969297 %', 1, 'fois')\n",
      "(' Time ', '10.952', ' seconds')\n"
     ]
    },
    {
     "name": "stderr",
     "output_type": "stream",
     "text": [
      "[ 2018-04-26 15:04:06,372][kfold_wrapper.log_eval_metrics] Accuracy(layer_0 - estimator_0 - 10_folds.train_0.predict)=100.00%\n",
      "[ 2018-04-26 15:04:07,624][kfold_wrapper.log_eval_metrics] Accuracy(layer_0 - estimator_0 - 10_folds.train_1.predict)=99.85%\n",
      "[ 2018-04-26 15:04:08,728][kfold_wrapper.log_eval_metrics] Accuracy(layer_0 - estimator_0 - 10_folds.train_2.predict)=100.00%\n",
      "[ 2018-04-26 15:04:09,756][kfold_wrapper.log_eval_metrics] Accuracy(layer_0 - estimator_0 - 10_folds.train_3.predict)=100.00%\n",
      "[ 2018-04-26 15:04:10,784][kfold_wrapper.log_eval_metrics] Accuracy(layer_0 - estimator_0 - 10_folds.train_4.predict)=100.00%\n",
      "[ 2018-04-26 15:04:11,891][kfold_wrapper.log_eval_metrics] Accuracy(layer_0 - estimator_0 - 10_folds.train_5.predict)=100.00%\n",
      "[ 2018-04-26 15:04:12,978][kfold_wrapper.log_eval_metrics] Accuracy(layer_0 - estimator_0 - 10_folds.train_6.predict)=100.00%\n",
      "[ 2018-04-26 15:04:14,040][kfold_wrapper.log_eval_metrics] Accuracy(layer_0 - estimator_0 - 10_folds.train_7.predict)=100.00%\n",
      "[ 2018-04-26 15:04:15,112][kfold_wrapper.log_eval_metrics] Accuracy(layer_0 - estimator_0 - 10_folds.train_8.predict)=99.85%\n",
      "[ 2018-04-26 15:04:16,282][kfold_wrapper.log_eval_metrics] Accuracy(layer_0 - estimator_0 - 10_folds.train_9.predict)=99.85%\n",
      "[ 2018-04-26 15:04:16,550][kfold_wrapper.log_eval_metrics] Accuracy(layer_0 - estimator_0 - 10_folds.train_cv.predict)=99.95%\n",
      "[ 2018-04-26 15:04:16,551][kfold_wrapper.log_eval_metrics] Accuracy(layer_0 - estimator_0 - 10_folds.test.predict)=99.97%\n",
      "[ 2018-04-26 15:04:16,556][cascade_classifier.calc_accuracy] Accuracy(layer_0 - train.classifier_average)=99.95%\n",
      "[ 2018-04-26 15:04:16,558][cascade_classifier.calc_accuracy] Accuracy(layer_0 - test.classifier_average)=99.97%\n",
      "[ 2018-04-26 15:04:16,559][cascade_classifier.fit_transform] [Result][Reach Max Layer] opt_layer_num=1, accuracy_train=99.95%, accuracy_test=99.97%\n",
      "[ 2018-04-26 15:04:16,560][cascade_classifier.transform] X_groups_test.shape=[(3257, 18)]\n",
      "[ 2018-04-26 15:04:16,562][cascade_classifier.transform] group_dims=[18]\n",
      "[ 2018-04-26 15:04:16,563][cascade_classifier.transform] X_test.shape=(3257, 18)\n",
      "[ 2018-04-26 15:04:16,564][cascade_classifier.transform] [layer=0] look_indexs=[0], X_cur_test.shape=(3257, 18)\n",
      "[ 2018-04-26 15:04:19,159][cascade_classifier.fit_transform] X_groups_train.shape=[(6611, 18)],y_train.shape=(6611,),X_groups_test.shape=[(3257, 18)],y_test.shape=(3257,)\n",
      "[ 2018-04-26 15:04:19,162][cascade_classifier.fit_transform] group_dims=[18]\n",
      "[ 2018-04-26 15:04:19,163][cascade_classifier.fit_transform] group_starts=[0]\n",
      "[ 2018-04-26 15:04:19,164][cascade_classifier.fit_transform] group_ends=[18]\n",
      "[ 2018-04-26 15:04:19,165][cascade_classifier.fit_transform] X_train.shape=(6611, 18),X_test.shape=(3257, 18)\n",
      "[ 2018-04-26 15:04:19,168][cascade_classifier.fit_transform] [layer=0] look_indexs=[0], X_cur_train.shape=(6611, 18), X_cur_test.shape=(3257, 18)\n"
     ]
    },
    {
     "name": "stdout",
     "output_type": "stream",
     "text": [
      "('Test Accuracy of ExtraTrees = 99.969297 %', 2, 'fois')\n",
      "(' Time ', '11.091', ' seconds')\n"
     ]
    },
    {
     "name": "stderr",
     "output_type": "stream",
     "text": [
      "[ 2018-04-26 15:04:19,984][kfold_wrapper.log_eval_metrics] Accuracy(layer_0 - estimator_0 - 10_folds.train_0.predict)=100.00%\n",
      "[ 2018-04-26 15:04:21,071][kfold_wrapper.log_eval_metrics] Accuracy(layer_0 - estimator_0 - 10_folds.train_1.predict)=99.85%\n",
      "[ 2018-04-26 15:04:22,112][kfold_wrapper.log_eval_metrics] Accuracy(layer_0 - estimator_0 - 10_folds.train_2.predict)=100.00%\n",
      "[ 2018-04-26 15:04:23,140][kfold_wrapper.log_eval_metrics] Accuracy(layer_0 - estimator_0 - 10_folds.train_3.predict)=100.00%\n",
      "[ 2018-04-26 15:04:24,088][kfold_wrapper.log_eval_metrics] Accuracy(layer_0 - estimator_0 - 10_folds.train_4.predict)=100.00%\n",
      "[ 2018-04-26 15:04:24,979][kfold_wrapper.log_eval_metrics] Accuracy(layer_0 - estimator_0 - 10_folds.train_5.predict)=100.00%\n",
      "[ 2018-04-26 15:04:26,076][kfold_wrapper.log_eval_metrics] Accuracy(layer_0 - estimator_0 - 10_folds.train_6.predict)=100.00%\n",
      "[ 2018-04-26 15:04:27,194][kfold_wrapper.log_eval_metrics] Accuracy(layer_0 - estimator_0 - 10_folds.train_7.predict)=100.00%\n",
      "[ 2018-04-26 15:04:28,283][kfold_wrapper.log_eval_metrics] Accuracy(layer_0 - estimator_0 - 10_folds.train_8.predict)=99.85%\n",
      "[ 2018-04-26 15:04:29,506][kfold_wrapper.log_eval_metrics] Accuracy(layer_0 - estimator_0 - 10_folds.train_9.predict)=99.85%\n",
      "[ 2018-04-26 15:04:29,748][kfold_wrapper.log_eval_metrics] Accuracy(layer_0 - estimator_0 - 10_folds.train_cv.predict)=99.95%\n",
      "[ 2018-04-26 15:04:29,750][kfold_wrapper.log_eval_metrics] Accuracy(layer_0 - estimator_0 - 10_folds.test.predict)=99.97%\n",
      "[ 2018-04-26 15:04:29,755][cascade_classifier.calc_accuracy] Accuracy(layer_0 - train.classifier_average)=99.95%\n",
      "[ 2018-04-26 15:04:29,757][cascade_classifier.calc_accuracy] Accuracy(layer_0 - test.classifier_average)=99.97%\n",
      "[ 2018-04-26 15:04:29,758][cascade_classifier.fit_transform] [Result][Reach Max Layer] opt_layer_num=1, accuracy_train=99.95%, accuracy_test=99.97%\n",
      "[ 2018-04-26 15:04:29,759][cascade_classifier.transform] X_groups_test.shape=[(3257, 18)]\n",
      "[ 2018-04-26 15:04:29,761][cascade_classifier.transform] group_dims=[18]\n",
      "[ 2018-04-26 15:04:29,762][cascade_classifier.transform] X_test.shape=(3257, 18)\n",
      "[ 2018-04-26 15:04:29,764][cascade_classifier.transform] [layer=0] look_indexs=[0], X_cur_test.shape=(3257, 18)\n",
      "[ 2018-04-26 15:04:32,292][cascade_classifier.fit_transform] X_groups_train.shape=[(6611, 18)],y_train.shape=(6611,),X_groups_test.shape=[(3257, 18)],y_test.shape=(3257,)\n",
      "[ 2018-04-26 15:04:32,295][cascade_classifier.fit_transform] group_dims=[18]\n",
      "[ 2018-04-26 15:04:32,297][cascade_classifier.fit_transform] group_starts=[0]\n",
      "[ 2018-04-26 15:04:32,298][cascade_classifier.fit_transform] group_ends=[18]\n",
      "[ 2018-04-26 15:04:32,299][cascade_classifier.fit_transform] X_train.shape=(6611, 18),X_test.shape=(3257, 18)\n",
      "[ 2018-04-26 15:04:32,303][cascade_classifier.fit_transform] [layer=0] look_indexs=[0], X_cur_train.shape=(6611, 18), X_cur_test.shape=(3257, 18)\n"
     ]
    },
    {
     "name": "stdout",
     "output_type": "stream",
     "text": [
      "('Test Accuracy of ExtraTrees = 99.969297 %', 3, 'fois')\n",
      "(' Time ', '10.603', ' seconds')\n"
     ]
    },
    {
     "name": "stderr",
     "output_type": "stream",
     "text": [
      "[ 2018-04-26 15:04:33,184][kfold_wrapper.log_eval_metrics] Accuracy(layer_0 - estimator_0 - 10_folds.train_0.predict)=100.00%\n",
      "[ 2018-04-26 15:04:34,314][kfold_wrapper.log_eval_metrics] Accuracy(layer_0 - estimator_0 - 10_folds.train_1.predict)=99.85%\n",
      "[ 2018-04-26 15:04:35,373][kfold_wrapper.log_eval_metrics] Accuracy(layer_0 - estimator_0 - 10_folds.train_2.predict)=100.00%\n",
      "[ 2018-04-26 15:04:36,444][kfold_wrapper.log_eval_metrics] Accuracy(layer_0 - estimator_0 - 10_folds.train_3.predict)=100.00%\n",
      "[ 2018-04-26 15:04:37,523][kfold_wrapper.log_eval_metrics] Accuracy(layer_0 - estimator_0 - 10_folds.train_4.predict)=100.00%\n",
      "[ 2018-04-26 15:04:38,574][kfold_wrapper.log_eval_metrics] Accuracy(layer_0 - estimator_0 - 10_folds.train_5.predict)=100.00%\n",
      "[ 2018-04-26 15:04:39,684][kfold_wrapper.log_eval_metrics] Accuracy(layer_0 - estimator_0 - 10_folds.train_6.predict)=100.00%\n",
      "[ 2018-04-26 15:04:40,613][kfold_wrapper.log_eval_metrics] Accuracy(layer_0 - estimator_0 - 10_folds.train_7.predict)=100.00%\n",
      "[ 2018-04-26 15:04:41,741][kfold_wrapper.log_eval_metrics] Accuracy(layer_0 - estimator_0 - 10_folds.train_8.predict)=99.85%\n",
      "[ 2018-04-26 15:04:42,534][kfold_wrapper.log_eval_metrics] Accuracy(layer_0 - estimator_0 - 10_folds.train_9.predict)=99.85%\n",
      "[ 2018-04-26 15:04:42,804][kfold_wrapper.log_eval_metrics] Accuracy(layer_0 - estimator_0 - 10_folds.train_cv.predict)=99.95%\n",
      "[ 2018-04-26 15:04:42,806][kfold_wrapper.log_eval_metrics] Accuracy(layer_0 - estimator_0 - 10_folds.test.predict)=99.94%\n",
      "[ 2018-04-26 15:04:42,811][cascade_classifier.calc_accuracy] Accuracy(layer_0 - train.classifier_average)=99.95%\n",
      "[ 2018-04-26 15:04:42,812][cascade_classifier.calc_accuracy] Accuracy(layer_0 - test.classifier_average)=99.94%\n",
      "[ 2018-04-26 15:04:42,814][cascade_classifier.fit_transform] [Result][Reach Max Layer] opt_layer_num=1, accuracy_train=99.95%, accuracy_test=99.94%\n",
      "[ 2018-04-26 15:04:42,815][cascade_classifier.transform] X_groups_test.shape=[(3257, 18)]\n",
      "[ 2018-04-26 15:04:42,817][cascade_classifier.transform] group_dims=[18]\n",
      "[ 2018-04-26 15:04:42,818][cascade_classifier.transform] X_test.shape=(3257, 18)\n",
      "[ 2018-04-26 15:04:42,820][cascade_classifier.transform] [layer=0] look_indexs=[0], X_cur_test.shape=(3257, 18)\n",
      "[ 2018-04-26 15:04:45,289][cascade_classifier.fit_transform] X_groups_train.shape=[(6611, 18)],y_train.shape=(6611,),X_groups_test.shape=[(3257, 18)],y_test.shape=(3257,)\n",
      "[ 2018-04-26 15:04:45,291][cascade_classifier.fit_transform] group_dims=[18]\n",
      "[ 2018-04-26 15:04:45,293][cascade_classifier.fit_transform] group_starts=[0]\n",
      "[ 2018-04-26 15:04:45,294][cascade_classifier.fit_transform] group_ends=[18]\n",
      "[ 2018-04-26 15:04:45,295][cascade_classifier.fit_transform] X_train.shape=(6611, 18),X_test.shape=(3257, 18)\n",
      "[ 2018-04-26 15:04:45,297][cascade_classifier.fit_transform] [layer=0] look_indexs=[0], X_cur_train.shape=(6611, 18), X_cur_test.shape=(3257, 18)\n"
     ]
    },
    {
     "name": "stdout",
     "output_type": "stream",
     "text": [
      "('Test Accuracy of ExtraTrees = 99.938594 %', 4, 'fois')\n",
      "(' Time ', '10.526', ' seconds')\n"
     ]
    },
    {
     "name": "stderr",
     "output_type": "stream",
     "text": [
      "[ 2018-04-26 15:04:46,284][kfold_wrapper.log_eval_metrics] Accuracy(layer_0 - estimator_0 - 10_folds.train_0.predict)=100.00%\n",
      "[ 2018-04-26 15:04:47,372][kfold_wrapper.log_eval_metrics] Accuracy(layer_0 - estimator_0 - 10_folds.train_1.predict)=99.85%\n",
      "[ 2018-04-26 15:04:48,488][kfold_wrapper.log_eval_metrics] Accuracy(layer_0 - estimator_0 - 10_folds.train_2.predict)=100.00%\n",
      "[ 2018-04-26 15:04:49,637][kfold_wrapper.log_eval_metrics] Accuracy(layer_0 - estimator_0 - 10_folds.train_3.predict)=100.00%\n",
      "[ 2018-04-26 15:04:50,719][kfold_wrapper.log_eval_metrics] Accuracy(layer_0 - estimator_0 - 10_folds.train_4.predict)=100.00%\n",
      "[ 2018-04-26 15:04:51,702][kfold_wrapper.log_eval_metrics] Accuracy(layer_0 - estimator_0 - 10_folds.train_5.predict)=100.00%\n",
      "[ 2018-04-26 15:04:52,743][kfold_wrapper.log_eval_metrics] Accuracy(layer_0 - estimator_0 - 10_folds.train_6.predict)=100.00%\n",
      "[ 2018-04-26 15:04:53,828][kfold_wrapper.log_eval_metrics] Accuracy(layer_0 - estimator_0 - 10_folds.train_7.predict)=100.00%\n",
      "[ 2018-04-26 15:04:54,886][kfold_wrapper.log_eval_metrics] Accuracy(layer_0 - estimator_0 - 10_folds.train_8.predict)=99.85%\n",
      "[ 2018-04-26 15:04:55,957][kfold_wrapper.log_eval_metrics] Accuracy(layer_0 - estimator_0 - 10_folds.train_9.predict)=99.85%\n",
      "[ 2018-04-26 15:04:56,212][kfold_wrapper.log_eval_metrics] Accuracy(layer_0 - estimator_0 - 10_folds.train_cv.predict)=99.95%\n",
      "[ 2018-04-26 15:04:56,214][kfold_wrapper.log_eval_metrics] Accuracy(layer_0 - estimator_0 - 10_folds.test.predict)=99.94%\n",
      "[ 2018-04-26 15:04:56,218][cascade_classifier.calc_accuracy] Accuracy(layer_0 - train.classifier_average)=99.95%\n",
      "[ 2018-04-26 15:04:56,220][cascade_classifier.calc_accuracy] Accuracy(layer_0 - test.classifier_average)=99.94%\n",
      "[ 2018-04-26 15:04:56,221][cascade_classifier.fit_transform] [Result][Reach Max Layer] opt_layer_num=1, accuracy_train=99.95%, accuracy_test=99.94%\n",
      "[ 2018-04-26 15:04:56,222][cascade_classifier.transform] X_groups_test.shape=[(3257, 18)]\n",
      "[ 2018-04-26 15:04:56,224][cascade_classifier.transform] group_dims=[18]\n",
      "[ 2018-04-26 15:04:56,225][cascade_classifier.transform] X_test.shape=(3257, 18)\n",
      "[ 2018-04-26 15:04:56,226][cascade_classifier.transform] [layer=0] look_indexs=[0], X_cur_test.shape=(3257, 18)\n",
      "[ 2018-04-26 15:04:58,666][cascade_classifier.fit_transform] X_groups_train.shape=[(6611, 18)],y_train.shape=(6611,),X_groups_test.shape=[(3257, 18)],y_test.shape=(3257,)\n",
      "[ 2018-04-26 15:04:58,667][cascade_classifier.fit_transform] group_dims=[18]\n",
      "[ 2018-04-26 15:04:58,669][cascade_classifier.fit_transform] group_starts=[0]\n",
      "[ 2018-04-26 15:04:58,670][cascade_classifier.fit_transform] group_ends=[18]\n",
      "[ 2018-04-26 15:04:58,671][cascade_classifier.fit_transform] X_train.shape=(6611, 18),X_test.shape=(3257, 18)\n",
      "[ 2018-04-26 15:04:58,673][cascade_classifier.fit_transform] [layer=0] look_indexs=[0], X_cur_train.shape=(6611, 18), X_cur_test.shape=(3257, 18)\n"
     ]
    },
    {
     "name": "stdout",
     "output_type": "stream",
     "text": [
      "('Test Accuracy of ExtraTrees = 99.938594 %', 5, 'fois')\n",
      "(' Time ', '10.935', ' seconds')\n"
     ]
    },
    {
     "name": "stderr",
     "output_type": "stream",
     "text": [
      "[ 2018-04-26 15:04:59,497][kfold_wrapper.log_eval_metrics] Accuracy(layer_0 - estimator_0 - 10_folds.train_0.predict)=99.85%\n",
      "[ 2018-04-26 15:05:00,560][kfold_wrapper.log_eval_metrics] Accuracy(layer_0 - estimator_0 - 10_folds.train_1.predict)=99.85%\n",
      "[ 2018-04-26 15:05:01,592][kfold_wrapper.log_eval_metrics] Accuracy(layer_0 - estimator_0 - 10_folds.train_2.predict)=100.00%\n",
      "[ 2018-04-26 15:05:02,567][kfold_wrapper.log_eval_metrics] Accuracy(layer_0 - estimator_0 - 10_folds.train_3.predict)=100.00%\n",
      "[ 2018-04-26 15:05:03,801][kfold_wrapper.log_eval_metrics] Accuracy(layer_0 - estimator_0 - 10_folds.train_4.predict)=100.00%\n",
      "[ 2018-04-26 15:05:04,888][kfold_wrapper.log_eval_metrics] Accuracy(layer_0 - estimator_0 - 10_folds.train_5.predict)=100.00%\n",
      "[ 2018-04-26 15:05:05,957][kfold_wrapper.log_eval_metrics] Accuracy(layer_0 - estimator_0 - 10_folds.train_6.predict)=100.00%\n",
      "[ 2018-04-26 15:05:07,067][kfold_wrapper.log_eval_metrics] Accuracy(layer_0 - estimator_0 - 10_folds.train_7.predict)=99.85%\n",
      "[ 2018-04-26 15:05:08,138][kfold_wrapper.log_eval_metrics] Accuracy(layer_0 - estimator_0 - 10_folds.train_8.predict)=99.85%\n",
      "[ 2018-04-26 15:05:09,207][kfold_wrapper.log_eval_metrics] Accuracy(layer_0 - estimator_0 - 10_folds.train_9.predict)=99.85%\n",
      "[ 2018-04-26 15:05:09,466][kfold_wrapper.log_eval_metrics] Accuracy(layer_0 - estimator_0 - 10_folds.train_cv.predict)=99.92%\n",
      "[ 2018-04-26 15:05:09,468][kfold_wrapper.log_eval_metrics] Accuracy(layer_0 - estimator_0 - 10_folds.test.predict)=99.94%\n",
      "[ 2018-04-26 15:05:09,472][cascade_classifier.calc_accuracy] Accuracy(layer_0 - train.classifier_average)=99.92%\n",
      "[ 2018-04-26 15:05:09,473][cascade_classifier.calc_accuracy] Accuracy(layer_0 - test.classifier_average)=99.94%\n",
      "[ 2018-04-26 15:05:09,474][cascade_classifier.fit_transform] [Result][Reach Max Layer] opt_layer_num=1, accuracy_train=99.92%, accuracy_test=99.94%\n",
      "[ 2018-04-26 15:05:09,476][cascade_classifier.transform] X_groups_test.shape=[(3257, 18)]\n",
      "[ 2018-04-26 15:05:09,477][cascade_classifier.transform] group_dims=[18]\n",
      "[ 2018-04-26 15:05:09,478][cascade_classifier.transform] X_test.shape=(3257, 18)\n",
      "[ 2018-04-26 15:05:09,480][cascade_classifier.transform] [layer=0] look_indexs=[0], X_cur_test.shape=(3257, 18)\n",
      "[ 2018-04-26 15:05:12,029][cascade_classifier.fit_transform] X_groups_train.shape=[(6611, 18)],y_train.shape=(6611,),X_groups_test.shape=[(3257, 18)],y_test.shape=(3257,)\n",
      "[ 2018-04-26 15:05:12,031][cascade_classifier.fit_transform] group_dims=[18]\n",
      "[ 2018-04-26 15:05:12,032][cascade_classifier.fit_transform] group_starts=[0]\n",
      "[ 2018-04-26 15:05:12,033][cascade_classifier.fit_transform] group_ends=[18]\n",
      "[ 2018-04-26 15:05:12,034][cascade_classifier.fit_transform] X_train.shape=(6611, 18),X_test.shape=(3257, 18)\n",
      "[ 2018-04-26 15:05:12,036][cascade_classifier.fit_transform] [layer=0] look_indexs=[0], X_cur_train.shape=(6611, 18), X_cur_test.shape=(3257, 18)\n"
     ]
    },
    {
     "name": "stdout",
     "output_type": "stream",
     "text": [
      "('Test Accuracy of ExtraTrees = 99.938594 %', 6, 'fois')\n",
      "(' Time ', '10.812', ' seconds')\n"
     ]
    },
    {
     "name": "stderr",
     "output_type": "stream",
     "text": [
      "[ 2018-04-26 15:05:12,922][kfold_wrapper.log_eval_metrics] Accuracy(layer_0 - estimator_0 - 10_folds.train_0.predict)=100.00%\n",
      "[ 2018-04-26 15:05:14,037][kfold_wrapper.log_eval_metrics] Accuracy(layer_0 - estimator_0 - 10_folds.train_1.predict)=99.85%\n",
      "[ 2018-04-26 15:05:15,151][kfold_wrapper.log_eval_metrics] Accuracy(layer_0 - estimator_0 - 10_folds.train_2.predict)=100.00%\n",
      "[ 2018-04-26 15:05:16,187][kfold_wrapper.log_eval_metrics] Accuracy(layer_0 - estimator_0 - 10_folds.train_3.predict)=100.00%\n",
      "[ 2018-04-26 15:05:17,237][kfold_wrapper.log_eval_metrics] Accuracy(layer_0 - estimator_0 - 10_folds.train_4.predict)=100.00%\n",
      "[ 2018-04-26 15:05:18,314][kfold_wrapper.log_eval_metrics] Accuracy(layer_0 - estimator_0 - 10_folds.train_5.predict)=100.00%\n",
      "[ 2018-04-26 15:05:19,442][kfold_wrapper.log_eval_metrics] Accuracy(layer_0 - estimator_0 - 10_folds.train_6.predict)=100.00%\n",
      "[ 2018-04-26 15:05:20,245][kfold_wrapper.log_eval_metrics] Accuracy(layer_0 - estimator_0 - 10_folds.train_7.predict)=99.85%\n",
      "[ 2018-04-26 15:05:21,073][kfold_wrapper.log_eval_metrics] Accuracy(layer_0 - estimator_0 - 10_folds.train_8.predict)=99.85%\n",
      "[ 2018-04-26 15:05:22,175][kfold_wrapper.log_eval_metrics] Accuracy(layer_0 - estimator_0 - 10_folds.train_9.predict)=99.85%\n",
      "[ 2018-04-26 15:05:22,422][kfold_wrapper.log_eval_metrics] Accuracy(layer_0 - estimator_0 - 10_folds.train_cv.predict)=99.94%\n",
      "[ 2018-04-26 15:05:22,423][kfold_wrapper.log_eval_metrics] Accuracy(layer_0 - estimator_0 - 10_folds.test.predict)=99.94%\n",
      "[ 2018-04-26 15:05:22,428][cascade_classifier.calc_accuracy] Accuracy(layer_0 - train.classifier_average)=99.94%\n",
      "[ 2018-04-26 15:05:22,429][cascade_classifier.calc_accuracy] Accuracy(layer_0 - test.classifier_average)=99.94%\n",
      "[ 2018-04-26 15:05:22,430][cascade_classifier.fit_transform] [Result][Reach Max Layer] opt_layer_num=1, accuracy_train=99.94%, accuracy_test=99.94%\n",
      "[ 2018-04-26 15:05:22,431][cascade_classifier.transform] X_groups_test.shape=[(3257, 18)]\n",
      "[ 2018-04-26 15:05:22,433][cascade_classifier.transform] group_dims=[18]\n",
      "[ 2018-04-26 15:05:22,434][cascade_classifier.transform] X_test.shape=(3257, 18)\n",
      "[ 2018-04-26 15:05:22,435][cascade_classifier.transform] [layer=0] look_indexs=[0], X_cur_test.shape=(3257, 18)\n",
      "[ 2018-04-26 15:05:25,036][cascade_classifier.fit_transform] X_groups_train.shape=[(6611, 18)],y_train.shape=(6611,),X_groups_test.shape=[(3257, 18)],y_test.shape=(3257,)\n",
      "[ 2018-04-26 15:05:25,038][cascade_classifier.fit_transform] group_dims=[18]\n",
      "[ 2018-04-26 15:05:25,039][cascade_classifier.fit_transform] group_starts=[0]\n",
      "[ 2018-04-26 15:05:25,040][cascade_classifier.fit_transform] group_ends=[18]\n",
      "[ 2018-04-26 15:05:25,041][cascade_classifier.fit_transform] X_train.shape=(6611, 18),X_test.shape=(3257, 18)\n",
      "[ 2018-04-26 15:05:25,043][cascade_classifier.fit_transform] [layer=0] look_indexs=[0], X_cur_train.shape=(6611, 18), X_cur_test.shape=(3257, 18)\n"
     ]
    },
    {
     "name": "stdout",
     "output_type": "stream",
     "text": [
      "('Test Accuracy of ExtraTrees = 99.938594 %', 7, 'fois')\n",
      "(' Time ', '10.405', ' seconds')\n"
     ]
    },
    {
     "name": "stderr",
     "output_type": "stream",
     "text": [
      "[ 2018-04-26 15:05:25,920][kfold_wrapper.log_eval_metrics] Accuracy(layer_0 - estimator_0 - 10_folds.train_0.predict)=99.85%\n",
      "[ 2018-04-26 15:05:26,958][kfold_wrapper.log_eval_metrics] Accuracy(layer_0 - estimator_0 - 10_folds.train_1.predict)=99.85%\n",
      "[ 2018-04-26 15:05:27,879][kfold_wrapper.log_eval_metrics] Accuracy(layer_0 - estimator_0 - 10_folds.train_2.predict)=100.00%\n",
      "[ 2018-04-26 15:05:28,995][kfold_wrapper.log_eval_metrics] Accuracy(layer_0 - estimator_0 - 10_folds.train_3.predict)=100.00%\n",
      "[ 2018-04-26 15:05:30,107][kfold_wrapper.log_eval_metrics] Accuracy(layer_0 - estimator_0 - 10_folds.train_4.predict)=100.00%\n",
      "[ 2018-04-26 15:05:31,174][kfold_wrapper.log_eval_metrics] Accuracy(layer_0 - estimator_0 - 10_folds.train_5.predict)=100.00%\n",
      "[ 2018-04-26 15:05:32,331][kfold_wrapper.log_eval_metrics] Accuracy(layer_0 - estimator_0 - 10_folds.train_6.predict)=100.00%\n",
      "[ 2018-04-26 15:05:33,454][kfold_wrapper.log_eval_metrics] Accuracy(layer_0 - estimator_0 - 10_folds.train_7.predict)=99.85%\n",
      "[ 2018-04-26 15:05:34,503][kfold_wrapper.log_eval_metrics] Accuracy(layer_0 - estimator_0 - 10_folds.train_8.predict)=99.85%\n",
      "[ 2018-04-26 15:05:35,671][kfold_wrapper.log_eval_metrics] Accuracy(layer_0 - estimator_0 - 10_folds.train_9.predict)=99.85%\n",
      "[ 2018-04-26 15:05:35,900][kfold_wrapper.log_eval_metrics] Accuracy(layer_0 - estimator_0 - 10_folds.train_cv.predict)=99.92%\n",
      "[ 2018-04-26 15:05:35,902][kfold_wrapper.log_eval_metrics] Accuracy(layer_0 - estimator_0 - 10_folds.test.predict)=99.94%\n",
      "[ 2018-04-26 15:05:35,907][cascade_classifier.calc_accuracy] Accuracy(layer_0 - train.classifier_average)=99.92%\n",
      "[ 2018-04-26 15:05:35,909][cascade_classifier.calc_accuracy] Accuracy(layer_0 - test.classifier_average)=99.94%\n",
      "[ 2018-04-26 15:05:35,910][cascade_classifier.fit_transform] [Result][Reach Max Layer] opt_layer_num=1, accuracy_train=99.92%, accuracy_test=99.94%\n",
      "[ 2018-04-26 15:05:35,911][cascade_classifier.transform] X_groups_test.shape=[(3257, 18)]\n",
      "[ 2018-04-26 15:05:35,913][cascade_classifier.transform] group_dims=[18]\n",
      "[ 2018-04-26 15:05:35,914][cascade_classifier.transform] X_test.shape=(3257, 18)\n",
      "[ 2018-04-26 15:05:35,915][cascade_classifier.transform] [layer=0] look_indexs=[0], X_cur_test.shape=(3257, 18)\n",
      "[ 2018-04-26 15:05:38,328][cascade_classifier.fit_transform] X_groups_train.shape=[(6611, 18)],y_train.shape=(6611,),X_groups_test.shape=[(3257, 18)],y_test.shape=(3257,)\n",
      "[ 2018-04-26 15:05:38,329][cascade_classifier.fit_transform] group_dims=[18]\n",
      "[ 2018-04-26 15:05:38,331][cascade_classifier.fit_transform] group_starts=[0]\n",
      "[ 2018-04-26 15:05:38,332][cascade_classifier.fit_transform] group_ends=[18]\n",
      "[ 2018-04-26 15:05:38,333][cascade_classifier.fit_transform] X_train.shape=(6611, 18),X_test.shape=(3257, 18)\n",
      "[ 2018-04-26 15:05:38,334][cascade_classifier.fit_transform] [layer=0] look_indexs=[0], X_cur_train.shape=(6611, 18), X_cur_test.shape=(3257, 18)\n"
     ]
    },
    {
     "name": "stdout",
     "output_type": "stream",
     "text": [
      "('Test Accuracy of ExtraTrees = 99.938594 %', 8, 'fois')\n",
      "(' Time ', '10.876', ' seconds')\n"
     ]
    },
    {
     "name": "stderr",
     "output_type": "stream",
     "text": [
      "[ 2018-04-26 15:05:39,110][kfold_wrapper.log_eval_metrics] Accuracy(layer_0 - estimator_0 - 10_folds.train_0.predict)=99.85%\n",
      "[ 2018-04-26 15:05:40,186][kfold_wrapper.log_eval_metrics] Accuracy(layer_0 - estimator_0 - 10_folds.train_1.predict)=99.85%\n",
      "[ 2018-04-26 15:05:41,239][kfold_wrapper.log_eval_metrics] Accuracy(layer_0 - estimator_0 - 10_folds.train_2.predict)=100.00%\n",
      "[ 2018-04-26 15:05:42,321][kfold_wrapper.log_eval_metrics] Accuracy(layer_0 - estimator_0 - 10_folds.train_3.predict)=100.00%\n",
      "[ 2018-04-26 15:05:43,503][kfold_wrapper.log_eval_metrics] Accuracy(layer_0 - estimator_0 - 10_folds.train_4.predict)=100.00%\n",
      "[ 2018-04-26 15:05:44,555][kfold_wrapper.log_eval_metrics] Accuracy(layer_0 - estimator_0 - 10_folds.train_5.predict)=100.00%\n",
      "[ 2018-04-26 15:05:45,635][kfold_wrapper.log_eval_metrics] Accuracy(layer_0 - estimator_0 - 10_folds.train_6.predict)=100.00%\n",
      "[ 2018-04-26 15:05:46,755][kfold_wrapper.log_eval_metrics] Accuracy(layer_0 - estimator_0 - 10_folds.train_7.predict)=99.85%\n",
      "[ 2018-04-26 15:05:48,031][kfold_wrapper.log_eval_metrics] Accuracy(layer_0 - estimator_0 - 10_folds.train_8.predict)=99.85%\n",
      "[ 2018-04-26 15:05:49,108][kfold_wrapper.log_eval_metrics] Accuracy(layer_0 - estimator_0 - 10_folds.train_9.predict)=99.85%\n",
      "[ 2018-04-26 15:05:49,353][kfold_wrapper.log_eval_metrics] Accuracy(layer_0 - estimator_0 - 10_folds.train_cv.predict)=99.92%\n",
      "[ 2018-04-26 15:05:49,354][kfold_wrapper.log_eval_metrics] Accuracy(layer_0 - estimator_0 - 10_folds.test.predict)=99.94%\n",
      "[ 2018-04-26 15:05:49,359][cascade_classifier.calc_accuracy] Accuracy(layer_0 - train.classifier_average)=99.92%\n",
      "[ 2018-04-26 15:05:49,361][cascade_classifier.calc_accuracy] Accuracy(layer_0 - test.classifier_average)=99.94%\n",
      "[ 2018-04-26 15:05:49,362][cascade_classifier.fit_transform] [Result][Reach Max Layer] opt_layer_num=1, accuracy_train=99.92%, accuracy_test=99.94%\n",
      "[ 2018-04-26 15:05:49,364][cascade_classifier.transform] X_groups_test.shape=[(3257, 18)]\n",
      "[ 2018-04-26 15:05:49,366][cascade_classifier.transform] group_dims=[18]\n",
      "[ 2018-04-26 15:05:49,367][cascade_classifier.transform] X_test.shape=(3257, 18)\n",
      "[ 2018-04-26 15:05:49,368][cascade_classifier.transform] [layer=0] look_indexs=[0], X_cur_test.shape=(3257, 18)\n",
      "[ 2018-04-26 15:05:51,919][cascade_classifier.fit_transform] X_groups_train.shape=[(6611, 18)],y_train.shape=(6611,),X_groups_test.shape=[(3257, 18)],y_test.shape=(3257,)\n",
      "[ 2018-04-26 15:05:51,921][cascade_classifier.fit_transform] group_dims=[18]\n",
      "[ 2018-04-26 15:05:51,922][cascade_classifier.fit_transform] group_starts=[0]\n",
      "[ 2018-04-26 15:05:51,923][cascade_classifier.fit_transform] group_ends=[18]\n",
      "[ 2018-04-26 15:05:51,924][cascade_classifier.fit_transform] X_train.shape=(6611, 18),X_test.shape=(3257, 18)\n",
      "[ 2018-04-26 15:05:51,926][cascade_classifier.fit_transform] [layer=0] look_indexs=[0], X_cur_train.shape=(6611, 18), X_cur_test.shape=(3257, 18)\n"
     ]
    },
    {
     "name": "stdout",
     "output_type": "stream",
     "text": [
      "('Test Accuracy of ExtraTrees = 99.938594 %', 9, 'fois')\n",
      "(' Time ', '11.037', ' seconds')\n"
     ]
    },
    {
     "name": "stderr",
     "output_type": "stream",
     "text": [
      "[ 2018-04-26 15:05:52,729][kfold_wrapper.log_eval_metrics] Accuracy(layer_0 - estimator_0 - 10_folds.train_0.predict)=100.00%\n",
      "[ 2018-04-26 15:05:53,843][kfold_wrapper.log_eval_metrics] Accuracy(layer_0 - estimator_0 - 10_folds.train_1.predict)=100.00%\n",
      "[ 2018-04-26 15:05:54,930][kfold_wrapper.log_eval_metrics] Accuracy(layer_0 - estimator_0 - 10_folds.train_2.predict)=100.00%\n",
      "[ 2018-04-26 15:05:55,816][kfold_wrapper.log_eval_metrics] Accuracy(layer_0 - estimator_0 - 10_folds.train_3.predict)=100.00%\n",
      "[ 2018-04-26 15:05:56,742][kfold_wrapper.log_eval_metrics] Accuracy(layer_0 - estimator_0 - 10_folds.train_4.predict)=100.00%\n",
      "[ 2018-04-26 15:05:57,782][kfold_wrapper.log_eval_metrics] Accuracy(layer_0 - estimator_0 - 10_folds.train_5.predict)=100.00%\n",
      "[ 2018-04-26 15:05:58,932][kfold_wrapper.log_eval_metrics] Accuracy(layer_0 - estimator_0 - 10_folds.train_6.predict)=100.00%\n",
      "[ 2018-04-26 15:05:59,969][kfold_wrapper.log_eval_metrics] Accuracy(layer_0 - estimator_0 - 10_folds.train_7.predict)=99.85%\n",
      "[ 2018-04-26 15:06:01,031][kfold_wrapper.log_eval_metrics] Accuracy(layer_0 - estimator_0 - 10_folds.train_8.predict)=99.85%\n",
      "[ 2018-04-26 15:06:02,211][kfold_wrapper.log_eval_metrics] Accuracy(layer_0 - estimator_0 - 10_folds.train_9.predict)=99.85%\n",
      "[ 2018-04-26 15:06:02,445][kfold_wrapper.log_eval_metrics] Accuracy(layer_0 - estimator_0 - 10_folds.train_cv.predict)=99.95%\n",
      "[ 2018-04-26 15:06:02,447][kfold_wrapper.log_eval_metrics] Accuracy(layer_0 - estimator_0 - 10_folds.test.predict)=99.94%\n",
      "[ 2018-04-26 15:06:02,452][cascade_classifier.calc_accuracy] Accuracy(layer_0 - train.classifier_average)=99.95%\n",
      "[ 2018-04-26 15:06:02,453][cascade_classifier.calc_accuracy] Accuracy(layer_0 - test.classifier_average)=99.94%\n",
      "[ 2018-04-26 15:06:02,454][cascade_classifier.fit_transform] [Result][Reach Max Layer] opt_layer_num=1, accuracy_train=99.95%, accuracy_test=99.94%\n",
      "[ 2018-04-26 15:06:02,455][cascade_classifier.transform] X_groups_test.shape=[(3257, 18)]\n",
      "[ 2018-04-26 15:06:02,457][cascade_classifier.transform] group_dims=[18]\n",
      "[ 2018-04-26 15:06:02,459][cascade_classifier.transform] X_test.shape=(3257, 18)\n",
      "[ 2018-04-26 15:06:02,460][cascade_classifier.transform] [layer=0] look_indexs=[0], X_cur_test.shape=(3257, 18)\n",
      "[ 2018-04-26 15:06:04,915][cascade_classifier.fit_transform] X_groups_train.shape=[(6611, 18)],y_train.shape=(6611,),X_groups_test.shape=[(3257, 18)],y_test.shape=(3257,)\n",
      "[ 2018-04-26 15:06:04,917][cascade_classifier.fit_transform] group_dims=[18]\n",
      "[ 2018-04-26 15:06:04,919][cascade_classifier.fit_transform] group_starts=[0]\n",
      "[ 2018-04-26 15:06:04,920][cascade_classifier.fit_transform] group_ends=[18]\n",
      "[ 2018-04-26 15:06:04,921][cascade_classifier.fit_transform] X_train.shape=(6611, 18),X_test.shape=(3257, 18)\n",
      "[ 2018-04-26 15:06:04,923][cascade_classifier.fit_transform] [layer=0] look_indexs=[0], X_cur_train.shape=(6611, 18), X_cur_test.shape=(3257, 18)\n"
     ]
    },
    {
     "name": "stdout",
     "output_type": "stream",
     "text": [
      "('Test Accuracy of ExtraTrees = 99.938594 %', 10, 'fois')\n",
      "(' Time ', '10.54', ' seconds')\n"
     ]
    },
    {
     "name": "stderr",
     "output_type": "stream",
     "text": [
      "[ 2018-04-26 15:06:05,742][kfold_wrapper.log_eval_metrics] Accuracy(layer_0 - estimator_0 - 10_folds.train_0.predict)=99.85%\n",
      "[ 2018-04-26 15:06:06,826][kfold_wrapper.log_eval_metrics] Accuracy(layer_0 - estimator_0 - 10_folds.train_1.predict)=100.00%\n",
      "[ 2018-04-26 15:06:07,927][kfold_wrapper.log_eval_metrics] Accuracy(layer_0 - estimator_0 - 10_folds.train_2.predict)=100.00%\n",
      "[ 2018-04-26 15:06:09,000][kfold_wrapper.log_eval_metrics] Accuracy(layer_0 - estimator_0 - 10_folds.train_3.predict)=100.00%\n",
      "[ 2018-04-26 15:06:10,184][kfold_wrapper.log_eval_metrics] Accuracy(layer_0 - estimator_0 - 10_folds.train_4.predict)=100.00%\n",
      "[ 2018-04-26 15:06:11,247][kfold_wrapper.log_eval_metrics] Accuracy(layer_0 - estimator_0 - 10_folds.train_5.predict)=100.00%\n",
      "[ 2018-04-26 15:06:12,385][kfold_wrapper.log_eval_metrics] Accuracy(layer_0 - estimator_0 - 10_folds.train_6.predict)=100.00%\n",
      "[ 2018-04-26 15:06:13,441][kfold_wrapper.log_eval_metrics] Accuracy(layer_0 - estimator_0 - 10_folds.train_7.predict)=99.85%\n",
      "[ 2018-04-26 15:06:14,542][kfold_wrapper.log_eval_metrics] Accuracy(layer_0 - estimator_0 - 10_folds.train_8.predict)=99.85%\n",
      "[ 2018-04-26 15:06:15,774][kfold_wrapper.log_eval_metrics] Accuracy(layer_0 - estimator_0 - 10_folds.train_9.predict)=99.85%\n",
      "[ 2018-04-26 15:06:16,026][kfold_wrapper.log_eval_metrics] Accuracy(layer_0 - estimator_0 - 10_folds.train_cv.predict)=99.94%\n",
      "[ 2018-04-26 15:06:16,028][kfold_wrapper.log_eval_metrics] Accuracy(layer_0 - estimator_0 - 10_folds.test.predict)=99.94%\n",
      "[ 2018-04-26 15:06:16,034][cascade_classifier.calc_accuracy] Accuracy(layer_0 - train.classifier_average)=99.94%\n",
      "[ 2018-04-26 15:06:16,035][cascade_classifier.calc_accuracy] Accuracy(layer_0 - test.classifier_average)=99.94%\n",
      "[ 2018-04-26 15:06:16,037][cascade_classifier.fit_transform] [Result][Reach Max Layer] opt_layer_num=1, accuracy_train=99.94%, accuracy_test=99.94%\n",
      "[ 2018-04-26 15:06:16,038][cascade_classifier.transform] X_groups_test.shape=[(3257, 18)]\n",
      "[ 2018-04-26 15:06:16,040][cascade_classifier.transform] group_dims=[18]\n",
      "[ 2018-04-26 15:06:16,041][cascade_classifier.transform] X_test.shape=(3257, 18)\n",
      "[ 2018-04-26 15:06:16,043][cascade_classifier.transform] [layer=0] look_indexs=[0], X_cur_test.shape=(3257, 18)\n",
      "[ 2018-04-26 15:06:18,532][cascade_classifier.fit_transform] X_groups_train.shape=[(6611, 18)],y_train.shape=(6611,),X_groups_test.shape=[(3257, 18)],y_test.shape=(3257,)\n",
      "[ 2018-04-26 15:06:18,534][cascade_classifier.fit_transform] group_dims=[18]\n",
      "[ 2018-04-26 15:06:18,536][cascade_classifier.fit_transform] group_starts=[0]\n",
      "[ 2018-04-26 15:06:18,537][cascade_classifier.fit_transform] group_ends=[18]\n",
      "[ 2018-04-26 15:06:18,538][cascade_classifier.fit_transform] X_train.shape=(6611, 18),X_test.shape=(3257, 18)\n",
      "[ 2018-04-26 15:06:18,541][cascade_classifier.fit_transform] [layer=0] look_indexs=[0], X_cur_train.shape=(6611, 18), X_cur_test.shape=(3257, 18)\n"
     ]
    },
    {
     "name": "stdout",
     "output_type": "stream",
     "text": [
      "('Test Accuracy of ExtraTrees = 99.938594 %', 11, 'fois')\n",
      "(' Time ', '11.127', ' seconds')\n"
     ]
    },
    {
     "name": "stderr",
     "output_type": "stream",
     "text": [
      "[ 2018-04-26 15:06:19,392][kfold_wrapper.log_eval_metrics] Accuracy(layer_0 - estimator_0 - 10_folds.train_0.predict)=99.85%\n",
      "[ 2018-04-26 15:06:20,477][kfold_wrapper.log_eval_metrics] Accuracy(layer_0 - estimator_0 - 10_folds.train_1.predict)=100.00%\n",
      "[ 2018-04-26 15:06:21,588][kfold_wrapper.log_eval_metrics] Accuracy(layer_0 - estimator_0 - 10_folds.train_2.predict)=100.00%\n",
      "[ 2018-04-26 15:06:22,711][kfold_wrapper.log_eval_metrics] Accuracy(layer_0 - estimator_0 - 10_folds.train_3.predict)=100.00%\n",
      "[ 2018-04-26 15:06:23,857][kfold_wrapper.log_eval_metrics] Accuracy(layer_0 - estimator_0 - 10_folds.train_4.predict)=100.00%\n",
      "[ 2018-04-26 15:06:24,946][kfold_wrapper.log_eval_metrics] Accuracy(layer_0 - estimator_0 - 10_folds.train_5.predict)=100.00%\n",
      "[ 2018-04-26 15:06:26,007][kfold_wrapper.log_eval_metrics] Accuracy(layer_0 - estimator_0 - 10_folds.train_6.predict)=100.00%\n",
      "[ 2018-04-26 15:06:27,103][kfold_wrapper.log_eval_metrics] Accuracy(layer_0 - estimator_0 - 10_folds.train_7.predict)=99.85%\n",
      "[ 2018-04-26 15:06:28,267][kfold_wrapper.log_eval_metrics] Accuracy(layer_0 - estimator_0 - 10_folds.train_8.predict)=99.85%\n",
      "[ 2018-04-26 15:06:29,352][kfold_wrapper.log_eval_metrics] Accuracy(layer_0 - estimator_0 - 10_folds.train_9.predict)=99.85%\n",
      "[ 2018-04-26 15:06:29,608][kfold_wrapper.log_eval_metrics] Accuracy(layer_0 - estimator_0 - 10_folds.train_cv.predict)=99.94%\n",
      "[ 2018-04-26 15:06:29,610][kfold_wrapper.log_eval_metrics] Accuracy(layer_0 - estimator_0 - 10_folds.test.predict)=99.94%\n",
      "[ 2018-04-26 15:06:29,615][cascade_classifier.calc_accuracy] Accuracy(layer_0 - train.classifier_average)=99.94%\n",
      "[ 2018-04-26 15:06:29,616][cascade_classifier.calc_accuracy] Accuracy(layer_0 - test.classifier_average)=99.94%\n",
      "[ 2018-04-26 15:06:29,617][cascade_classifier.fit_transform] [Result][Reach Max Layer] opt_layer_num=1, accuracy_train=99.94%, accuracy_test=99.94%\n",
      "[ 2018-04-26 15:06:29,619][cascade_classifier.transform] X_groups_test.shape=[(3257, 18)]\n",
      "[ 2018-04-26 15:06:29,622][cascade_classifier.transform] group_dims=[18]\n",
      "[ 2018-04-26 15:06:29,623][cascade_classifier.transform] X_test.shape=(3257, 18)\n",
      "[ 2018-04-26 15:06:29,624][cascade_classifier.transform] [layer=0] look_indexs=[0], X_cur_test.shape=(3257, 18)\n",
      "[ 2018-04-26 15:06:32,142][cascade_classifier.fit_transform] X_groups_train.shape=[(6611, 18)],y_train.shape=(6611,),X_groups_test.shape=[(3257, 18)],y_test.shape=(3257,)\n",
      "[ 2018-04-26 15:06:32,144][cascade_classifier.fit_transform] group_dims=[18]\n",
      "[ 2018-04-26 15:06:32,146][cascade_classifier.fit_transform] group_starts=[0]\n",
      "[ 2018-04-26 15:06:32,147][cascade_classifier.fit_transform] group_ends=[18]\n",
      "[ 2018-04-26 15:06:32,148][cascade_classifier.fit_transform] X_train.shape=(6611, 18),X_test.shape=(3257, 18)\n",
      "[ 2018-04-26 15:06:32,151][cascade_classifier.fit_transform] [layer=0] look_indexs=[0], X_cur_train.shape=(6611, 18), X_cur_test.shape=(3257, 18)\n"
     ]
    },
    {
     "name": "stdout",
     "output_type": "stream",
     "text": [
      "('Test Accuracy of ExtraTrees = 99.938594 %', 12, 'fois')\n",
      "(' Time ', '11.091', ' seconds')\n"
     ]
    },
    {
     "name": "stderr",
     "output_type": "stream",
     "text": [
      "[ 2018-04-26 15:06:33,136][kfold_wrapper.log_eval_metrics] Accuracy(layer_0 - estimator_0 - 10_folds.train_0.predict)=99.85%\n",
      "[ 2018-04-26 15:06:34,242][kfold_wrapper.log_eval_metrics] Accuracy(layer_0 - estimator_0 - 10_folds.train_1.predict)=100.00%\n",
      "[ 2018-04-26 15:06:35,334][kfold_wrapper.log_eval_metrics] Accuracy(layer_0 - estimator_0 - 10_folds.train_2.predict)=100.00%\n",
      "[ 2018-04-26 15:06:36,440][kfold_wrapper.log_eval_metrics] Accuracy(layer_0 - estimator_0 - 10_folds.train_3.predict)=100.00%\n",
      "[ 2018-04-26 15:06:37,550][kfold_wrapper.log_eval_metrics] Accuracy(layer_0 - estimator_0 - 10_folds.train_4.predict)=100.00%\n",
      "[ 2018-04-26 15:06:38,727][kfold_wrapper.log_eval_metrics] Accuracy(layer_0 - estimator_0 - 10_folds.train_5.predict)=100.00%\n",
      "[ 2018-04-26 15:06:39,815][kfold_wrapper.log_eval_metrics] Accuracy(layer_0 - estimator_0 - 10_folds.train_6.predict)=100.00%\n",
      "[ 2018-04-26 15:06:40,837][kfold_wrapper.log_eval_metrics] Accuracy(layer_0 - estimator_0 - 10_folds.train_7.predict)=99.85%\n",
      "[ 2018-04-26 15:06:41,837][kfold_wrapper.log_eval_metrics] Accuracy(layer_0 - estimator_0 - 10_folds.train_8.predict)=99.85%\n",
      "[ 2018-04-26 15:06:42,959][kfold_wrapper.log_eval_metrics] Accuracy(layer_0 - estimator_0 - 10_folds.train_9.predict)=99.85%\n",
      "[ 2018-04-26 15:06:43,197][kfold_wrapper.log_eval_metrics] Accuracy(layer_0 - estimator_0 - 10_folds.train_cv.predict)=99.94%\n",
      "[ 2018-04-26 15:06:43,198][kfold_wrapper.log_eval_metrics] Accuracy(layer_0 - estimator_0 - 10_folds.test.predict)=99.94%\n",
      "[ 2018-04-26 15:06:43,203][cascade_classifier.calc_accuracy] Accuracy(layer_0 - train.classifier_average)=99.94%\n",
      "[ 2018-04-26 15:06:43,204][cascade_classifier.calc_accuracy] Accuracy(layer_0 - test.classifier_average)=99.94%\n",
      "[ 2018-04-26 15:06:43,206][cascade_classifier.fit_transform] [Result][Reach Max Layer] opt_layer_num=1, accuracy_train=99.94%, accuracy_test=99.94%\n",
      "[ 2018-04-26 15:06:43,207][cascade_classifier.transform] X_groups_test.shape=[(3257, 18)]\n",
      "[ 2018-04-26 15:06:43,209][cascade_classifier.transform] group_dims=[18]\n",
      "[ 2018-04-26 15:06:43,210][cascade_classifier.transform] X_test.shape=(3257, 18)\n",
      "[ 2018-04-26 15:06:43,211][cascade_classifier.transform] [layer=0] look_indexs=[0], X_cur_test.shape=(3257, 18)\n",
      "[ 2018-04-26 15:06:45,716][cascade_classifier.fit_transform] X_groups_train.shape=[(6611, 18)],y_train.shape=(6611,),X_groups_test.shape=[(3257, 18)],y_test.shape=(3257,)\n",
      "[ 2018-04-26 15:06:45,718][cascade_classifier.fit_transform] group_dims=[18]\n",
      "[ 2018-04-26 15:06:45,719][cascade_classifier.fit_transform] group_starts=[0]\n",
      "[ 2018-04-26 15:06:45,720][cascade_classifier.fit_transform] group_ends=[18]\n",
      "[ 2018-04-26 15:06:45,722][cascade_classifier.fit_transform] X_train.shape=(6611, 18),X_test.shape=(3257, 18)\n",
      "[ 2018-04-26 15:06:45,724][cascade_classifier.fit_transform] [layer=0] look_indexs=[0], X_cur_train.shape=(6611, 18), X_cur_test.shape=(3257, 18)\n"
     ]
    },
    {
     "name": "stdout",
     "output_type": "stream",
     "text": [
      "('Test Accuracy of ExtraTrees = 99.938594 %', 13, 'fois')\n",
      "(' Time ', '11.068', ' seconds')\n"
     ]
    },
    {
     "name": "stderr",
     "output_type": "stream",
     "text": [
      "[ 2018-04-26 15:06:46,680][kfold_wrapper.log_eval_metrics] Accuracy(layer_0 - estimator_0 - 10_folds.train_0.predict)=99.85%\n",
      "[ 2018-04-26 15:06:47,786][kfold_wrapper.log_eval_metrics] Accuracy(layer_0 - estimator_0 - 10_folds.train_1.predict)=99.85%\n",
      "[ 2018-04-26 15:06:48,921][kfold_wrapper.log_eval_metrics] Accuracy(layer_0 - estimator_0 - 10_folds.train_2.predict)=100.00%\n",
      "[ 2018-04-26 15:06:50,030][kfold_wrapper.log_eval_metrics] Accuracy(layer_0 - estimator_0 - 10_folds.train_3.predict)=100.00%\n",
      "[ 2018-04-26 15:06:51,117][kfold_wrapper.log_eval_metrics] Accuracy(layer_0 - estimator_0 - 10_folds.train_4.predict)=100.00%\n",
      "[ 2018-04-26 15:06:52,278][kfold_wrapper.log_eval_metrics] Accuracy(layer_0 - estimator_0 - 10_folds.train_5.predict)=100.00%\n",
      "[ 2018-04-26 15:06:53,312][kfold_wrapper.log_eval_metrics] Accuracy(layer_0 - estimator_0 - 10_folds.train_6.predict)=100.00%\n",
      "[ 2018-04-26 15:06:54,439][kfold_wrapper.log_eval_metrics] Accuracy(layer_0 - estimator_0 - 10_folds.train_7.predict)=99.85%\n",
      "[ 2018-04-26 15:06:55,520][kfold_wrapper.log_eval_metrics] Accuracy(layer_0 - estimator_0 - 10_folds.train_8.predict)=99.85%\n",
      "[ 2018-04-26 15:06:56,739][kfold_wrapper.log_eval_metrics] Accuracy(layer_0 - estimator_0 - 10_folds.train_9.predict)=99.85%\n",
      "[ 2018-04-26 15:06:56,979][kfold_wrapper.log_eval_metrics] Accuracy(layer_0 - estimator_0 - 10_folds.train_cv.predict)=99.92%\n",
      "[ 2018-04-26 15:06:56,980][kfold_wrapper.log_eval_metrics] Accuracy(layer_0 - estimator_0 - 10_folds.test.predict)=99.94%\n",
      "[ 2018-04-26 15:06:56,987][cascade_classifier.calc_accuracy] Accuracy(layer_0 - train.classifier_average)=99.92%\n",
      "[ 2018-04-26 15:06:56,988][cascade_classifier.calc_accuracy] Accuracy(layer_0 - test.classifier_average)=99.94%\n",
      "[ 2018-04-26 15:06:56,990][cascade_classifier.fit_transform] [Result][Reach Max Layer] opt_layer_num=1, accuracy_train=99.92%, accuracy_test=99.94%\n",
      "[ 2018-04-26 15:06:56,991][cascade_classifier.transform] X_groups_test.shape=[(3257, 18)]\n",
      "[ 2018-04-26 15:06:56,993][cascade_classifier.transform] group_dims=[18]\n",
      "[ 2018-04-26 15:06:56,994][cascade_classifier.transform] X_test.shape=(3257, 18)\n",
      "[ 2018-04-26 15:06:56,996][cascade_classifier.transform] [layer=0] look_indexs=[0], X_cur_test.shape=(3257, 18)\n",
      "[ 2018-04-26 15:06:59,515][cascade_classifier.fit_transform] X_groups_train.shape=[(6611, 18)],y_train.shape=(6611,),X_groups_test.shape=[(3257, 18)],y_test.shape=(3257,)\n",
      "[ 2018-04-26 15:06:59,517][cascade_classifier.fit_transform] group_dims=[18]\n",
      "[ 2018-04-26 15:06:59,518][cascade_classifier.fit_transform] group_starts=[0]\n",
      "[ 2018-04-26 15:06:59,519][cascade_classifier.fit_transform] group_ends=[18]\n",
      "[ 2018-04-26 15:06:59,520][cascade_classifier.fit_transform] X_train.shape=(6611, 18),X_test.shape=(3257, 18)\n",
      "[ 2018-04-26 15:06:59,522][cascade_classifier.fit_transform] [layer=0] look_indexs=[0], X_cur_train.shape=(6611, 18), X_cur_test.shape=(3257, 18)\n"
     ]
    },
    {
     "name": "stdout",
     "output_type": "stream",
     "text": [
      "('Test Accuracy of ExtraTrees = 99.938594 %', 14, 'fois')\n",
      "(' Time ', '11.28', ' seconds')\n"
     ]
    },
    {
     "name": "stderr",
     "output_type": "stream",
     "text": [
      "[ 2018-04-26 15:07:00,358][kfold_wrapper.log_eval_metrics] Accuracy(layer_0 - estimator_0 - 10_folds.train_0.predict)=99.85%\n",
      "[ 2018-04-26 15:07:01,419][kfold_wrapper.log_eval_metrics] Accuracy(layer_0 - estimator_0 - 10_folds.train_1.predict)=100.00%\n",
      "[ 2018-04-26 15:07:02,447][kfold_wrapper.log_eval_metrics] Accuracy(layer_0 - estimator_0 - 10_folds.train_2.predict)=100.00%\n",
      "[ 2018-04-26 15:07:03,539][kfold_wrapper.log_eval_metrics] Accuracy(layer_0 - estimator_0 - 10_folds.train_3.predict)=100.00%\n",
      "[ 2018-04-26 15:07:04,750][kfold_wrapper.log_eval_metrics] Accuracy(layer_0 - estimator_0 - 10_folds.train_4.predict)=100.00%\n",
      "[ 2018-04-26 15:07:05,898][kfold_wrapper.log_eval_metrics] Accuracy(layer_0 - estimator_0 - 10_folds.train_5.predict)=100.00%\n",
      "[ 2018-04-26 15:07:06,969][kfold_wrapper.log_eval_metrics] Accuracy(layer_0 - estimator_0 - 10_folds.train_6.predict)=100.00%\n",
      "[ 2018-04-26 15:07:08,079][kfold_wrapper.log_eval_metrics] Accuracy(layer_0 - estimator_0 - 10_folds.train_7.predict)=99.85%\n",
      "[ 2018-04-26 15:07:09,131][kfold_wrapper.log_eval_metrics] Accuracy(layer_0 - estimator_0 - 10_folds.train_8.predict)=99.85%\n",
      "[ 2018-04-26 15:07:10,049][kfold_wrapper.log_eval_metrics] Accuracy(layer_0 - estimator_0 - 10_folds.train_9.predict)=99.85%\n",
      "[ 2018-04-26 15:07:10,295][kfold_wrapper.log_eval_metrics] Accuracy(layer_0 - estimator_0 - 10_folds.train_cv.predict)=99.94%\n",
      "[ 2018-04-26 15:07:10,297][kfold_wrapper.log_eval_metrics] Accuracy(layer_0 - estimator_0 - 10_folds.test.predict)=99.94%\n",
      "[ 2018-04-26 15:07:10,302][cascade_classifier.calc_accuracy] Accuracy(layer_0 - train.classifier_average)=99.94%\n",
      "[ 2018-04-26 15:07:10,304][cascade_classifier.calc_accuracy] Accuracy(layer_0 - test.classifier_average)=99.94%\n",
      "[ 2018-04-26 15:07:10,305][cascade_classifier.fit_transform] [Result][Reach Max Layer] opt_layer_num=1, accuracy_train=99.94%, accuracy_test=99.94%\n",
      "[ 2018-04-26 15:07:10,306][cascade_classifier.transform] X_groups_test.shape=[(3257, 18)]\n",
      "[ 2018-04-26 15:07:10,307][cascade_classifier.transform] group_dims=[18]\n",
      "[ 2018-04-26 15:07:10,308][cascade_classifier.transform] X_test.shape=(3257, 18)\n",
      "[ 2018-04-26 15:07:10,310][cascade_classifier.transform] [layer=0] look_indexs=[0], X_cur_test.shape=(3257, 18)\n",
      "[ 2018-04-26 15:07:12,753][cascade_classifier.fit_transform] X_groups_train.shape=[(6611, 18)],y_train.shape=(6611,),X_groups_test.shape=[(3257, 18)],y_test.shape=(3257,)\n",
      "[ 2018-04-26 15:07:12,755][cascade_classifier.fit_transform] group_dims=[18]\n",
      "[ 2018-04-26 15:07:12,756][cascade_classifier.fit_transform] group_starts=[0]\n",
      "[ 2018-04-26 15:07:12,758][cascade_classifier.fit_transform] group_ends=[18]\n",
      "[ 2018-04-26 15:07:12,759][cascade_classifier.fit_transform] X_train.shape=(6611, 18),X_test.shape=(3257, 18)\n",
      "[ 2018-04-26 15:07:12,761][cascade_classifier.fit_transform] [layer=0] look_indexs=[0], X_cur_train.shape=(6611, 18), X_cur_test.shape=(3257, 18)\n"
     ]
    },
    {
     "name": "stdout",
     "output_type": "stream",
     "text": [
      "('Test Accuracy of ExtraTrees = 99.938594 %', 15, 'fois')\n",
      "(' Time ', '10.793', ' seconds')\n"
     ]
    },
    {
     "name": "stderr",
     "output_type": "stream",
     "text": [
      "[ 2018-04-26 15:07:13,644][kfold_wrapper.log_eval_metrics] Accuracy(layer_0 - estimator_0 - 10_folds.train_0.predict)=99.85%\n",
      "[ 2018-04-26 15:07:14,735][kfold_wrapper.log_eval_metrics] Accuracy(layer_0 - estimator_0 - 10_folds.train_1.predict)=99.85%\n",
      "[ 2018-04-26 15:07:15,840][kfold_wrapper.log_eval_metrics] Accuracy(layer_0 - estimator_0 - 10_folds.train_2.predict)=100.00%\n",
      "[ 2018-04-26 15:07:16,870][kfold_wrapper.log_eval_metrics] Accuracy(layer_0 - estimator_0 - 10_folds.train_3.predict)=100.00%\n",
      "[ 2018-04-26 15:07:17,940][kfold_wrapper.log_eval_metrics] Accuracy(layer_0 - estimator_0 - 10_folds.train_4.predict)=100.00%\n",
      "[ 2018-04-26 15:07:19,058][kfold_wrapper.log_eval_metrics] Accuracy(layer_0 - estimator_0 - 10_folds.train_5.predict)=100.00%\n",
      "[ 2018-04-26 15:07:20,152][kfold_wrapper.log_eval_metrics] Accuracy(layer_0 - estimator_0 - 10_folds.train_6.predict)=100.00%\n",
      "[ 2018-04-26 15:07:21,247][kfold_wrapper.log_eval_metrics] Accuracy(layer_0 - estimator_0 - 10_folds.train_7.predict)=99.85%\n",
      "[ 2018-04-26 15:07:22,296][kfold_wrapper.log_eval_metrics] Accuracy(layer_0 - estimator_0 - 10_folds.train_8.predict)=99.85%\n",
      "[ 2018-04-26 15:07:23,359][kfold_wrapper.log_eval_metrics] Accuracy(layer_0 - estimator_0 - 10_folds.train_9.predict)=99.85%\n",
      "[ 2018-04-26 15:07:23,623][kfold_wrapper.log_eval_metrics] Accuracy(layer_0 - estimator_0 - 10_folds.train_cv.predict)=99.92%\n",
      "[ 2018-04-26 15:07:23,625][kfold_wrapper.log_eval_metrics] Accuracy(layer_0 - estimator_0 - 10_folds.test.predict)=99.94%\n",
      "[ 2018-04-26 15:07:23,629][cascade_classifier.calc_accuracy] Accuracy(layer_0 - train.classifier_average)=99.92%\n",
      "[ 2018-04-26 15:07:23,630][cascade_classifier.calc_accuracy] Accuracy(layer_0 - test.classifier_average)=99.94%\n",
      "[ 2018-04-26 15:07:23,632][cascade_classifier.fit_transform] [Result][Reach Max Layer] opt_layer_num=1, accuracy_train=99.92%, accuracy_test=99.94%\n",
      "[ 2018-04-26 15:07:23,633][cascade_classifier.transform] X_groups_test.shape=[(3257, 18)]\n",
      "[ 2018-04-26 15:07:23,635][cascade_classifier.transform] group_dims=[18]\n",
      "[ 2018-04-26 15:07:23,636][cascade_classifier.transform] X_test.shape=(3257, 18)\n",
      "[ 2018-04-26 15:07:23,637][cascade_classifier.transform] [layer=0] look_indexs=[0], X_cur_test.shape=(3257, 18)\n",
      "[ 2018-04-26 15:07:26,226][cascade_classifier.fit_transform] X_groups_train.shape=[(6611, 18)],y_train.shape=(6611,),X_groups_test.shape=[(3257, 18)],y_test.shape=(3257,)\n",
      "[ 2018-04-26 15:07:26,228][cascade_classifier.fit_transform] group_dims=[18]\n",
      "[ 2018-04-26 15:07:26,229][cascade_classifier.fit_transform] group_starts=[0]\n",
      "[ 2018-04-26 15:07:26,230][cascade_classifier.fit_transform] group_ends=[18]\n",
      "[ 2018-04-26 15:07:26,232][cascade_classifier.fit_transform] X_train.shape=(6611, 18),X_test.shape=(3257, 18)\n",
      "[ 2018-04-26 15:07:26,234][cascade_classifier.fit_transform] [layer=0] look_indexs=[0], X_cur_train.shape=(6611, 18), X_cur_test.shape=(3257, 18)\n"
     ]
    },
    {
     "name": "stdout",
     "output_type": "stream",
     "text": [
      "('Test Accuracy of ExtraTrees = 99.938594 %', 16, 'fois')\n",
      "(' Time ', '10.884', ' seconds')\n"
     ]
    },
    {
     "name": "stderr",
     "output_type": "stream",
     "text": [
      "[ 2018-04-26 15:07:27,069][kfold_wrapper.log_eval_metrics] Accuracy(layer_0 - estimator_0 - 10_folds.train_0.predict)=99.85%\n",
      "[ 2018-04-26 15:07:28,126][kfold_wrapper.log_eval_metrics] Accuracy(layer_0 - estimator_0 - 10_folds.train_1.predict)=100.00%\n",
      "[ 2018-04-26 15:07:29,238][kfold_wrapper.log_eval_metrics] Accuracy(layer_0 - estimator_0 - 10_folds.train_2.predict)=100.00%\n",
      "[ 2018-04-26 15:07:30,323][kfold_wrapper.log_eval_metrics] Accuracy(layer_0 - estimator_0 - 10_folds.train_3.predict)=100.00%\n",
      "[ 2018-04-26 15:07:31,368][kfold_wrapper.log_eval_metrics] Accuracy(layer_0 - estimator_0 - 10_folds.train_4.predict)=100.00%\n",
      "[ 2018-04-26 15:07:32,597][kfold_wrapper.log_eval_metrics] Accuracy(layer_0 - estimator_0 - 10_folds.train_5.predict)=100.00%\n",
      "[ 2018-04-26 15:07:33,705][kfold_wrapper.log_eval_metrics] Accuracy(layer_0 - estimator_0 - 10_folds.train_6.predict)=100.00%\n",
      "[ 2018-04-26 15:07:34,838][kfold_wrapper.log_eval_metrics] Accuracy(layer_0 - estimator_0 - 10_folds.train_7.predict)=99.85%\n",
      "[ 2018-04-26 15:07:35,936][kfold_wrapper.log_eval_metrics] Accuracy(layer_0 - estimator_0 - 10_folds.train_8.predict)=99.85%\n",
      "[ 2018-04-26 15:07:37,016][kfold_wrapper.log_eval_metrics] Accuracy(layer_0 - estimator_0 - 10_folds.train_9.predict)=99.85%\n",
      "[ 2018-04-26 15:07:37,266][kfold_wrapper.log_eval_metrics] Accuracy(layer_0 - estimator_0 - 10_folds.train_cv.predict)=99.94%\n",
      "[ 2018-04-26 15:07:37,267][kfold_wrapper.log_eval_metrics] Accuracy(layer_0 - estimator_0 - 10_folds.test.predict)=99.94%\n",
      "[ 2018-04-26 15:07:37,274][cascade_classifier.calc_accuracy] Accuracy(layer_0 - train.classifier_average)=99.94%\n",
      "[ 2018-04-26 15:07:37,275][cascade_classifier.calc_accuracy] Accuracy(layer_0 - test.classifier_average)=99.94%\n",
      "[ 2018-04-26 15:07:37,277][cascade_classifier.fit_transform] [Result][Reach Max Layer] opt_layer_num=1, accuracy_train=99.94%, accuracy_test=99.94%\n",
      "[ 2018-04-26 15:07:37,278][cascade_classifier.transform] X_groups_test.shape=[(3257, 18)]\n",
      "[ 2018-04-26 15:07:37,280][cascade_classifier.transform] group_dims=[18]\n",
      "[ 2018-04-26 15:07:37,281][cascade_classifier.transform] X_test.shape=(3257, 18)\n",
      "[ 2018-04-26 15:07:37,283][cascade_classifier.transform] [layer=0] look_indexs=[0], X_cur_test.shape=(3257, 18)\n",
      "[ 2018-04-26 15:07:39,823][cascade_classifier.fit_transform] X_groups_train.shape=[(6611, 18)],y_train.shape=(6611,),X_groups_test.shape=[(3257, 18)],y_test.shape=(3257,)\n",
      "[ 2018-04-26 15:07:39,825][cascade_classifier.fit_transform] group_dims=[18]\n",
      "[ 2018-04-26 15:07:39,826][cascade_classifier.fit_transform] group_starts=[0]\n",
      "[ 2018-04-26 15:07:39,828][cascade_classifier.fit_transform] group_ends=[18]\n",
      "[ 2018-04-26 15:07:39,829][cascade_classifier.fit_transform] X_train.shape=(6611, 18),X_test.shape=(3257, 18)\n",
      "[ 2018-04-26 15:07:39,831][cascade_classifier.fit_transform] [layer=0] look_indexs=[0], X_cur_train.shape=(6611, 18), X_cur_test.shape=(3257, 18)\n"
     ]
    },
    {
     "name": "stdout",
     "output_type": "stream",
     "text": [
      "('Test Accuracy of ExtraTrees = 99.938594 %', 17, 'fois')\n",
      "(' Time ', '11.054', ' seconds')\n"
     ]
    },
    {
     "name": "stderr",
     "output_type": "stream",
     "text": [
      "[ 2018-04-26 15:07:40,687][kfold_wrapper.log_eval_metrics] Accuracy(layer_0 - estimator_0 - 10_folds.train_0.predict)=99.85%\n",
      "[ 2018-04-26 15:07:41,755][kfold_wrapper.log_eval_metrics] Accuracy(layer_0 - estimator_0 - 10_folds.train_1.predict)=99.85%\n",
      "[ 2018-04-26 15:07:42,797][kfold_wrapper.log_eval_metrics] Accuracy(layer_0 - estimator_0 - 10_folds.train_2.predict)=100.00%\n",
      "[ 2018-04-26 15:07:43,826][kfold_wrapper.log_eval_metrics] Accuracy(layer_0 - estimator_0 - 10_folds.train_3.predict)=100.00%\n",
      "[ 2018-04-26 15:07:44,899][kfold_wrapper.log_eval_metrics] Accuracy(layer_0 - estimator_0 - 10_folds.train_4.predict)=100.00%\n",
      "[ 2018-04-26 15:07:46,017][kfold_wrapper.log_eval_metrics] Accuracy(layer_0 - estimator_0 - 10_folds.train_5.predict)=100.00%\n",
      "[ 2018-04-26 15:07:47,056][kfold_wrapper.log_eval_metrics] Accuracy(layer_0 - estimator_0 - 10_folds.train_6.predict)=100.00%\n",
      "[ 2018-04-26 15:07:48,240][kfold_wrapper.log_eval_metrics] Accuracy(layer_0 - estimator_0 - 10_folds.train_7.predict)=99.85%\n",
      "[ 2018-04-26 15:07:49,274][kfold_wrapper.log_eval_metrics] Accuracy(layer_0 - estimator_0 - 10_folds.train_8.predict)=99.85%\n",
      "[ 2018-04-26 15:07:50,437][kfold_wrapper.log_eval_metrics] Accuracy(layer_0 - estimator_0 - 10_folds.train_9.predict)=99.85%\n",
      "[ 2018-04-26 15:07:50,700][kfold_wrapper.log_eval_metrics] Accuracy(layer_0 - estimator_0 - 10_folds.train_cv.predict)=99.92%\n",
      "[ 2018-04-26 15:07:50,702][kfold_wrapper.log_eval_metrics] Accuracy(layer_0 - estimator_0 - 10_folds.test.predict)=99.94%\n",
      "[ 2018-04-26 15:07:50,707][cascade_classifier.calc_accuracy] Accuracy(layer_0 - train.classifier_average)=99.92%\n",
      "[ 2018-04-26 15:07:50,709][cascade_classifier.calc_accuracy] Accuracy(layer_0 - test.classifier_average)=99.94%\n",
      "[ 2018-04-26 15:07:50,710][cascade_classifier.fit_transform] [Result][Reach Max Layer] opt_layer_num=1, accuracy_train=99.92%, accuracy_test=99.94%\n",
      "[ 2018-04-26 15:07:50,711][cascade_classifier.transform] X_groups_test.shape=[(3257, 18)]\n",
      "[ 2018-04-26 15:07:50,713][cascade_classifier.transform] group_dims=[18]\n",
      "[ 2018-04-26 15:07:50,715][cascade_classifier.transform] X_test.shape=(3257, 18)\n",
      "[ 2018-04-26 15:07:50,716][cascade_classifier.transform] [layer=0] look_indexs=[0], X_cur_test.shape=(3257, 18)\n",
      "[ 2018-04-26 15:07:53,260][cascade_classifier.fit_transform] X_groups_train.shape=[(6611, 18)],y_train.shape=(6611,),X_groups_test.shape=[(3257, 18)],y_test.shape=(3257,)\n",
      "[ 2018-04-26 15:07:53,262][cascade_classifier.fit_transform] group_dims=[18]\n",
      "[ 2018-04-26 15:07:53,263][cascade_classifier.fit_transform] group_starts=[0]\n",
      "[ 2018-04-26 15:07:53,264][cascade_classifier.fit_transform] group_ends=[18]\n",
      "[ 2018-04-26 15:07:53,265][cascade_classifier.fit_transform] X_train.shape=(6611, 18),X_test.shape=(3257, 18)\n",
      "[ 2018-04-26 15:07:53,267][cascade_classifier.fit_transform] [layer=0] look_indexs=[0], X_cur_train.shape=(6611, 18), X_cur_test.shape=(3257, 18)\n"
     ]
    },
    {
     "name": "stdout",
     "output_type": "stream",
     "text": [
      "('Test Accuracy of ExtraTrees = 99.938594 %', 18, 'fois')\n",
      "(' Time ', '10.892', ' seconds')\n"
     ]
    },
    {
     "name": "stderr",
     "output_type": "stream",
     "text": [
      "[ 2018-04-26 15:07:54,106][kfold_wrapper.log_eval_metrics] Accuracy(layer_0 - estimator_0 - 10_folds.train_0.predict)=100.00%\n",
      "[ 2018-04-26 15:07:55,184][kfold_wrapper.log_eval_metrics] Accuracy(layer_0 - estimator_0 - 10_folds.train_1.predict)=100.00%\n",
      "[ 2018-04-26 15:07:56,263][kfold_wrapper.log_eval_metrics] Accuracy(layer_0 - estimator_0 - 10_folds.train_2.predict)=100.00%\n",
      "[ 2018-04-26 15:07:57,463][kfold_wrapper.log_eval_metrics] Accuracy(layer_0 - estimator_0 - 10_folds.train_3.predict)=100.00%\n",
      "[ 2018-04-26 15:07:58,473][kfold_wrapper.log_eval_metrics] Accuracy(layer_0 - estimator_0 - 10_folds.train_4.predict)=100.00%\n",
      "[ 2018-04-26 15:07:59,533][kfold_wrapper.log_eval_metrics] Accuracy(layer_0 - estimator_0 - 10_folds.train_5.predict)=100.00%\n",
      "[ 2018-04-26 15:08:00,630][kfold_wrapper.log_eval_metrics] Accuracy(layer_0 - estimator_0 - 10_folds.train_6.predict)=100.00%\n",
      "[ 2018-04-26 15:08:01,782][kfold_wrapper.log_eval_metrics] Accuracy(layer_0 - estimator_0 - 10_folds.train_7.predict)=99.85%\n",
      "[ 2018-04-26 15:08:02,794][kfold_wrapper.log_eval_metrics] Accuracy(layer_0 - estimator_0 - 10_folds.train_8.predict)=99.85%\n",
      "[ 2018-04-26 15:08:03,894][kfold_wrapper.log_eval_metrics] Accuracy(layer_0 - estimator_0 - 10_folds.train_9.predict)=99.85%\n",
      "[ 2018-04-26 15:08:04,151][kfold_wrapper.log_eval_metrics] Accuracy(layer_0 - estimator_0 - 10_folds.train_cv.predict)=99.95%\n",
      "[ 2018-04-26 15:08:04,153][kfold_wrapper.log_eval_metrics] Accuracy(layer_0 - estimator_0 - 10_folds.test.predict)=99.94%\n",
      "[ 2018-04-26 15:08:04,158][cascade_classifier.calc_accuracy] Accuracy(layer_0 - train.classifier_average)=99.95%\n",
      "[ 2018-04-26 15:08:04,160][cascade_classifier.calc_accuracy] Accuracy(layer_0 - test.classifier_average)=99.94%\n",
      "[ 2018-04-26 15:08:04,161][cascade_classifier.fit_transform] [Result][Reach Max Layer] opt_layer_num=1, accuracy_train=99.95%, accuracy_test=99.94%\n",
      "[ 2018-04-26 15:08:04,162][cascade_classifier.transform] X_groups_test.shape=[(3257, 18)]\n",
      "[ 2018-04-26 15:08:04,164][cascade_classifier.transform] group_dims=[18]\n",
      "[ 2018-04-26 15:08:04,165][cascade_classifier.transform] X_test.shape=(3257, 18)\n",
      "[ 2018-04-26 15:08:04,166][cascade_classifier.transform] [layer=0] look_indexs=[0], X_cur_test.shape=(3257, 18)\n"
     ]
    },
    {
     "name": "stdout",
     "output_type": "stream",
     "text": [
      "('Test Accuracy of ExtraTrees = 99.938594 %', 19, 'fois')\n",
      "(' Time ', '10.904', ' seconds')\n"
     ]
    }
   ],
   "source": [
    "# Deep\n",
    "for i in range (20):\n",
    "    t0 = time()\n",
    "    X_train,X_test=update(X_train,X_test)\n",
    "    X_test_enc, X_train_enc=newdata(X_test_enc, X_train_enc)\n",
    "\n",
    "    X_train=X_train_enc\n",
    "    X_test=X_test_enc \n",
    "    X_train_enc, X_test_enc = gc.fit_transform(X_train, y_train, X_test=X_test, y_test=y_test)\n",
    "    tt = time() - t0\n",
    "    affiche() \n",
    "    print (\" Time \",format(round(tt,3)),\" seconds\")"
   ]
  },
  {
   "cell_type": "code",
   "execution_count": null,
   "metadata": {
    "collapsed": true
   },
   "outputs": [],
   "source": []
  },
  {
   "cell_type": "markdown",
   "metadata": {
    "collapsed": true
   },
   "source": [
    "# ('Test Accuracy of ExtraTrees = 99.969297 %', 0, 'fois')"
   ]
  },
  {
   "cell_type": "markdown",
   "metadata": {},
   "source": [
    "# (' Time ', '10.263', ' seconds')"
   ]
  },
  {
   "cell_type": "code",
   "execution_count": null,
   "metadata": {
    "collapsed": true
   },
   "outputs": [],
   "source": []
  }
 ],
 "metadata": {
  "kernelspec": {
   "display_name": "Python 2",
   "language": "python",
   "name": "python2"
  },
  "language_info": {
   "codemirror_mode": {
    "name": "ipython",
    "version": 2
   },
   "file_extension": ".py",
   "mimetype": "text/x-python",
   "name": "python",
   "nbconvert_exporter": "python",
   "pygments_lexer": "ipython2",
   "version": "2.7.13"
  }
 },
 "nbformat": 4,
 "nbformat_minor": 2
}
