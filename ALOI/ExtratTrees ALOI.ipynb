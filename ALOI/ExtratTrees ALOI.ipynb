{
 "cells": [
  {
   "cell_type": "code",
   "execution_count": 47,
   "metadata": {
    "collapsed": true
   },
   "outputs": [],
   "source": [
    "# imports \n",
    "import numpy as np\n",
    "from math import sqrt \n",
    "from pprint import pprint\n",
    "from numpy import array\n",
    "from scipy.io import arff\n",
    "import pandas as pd\n",
    "from time import time"
   ]
  },
  {
   "cell_type": "code",
   "execution_count": 48,
   "metadata": {},
   "outputs": [
    {
     "data": {
      "text/html": [
       "<div>\n",
       "<style>\n",
       "    .dataframe thead tr:only-child th {\n",
       "        text-align: right;\n",
       "    }\n",
       "\n",
       "    .dataframe thead th {\n",
       "        text-align: left;\n",
       "    }\n",
       "\n",
       "    .dataframe tbody tr th {\n",
       "        vertical-align: top;\n",
       "    }\n",
       "</style>\n",
       "<table border=\"1\" class=\"dataframe\">\n",
       "  <thead>\n",
       "    <tr style=\"text-align: right;\">\n",
       "      <th></th>\n",
       "      <th>att1</th>\n",
       "      <th>att2</th>\n",
       "      <th>att3</th>\n",
       "      <th>att4</th>\n",
       "      <th>att5</th>\n",
       "      <th>att6</th>\n",
       "      <th>att7</th>\n",
       "      <th>att8</th>\n",
       "      <th>att9</th>\n",
       "      <th>att10</th>\n",
       "      <th>...</th>\n",
       "      <th>att19</th>\n",
       "      <th>att20</th>\n",
       "      <th>att21</th>\n",
       "      <th>att22</th>\n",
       "      <th>att23</th>\n",
       "      <th>att24</th>\n",
       "      <th>att25</th>\n",
       "      <th>att26</th>\n",
       "      <th>att27</th>\n",
       "      <th>outlier</th>\n",
       "    </tr>\n",
       "  </thead>\n",
       "  <tbody>\n",
       "    <tr>\n",
       "      <th>0</th>\n",
       "      <td>0.784999</td>\n",
       "      <td>0.000018</td>\n",
       "      <td>0.0</td>\n",
       "      <td>0.000093</td>\n",
       "      <td>0.0</td>\n",
       "      <td>0.0</td>\n",
       "      <td>0.0</td>\n",
       "      <td>0.0</td>\n",
       "      <td>0.0</td>\n",
       "      <td>0.139811</td>\n",
       "      <td>...</td>\n",
       "      <td>0.048171</td>\n",
       "      <td>0.001189</td>\n",
       "      <td>0.0</td>\n",
       "      <td>0.115728</td>\n",
       "      <td>0.023449</td>\n",
       "      <td>0.0002</td>\n",
       "      <td>0.000220</td>\n",
       "      <td>0.034952</td>\n",
       "      <td>0.046914</td>\n",
       "      <td>1</td>\n",
       "    </tr>\n",
       "    <tr>\n",
       "      <th>1</th>\n",
       "      <td>0.958088</td>\n",
       "      <td>0.000000</td>\n",
       "      <td>0.0</td>\n",
       "      <td>0.001671</td>\n",
       "      <td>0.0</td>\n",
       "      <td>0.0</td>\n",
       "      <td>0.0</td>\n",
       "      <td>0.0</td>\n",
       "      <td>0.0</td>\n",
       "      <td>0.019556</td>\n",
       "      <td>...</td>\n",
       "      <td>0.000000</td>\n",
       "      <td>0.000000</td>\n",
       "      <td>0.0</td>\n",
       "      <td>0.022035</td>\n",
       "      <td>0.007516</td>\n",
       "      <td>0.0000</td>\n",
       "      <td>0.000000</td>\n",
       "      <td>0.001033</td>\n",
       "      <td>0.000000</td>\n",
       "      <td>1</td>\n",
       "    </tr>\n",
       "    <tr>\n",
       "      <th>2</th>\n",
       "      <td>0.938768</td>\n",
       "      <td>0.000000</td>\n",
       "      <td>0.0</td>\n",
       "      <td>0.005146</td>\n",
       "      <td>0.0</td>\n",
       "      <td>0.0</td>\n",
       "      <td>0.0</td>\n",
       "      <td>0.0</td>\n",
       "      <td>0.0</td>\n",
       "      <td>0.018451</td>\n",
       "      <td>...</td>\n",
       "      <td>0.000000</td>\n",
       "      <td>0.000000</td>\n",
       "      <td>0.0</td>\n",
       "      <td>0.035542</td>\n",
       "      <td>0.011982</td>\n",
       "      <td>0.0000</td>\n",
       "      <td>0.001595</td>\n",
       "      <td>0.019520</td>\n",
       "      <td>0.000000</td>\n",
       "      <td>1</td>\n",
       "    </tr>\n",
       "    <tr>\n",
       "      <th>3</th>\n",
       "      <td>0.954775</td>\n",
       "      <td>0.000000</td>\n",
       "      <td>0.0</td>\n",
       "      <td>0.001427</td>\n",
       "      <td>0.0</td>\n",
       "      <td>0.0</td>\n",
       "      <td>0.0</td>\n",
       "      <td>0.0</td>\n",
       "      <td>0.0</td>\n",
       "      <td>0.024944</td>\n",
       "      <td>...</td>\n",
       "      <td>0.000000</td>\n",
       "      <td>0.000000</td>\n",
       "      <td>0.0</td>\n",
       "      <td>0.019941</td>\n",
       "      <td>0.000805</td>\n",
       "      <td>0.0000</td>\n",
       "      <td>0.000000</td>\n",
       "      <td>0.000035</td>\n",
       "      <td>0.000000</td>\n",
       "      <td>1</td>\n",
       "    </tr>\n",
       "    <tr>\n",
       "      <th>4</th>\n",
       "      <td>0.933601</td>\n",
       "      <td>0.000000</td>\n",
       "      <td>0.0</td>\n",
       "      <td>0.001682</td>\n",
       "      <td>0.0</td>\n",
       "      <td>0.0</td>\n",
       "      <td>0.0</td>\n",
       "      <td>0.0</td>\n",
       "      <td>0.0</td>\n",
       "      <td>0.037002</td>\n",
       "      <td>...</td>\n",
       "      <td>0.000000</td>\n",
       "      <td>0.000000</td>\n",
       "      <td>0.0</td>\n",
       "      <td>0.046759</td>\n",
       "      <td>0.002663</td>\n",
       "      <td>0.0000</td>\n",
       "      <td>0.000339</td>\n",
       "      <td>0.001359</td>\n",
       "      <td>0.000000</td>\n",
       "      <td>1</td>\n",
       "    </tr>\n",
       "  </tbody>\n",
       "</table>\n",
       "<p>5 rows × 28 columns</p>\n",
       "</div>"
      ],
      "text/plain": [
       "       att1      att2  att3      att4  att5  att6  att7  att8  att9     att10  \\\n",
       "0  0.784999  0.000018   0.0  0.000093   0.0   0.0   0.0   0.0   0.0  0.139811   \n",
       "1  0.958088  0.000000   0.0  0.001671   0.0   0.0   0.0   0.0   0.0  0.019556   \n",
       "2  0.938768  0.000000   0.0  0.005146   0.0   0.0   0.0   0.0   0.0  0.018451   \n",
       "3  0.954775  0.000000   0.0  0.001427   0.0   0.0   0.0   0.0   0.0  0.024944   \n",
       "4  0.933601  0.000000   0.0  0.001682   0.0   0.0   0.0   0.0   0.0  0.037002   \n",
       "\n",
       "    ...        att19     att20  att21     att22     att23   att24     att25  \\\n",
       "0   ...     0.048171  0.001189    0.0  0.115728  0.023449  0.0002  0.000220   \n",
       "1   ...     0.000000  0.000000    0.0  0.022035  0.007516  0.0000  0.000000   \n",
       "2   ...     0.000000  0.000000    0.0  0.035542  0.011982  0.0000  0.001595   \n",
       "3   ...     0.000000  0.000000    0.0  0.019941  0.000805  0.0000  0.000000   \n",
       "4   ...     0.000000  0.000000    0.0  0.046759  0.002663  0.0000  0.000339   \n",
       "\n",
       "      att26     att27  outlier  \n",
       "0  0.034952  0.046914        1  \n",
       "1  0.001033  0.000000        1  \n",
       "2  0.019520  0.000000        1  \n",
       "3  0.000035  0.000000        1  \n",
       "4  0.001359  0.000000        1  \n",
       "\n",
       "[5 rows x 28 columns]"
      ]
     },
     "execution_count": 48,
     "metadata": {},
     "output_type": "execute_result"
    }
   ],
   "source": [
    "# load data\n",
    "df=pd.read_csv('ALOI_norm.csv')  \n",
    "\n",
    "del df['id']\n",
    "del df['Unnamed: 0']\n",
    "df['outlier'] = df.outlier.apply(lambda label: 1 if label == \"'yes'\" else 0)\n",
    "\n",
    "df.head()"
   ]
  },
  {
   "cell_type": "code",
   "execution_count": 49,
   "metadata": {},
   "outputs": [
    {
     "data": {
      "text/plain": [
       "(50000, 28)"
      ]
     },
     "execution_count": 49,
     "metadata": {},
     "output_type": "execute_result"
    }
   ],
   "source": [
    "df.shape"
   ]
  },
  {
   "cell_type": "code",
   "execution_count": 50,
   "metadata": {
    "collapsed": true
   },
   "outputs": [],
   "source": [
    "# data to values\n",
    "df = df.values"
   ]
  },
  {
   "cell_type": "code",
   "execution_count": 51,
   "metadata": {
    "collapsed": true
   },
   "outputs": [],
   "source": [
    "# Extratrees Deep\n",
    "import argparse\n",
    "import sys\n",
    "import pickle\n",
    "from sklearn.metrics import accuracy_score\n",
    "sys.path.insert(0, \"lib\")\n",
    "from gcforest.gcforest import GCForest\n",
    "from gcforest.utils.config_utils import load_json\n",
    "config = load_json(\"./examples/aloi.json\")\n",
    "gc = GCForest(config)"
   ]
  },
  {
   "cell_type": "code",
   "execution_count": 52,
   "metadata": {
    "collapsed": true
   },
   "outputs": [],
   "source": [
    "# train test \n",
    "from sklearn.cross_validation import train_test_split\n",
    "y = df[:,27]\n",
    "X = df[:,0:27]\n",
    "\n",
    "X_train,X_test,y_train,y_test = train_test_split(X, y, test_size=0.33, random_state=42)"
   ]
  },
  {
   "cell_type": "code",
   "execution_count": 53,
   "metadata": {},
   "outputs": [
    {
     "data": {
      "text/plain": [
       "2"
      ]
     },
     "execution_count": 53,
     "metadata": {},
     "output_type": "execute_result"
    }
   ],
   "source": [
    "# number of class\n",
    "len(np.unique(y_train))"
   ]
  },
  {
   "cell_type": "code",
   "execution_count": 54,
   "metadata": {},
   "outputs": [
    {
     "name": "stderr",
     "output_type": "stream",
     "text": [
      "[ 2018-04-26 14:27:40,032][cascade_classifier.fit_transform] X_groups_train.shape=[(33500, 27)],y_train.shape=(33500,),X_groups_test.shape=[(16500, 27)],y_test.shape=(16500,)\n",
      "[ 2018-04-26 14:27:40,035][cascade_classifier.fit_transform] group_dims=[27]\n",
      "[ 2018-04-26 14:27:40,036][cascade_classifier.fit_transform] group_starts=[0]\n",
      "[ 2018-04-26 14:27:40,037][cascade_classifier.fit_transform] group_ends=[27]\n",
      "[ 2018-04-26 14:27:40,039][cascade_classifier.fit_transform] X_train.shape=(33500, 27),X_test.shape=(16500, 27)\n",
      "[ 2018-04-26 14:27:40,043][cascade_classifier.fit_transform] [layer=0] look_indexs=[0], X_cur_train.shape=(33500, 27), X_cur_test.shape=(16500, 27)\n",
      "[ 2018-04-26 14:27:40,898][kfold_wrapper.log_eval_metrics] Accuracy(layer_0 - estimator_0 - 10_folds.train_0.predict)=97.37%\n",
      "[ 2018-04-26 14:27:42,057][kfold_wrapper.log_eval_metrics] Accuracy(layer_0 - estimator_0 - 10_folds.train_1.predict)=97.37%\n",
      "[ 2018-04-26 14:27:43,156][kfold_wrapper.log_eval_metrics] Accuracy(layer_0 - estimator_0 - 10_folds.train_2.predict)=97.52%\n",
      "[ 2018-04-26 14:27:44,323][kfold_wrapper.log_eval_metrics] Accuracy(layer_0 - estimator_0 - 10_folds.train_3.predict)=97.37%\n",
      "[ 2018-04-26 14:27:45,476][kfold_wrapper.log_eval_metrics] Accuracy(layer_0 - estimator_0 - 10_folds.train_4.predict)=97.40%\n",
      "[ 2018-04-26 14:27:46,538][kfold_wrapper.log_eval_metrics] Accuracy(layer_0 - estimator_0 - 10_folds.train_5.predict)=97.43%\n",
      "[ 2018-04-26 14:27:47,602][kfold_wrapper.log_eval_metrics] Accuracy(layer_0 - estimator_0 - 10_folds.train_6.predict)=97.40%\n",
      "[ 2018-04-26 14:27:48,647][kfold_wrapper.log_eval_metrics] Accuracy(layer_0 - estimator_0 - 10_folds.train_7.predict)=97.28%\n",
      "[ 2018-04-26 14:27:49,685][kfold_wrapper.log_eval_metrics] Accuracy(layer_0 - estimator_0 - 10_folds.train_8.predict)=97.55%\n",
      "[ 2018-04-26 14:27:50,732][kfold_wrapper.log_eval_metrics] Accuracy(layer_0 - estimator_0 - 10_folds.train_9.predict)=97.49%\n",
      "[ 2018-04-26 14:27:50,978][kfold_wrapper.log_eval_metrics] Accuracy(layer_0 - estimator_0 - 10_folds.train_cv.predict)=97.42%\n",
      "[ 2018-04-26 14:27:50,979][kfold_wrapper.log_eval_metrics] Accuracy(layer_0 - estimator_0 - 10_folds.test.predict)=97.04%\n",
      "[ 2018-04-26 14:27:50,981][cascade_classifier.calc_accuracy] Accuracy(layer_0 - train.classifier_average)=97.42%\n",
      "[ 2018-04-26 14:27:50,982][cascade_classifier.calc_accuracy] Accuracy(layer_0 - test.classifier_average)=97.04%\n",
      "[ 2018-04-26 14:27:50,983][cascade_classifier.fit_transform] [Result][Reach Max Layer] opt_layer_num=1, accuracy_train=97.42%, accuracy_test=97.04%\n"
     ]
    }
   ],
   "source": [
    "         # X_enc is the concatenated predict_proba result of ExtraTrees\n",
    "\n",
    "X_train_enc, X_test_enc = gc.fit_transform(X_train, y_train, X_test=X_test, y_test=y_test)\n",
    "   "
   ]
  },
  {
   "cell_type": "code",
   "execution_count": 55,
   "metadata": {},
   "outputs": [
    {
     "name": "stderr",
     "output_type": "stream",
     "text": [
      "[ 2018-04-26 14:27:50,989][cascade_classifier.transform] X_groups_test.shape=[(16500, 27)]\n",
      "[ 2018-04-26 14:27:50,991][cascade_classifier.transform] group_dims=[27]\n",
      "[ 2018-04-26 14:27:50,992][cascade_classifier.transform] X_test.shape=(16500, 27)\n",
      "[ 2018-04-26 14:27:50,995][cascade_classifier.transform] [layer=0] look_indexs=[0], X_cur_test.shape=(16500, 27)\n"
     ]
    },
    {
     "name": "stdout",
     "output_type": "stream",
     "text": [
      "Test Accuracy of ExtraTrees = 97.042424 %\n"
     ]
    }
   ],
   "source": [
    "# predict\n",
    "y_pred = gc.predict(X_test)\n",
    "acc = accuracy_score(y_test, y_pred)\n",
    "print(\"Test Accuracy of ExtraTrees = {:.6f} %\".format(acc * 100))"
   ]
  },
  {
   "cell_type": "code",
   "execution_count": 56,
   "metadata": {},
   "outputs": [
    {
     "name": "stderr",
     "output_type": "stream",
     "text": [
      "[ 2018-04-26 14:27:53,396][cascade_classifier.transform] X_groups_test.shape=[(16500, 27)]\n",
      "[ 2018-04-26 14:27:53,398][cascade_classifier.transform] group_dims=[27]\n",
      "[ 2018-04-26 14:27:53,399][cascade_classifier.transform] X_test.shape=(16500, 27)\n",
      "[ 2018-04-26 14:27:53,402][cascade_classifier.transform] [layer=0] look_indexs=[0], X_cur_test.shape=(16500, 27)\n"
     ]
    }
   ],
   "source": [
    "# Make data + estimators\n",
    "X_test_enc = gc.transform(X_test)\n",
    "X_train_enc = X_train_enc.reshape((X_train_enc.shape[0], -1))\n",
    "X_test_enc = X_test_enc.reshape((X_test_enc.shape[0], -1))\n",
    "X_train_origin = X_train.reshape((X_train.shape[0], -1))\n",
    "X_test_origin = X_test.reshape((X_test.shape[0], -1))\n",
    "X_train_enc = np.hstack((X_train_origin, X_train_enc))\n",
    "X_test_enc = np.hstack((X_test_origin, X_test_enc))"
   ]
  },
  {
   "cell_type": "code",
   "execution_count": 57,
   "metadata": {},
   "outputs": [
    {
     "name": "stderr",
     "output_type": "stream",
     "text": [
      "[ 2018-04-26 14:27:55,945][cascade_classifier.fit_transform] X_groups_train.shape=[(33500, 29)],y_train.shape=(33500,),X_groups_test.shape=[(16500, 29)],y_test.shape=(16500,)\n",
      "[ 2018-04-26 14:27:55,948][cascade_classifier.fit_transform] group_dims=[29]\n",
      "[ 2018-04-26 14:27:55,950][cascade_classifier.fit_transform] group_starts=[0]\n",
      "[ 2018-04-26 14:27:55,951][cascade_classifier.fit_transform] group_ends=[29]\n",
      "[ 2018-04-26 14:27:55,952][cascade_classifier.fit_transform] X_train.shape=(33500, 29),X_test.shape=(16500, 29)\n",
      "[ 2018-04-26 14:27:55,959][cascade_classifier.fit_transform] [layer=0] look_indexs=[0], X_cur_train.shape=(33500, 29), X_cur_test.shape=(16500, 29)\n",
      "[ 2018-04-26 14:27:56,791][kfold_wrapper.log_eval_metrics] Accuracy(layer_0 - estimator_0 - 10_folds.train_0.predict)=97.88%\n",
      "[ 2018-04-26 14:27:57,841][kfold_wrapper.log_eval_metrics] Accuracy(layer_0 - estimator_0 - 10_folds.train_1.predict)=97.79%\n",
      "[ 2018-04-26 14:27:58,898][kfold_wrapper.log_eval_metrics] Accuracy(layer_0 - estimator_0 - 10_folds.train_2.predict)=98.15%\n",
      "[ 2018-04-26 14:27:59,944][kfold_wrapper.log_eval_metrics] Accuracy(layer_0 - estimator_0 - 10_folds.train_3.predict)=97.94%\n",
      "[ 2018-04-26 14:28:01,147][kfold_wrapper.log_eval_metrics] Accuracy(layer_0 - estimator_0 - 10_folds.train_4.predict)=97.67%\n",
      "[ 2018-04-26 14:28:02,329][kfold_wrapper.log_eval_metrics] Accuracy(layer_0 - estimator_0 - 10_folds.train_5.predict)=97.88%\n",
      "[ 2018-04-26 14:28:03,508][kfold_wrapper.log_eval_metrics] Accuracy(layer_0 - estimator_0 - 10_folds.train_6.predict)=97.67%\n",
      "[ 2018-04-26 14:28:04,583][kfold_wrapper.log_eval_metrics] Accuracy(layer_0 - estimator_0 - 10_folds.train_7.predict)=97.91%\n",
      "[ 2018-04-26 14:28:05,680][kfold_wrapper.log_eval_metrics] Accuracy(layer_0 - estimator_0 - 10_folds.train_8.predict)=97.82%\n",
      "[ 2018-04-26 14:28:06,744][kfold_wrapper.log_eval_metrics] Accuracy(layer_0 - estimator_0 - 10_folds.train_9.predict)=98.06%\n",
      "[ 2018-04-26 14:28:06,994][kfold_wrapper.log_eval_metrics] Accuracy(layer_0 - estimator_0 - 10_folds.train_cv.predict)=97.88%\n",
      "[ 2018-04-26 14:28:06,996][kfold_wrapper.log_eval_metrics] Accuracy(layer_0 - estimator_0 - 10_folds.test.predict)=97.73%\n",
      "[ 2018-04-26 14:28:07,002][cascade_classifier.calc_accuracy] Accuracy(layer_0 - train.classifier_average)=97.88%\n",
      "[ 2018-04-26 14:28:07,003][cascade_classifier.calc_accuracy] Accuracy(layer_0 - test.classifier_average)=97.73%\n",
      "[ 2018-04-26 14:28:07,004][cascade_classifier.fit_transform] [Result][Reach Max Layer] opt_layer_num=1, accuracy_train=97.88%, accuracy_test=97.73%\n"
     ]
    }
   ],
   "source": [
    "# New data\n",
    "X_train=X_train_enc\n",
    "X_test=X_test_enc \n",
    "X_train_enc, X_test_enc = gc.fit_transform(X_train, y_train, X_test=X_test, y_test=y_test)"
   ]
  },
  {
   "cell_type": "code",
   "execution_count": 58,
   "metadata": {},
   "outputs": [
    {
     "name": "stderr",
     "output_type": "stream",
     "text": [
      "[ 2018-04-26 14:28:07,013][cascade_classifier.transform] X_groups_test.shape=[(16500, 29)]\n",
      "[ 2018-04-26 14:28:07,015][cascade_classifier.transform] group_dims=[29]\n",
      "[ 2018-04-26 14:28:07,017][cascade_classifier.transform] X_test.shape=(16500, 29)\n",
      "[ 2018-04-26 14:28:07,019][cascade_classifier.transform] [layer=0] look_indexs=[0], X_cur_test.shape=(16500, 29)\n"
     ]
    },
    {
     "name": "stdout",
     "output_type": "stream",
     "text": [
      "Test Accuracy of ExtraTrees = 97.733333 %\n"
     ]
    }
   ],
   "source": [
    "# predict  data + Es\n",
    "y_pred = gc.predict(X_test)\n",
    "acc = accuracy_score(y_test, y_pred)\n",
    "print(\"Test Accuracy of ExtraTrees = {:.6f} %\".format(acc * 100))"
   ]
  },
  {
   "cell_type": "code",
   "execution_count": 59,
   "metadata": {
    "collapsed": true
   },
   "outputs": [],
   "source": [
    "def update(X_train,X_test):\n",
    "    # update Estimators\n",
    "    M = np.delete(X_train, (-1), axis=1)\n",
    "    X_train= np.delete(M, (-1), axis=1)\n",
    "    M = np.delete(X_test, (-1), axis=1)\n",
    "    X_test = np.delete(M, (-1), axis=1)\n",
    "    return X_train,X_test\n",
    "\n",
    "def newdata(X_test_enc, X_train_enc):\n",
    "    # Make Data + Estimators\n",
    "    X_train_origin = X_train.reshape((X_train.shape[0], -1))\n",
    "    X_test_origin = X_test.reshape((X_test.shape[0], -1))\n",
    "    X_train_enc = np.hstack((X_train_origin, X_train_enc))\n",
    "    X_test_enc = np.hstack((X_test_origin, X_test_enc))\n",
    "    return X_test_enc, X_train_enc\n",
    "\n",
    "def affiche():\n",
    "    # predict\n",
    "    y_pred = gc.predict(X_test)\n",
    "    acc = accuracy_score(y_test, y_pred)\n",
    "    print(\"Test Accuracy of ExtraTrees = {:.6f} %\".format(acc * 100),i,'fois')"
   ]
  },
  {
   "cell_type": "code",
   "execution_count": 60,
   "metadata": {},
   "outputs": [
    {
     "name": "stderr",
     "output_type": "stream",
     "text": [
      "[ 2018-04-26 14:28:09,545][cascade_classifier.fit_transform] X_groups_train.shape=[(33500, 29)],y_train.shape=(33500,),X_groups_test.shape=[(16500, 29)],y_test.shape=(16500,)\n",
      "[ 2018-04-26 14:28:09,549][cascade_classifier.fit_transform] group_dims=[29]\n",
      "[ 2018-04-26 14:28:09,550][cascade_classifier.fit_transform] group_starts=[0]\n",
      "[ 2018-04-26 14:28:09,551][cascade_classifier.fit_transform] group_ends=[29]\n",
      "[ 2018-04-26 14:28:09,553][cascade_classifier.fit_transform] X_train.shape=(33500, 29),X_test.shape=(16500, 29)\n",
      "[ 2018-04-26 14:28:09,557][cascade_classifier.fit_transform] [layer=0] look_indexs=[0], X_cur_train.shape=(33500, 29), X_cur_test.shape=(16500, 29)\n",
      "[ 2018-04-26 14:28:10,334][kfold_wrapper.log_eval_metrics] Accuracy(layer_0 - estimator_0 - 10_folds.train_0.predict)=97.82%\n",
      "[ 2018-04-26 14:28:11,426][kfold_wrapper.log_eval_metrics] Accuracy(layer_0 - estimator_0 - 10_folds.train_1.predict)=97.82%\n",
      "[ 2018-04-26 14:28:12,511][kfold_wrapper.log_eval_metrics] Accuracy(layer_0 - estimator_0 - 10_folds.train_2.predict)=97.94%\n",
      "[ 2018-04-26 14:28:13,568][kfold_wrapper.log_eval_metrics] Accuracy(layer_0 - estimator_0 - 10_folds.train_3.predict)=97.79%\n",
      "[ 2018-04-26 14:28:14,743][kfold_wrapper.log_eval_metrics] Accuracy(layer_0 - estimator_0 - 10_folds.train_4.predict)=97.76%\n",
      "[ 2018-04-26 14:28:15,870][kfold_wrapper.log_eval_metrics] Accuracy(layer_0 - estimator_0 - 10_folds.train_5.predict)=98.03%\n",
      "[ 2018-04-26 14:28:16,923][kfold_wrapper.log_eval_metrics] Accuracy(layer_0 - estimator_0 - 10_folds.train_6.predict)=97.79%\n",
      "[ 2018-04-26 14:28:17,980][kfold_wrapper.log_eval_metrics] Accuracy(layer_0 - estimator_0 - 10_folds.train_7.predict)=97.85%\n",
      "[ 2018-04-26 14:28:19,219][kfold_wrapper.log_eval_metrics] Accuracy(layer_0 - estimator_0 - 10_folds.train_8.predict)=97.91%\n",
      "[ 2018-04-26 14:28:20,262][kfold_wrapper.log_eval_metrics] Accuracy(layer_0 - estimator_0 - 10_folds.train_9.predict)=97.82%\n",
      "[ 2018-04-26 14:28:20,534][kfold_wrapper.log_eval_metrics] Accuracy(layer_0 - estimator_0 - 10_folds.train_cv.predict)=97.85%\n",
      "[ 2018-04-26 14:28:20,536][kfold_wrapper.log_eval_metrics] Accuracy(layer_0 - estimator_0 - 10_folds.test.predict)=97.76%\n",
      "[ 2018-04-26 14:28:20,541][cascade_classifier.calc_accuracy] Accuracy(layer_0 - train.classifier_average)=97.85%\n",
      "[ 2018-04-26 14:28:20,543][cascade_classifier.calc_accuracy] Accuracy(layer_0 - test.classifier_average)=97.76%\n",
      "[ 2018-04-26 14:28:20,545][cascade_classifier.fit_transform] [Result][Reach Max Layer] opt_layer_num=1, accuracy_train=97.85%, accuracy_test=97.76%\n",
      "[ 2018-04-26 14:28:20,546][cascade_classifier.transform] X_groups_test.shape=[(16500, 29)]\n",
      "[ 2018-04-26 14:28:20,548][cascade_classifier.transform] group_dims=[29]\n",
      "[ 2018-04-26 14:28:20,549][cascade_classifier.transform] X_test.shape=(16500, 29)\n",
      "[ 2018-04-26 14:28:20,551][cascade_classifier.transform] [layer=0] look_indexs=[0], X_cur_test.shape=(16500, 29)\n",
      "[ 2018-04-26 14:28:23,158][cascade_classifier.fit_transform] X_groups_train.shape=[(33500, 29)],y_train.shape=(33500,),X_groups_test.shape=[(16500, 29)],y_test.shape=(16500,)\n",
      "[ 2018-04-26 14:28:23,161][cascade_classifier.fit_transform] group_dims=[29]\n",
      "[ 2018-04-26 14:28:23,163][cascade_classifier.fit_transform] group_starts=[0]\n",
      "[ 2018-04-26 14:28:23,164][cascade_classifier.fit_transform] group_ends=[29]\n",
      "[ 2018-04-26 14:28:23,165][cascade_classifier.fit_transform] X_train.shape=(33500, 29),X_test.shape=(16500, 29)\n",
      "[ 2018-04-26 14:28:23,169][cascade_classifier.fit_transform] [layer=0] look_indexs=[0], X_cur_train.shape=(33500, 29), X_cur_test.shape=(16500, 29)\n"
     ]
    },
    {
     "name": "stdout",
     "output_type": "stream",
     "text": [
      "('Test Accuracy of ExtraTrees = 97.769697 %', 0, 'fois')\n",
      "(' Time ', '11.009', ' seconds')\n"
     ]
    },
    {
     "name": "stderr",
     "output_type": "stream",
     "text": [
      "[ 2018-04-26 14:28:23,956][kfold_wrapper.log_eval_metrics] Accuracy(layer_0 - estimator_0 - 10_folds.train_0.predict)=97.61%\n",
      "[ 2018-04-26 14:28:25,031][kfold_wrapper.log_eval_metrics] Accuracy(layer_0 - estimator_0 - 10_folds.train_1.predict)=97.82%\n",
      "[ 2018-04-26 14:28:26,112][kfold_wrapper.log_eval_metrics] Accuracy(layer_0 - estimator_0 - 10_folds.train_2.predict)=98.06%\n",
      "[ 2018-04-26 14:28:27,186][kfold_wrapper.log_eval_metrics] Accuracy(layer_0 - estimator_0 - 10_folds.train_3.predict)=97.73%\n",
      "[ 2018-04-26 14:28:28,449][kfold_wrapper.log_eval_metrics] Accuracy(layer_0 - estimator_0 - 10_folds.train_4.predict)=97.73%\n",
      "[ 2018-04-26 14:28:29,499][kfold_wrapper.log_eval_metrics] Accuracy(layer_0 - estimator_0 - 10_folds.train_5.predict)=97.82%\n",
      "[ 2018-04-26 14:28:30,590][kfold_wrapper.log_eval_metrics] Accuracy(layer_0 - estimator_0 - 10_folds.train_6.predict)=97.70%\n",
      "[ 2018-04-26 14:28:31,629][kfold_wrapper.log_eval_metrics] Accuracy(layer_0 - estimator_0 - 10_folds.train_7.predict)=97.64%\n",
      "[ 2018-04-26 14:28:32,777][kfold_wrapper.log_eval_metrics] Accuracy(layer_0 - estimator_0 - 10_folds.train_8.predict)=97.85%\n",
      "[ 2018-04-26 14:28:33,953][kfold_wrapper.log_eval_metrics] Accuracy(layer_0 - estimator_0 - 10_folds.train_9.predict)=97.76%\n",
      "[ 2018-04-26 14:28:34,224][kfold_wrapper.log_eval_metrics] Accuracy(layer_0 - estimator_0 - 10_folds.train_cv.predict)=97.77%\n",
      "[ 2018-04-26 14:28:34,226][kfold_wrapper.log_eval_metrics] Accuracy(layer_0 - estimator_0 - 10_folds.test.predict)=97.66%\n",
      "[ 2018-04-26 14:28:34,231][cascade_classifier.calc_accuracy] Accuracy(layer_0 - train.classifier_average)=97.77%\n",
      "[ 2018-04-26 14:28:34,232][cascade_classifier.calc_accuracy] Accuracy(layer_0 - test.classifier_average)=97.66%\n",
      "[ 2018-04-26 14:28:34,234][cascade_classifier.fit_transform] [Result][Reach Max Layer] opt_layer_num=1, accuracy_train=97.77%, accuracy_test=97.66%\n",
      "[ 2018-04-26 14:28:34,235][cascade_classifier.transform] X_groups_test.shape=[(16500, 29)]\n",
      "[ 2018-04-26 14:28:34,237][cascade_classifier.transform] group_dims=[29]\n",
      "[ 2018-04-26 14:28:34,239][cascade_classifier.transform] X_test.shape=(16500, 29)\n",
      "[ 2018-04-26 14:28:34,241][cascade_classifier.transform] [layer=0] look_indexs=[0], X_cur_test.shape=(16500, 29)\n",
      "[ 2018-04-26 14:28:36,784][cascade_classifier.fit_transform] X_groups_train.shape=[(33500, 29)],y_train.shape=(33500,),X_groups_test.shape=[(16500, 29)],y_test.shape=(16500,)\n",
      "[ 2018-04-26 14:28:36,787][cascade_classifier.fit_transform] group_dims=[29]\n",
      "[ 2018-04-26 14:28:36,788][cascade_classifier.fit_transform] group_starts=[0]\n",
      "[ 2018-04-26 14:28:36,790][cascade_classifier.fit_transform] group_ends=[29]\n",
      "[ 2018-04-26 14:28:36,790][cascade_classifier.fit_transform] X_train.shape=(33500, 29),X_test.shape=(16500, 29)\n",
      "[ 2018-04-26 14:28:36,794][cascade_classifier.fit_transform] [layer=0] look_indexs=[0], X_cur_train.shape=(33500, 29), X_cur_test.shape=(16500, 29)\n"
     ]
    },
    {
     "name": "stdout",
     "output_type": "stream",
     "text": [
      "('Test Accuracy of ExtraTrees = 97.660606 %', 1, 'fois')\n",
      "(' Time ', '11.087', ' seconds')\n"
     ]
    },
    {
     "name": "stderr",
     "output_type": "stream",
     "text": [
      "[ 2018-04-26 14:28:37,817][kfold_wrapper.log_eval_metrics] Accuracy(layer_0 - estimator_0 - 10_folds.train_0.predict)=97.67%\n",
      "[ 2018-04-26 14:28:38,866][kfold_wrapper.log_eval_metrics] Accuracy(layer_0 - estimator_0 - 10_folds.train_1.predict)=97.73%\n",
      "[ 2018-04-26 14:28:39,986][kfold_wrapper.log_eval_metrics] Accuracy(layer_0 - estimator_0 - 10_folds.train_2.predict)=98.18%\n",
      "[ 2018-04-26 14:28:41,044][kfold_wrapper.log_eval_metrics] Accuracy(layer_0 - estimator_0 - 10_folds.train_3.predict)=98.06%\n",
      "[ 2018-04-26 14:28:42,240][kfold_wrapper.log_eval_metrics] Accuracy(layer_0 - estimator_0 - 10_folds.train_4.predict)=97.73%\n",
      "[ 2018-04-26 14:28:43,290][kfold_wrapper.log_eval_metrics] Accuracy(layer_0 - estimator_0 - 10_folds.train_5.predict)=97.91%\n",
      "[ 2018-04-26 14:28:44,347][kfold_wrapper.log_eval_metrics] Accuracy(layer_0 - estimator_0 - 10_folds.train_6.predict)=97.73%\n",
      "[ 2018-04-26 14:28:45,408][kfold_wrapper.log_eval_metrics] Accuracy(layer_0 - estimator_0 - 10_folds.train_7.predict)=97.70%\n",
      "[ 2018-04-26 14:28:46,427][kfold_wrapper.log_eval_metrics] Accuracy(layer_0 - estimator_0 - 10_folds.train_8.predict)=97.88%\n",
      "[ 2018-04-26 14:28:47,487][kfold_wrapper.log_eval_metrics] Accuracy(layer_0 - estimator_0 - 10_folds.train_9.predict)=97.79%\n",
      "[ 2018-04-26 14:28:47,763][kfold_wrapper.log_eval_metrics] Accuracy(layer_0 - estimator_0 - 10_folds.train_cv.predict)=97.84%\n",
      "[ 2018-04-26 14:28:47,765][kfold_wrapper.log_eval_metrics] Accuracy(layer_0 - estimator_0 - 10_folds.test.predict)=97.65%\n",
      "[ 2018-04-26 14:28:47,771][cascade_classifier.calc_accuracy] Accuracy(layer_0 - train.classifier_average)=97.84%\n",
      "[ 2018-04-26 14:28:47,772][cascade_classifier.calc_accuracy] Accuracy(layer_0 - test.classifier_average)=97.65%\n",
      "[ 2018-04-26 14:28:47,774][cascade_classifier.fit_transform] [Result][Reach Max Layer] opt_layer_num=1, accuracy_train=97.84%, accuracy_test=97.65%\n",
      "[ 2018-04-26 14:28:47,775][cascade_classifier.transform] X_groups_test.shape=[(16500, 29)]\n",
      "[ 2018-04-26 14:28:47,777][cascade_classifier.transform] group_dims=[29]\n",
      "[ 2018-04-26 14:28:47,778][cascade_classifier.transform] X_test.shape=(16500, 29)\n",
      "[ 2018-04-26 14:28:47,781][cascade_classifier.transform] [layer=0] look_indexs=[0], X_cur_test.shape=(16500, 29)\n",
      "[ 2018-04-26 14:28:50,257][cascade_classifier.fit_transform] X_groups_train.shape=[(33500, 29)],y_train.shape=(33500,),X_groups_test.shape=[(16500, 29)],y_test.shape=(16500,)\n",
      "[ 2018-04-26 14:28:50,260][cascade_classifier.fit_transform] group_dims=[29]\n",
      "[ 2018-04-26 14:28:50,261][cascade_classifier.fit_transform] group_starts=[0]\n",
      "[ 2018-04-26 14:28:50,263][cascade_classifier.fit_transform] group_ends=[29]\n",
      "[ 2018-04-26 14:28:50,264][cascade_classifier.fit_transform] X_train.shape=(33500, 29),X_test.shape=(16500, 29)\n",
      "[ 2018-04-26 14:28:50,270][cascade_classifier.fit_transform] [layer=0] look_indexs=[0], X_cur_train.shape=(33500, 29), X_cur_test.shape=(16500, 29)\n"
     ]
    },
    {
     "name": "stdout",
     "output_type": "stream",
     "text": [
      "('Test Accuracy of ExtraTrees = 97.660606 %', 2, 'fois')\n",
      "(' Time ', '11.002', ' seconds')\n"
     ]
    },
    {
     "name": "stderr",
     "output_type": "stream",
     "text": [
      "[ 2018-04-26 14:28:51,109][kfold_wrapper.log_eval_metrics] Accuracy(layer_0 - estimator_0 - 10_folds.train_0.predict)=97.61%\n",
      "[ 2018-04-26 14:28:52,267][kfold_wrapper.log_eval_metrics] Accuracy(layer_0 - estimator_0 - 10_folds.train_1.predict)=97.76%\n",
      "[ 2018-04-26 14:28:53,172][kfold_wrapper.log_eval_metrics] Accuracy(layer_0 - estimator_0 - 10_folds.train_2.predict)=97.94%\n",
      "[ 2018-04-26 14:28:54,215][kfold_wrapper.log_eval_metrics] Accuracy(layer_0 - estimator_0 - 10_folds.train_3.predict)=97.88%\n",
      "[ 2018-04-26 14:28:55,117][kfold_wrapper.log_eval_metrics] Accuracy(layer_0 - estimator_0 - 10_folds.train_4.predict)=97.70%\n",
      "[ 2018-04-26 14:28:56,152][kfold_wrapper.log_eval_metrics] Accuracy(layer_0 - estimator_0 - 10_folds.train_5.predict)=97.76%\n",
      "[ 2018-04-26 14:28:57,018][kfold_wrapper.log_eval_metrics] Accuracy(layer_0 - estimator_0 - 10_folds.train_6.predict)=97.58%\n",
      "[ 2018-04-26 14:28:58,053][kfold_wrapper.log_eval_metrics] Accuracy(layer_0 - estimator_0 - 10_folds.train_7.predict)=97.82%\n",
      "[ 2018-04-26 14:28:59,095][kfold_wrapper.log_eval_metrics] Accuracy(layer_0 - estimator_0 - 10_folds.train_8.predict)=97.91%\n",
      "[ 2018-04-26 14:29:00,244][kfold_wrapper.log_eval_metrics] Accuracy(layer_0 - estimator_0 - 10_folds.train_9.predict)=97.70%\n",
      "[ 2018-04-26 14:29:00,513][kfold_wrapper.log_eval_metrics] Accuracy(layer_0 - estimator_0 - 10_folds.train_cv.predict)=97.77%\n",
      "[ 2018-04-26 14:29:00,515][kfold_wrapper.log_eval_metrics] Accuracy(layer_0 - estimator_0 - 10_folds.test.predict)=97.57%\n",
      "[ 2018-04-26 14:29:00,521][cascade_classifier.calc_accuracy] Accuracy(layer_0 - train.classifier_average)=97.77%\n",
      "[ 2018-04-26 14:29:00,522][cascade_classifier.calc_accuracy] Accuracy(layer_0 - test.classifier_average)=97.57%\n",
      "[ 2018-04-26 14:29:00,524][cascade_classifier.fit_transform] [Result][Reach Max Layer] opt_layer_num=1, accuracy_train=97.77%, accuracy_test=97.57%\n",
      "[ 2018-04-26 14:29:00,526][cascade_classifier.transform] X_groups_test.shape=[(16500, 29)]\n",
      "[ 2018-04-26 14:29:00,529][cascade_classifier.transform] group_dims=[29]\n",
      "[ 2018-04-26 14:29:00,530][cascade_classifier.transform] X_test.shape=(16500, 29)\n",
      "[ 2018-04-26 14:29:00,532][cascade_classifier.transform] [layer=0] look_indexs=[0], X_cur_test.shape=(16500, 29)\n",
      "[ 2018-04-26 14:29:03,040][cascade_classifier.fit_transform] X_groups_train.shape=[(33500, 29)],y_train.shape=(33500,),X_groups_test.shape=[(16500, 29)],y_test.shape=(16500,)\n",
      "[ 2018-04-26 14:29:03,044][cascade_classifier.fit_transform] group_dims=[29]\n",
      "[ 2018-04-26 14:29:03,045][cascade_classifier.fit_transform] group_starts=[0]\n",
      "[ 2018-04-26 14:29:03,046][cascade_classifier.fit_transform] group_ends=[29]\n",
      "[ 2018-04-26 14:29:03,047][cascade_classifier.fit_transform] X_train.shape=(33500, 29),X_test.shape=(16500, 29)\n",
      "[ 2018-04-26 14:29:03,051][cascade_classifier.fit_transform] [layer=0] look_indexs=[0], X_cur_train.shape=(33500, 29), X_cur_test.shape=(16500, 29)\n"
     ]
    },
    {
     "name": "stdout",
     "output_type": "stream",
     "text": [
      "('Test Accuracy of ExtraTrees = 97.569697 %', 3, 'fois')\n",
      "(' Time ', '10.279', ' seconds')\n"
     ]
    },
    {
     "name": "stderr",
     "output_type": "stream",
     "text": [
      "[ 2018-04-26 14:29:03,962][kfold_wrapper.log_eval_metrics] Accuracy(layer_0 - estimator_0 - 10_folds.train_0.predict)=97.73%\n",
      "[ 2018-04-26 14:29:05,158][kfold_wrapper.log_eval_metrics] Accuracy(layer_0 - estimator_0 - 10_folds.train_1.predict)=97.67%\n",
      "[ 2018-04-26 14:29:06,246][kfold_wrapper.log_eval_metrics] Accuracy(layer_0 - estimator_0 - 10_folds.train_2.predict)=98.06%\n",
      "[ 2018-04-26 14:29:07,307][kfold_wrapper.log_eval_metrics] Accuracy(layer_0 - estimator_0 - 10_folds.train_3.predict)=98.03%\n",
      "[ 2018-04-26 14:29:08,396][kfold_wrapper.log_eval_metrics] Accuracy(layer_0 - estimator_0 - 10_folds.train_4.predict)=97.64%\n",
      "[ 2018-04-26 14:29:09,428][kfold_wrapper.log_eval_metrics] Accuracy(layer_0 - estimator_0 - 10_folds.train_5.predict)=97.73%\n",
      "[ 2018-04-26 14:29:10,628][kfold_wrapper.log_eval_metrics] Accuracy(layer_0 - estimator_0 - 10_folds.train_6.predict)=97.61%\n",
      "[ 2018-04-26 14:29:11,652][kfold_wrapper.log_eval_metrics] Accuracy(layer_0 - estimator_0 - 10_folds.train_7.predict)=97.70%\n",
      "[ 2018-04-26 14:29:12,910][kfold_wrapper.log_eval_metrics] Accuracy(layer_0 - estimator_0 - 10_folds.train_8.predict)=97.73%\n",
      "[ 2018-04-26 14:29:13,950][kfold_wrapper.log_eval_metrics] Accuracy(layer_0 - estimator_0 - 10_folds.train_9.predict)=97.73%\n",
      "[ 2018-04-26 14:29:14,218][kfold_wrapper.log_eval_metrics] Accuracy(layer_0 - estimator_0 - 10_folds.train_cv.predict)=97.76%\n",
      "[ 2018-04-26 14:29:14,220][kfold_wrapper.log_eval_metrics] Accuracy(layer_0 - estimator_0 - 10_folds.test.predict)=97.52%\n",
      "[ 2018-04-26 14:29:14,227][cascade_classifier.calc_accuracy] Accuracy(layer_0 - train.classifier_average)=97.76%\n",
      "[ 2018-04-26 14:29:14,228][cascade_classifier.calc_accuracy] Accuracy(layer_0 - test.classifier_average)=97.52%\n",
      "[ 2018-04-26 14:29:14,230][cascade_classifier.fit_transform] [Result][Reach Max Layer] opt_layer_num=1, accuracy_train=97.76%, accuracy_test=97.52%\n",
      "[ 2018-04-26 14:29:14,232][cascade_classifier.transform] X_groups_test.shape=[(16500, 29)]\n",
      "[ 2018-04-26 14:29:14,234][cascade_classifier.transform] group_dims=[29]\n",
      "[ 2018-04-26 14:29:14,235][cascade_classifier.transform] X_test.shape=(16500, 29)\n",
      "[ 2018-04-26 14:29:14,237][cascade_classifier.transform] [layer=0] look_indexs=[0], X_cur_test.shape=(16500, 29)\n",
      "[ 2018-04-26 14:29:16,877][cascade_classifier.fit_transform] X_groups_train.shape=[(33500, 29)],y_train.shape=(33500,),X_groups_test.shape=[(16500, 29)],y_test.shape=(16500,)\n",
      "[ 2018-04-26 14:29:16,880][cascade_classifier.fit_transform] group_dims=[29]\n",
      "[ 2018-04-26 14:29:16,881][cascade_classifier.fit_transform] group_starts=[0]\n",
      "[ 2018-04-26 14:29:16,883][cascade_classifier.fit_transform] group_ends=[29]\n",
      "[ 2018-04-26 14:29:16,884][cascade_classifier.fit_transform] X_train.shape=(33500, 29),X_test.shape=(16500, 29)\n",
      "[ 2018-04-26 14:29:16,888][cascade_classifier.fit_transform] [layer=0] look_indexs=[0], X_cur_train.shape=(33500, 29), X_cur_test.shape=(16500, 29)\n"
     ]
    },
    {
     "name": "stdout",
     "output_type": "stream",
     "text": [
      "('Test Accuracy of ExtraTrees = 97.521212 %', 4, 'fois')\n",
      "(' Time ', '11.203', ' seconds')\n"
     ]
    },
    {
     "name": "stderr",
     "output_type": "stream",
     "text": [
      "[ 2018-04-26 14:29:17,768][kfold_wrapper.log_eval_metrics] Accuracy(layer_0 - estimator_0 - 10_folds.train_0.predict)=97.64%\n",
      "[ 2018-04-26 14:29:18,822][kfold_wrapper.log_eval_metrics] Accuracy(layer_0 - estimator_0 - 10_folds.train_1.predict)=97.58%\n",
      "[ 2018-04-26 14:29:20,040][kfold_wrapper.log_eval_metrics] Accuracy(layer_0 - estimator_0 - 10_folds.train_2.predict)=98.06%\n",
      "[ 2018-04-26 14:29:21,156][kfold_wrapper.log_eval_metrics] Accuracy(layer_0 - estimator_0 - 10_folds.train_3.predict)=97.94%\n",
      "[ 2018-04-26 14:29:22,254][kfold_wrapper.log_eval_metrics] Accuracy(layer_0 - estimator_0 - 10_folds.train_4.predict)=97.49%\n",
      "[ 2018-04-26 14:29:23,307][kfold_wrapper.log_eval_metrics] Accuracy(layer_0 - estimator_0 - 10_folds.train_5.predict)=97.73%\n",
      "[ 2018-04-26 14:29:24,377][kfold_wrapper.log_eval_metrics] Accuracy(layer_0 - estimator_0 - 10_folds.train_6.predict)=97.37%\n",
      "[ 2018-04-26 14:29:25,461][kfold_wrapper.log_eval_metrics] Accuracy(layer_0 - estimator_0 - 10_folds.train_7.predict)=97.64%\n",
      "[ 2018-04-26 14:29:26,547][kfold_wrapper.log_eval_metrics] Accuracy(layer_0 - estimator_0 - 10_folds.train_8.predict)=97.82%\n",
      "[ 2018-04-26 14:29:27,890][kfold_wrapper.log_eval_metrics] Accuracy(layer_0 - estimator_0 - 10_folds.train_9.predict)=97.64%\n",
      "[ 2018-04-26 14:29:28,141][kfold_wrapper.log_eval_metrics] Accuracy(layer_0 - estimator_0 - 10_folds.train_cv.predict)=97.69%\n",
      "[ 2018-04-26 14:29:28,144][kfold_wrapper.log_eval_metrics] Accuracy(layer_0 - estimator_0 - 10_folds.test.predict)=97.49%\n",
      "[ 2018-04-26 14:29:28,149][cascade_classifier.calc_accuracy] Accuracy(layer_0 - train.classifier_average)=97.69%\n",
      "[ 2018-04-26 14:29:28,151][cascade_classifier.calc_accuracy] Accuracy(layer_0 - test.classifier_average)=97.49%\n",
      "[ 2018-04-26 14:29:28,152][cascade_classifier.fit_transform] [Result][Reach Max Layer] opt_layer_num=1, accuracy_train=97.69%, accuracy_test=97.49%\n",
      "[ 2018-04-26 14:29:28,153][cascade_classifier.transform] X_groups_test.shape=[(16500, 29)]\n",
      "[ 2018-04-26 14:29:28,155][cascade_classifier.transform] group_dims=[29]\n",
      "[ 2018-04-26 14:29:28,157][cascade_classifier.transform] X_test.shape=(16500, 29)\n",
      "[ 2018-04-26 14:29:28,159][cascade_classifier.transform] [layer=0] look_indexs=[0], X_cur_test.shape=(16500, 29)\n",
      "[ 2018-04-26 14:29:30,661][cascade_classifier.fit_transform] X_groups_train.shape=[(33500, 29)],y_train.shape=(33500,),X_groups_test.shape=[(16500, 29)],y_test.shape=(16500,)\n",
      "[ 2018-04-26 14:29:30,664][cascade_classifier.fit_transform] group_dims=[29]\n",
      "[ 2018-04-26 14:29:30,665][cascade_classifier.fit_transform] group_starts=[0]\n",
      "[ 2018-04-26 14:29:30,666][cascade_classifier.fit_transform] group_ends=[29]\n",
      "[ 2018-04-26 14:29:30,668][cascade_classifier.fit_transform] X_train.shape=(33500, 29),X_test.shape=(16500, 29)\n",
      "[ 2018-04-26 14:29:30,673][cascade_classifier.fit_transform] [layer=0] look_indexs=[0], X_cur_train.shape=(33500, 29), X_cur_test.shape=(16500, 29)\n"
     ]
    },
    {
     "name": "stdout",
     "output_type": "stream",
     "text": [
      "('Test Accuracy of ExtraTrees = 97.490909 %', 5, 'fois')\n",
      "(' Time ', '11.287', ' seconds')\n"
     ]
    },
    {
     "name": "stderr",
     "output_type": "stream",
     "text": [
      "[ 2018-04-26 14:29:31,536][kfold_wrapper.log_eval_metrics] Accuracy(layer_0 - estimator_0 - 10_folds.train_0.predict)=97.61%\n",
      "[ 2018-04-26 14:29:32,618][kfold_wrapper.log_eval_metrics] Accuracy(layer_0 - estimator_0 - 10_folds.train_1.predict)=97.58%\n",
      "[ 2018-04-26 14:29:33,630][kfold_wrapper.log_eval_metrics] Accuracy(layer_0 - estimator_0 - 10_folds.train_2.predict)=97.91%\n",
      "[ 2018-04-26 14:29:34,714][kfold_wrapper.log_eval_metrics] Accuracy(layer_0 - estimator_0 - 10_folds.train_3.predict)=97.91%\n",
      "[ 2018-04-26 14:29:35,767][kfold_wrapper.log_eval_metrics] Accuracy(layer_0 - estimator_0 - 10_folds.train_4.predict)=97.49%\n",
      "[ 2018-04-26 14:29:36,803][kfold_wrapper.log_eval_metrics] Accuracy(layer_0 - estimator_0 - 10_folds.train_5.predict)=97.73%\n",
      "[ 2018-04-26 14:29:37,854][kfold_wrapper.log_eval_metrics] Accuracy(layer_0 - estimator_0 - 10_folds.train_6.predict)=97.49%\n",
      "[ 2018-04-26 14:29:38,901][kfold_wrapper.log_eval_metrics] Accuracy(layer_0 - estimator_0 - 10_folds.train_7.predict)=97.55%\n",
      "[ 2018-04-26 14:29:39,922][kfold_wrapper.log_eval_metrics] Accuracy(layer_0 - estimator_0 - 10_folds.train_8.predict)=97.73%\n",
      "[ 2018-04-26 14:29:40,948][kfold_wrapper.log_eval_metrics] Accuracy(layer_0 - estimator_0 - 10_folds.train_9.predict)=97.64%\n",
      "[ 2018-04-26 14:29:41,191][kfold_wrapper.log_eval_metrics] Accuracy(layer_0 - estimator_0 - 10_folds.train_cv.predict)=97.67%\n",
      "[ 2018-04-26 14:29:41,193][kfold_wrapper.log_eval_metrics] Accuracy(layer_0 - estimator_0 - 10_folds.test.predict)=97.48%\n",
      "[ 2018-04-26 14:29:41,199][cascade_classifier.calc_accuracy] Accuracy(layer_0 - train.classifier_average)=97.67%\n",
      "[ 2018-04-26 14:29:41,201][cascade_classifier.calc_accuracy] Accuracy(layer_0 - test.classifier_average)=97.48%\n",
      "[ 2018-04-26 14:29:41,202][cascade_classifier.fit_transform] [Result][Reach Max Layer] opt_layer_num=1, accuracy_train=97.67%, accuracy_test=97.48%\n",
      "[ 2018-04-26 14:29:41,204][cascade_classifier.transform] X_groups_test.shape=[(16500, 29)]\n",
      "[ 2018-04-26 14:29:41,206][cascade_classifier.transform] group_dims=[29]\n",
      "[ 2018-04-26 14:29:41,207][cascade_classifier.transform] X_test.shape=(16500, 29)\n",
      "[ 2018-04-26 14:29:41,209][cascade_classifier.transform] [layer=0] look_indexs=[0], X_cur_test.shape=(16500, 29)\n",
      "[ 2018-04-26 14:29:43,791][cascade_classifier.fit_transform] X_groups_train.shape=[(33500, 29)],y_train.shape=(33500,),X_groups_test.shape=[(16500, 29)],y_test.shape=(16500,)\n",
      "[ 2018-04-26 14:29:43,794][cascade_classifier.fit_transform] group_dims=[29]\n",
      "[ 2018-04-26 14:29:43,796][cascade_classifier.fit_transform] group_starts=[0]\n",
      "[ 2018-04-26 14:29:43,797][cascade_classifier.fit_transform] group_ends=[29]\n",
      "[ 2018-04-26 14:29:43,798][cascade_classifier.fit_transform] X_train.shape=(33500, 29),X_test.shape=(16500, 29)\n",
      "[ 2018-04-26 14:29:43,802][cascade_classifier.fit_transform] [layer=0] look_indexs=[0], X_cur_train.shape=(33500, 29), X_cur_test.shape=(16500, 29)\n"
     ]
    },
    {
     "name": "stdout",
     "output_type": "stream",
     "text": [
      "('Test Accuracy of ExtraTrees = 97.484848 %', 6, 'fois')\n",
      "(' Time ', '10.554', ' seconds')\n"
     ]
    },
    {
     "name": "stderr",
     "output_type": "stream",
     "text": [
      "[ 2018-04-26 14:29:44,754][kfold_wrapper.log_eval_metrics] Accuracy(layer_0 - estimator_0 - 10_folds.train_0.predict)=97.67%\n",
      "[ 2018-04-26 14:29:45,837][kfold_wrapper.log_eval_metrics] Accuracy(layer_0 - estimator_0 - 10_folds.train_1.predict)=97.61%\n",
      "[ 2018-04-26 14:29:46,992][kfold_wrapper.log_eval_metrics] Accuracy(layer_0 - estimator_0 - 10_folds.train_2.predict)=97.76%\n",
      "[ 2018-04-26 14:29:48,027][kfold_wrapper.log_eval_metrics] Accuracy(layer_0 - estimator_0 - 10_folds.train_3.predict)=97.88%\n",
      "[ 2018-04-26 14:29:49,120][kfold_wrapper.log_eval_metrics] Accuracy(layer_0 - estimator_0 - 10_folds.train_4.predict)=97.52%\n",
      "[ 2018-04-26 14:29:50,217][kfold_wrapper.log_eval_metrics] Accuracy(layer_0 - estimator_0 - 10_folds.train_5.predict)=97.79%\n",
      "[ 2018-04-26 14:29:51,427][kfold_wrapper.log_eval_metrics] Accuracy(layer_0 - estimator_0 - 10_folds.train_6.predict)=97.55%\n",
      "[ 2018-04-26 14:29:52,475][kfold_wrapper.log_eval_metrics] Accuracy(layer_0 - estimator_0 - 10_folds.train_7.predict)=97.64%\n",
      "[ 2018-04-26 14:29:53,545][kfold_wrapper.log_eval_metrics] Accuracy(layer_0 - estimator_0 - 10_folds.train_8.predict)=97.70%\n",
      "[ 2018-04-26 14:29:54,602][kfold_wrapper.log_eval_metrics] Accuracy(layer_0 - estimator_0 - 10_folds.train_9.predict)=97.70%\n",
      "[ 2018-04-26 14:29:54,884][kfold_wrapper.log_eval_metrics] Accuracy(layer_0 - estimator_0 - 10_folds.train_cv.predict)=97.68%\n",
      "[ 2018-04-26 14:29:54,886][kfold_wrapper.log_eval_metrics] Accuracy(layer_0 - estimator_0 - 10_folds.test.predict)=97.37%\n",
      "[ 2018-04-26 14:29:54,891][cascade_classifier.calc_accuracy] Accuracy(layer_0 - train.classifier_average)=97.68%\n",
      "[ 2018-04-26 14:29:54,893][cascade_classifier.calc_accuracy] Accuracy(layer_0 - test.classifier_average)=97.37%\n",
      "[ 2018-04-26 14:29:54,894][cascade_classifier.fit_transform] [Result][Reach Max Layer] opt_layer_num=1, accuracy_train=97.68%, accuracy_test=97.37%\n",
      "[ 2018-04-26 14:29:54,895][cascade_classifier.transform] X_groups_test.shape=[(16500, 29)]\n",
      "[ 2018-04-26 14:29:54,897][cascade_classifier.transform] group_dims=[29]\n",
      "[ 2018-04-26 14:29:54,898][cascade_classifier.transform] X_test.shape=(16500, 29)\n",
      "[ 2018-04-26 14:29:54,901][cascade_classifier.transform] [layer=0] look_indexs=[0], X_cur_test.shape=(16500, 29)\n",
      "[ 2018-04-26 14:29:57,338][cascade_classifier.fit_transform] X_groups_train.shape=[(33500, 29)],y_train.shape=(33500,),X_groups_test.shape=[(16500, 29)],y_test.shape=(16500,)\n",
      "[ 2018-04-26 14:29:57,341][cascade_classifier.fit_transform] group_dims=[29]\n",
      "[ 2018-04-26 14:29:57,342][cascade_classifier.fit_transform] group_starts=[0]\n",
      "[ 2018-04-26 14:29:57,344][cascade_classifier.fit_transform] group_ends=[29]\n",
      "[ 2018-04-26 14:29:57,345][cascade_classifier.fit_transform] X_train.shape=(33500, 29),X_test.shape=(16500, 29)\n",
      "[ 2018-04-26 14:29:57,351][cascade_classifier.fit_transform] [layer=0] look_indexs=[0], X_cur_train.shape=(33500, 29), X_cur_test.shape=(16500, 29)\n"
     ]
    },
    {
     "name": "stdout",
     "output_type": "stream",
     "text": [
      "('Test Accuracy of ExtraTrees = 97.369697 %', 7, 'fois')\n",
      "(' Time ', '11.115', ' seconds')\n"
     ]
    },
    {
     "name": "stderr",
     "output_type": "stream",
     "text": [
      "[ 2018-04-26 14:29:58,313][kfold_wrapper.log_eval_metrics] Accuracy(layer_0 - estimator_0 - 10_folds.train_0.predict)=97.70%\n",
      "[ 2018-04-26 14:29:59,404][kfold_wrapper.log_eval_metrics] Accuracy(layer_0 - estimator_0 - 10_folds.train_1.predict)=97.64%\n",
      "[ 2018-04-26 14:30:00,459][kfold_wrapper.log_eval_metrics] Accuracy(layer_0 - estimator_0 - 10_folds.train_2.predict)=97.85%\n",
      "[ 2018-04-26 14:30:01,517][kfold_wrapper.log_eval_metrics] Accuracy(layer_0 - estimator_0 - 10_folds.train_3.predict)=97.85%\n",
      "[ 2018-04-26 14:30:02,616][kfold_wrapper.log_eval_metrics] Accuracy(layer_0 - estimator_0 - 10_folds.train_4.predict)=97.46%\n",
      "[ 2018-04-26 14:30:03,963][kfold_wrapper.log_eval_metrics] Accuracy(layer_0 - estimator_0 - 10_folds.train_5.predict)=97.73%\n",
      "[ 2018-04-26 14:30:05,042][kfold_wrapper.log_eval_metrics] Accuracy(layer_0 - estimator_0 - 10_folds.train_6.predict)=97.52%\n",
      "[ 2018-04-26 14:30:06,099][kfold_wrapper.log_eval_metrics] Accuracy(layer_0 - estimator_0 - 10_folds.train_7.predict)=97.58%\n",
      "[ 2018-04-26 14:30:07,166][kfold_wrapper.log_eval_metrics] Accuracy(layer_0 - estimator_0 - 10_folds.train_8.predict)=97.70%\n",
      "[ 2018-04-26 14:30:08,210][kfold_wrapper.log_eval_metrics] Accuracy(layer_0 - estimator_0 - 10_folds.train_9.predict)=97.79%\n",
      "[ 2018-04-26 14:30:08,490][kfold_wrapper.log_eval_metrics] Accuracy(layer_0 - estimator_0 - 10_folds.train_cv.predict)=97.68%\n",
      "[ 2018-04-26 14:30:08,492][kfold_wrapper.log_eval_metrics] Accuracy(layer_0 - estimator_0 - 10_folds.test.predict)=97.42%\n",
      "[ 2018-04-26 14:30:08,497][cascade_classifier.calc_accuracy] Accuracy(layer_0 - train.classifier_average)=97.68%\n",
      "[ 2018-04-26 14:30:08,499][cascade_classifier.calc_accuracy] Accuracy(layer_0 - test.classifier_average)=97.42%\n",
      "[ 2018-04-26 14:30:08,500][cascade_classifier.fit_transform] [Result][Reach Max Layer] opt_layer_num=1, accuracy_train=97.68%, accuracy_test=97.42%\n",
      "[ 2018-04-26 14:30:08,502][cascade_classifier.transform] X_groups_test.shape=[(16500, 29)]\n",
      "[ 2018-04-26 14:30:08,504][cascade_classifier.transform] group_dims=[29]\n",
      "[ 2018-04-26 14:30:08,505][cascade_classifier.transform] X_test.shape=(16500, 29)\n",
      "[ 2018-04-26 14:30:08,507][cascade_classifier.transform] [layer=0] look_indexs=[0], X_cur_test.shape=(16500, 29)\n",
      "[ 2018-04-26 14:30:10,987][cascade_classifier.fit_transform] X_groups_train.shape=[(33500, 29)],y_train.shape=(33500,),X_groups_test.shape=[(16500, 29)],y_test.shape=(16500,)\n",
      "[ 2018-04-26 14:30:10,990][cascade_classifier.fit_transform] group_dims=[29]\n",
      "[ 2018-04-26 14:30:10,991][cascade_classifier.fit_transform] group_starts=[0]\n",
      "[ 2018-04-26 14:30:10,992][cascade_classifier.fit_transform] group_ends=[29]\n",
      "[ 2018-04-26 14:30:10,993][cascade_classifier.fit_transform] X_train.shape=(33500, 29),X_test.shape=(16500, 29)\n",
      "[ 2018-04-26 14:30:10,997][cascade_classifier.fit_transform] [layer=0] look_indexs=[0], X_cur_train.shape=(33500, 29), X_cur_test.shape=(16500, 29)\n"
     ]
    },
    {
     "name": "stdout",
     "output_type": "stream",
     "text": [
      "('Test Accuracy of ExtraTrees = 97.418182 %', 8, 'fois')\n",
      "(' Time ', '11.176', ' seconds')\n"
     ]
    },
    {
     "name": "stderr",
     "output_type": "stream",
     "text": [
      "[ 2018-04-26 14:30:11,782][kfold_wrapper.log_eval_metrics] Accuracy(layer_0 - estimator_0 - 10_folds.train_0.predict)=97.64%\n",
      "[ 2018-04-26 14:30:12,858][kfold_wrapper.log_eval_metrics] Accuracy(layer_0 - estimator_0 - 10_folds.train_1.predict)=97.67%\n",
      "[ 2018-04-26 14:30:13,885][kfold_wrapper.log_eval_metrics] Accuracy(layer_0 - estimator_0 - 10_folds.train_2.predict)=97.79%\n",
      "[ 2018-04-26 14:30:14,944][kfold_wrapper.log_eval_metrics] Accuracy(layer_0 - estimator_0 - 10_folds.train_3.predict)=97.88%\n",
      "[ 2018-04-26 14:30:15,963][kfold_wrapper.log_eval_metrics] Accuracy(layer_0 - estimator_0 - 10_folds.train_4.predict)=97.55%\n",
      "[ 2018-04-26 14:30:16,961][kfold_wrapper.log_eval_metrics] Accuracy(layer_0 - estimator_0 - 10_folds.train_5.predict)=97.64%\n",
      "[ 2018-04-26 14:30:17,961][kfold_wrapper.log_eval_metrics] Accuracy(layer_0 - estimator_0 - 10_folds.train_6.predict)=97.61%\n",
      "[ 2018-04-26 14:30:18,970][kfold_wrapper.log_eval_metrics] Accuracy(layer_0 - estimator_0 - 10_folds.train_7.predict)=97.64%\n",
      "[ 2018-04-26 14:30:20,173][kfold_wrapper.log_eval_metrics] Accuracy(layer_0 - estimator_0 - 10_folds.train_8.predict)=97.61%\n",
      "[ 2018-04-26 14:30:21,337][kfold_wrapper.log_eval_metrics] Accuracy(layer_0 - estimator_0 - 10_folds.train_9.predict)=97.76%\n",
      "[ 2018-04-26 14:30:21,640][kfold_wrapper.log_eval_metrics] Accuracy(layer_0 - estimator_0 - 10_folds.train_cv.predict)=97.68%\n",
      "[ 2018-04-26 14:30:21,642][kfold_wrapper.log_eval_metrics] Accuracy(layer_0 - estimator_0 - 10_folds.test.predict)=97.42%\n",
      "[ 2018-04-26 14:30:21,647][cascade_classifier.calc_accuracy] Accuracy(layer_0 - train.classifier_average)=97.68%\n",
      "[ 2018-04-26 14:30:21,649][cascade_classifier.calc_accuracy] Accuracy(layer_0 - test.classifier_average)=97.42%\n",
      "[ 2018-04-26 14:30:21,650][cascade_classifier.fit_transform] [Result][Reach Max Layer] opt_layer_num=1, accuracy_train=97.68%, accuracy_test=97.42%\n",
      "[ 2018-04-26 14:30:21,652][cascade_classifier.transform] X_groups_test.shape=[(16500, 29)]\n",
      "[ 2018-04-26 14:30:21,654][cascade_classifier.transform] group_dims=[29]\n",
      "[ 2018-04-26 14:30:21,655][cascade_classifier.transform] X_test.shape=(16500, 29)\n",
      "[ 2018-04-26 14:30:21,656][cascade_classifier.transform] [layer=0] look_indexs=[0], X_cur_test.shape=(16500, 29)\n",
      "[ 2018-04-26 14:30:24,159][cascade_classifier.fit_transform] X_groups_train.shape=[(33500, 29)],y_train.shape=(33500,),X_groups_test.shape=[(16500, 29)],y_test.shape=(16500,)\n",
      "[ 2018-04-26 14:30:24,162][cascade_classifier.fit_transform] group_dims=[29]\n",
      "[ 2018-04-26 14:30:24,163][cascade_classifier.fit_transform] group_starts=[0]\n",
      "[ 2018-04-26 14:30:24,164][cascade_classifier.fit_transform] group_ends=[29]\n",
      "[ 2018-04-26 14:30:24,165][cascade_classifier.fit_transform] X_train.shape=(33500, 29),X_test.shape=(16500, 29)\n",
      "[ 2018-04-26 14:30:24,169][cascade_classifier.fit_transform] [layer=0] look_indexs=[0], X_cur_train.shape=(33500, 29), X_cur_test.shape=(16500, 29)\n"
     ]
    },
    {
     "name": "stdout",
     "output_type": "stream",
     "text": [
      "('Test Accuracy of ExtraTrees = 97.418182 %', 9, 'fois')\n",
      "(' Time ', '10.675', ' seconds')\n"
     ]
    },
    {
     "name": "stderr",
     "output_type": "stream",
     "text": [
      "[ 2018-04-26 14:30:24,945][kfold_wrapper.log_eval_metrics] Accuracy(layer_0 - estimator_0 - 10_folds.train_0.predict)=97.73%\n",
      "[ 2018-04-26 14:30:26,025][kfold_wrapper.log_eval_metrics] Accuracy(layer_0 - estimator_0 - 10_folds.train_1.predict)=97.55%\n",
      "[ 2018-04-26 14:30:26,911][kfold_wrapper.log_eval_metrics] Accuracy(layer_0 - estimator_0 - 10_folds.train_2.predict)=97.76%\n",
      "[ 2018-04-26 14:30:27,919][kfold_wrapper.log_eval_metrics] Accuracy(layer_0 - estimator_0 - 10_folds.train_3.predict)=97.79%\n",
      "[ 2018-04-26 14:30:28,948][kfold_wrapper.log_eval_metrics] Accuracy(layer_0 - estimator_0 - 10_folds.train_4.predict)=97.61%\n",
      "[ 2018-04-26 14:30:29,986][kfold_wrapper.log_eval_metrics] Accuracy(layer_0 - estimator_0 - 10_folds.train_5.predict)=97.52%\n",
      "[ 2018-04-26 14:30:30,975][kfold_wrapper.log_eval_metrics] Accuracy(layer_0 - estimator_0 - 10_folds.train_6.predict)=97.61%\n",
      "[ 2018-04-26 14:30:32,134][kfold_wrapper.log_eval_metrics] Accuracy(layer_0 - estimator_0 - 10_folds.train_7.predict)=97.58%\n",
      "[ 2018-04-26 14:30:33,334][kfold_wrapper.log_eval_metrics] Accuracy(layer_0 - estimator_0 - 10_folds.train_8.predict)=97.58%\n",
      "[ 2018-04-26 14:30:34,413][kfold_wrapper.log_eval_metrics] Accuracy(layer_0 - estimator_0 - 10_folds.train_9.predict)=97.73%\n",
      "[ 2018-04-26 14:30:34,668][kfold_wrapper.log_eval_metrics] Accuracy(layer_0 - estimator_0 - 10_folds.train_cv.predict)=97.65%\n",
      "[ 2018-04-26 14:30:34,670][kfold_wrapper.log_eval_metrics] Accuracy(layer_0 - estimator_0 - 10_folds.test.predict)=97.38%\n",
      "[ 2018-04-26 14:30:34,678][cascade_classifier.calc_accuracy] Accuracy(layer_0 - train.classifier_average)=97.65%\n",
      "[ 2018-04-26 14:30:34,679][cascade_classifier.calc_accuracy] Accuracy(layer_0 - test.classifier_average)=97.38%\n",
      "[ 2018-04-26 14:30:34,681][cascade_classifier.fit_transform] [Result][Reach Max Layer] opt_layer_num=1, accuracy_train=97.65%, accuracy_test=97.38%\n",
      "[ 2018-04-26 14:30:34,682][cascade_classifier.transform] X_groups_test.shape=[(16500, 29)]\n",
      "[ 2018-04-26 14:30:34,684][cascade_classifier.transform] group_dims=[29]\n",
      "[ 2018-04-26 14:30:34,685][cascade_classifier.transform] X_test.shape=(16500, 29)\n",
      "[ 2018-04-26 14:30:34,687][cascade_classifier.transform] [layer=0] look_indexs=[0], X_cur_test.shape=(16500, 29)\n",
      "[ 2018-04-26 14:30:37,169][cascade_classifier.fit_transform] X_groups_train.shape=[(33500, 29)],y_train.shape=(33500,),X_groups_test.shape=[(16500, 29)],y_test.shape=(16500,)\n",
      "[ 2018-04-26 14:30:37,172][cascade_classifier.fit_transform] group_dims=[29]\n",
      "[ 2018-04-26 14:30:37,173][cascade_classifier.fit_transform] group_starts=[0]\n",
      "[ 2018-04-26 14:30:37,174][cascade_classifier.fit_transform] group_ends=[29]\n",
      "[ 2018-04-26 14:30:37,175][cascade_classifier.fit_transform] X_train.shape=(33500, 29),X_test.shape=(16500, 29)\n",
      "[ 2018-04-26 14:30:37,179][cascade_classifier.fit_transform] [layer=0] look_indexs=[0], X_cur_train.shape=(33500, 29), X_cur_test.shape=(16500, 29)\n"
     ]
    },
    {
     "name": "stdout",
     "output_type": "stream",
     "text": [
      "('Test Accuracy of ExtraTrees = 97.375758 %', 10, 'fois')\n",
      "(' Time ', '10.532', ' seconds')\n"
     ]
    },
    {
     "name": "stderr",
     "output_type": "stream",
     "text": [
      "[ 2018-04-26 14:30:38,023][kfold_wrapper.log_eval_metrics] Accuracy(layer_0 - estimator_0 - 10_folds.train_0.predict)=97.61%\n",
      "[ 2018-04-26 14:30:39,089][kfold_wrapper.log_eval_metrics] Accuracy(layer_0 - estimator_0 - 10_folds.train_1.predict)=97.61%\n",
      "[ 2018-04-26 14:30:40,275][kfold_wrapper.log_eval_metrics] Accuracy(layer_0 - estimator_0 - 10_folds.train_2.predict)=97.64%\n",
      "[ 2018-04-26 14:30:41,329][kfold_wrapper.log_eval_metrics] Accuracy(layer_0 - estimator_0 - 10_folds.train_3.predict)=97.76%\n",
      "[ 2018-04-26 14:30:42,398][kfold_wrapper.log_eval_metrics] Accuracy(layer_0 - estimator_0 - 10_folds.train_4.predict)=97.67%\n",
      "[ 2018-04-26 14:30:43,462][kfold_wrapper.log_eval_metrics] Accuracy(layer_0 - estimator_0 - 10_folds.train_5.predict)=97.49%\n",
      "[ 2018-04-26 14:30:44,538][kfold_wrapper.log_eval_metrics] Accuracy(layer_0 - estimator_0 - 10_folds.train_6.predict)=97.58%\n",
      "[ 2018-04-26 14:30:45,604][kfold_wrapper.log_eval_metrics] Accuracy(layer_0 - estimator_0 - 10_folds.train_7.predict)=97.52%\n",
      "[ 2018-04-26 14:30:46,629][kfold_wrapper.log_eval_metrics] Accuracy(layer_0 - estimator_0 - 10_folds.train_8.predict)=97.55%\n",
      "[ 2018-04-26 14:30:47,658][kfold_wrapper.log_eval_metrics] Accuracy(layer_0 - estimator_0 - 10_folds.train_9.predict)=97.64%\n",
      "[ 2018-04-26 14:30:48,047][kfold_wrapper.log_eval_metrics] Accuracy(layer_0 - estimator_0 - 10_folds.train_cv.predict)=97.61%\n",
      "[ 2018-04-26 14:30:48,049][kfold_wrapper.log_eval_metrics] Accuracy(layer_0 - estimator_0 - 10_folds.test.predict)=97.34%\n",
      "[ 2018-04-26 14:30:48,056][cascade_classifier.calc_accuracy] Accuracy(layer_0 - train.classifier_average)=97.61%\n",
      "[ 2018-04-26 14:30:48,058][cascade_classifier.calc_accuracy] Accuracy(layer_0 - test.classifier_average)=97.34%\n",
      "[ 2018-04-26 14:30:48,059][cascade_classifier.fit_transform] [Result][Reach Max Layer] opt_layer_num=1, accuracy_train=97.61%, accuracy_test=97.34%\n",
      "[ 2018-04-26 14:30:48,061][cascade_classifier.transform] X_groups_test.shape=[(16500, 29)]\n",
      "[ 2018-04-26 14:30:48,063][cascade_classifier.transform] group_dims=[29]\n",
      "[ 2018-04-26 14:30:48,064][cascade_classifier.transform] X_test.shape=(16500, 29)\n",
      "[ 2018-04-26 14:30:48,066][cascade_classifier.transform] [layer=0] look_indexs=[0], X_cur_test.shape=(16500, 29)\n",
      "[ 2018-04-26 14:30:50,551][cascade_classifier.fit_transform] X_groups_train.shape=[(33500, 29)],y_train.shape=(33500,),X_groups_test.shape=[(16500, 29)],y_test.shape=(16500,)\n",
      "[ 2018-04-26 14:30:50,555][cascade_classifier.fit_transform] group_dims=[29]\n",
      "[ 2018-04-26 14:30:50,556][cascade_classifier.fit_transform] group_starts=[0]\n",
      "[ 2018-04-26 14:30:50,557][cascade_classifier.fit_transform] group_ends=[29]\n",
      "[ 2018-04-26 14:30:50,558][cascade_classifier.fit_transform] X_train.shape=(33500, 29),X_test.shape=(16500, 29)\n",
      "[ 2018-04-26 14:30:50,563][cascade_classifier.fit_transform] [layer=0] look_indexs=[0], X_cur_train.shape=(33500, 29), X_cur_test.shape=(16500, 29)\n"
     ]
    },
    {
     "name": "stdout",
     "output_type": "stream",
     "text": [
      "('Test Accuracy of ExtraTrees = 97.339394 %', 11, 'fois')\n",
      "(' Time ', '10.903', ' seconds')\n"
     ]
    },
    {
     "name": "stderr",
     "output_type": "stream",
     "text": [
      "[ 2018-04-26 14:30:51,400][kfold_wrapper.log_eval_metrics] Accuracy(layer_0 - estimator_0 - 10_folds.train_0.predict)=97.61%\n",
      "[ 2018-04-26 14:30:52,426][kfold_wrapper.log_eval_metrics] Accuracy(layer_0 - estimator_0 - 10_folds.train_1.predict)=97.49%\n",
      "[ 2018-04-26 14:30:53,488][kfold_wrapper.log_eval_metrics] Accuracy(layer_0 - estimator_0 - 10_folds.train_2.predict)=97.64%\n",
      "[ 2018-04-26 14:30:54,496][kfold_wrapper.log_eval_metrics] Accuracy(layer_0 - estimator_0 - 10_folds.train_3.predict)=97.76%\n",
      "[ 2018-04-26 14:30:55,703][kfold_wrapper.log_eval_metrics] Accuracy(layer_0 - estimator_0 - 10_folds.train_4.predict)=97.52%\n",
      "[ 2018-04-26 14:30:56,765][kfold_wrapper.log_eval_metrics] Accuracy(layer_0 - estimator_0 - 10_folds.train_5.predict)=97.55%\n",
      "[ 2018-04-26 14:30:57,785][kfold_wrapper.log_eval_metrics] Accuracy(layer_0 - estimator_0 - 10_folds.train_6.predict)=97.61%\n",
      "[ 2018-04-26 14:30:58,689][kfold_wrapper.log_eval_metrics] Accuracy(layer_0 - estimator_0 - 10_folds.train_7.predict)=97.52%\n",
      "[ 2018-04-26 14:31:00,002][kfold_wrapper.log_eval_metrics] Accuracy(layer_0 - estimator_0 - 10_folds.train_8.predict)=97.52%\n",
      "[ 2018-04-26 14:31:01,057][kfold_wrapper.log_eval_metrics] Accuracy(layer_0 - estimator_0 - 10_folds.train_9.predict)=97.61%\n",
      "[ 2018-04-26 14:31:01,312][kfold_wrapper.log_eval_metrics] Accuracy(layer_0 - estimator_0 - 10_folds.train_cv.predict)=97.59%\n",
      "[ 2018-04-26 14:31:01,314][kfold_wrapper.log_eval_metrics] Accuracy(layer_0 - estimator_0 - 10_folds.test.predict)=97.32%\n",
      "[ 2018-04-26 14:31:01,319][cascade_classifier.calc_accuracy] Accuracy(layer_0 - train.classifier_average)=97.59%\n",
      "[ 2018-04-26 14:31:01,320][cascade_classifier.calc_accuracy] Accuracy(layer_0 - test.classifier_average)=97.32%\n",
      "[ 2018-04-26 14:31:01,321][cascade_classifier.fit_transform] [Result][Reach Max Layer] opt_layer_num=1, accuracy_train=97.59%, accuracy_test=97.32%\n",
      "[ 2018-04-26 14:31:01,322][cascade_classifier.transform] X_groups_test.shape=[(16500, 29)]\n",
      "[ 2018-04-26 14:31:01,325][cascade_classifier.transform] group_dims=[29]\n",
      "[ 2018-04-26 14:31:01,326][cascade_classifier.transform] X_test.shape=(16500, 29)\n",
      "[ 2018-04-26 14:31:01,327][cascade_classifier.transform] [layer=0] look_indexs=[0], X_cur_test.shape=(16500, 29)\n",
      "[ 2018-04-26 14:31:03,800][cascade_classifier.fit_transform] X_groups_train.shape=[(33500, 29)],y_train.shape=(33500,),X_groups_test.shape=[(16500, 29)],y_test.shape=(16500,)\n",
      "[ 2018-04-26 14:31:03,804][cascade_classifier.fit_transform] group_dims=[29]\n",
      "[ 2018-04-26 14:31:03,805][cascade_classifier.fit_transform] group_starts=[0]\n",
      "[ 2018-04-26 14:31:03,806][cascade_classifier.fit_transform] group_ends=[29]\n",
      "[ 2018-04-26 14:31:03,808][cascade_classifier.fit_transform] X_train.shape=(33500, 29),X_test.shape=(16500, 29)\n",
      "[ 2018-04-26 14:31:03,813][cascade_classifier.fit_transform] [layer=0] look_indexs=[0], X_cur_train.shape=(33500, 29), X_cur_test.shape=(16500, 29)\n"
     ]
    },
    {
     "name": "stdout",
     "output_type": "stream",
     "text": [
      "('Test Accuracy of ExtraTrees = 97.321212 %', 12, 'fois')\n",
      "(' Time ', '10.782', ' seconds')\n"
     ]
    },
    {
     "name": "stderr",
     "output_type": "stream",
     "text": [
      "[ 2018-04-26 14:31:04,629][kfold_wrapper.log_eval_metrics] Accuracy(layer_0 - estimator_0 - 10_folds.train_0.predict)=97.37%\n",
      "[ 2018-04-26 14:31:05,718][kfold_wrapper.log_eval_metrics] Accuracy(layer_0 - estimator_0 - 10_folds.train_1.predict)=97.58%\n",
      "[ 2018-04-26 14:31:06,727][kfold_wrapper.log_eval_metrics] Accuracy(layer_0 - estimator_0 - 10_folds.train_2.predict)=97.55%\n",
      "[ 2018-04-26 14:31:07,740][kfold_wrapper.log_eval_metrics] Accuracy(layer_0 - estimator_0 - 10_folds.train_3.predict)=97.82%\n",
      "[ 2018-04-26 14:31:08,786][kfold_wrapper.log_eval_metrics] Accuracy(layer_0 - estimator_0 - 10_folds.train_4.predict)=97.64%\n",
      "[ 2018-04-26 14:31:09,784][kfold_wrapper.log_eval_metrics] Accuracy(layer_0 - estimator_0 - 10_folds.train_5.predict)=97.67%\n",
      "[ 2018-04-26 14:31:10,813][kfold_wrapper.log_eval_metrics] Accuracy(layer_0 - estimator_0 - 10_folds.train_6.predict)=97.58%\n",
      "[ 2018-04-26 14:31:11,839][kfold_wrapper.log_eval_metrics] Accuracy(layer_0 - estimator_0 - 10_folds.train_7.predict)=97.55%\n",
      "[ 2018-04-26 14:31:13,090][kfold_wrapper.log_eval_metrics] Accuracy(layer_0 - estimator_0 - 10_folds.train_8.predict)=97.46%\n",
      "[ 2018-04-26 14:31:14,146][kfold_wrapper.log_eval_metrics] Accuracy(layer_0 - estimator_0 - 10_folds.train_9.predict)=97.64%\n",
      "[ 2018-04-26 14:31:14,395][kfold_wrapper.log_eval_metrics] Accuracy(layer_0 - estimator_0 - 10_folds.train_cv.predict)=97.59%\n",
      "[ 2018-04-26 14:31:14,397][kfold_wrapper.log_eval_metrics] Accuracy(layer_0 - estimator_0 - 10_folds.test.predict)=97.24%\n",
      "[ 2018-04-26 14:31:14,403][cascade_classifier.calc_accuracy] Accuracy(layer_0 - train.classifier_average)=97.59%\n",
      "[ 2018-04-26 14:31:14,404][cascade_classifier.calc_accuracy] Accuracy(layer_0 - test.classifier_average)=97.24%\n",
      "[ 2018-04-26 14:31:14,406][cascade_classifier.fit_transform] [Result][Reach Max Layer] opt_layer_num=1, accuracy_train=97.59%, accuracy_test=97.24%\n",
      "[ 2018-04-26 14:31:14,407][cascade_classifier.transform] X_groups_test.shape=[(16500, 29)]\n",
      "[ 2018-04-26 14:31:14,409][cascade_classifier.transform] group_dims=[29]\n",
      "[ 2018-04-26 14:31:14,410][cascade_classifier.transform] X_test.shape=(16500, 29)\n",
      "[ 2018-04-26 14:31:14,412][cascade_classifier.transform] [layer=0] look_indexs=[0], X_cur_test.shape=(16500, 29)\n",
      "[ 2018-04-26 14:31:17,069][cascade_classifier.fit_transform] X_groups_train.shape=[(33500, 29)],y_train.shape=(33500,),X_groups_test.shape=[(16500, 29)],y_test.shape=(16500,)\n",
      "[ 2018-04-26 14:31:17,073][cascade_classifier.fit_transform] group_dims=[29]\n",
      "[ 2018-04-26 14:31:17,074][cascade_classifier.fit_transform] group_starts=[0]\n",
      "[ 2018-04-26 14:31:17,075][cascade_classifier.fit_transform] group_ends=[29]\n",
      "[ 2018-04-26 14:31:17,077][cascade_classifier.fit_transform] X_train.shape=(33500, 29),X_test.shape=(16500, 29)\n",
      "[ 2018-04-26 14:31:17,082][cascade_classifier.fit_transform] [layer=0] look_indexs=[0], X_cur_train.shape=(33500, 29), X_cur_test.shape=(16500, 29)\n"
     ]
    },
    {
     "name": "stdout",
     "output_type": "stream",
     "text": [
      "('Test Accuracy of ExtraTrees = 97.242424 %', 13, 'fois')\n",
      "(' Time ', '10.618', ' seconds')\n"
     ]
    },
    {
     "name": "stderr",
     "output_type": "stream",
     "text": [
      "[ 2018-04-26 14:31:17,959][kfold_wrapper.log_eval_metrics] Accuracy(layer_0 - estimator_0 - 10_folds.train_0.predict)=97.43%\n",
      "[ 2018-04-26 14:31:19,088][kfold_wrapper.log_eval_metrics] Accuracy(layer_0 - estimator_0 - 10_folds.train_1.predict)=97.58%\n",
      "[ 2018-04-26 14:31:20,138][kfold_wrapper.log_eval_metrics] Accuracy(layer_0 - estimator_0 - 10_folds.train_2.predict)=97.58%\n",
      "[ 2018-04-26 14:31:21,411][kfold_wrapper.log_eval_metrics] Accuracy(layer_0 - estimator_0 - 10_folds.train_3.predict)=97.82%\n",
      "[ 2018-04-26 14:31:22,469][kfold_wrapper.log_eval_metrics] Accuracy(layer_0 - estimator_0 - 10_folds.train_4.predict)=97.58%\n",
      "[ 2018-04-26 14:31:23,647][kfold_wrapper.log_eval_metrics] Accuracy(layer_0 - estimator_0 - 10_folds.train_5.predict)=97.64%\n",
      "[ 2018-04-26 14:31:24,672][kfold_wrapper.log_eval_metrics] Accuracy(layer_0 - estimator_0 - 10_folds.train_6.predict)=97.46%\n",
      "[ 2018-04-26 14:31:25,730][kfold_wrapper.log_eval_metrics] Accuracy(layer_0 - estimator_0 - 10_folds.train_7.predict)=97.52%\n",
      "[ 2018-04-26 14:31:26,865][kfold_wrapper.log_eval_metrics] Accuracy(layer_0 - estimator_0 - 10_folds.train_8.predict)=97.40%\n",
      "[ 2018-04-26 14:31:27,924][kfold_wrapper.log_eval_metrics] Accuracy(layer_0 - estimator_0 - 10_folds.train_9.predict)=97.64%\n",
      "[ 2018-04-26 14:31:28,173][kfold_wrapper.log_eval_metrics] Accuracy(layer_0 - estimator_0 - 10_folds.train_cv.predict)=97.57%\n",
      "[ 2018-04-26 14:31:28,175][kfold_wrapper.log_eval_metrics] Accuracy(layer_0 - estimator_0 - 10_folds.test.predict)=97.27%\n",
      "[ 2018-04-26 14:31:28,183][cascade_classifier.calc_accuracy] Accuracy(layer_0 - train.classifier_average)=97.57%\n",
      "[ 2018-04-26 14:31:28,184][cascade_classifier.calc_accuracy] Accuracy(layer_0 - test.classifier_average)=97.27%\n",
      "[ 2018-04-26 14:31:28,186][cascade_classifier.fit_transform] [Result][Reach Max Layer] opt_layer_num=1, accuracy_train=97.57%, accuracy_test=97.27%\n",
      "[ 2018-04-26 14:31:28,187][cascade_classifier.transform] X_groups_test.shape=[(16500, 29)]\n",
      "[ 2018-04-26 14:31:28,189][cascade_classifier.transform] group_dims=[29]\n",
      "[ 2018-04-26 14:31:28,190][cascade_classifier.transform] X_test.shape=(16500, 29)\n",
      "[ 2018-04-26 14:31:28,192][cascade_classifier.transform] [layer=0] look_indexs=[0], X_cur_test.shape=(16500, 29)\n",
      "[ 2018-04-26 14:31:30,772][cascade_classifier.fit_transform] X_groups_train.shape=[(33500, 29)],y_train.shape=(33500,),X_groups_test.shape=[(16500, 29)],y_test.shape=(16500,)\n",
      "[ 2018-04-26 14:31:30,775][cascade_classifier.fit_transform] group_dims=[29]\n",
      "[ 2018-04-26 14:31:30,776][cascade_classifier.fit_transform] group_starts=[0]\n",
      "[ 2018-04-26 14:31:30,777][cascade_classifier.fit_transform] group_ends=[29]\n",
      "[ 2018-04-26 14:31:30,778][cascade_classifier.fit_transform] X_train.shape=(33500, 29),X_test.shape=(16500, 29)\n",
      "[ 2018-04-26 14:31:30,782][cascade_classifier.fit_transform] [layer=0] look_indexs=[0], X_cur_train.shape=(33500, 29), X_cur_test.shape=(16500, 29)\n"
     ]
    },
    {
     "name": "stdout",
     "output_type": "stream",
     "text": [
      "('Test Accuracy of ExtraTrees = 97.272727 %', 14, 'fois')\n",
      "(' Time ', '11.129', ' seconds')\n"
     ]
    },
    {
     "name": "stderr",
     "output_type": "stream",
     "text": [
      "[ 2018-04-26 14:31:31,766][kfold_wrapper.log_eval_metrics] Accuracy(layer_0 - estimator_0 - 10_folds.train_0.predict)=97.34%\n",
      "[ 2018-04-26 14:31:32,806][kfold_wrapper.log_eval_metrics] Accuracy(layer_0 - estimator_0 - 10_folds.train_1.predict)=97.58%\n",
      "[ 2018-04-26 14:31:33,937][kfold_wrapper.log_eval_metrics] Accuracy(layer_0 - estimator_0 - 10_folds.train_2.predict)=97.61%\n",
      "[ 2018-04-26 14:31:35,157][kfold_wrapper.log_eval_metrics] Accuracy(layer_0 - estimator_0 - 10_folds.train_3.predict)=97.67%\n",
      "[ 2018-04-26 14:31:36,198][kfold_wrapper.log_eval_metrics] Accuracy(layer_0 - estimator_0 - 10_folds.train_4.predict)=97.52%\n",
      "[ 2018-04-26 14:31:37,242][kfold_wrapper.log_eval_metrics] Accuracy(layer_0 - estimator_0 - 10_folds.train_5.predict)=97.76%\n",
      "[ 2018-04-26 14:31:38,266][kfold_wrapper.log_eval_metrics] Accuracy(layer_0 - estimator_0 - 10_folds.train_6.predict)=97.58%\n",
      "[ 2018-04-26 14:31:39,458][kfold_wrapper.log_eval_metrics] Accuracy(layer_0 - estimator_0 - 10_folds.train_7.predict)=97.49%\n",
      "[ 2018-04-26 14:31:40,496][kfold_wrapper.log_eval_metrics] Accuracy(layer_0 - estimator_0 - 10_folds.train_8.predict)=97.43%\n",
      "[ 2018-04-26 14:31:41,564][kfold_wrapper.log_eval_metrics] Accuracy(layer_0 - estimator_0 - 10_folds.train_9.predict)=97.67%\n",
      "[ 2018-04-26 14:31:41,845][kfold_wrapper.log_eval_metrics] Accuracy(layer_0 - estimator_0 - 10_folds.train_cv.predict)=97.57%\n",
      "[ 2018-04-26 14:31:41,846][kfold_wrapper.log_eval_metrics] Accuracy(layer_0 - estimator_0 - 10_folds.test.predict)=97.25%\n",
      "[ 2018-04-26 14:31:41,851][cascade_classifier.calc_accuracy] Accuracy(layer_0 - train.classifier_average)=97.57%\n",
      "[ 2018-04-26 14:31:41,853][cascade_classifier.calc_accuracy] Accuracy(layer_0 - test.classifier_average)=97.25%\n",
      "[ 2018-04-26 14:31:41,854][cascade_classifier.fit_transform] [Result][Reach Max Layer] opt_layer_num=1, accuracy_train=97.57%, accuracy_test=97.25%\n",
      "[ 2018-04-26 14:31:41,855][cascade_classifier.transform] X_groups_test.shape=[(16500, 29)]\n",
      "[ 2018-04-26 14:31:41,857][cascade_classifier.transform] group_dims=[29]\n",
      "[ 2018-04-26 14:31:41,858][cascade_classifier.transform] X_test.shape=(16500, 29)\n",
      "[ 2018-04-26 14:31:41,860][cascade_classifier.transform] [layer=0] look_indexs=[0], X_cur_test.shape=(16500, 29)\n",
      "[ 2018-04-26 14:31:44,442][cascade_classifier.fit_transform] X_groups_train.shape=[(33500, 29)],y_train.shape=(33500,),X_groups_test.shape=[(16500, 29)],y_test.shape=(16500,)\n",
      "[ 2018-04-26 14:31:44,446][cascade_classifier.fit_transform] group_dims=[29]\n",
      "[ 2018-04-26 14:31:44,448][cascade_classifier.fit_transform] group_starts=[0]\n",
      "[ 2018-04-26 14:31:44,449][cascade_classifier.fit_transform] group_ends=[29]\n",
      "[ 2018-04-26 14:31:44,450][cascade_classifier.fit_transform] X_train.shape=(33500, 29),X_test.shape=(16500, 29)\n",
      "[ 2018-04-26 14:31:44,455][cascade_classifier.fit_transform] [layer=0] look_indexs=[0], X_cur_train.shape=(33500, 29), X_cur_test.shape=(16500, 29)\n"
     ]
    },
    {
     "name": "stdout",
     "output_type": "stream",
     "text": [
      "('Test Accuracy of ExtraTrees = 97.248485 %', 15, 'fois')\n",
      "(' Time ', '11.094', ' seconds')\n"
     ]
    },
    {
     "name": "stderr",
     "output_type": "stream",
     "text": [
      "[ 2018-04-26 14:31:45,296][kfold_wrapper.log_eval_metrics] Accuracy(layer_0 - estimator_0 - 10_folds.train_0.predict)=97.40%\n",
      "[ 2018-04-26 14:31:46,365][kfold_wrapper.log_eval_metrics] Accuracy(layer_0 - estimator_0 - 10_folds.train_1.predict)=97.61%\n",
      "[ 2018-04-26 14:31:47,412][kfold_wrapper.log_eval_metrics] Accuracy(layer_0 - estimator_0 - 10_folds.train_2.predict)=97.52%\n",
      "[ 2018-04-26 14:31:48,584][kfold_wrapper.log_eval_metrics] Accuracy(layer_0 - estimator_0 - 10_folds.train_3.predict)=97.58%\n",
      "[ 2018-04-26 14:31:49,638][kfold_wrapper.log_eval_metrics] Accuracy(layer_0 - estimator_0 - 10_folds.train_4.predict)=97.52%\n",
      "[ 2018-04-26 14:31:50,665][kfold_wrapper.log_eval_metrics] Accuracy(layer_0 - estimator_0 - 10_folds.train_5.predict)=97.67%\n",
      "[ 2018-04-26 14:31:51,715][kfold_wrapper.log_eval_metrics] Accuracy(layer_0 - estimator_0 - 10_folds.train_6.predict)=97.64%\n",
      "[ 2018-04-26 14:31:52,805][kfold_wrapper.log_eval_metrics] Accuracy(layer_0 - estimator_0 - 10_folds.train_7.predict)=97.52%\n",
      "[ 2018-04-26 14:31:53,971][kfold_wrapper.log_eval_metrics] Accuracy(layer_0 - estimator_0 - 10_folds.train_8.predict)=97.46%\n",
      "[ 2018-04-26 14:31:55,142][kfold_wrapper.log_eval_metrics] Accuracy(layer_0 - estimator_0 - 10_folds.train_9.predict)=97.73%\n",
      "[ 2018-04-26 14:31:55,396][kfold_wrapper.log_eval_metrics] Accuracy(layer_0 - estimator_0 - 10_folds.train_cv.predict)=97.57%\n",
      "[ 2018-04-26 14:31:55,398][kfold_wrapper.log_eval_metrics] Accuracy(layer_0 - estimator_0 - 10_folds.test.predict)=97.24%\n",
      "[ 2018-04-26 14:31:55,405][cascade_classifier.calc_accuracy] Accuracy(layer_0 - train.classifier_average)=97.57%\n",
      "[ 2018-04-26 14:31:55,406][cascade_classifier.calc_accuracy] Accuracy(layer_0 - test.classifier_average)=97.24%\n",
      "[ 2018-04-26 14:31:55,408][cascade_classifier.fit_transform] [Result][Reach Max Layer] opt_layer_num=1, accuracy_train=97.57%, accuracy_test=97.24%\n",
      "[ 2018-04-26 14:31:55,409][cascade_classifier.transform] X_groups_test.shape=[(16500, 29)]\n",
      "[ 2018-04-26 14:31:55,411][cascade_classifier.transform] group_dims=[29]\n",
      "[ 2018-04-26 14:31:55,412][cascade_classifier.transform] X_test.shape=(16500, 29)\n",
      "[ 2018-04-26 14:31:55,415][cascade_classifier.transform] [layer=0] look_indexs=[0], X_cur_test.shape=(16500, 29)\n",
      "[ 2018-04-26 14:31:57,938][cascade_classifier.fit_transform] X_groups_train.shape=[(33500, 29)],y_train.shape=(33500,),X_groups_test.shape=[(16500, 29)],y_test.shape=(16500,)\n",
      "[ 2018-04-26 14:31:57,941][cascade_classifier.fit_transform] group_dims=[29]\n",
      "[ 2018-04-26 14:31:57,942][cascade_classifier.fit_transform] group_starts=[0]\n",
      "[ 2018-04-26 14:31:57,943][cascade_classifier.fit_transform] group_ends=[29]\n",
      "[ 2018-04-26 14:31:57,944][cascade_classifier.fit_transform] X_train.shape=(33500, 29),X_test.shape=(16500, 29)\n",
      "[ 2018-04-26 14:31:57,949][cascade_classifier.fit_transform] [layer=0] look_indexs=[0], X_cur_train.shape=(33500, 29), X_cur_test.shape=(16500, 29)\n"
     ]
    },
    {
     "name": "stdout",
     "output_type": "stream",
     "text": [
      "('Test Accuracy of ExtraTrees = 97.242424 %', 16, 'fois')\n",
      "(' Time ', '10.98', ' seconds')\n"
     ]
    },
    {
     "name": "stderr",
     "output_type": "stream",
     "text": [
      "[ 2018-04-26 14:31:58,717][kfold_wrapper.log_eval_metrics] Accuracy(layer_0 - estimator_0 - 10_folds.train_0.predict)=97.34%\n",
      "[ 2018-04-26 14:31:59,741][kfold_wrapper.log_eval_metrics] Accuracy(layer_0 - estimator_0 - 10_folds.train_1.predict)=97.43%\n",
      "[ 2018-04-26 14:32:00,832][kfold_wrapper.log_eval_metrics] Accuracy(layer_0 - estimator_0 - 10_folds.train_2.predict)=97.49%\n",
      "[ 2018-04-26 14:32:01,861][kfold_wrapper.log_eval_metrics] Accuracy(layer_0 - estimator_0 - 10_folds.train_3.predict)=97.58%\n",
      "[ 2018-04-26 14:32:03,033][kfold_wrapper.log_eval_metrics] Accuracy(layer_0 - estimator_0 - 10_folds.train_4.predict)=97.58%\n",
      "[ 2018-04-26 14:32:04,235][kfold_wrapper.log_eval_metrics] Accuracy(layer_0 - estimator_0 - 10_folds.train_5.predict)=97.52%\n",
      "[ 2018-04-26 14:32:05,376][kfold_wrapper.log_eval_metrics] Accuracy(layer_0 - estimator_0 - 10_folds.train_6.predict)=97.49%\n",
      "[ 2018-04-26 14:32:06,479][kfold_wrapper.log_eval_metrics] Accuracy(layer_0 - estimator_0 - 10_folds.train_7.predict)=97.58%\n",
      "[ 2018-04-26 14:32:07,556][kfold_wrapper.log_eval_metrics] Accuracy(layer_0 - estimator_0 - 10_folds.train_8.predict)=97.49%\n",
      "[ 2018-04-26 14:32:08,778][kfold_wrapper.log_eval_metrics] Accuracy(layer_0 - estimator_0 - 10_folds.train_9.predict)=97.61%\n",
      "[ 2018-04-26 14:32:09,033][kfold_wrapper.log_eval_metrics] Accuracy(layer_0 - estimator_0 - 10_folds.train_cv.predict)=97.51%\n",
      "[ 2018-04-26 14:32:09,035][kfold_wrapper.log_eval_metrics] Accuracy(layer_0 - estimator_0 - 10_folds.test.predict)=97.24%\n",
      "[ 2018-04-26 14:32:09,043][cascade_classifier.calc_accuracy] Accuracy(layer_0 - train.classifier_average)=97.51%\n",
      "[ 2018-04-26 14:32:09,044][cascade_classifier.calc_accuracy] Accuracy(layer_0 - test.classifier_average)=97.24%\n",
      "[ 2018-04-26 14:32:09,045][cascade_classifier.fit_transform] [Result][Reach Max Layer] opt_layer_num=1, accuracy_train=97.51%, accuracy_test=97.24%\n",
      "[ 2018-04-26 14:32:09,047][cascade_classifier.transform] X_groups_test.shape=[(16500, 29)]\n",
      "[ 2018-04-26 14:32:09,049][cascade_classifier.transform] group_dims=[29]\n",
      "[ 2018-04-26 14:32:09,050][cascade_classifier.transform] X_test.shape=(16500, 29)\n",
      "[ 2018-04-26 14:32:09,052][cascade_classifier.transform] [layer=0] look_indexs=[0], X_cur_test.shape=(16500, 29)\n",
      "[ 2018-04-26 14:32:11,510][cascade_classifier.fit_transform] X_groups_train.shape=[(33500, 29)],y_train.shape=(33500,),X_groups_test.shape=[(16500, 29)],y_test.shape=(16500,)\n",
      "[ 2018-04-26 14:32:11,514][cascade_classifier.fit_transform] group_dims=[29]\n",
      "[ 2018-04-26 14:32:11,515][cascade_classifier.fit_transform] group_starts=[0]\n",
      "[ 2018-04-26 14:32:11,516][cascade_classifier.fit_transform] group_ends=[29]\n",
      "[ 2018-04-26 14:32:11,517][cascade_classifier.fit_transform] X_train.shape=(33500, 29),X_test.shape=(16500, 29)\n",
      "[ 2018-04-26 14:32:11,523][cascade_classifier.fit_transform] [layer=0] look_indexs=[0], X_cur_train.shape=(33500, 29), X_cur_test.shape=(16500, 29)\n"
     ]
    },
    {
     "name": "stdout",
     "output_type": "stream",
     "text": [
      "('Test Accuracy of ExtraTrees = 97.242424 %', 17, 'fois')\n",
      "(' Time ', '11.118', ' seconds')\n"
     ]
    },
    {
     "name": "stderr",
     "output_type": "stream",
     "text": [
      "[ 2018-04-26 14:32:12,433][kfold_wrapper.log_eval_metrics] Accuracy(layer_0 - estimator_0 - 10_folds.train_0.predict)=97.37%\n",
      "[ 2018-04-26 14:32:13,485][kfold_wrapper.log_eval_metrics] Accuracy(layer_0 - estimator_0 - 10_folds.train_1.predict)=97.49%\n",
      "[ 2018-04-26 14:32:14,541][kfold_wrapper.log_eval_metrics] Accuracy(layer_0 - estimator_0 - 10_folds.train_2.predict)=97.52%\n",
      "[ 2018-04-26 14:32:15,566][kfold_wrapper.log_eval_metrics] Accuracy(layer_0 - estimator_0 - 10_folds.train_3.predict)=97.67%\n",
      "[ 2018-04-26 14:32:16,709][kfold_wrapper.log_eval_metrics] Accuracy(layer_0 - estimator_0 - 10_folds.train_4.predict)=97.46%\n",
      "[ 2018-04-26 14:32:17,774][kfold_wrapper.log_eval_metrics] Accuracy(layer_0 - estimator_0 - 10_folds.train_5.predict)=97.46%\n",
      "[ 2018-04-26 14:32:18,862][kfold_wrapper.log_eval_metrics] Accuracy(layer_0 - estimator_0 - 10_folds.train_6.predict)=97.61%\n",
      "[ 2018-04-26 14:32:19,962][kfold_wrapper.log_eval_metrics] Accuracy(layer_0 - estimator_0 - 10_folds.train_7.predict)=97.40%\n",
      "[ 2018-04-26 14:32:21,041][kfold_wrapper.log_eval_metrics] Accuracy(layer_0 - estimator_0 - 10_folds.train_8.predict)=97.49%\n",
      "[ 2018-04-26 14:32:22,193][kfold_wrapper.log_eval_metrics] Accuracy(layer_0 - estimator_0 - 10_folds.train_9.predict)=97.55%\n",
      "[ 2018-04-26 14:32:22,489][kfold_wrapper.log_eval_metrics] Accuracy(layer_0 - estimator_0 - 10_folds.train_cv.predict)=97.50%\n",
      "[ 2018-04-26 14:32:22,491][kfold_wrapper.log_eval_metrics] Accuracy(layer_0 - estimator_0 - 10_folds.test.predict)=97.22%\n",
      "[ 2018-04-26 14:32:22,496][cascade_classifier.calc_accuracy] Accuracy(layer_0 - train.classifier_average)=97.50%\n",
      "[ 2018-04-26 14:32:22,498][cascade_classifier.calc_accuracy] Accuracy(layer_0 - test.classifier_average)=97.22%\n",
      "[ 2018-04-26 14:32:22,500][cascade_classifier.fit_transform] [Result][Reach Max Layer] opt_layer_num=1, accuracy_train=97.50%, accuracy_test=97.22%\n",
      "[ 2018-04-26 14:32:22,501][cascade_classifier.transform] X_groups_test.shape=[(16500, 29)]\n",
      "[ 2018-04-26 14:32:22,503][cascade_classifier.transform] group_dims=[29]\n",
      "[ 2018-04-26 14:32:22,504][cascade_classifier.transform] X_test.shape=(16500, 29)\n",
      "[ 2018-04-26 14:32:22,506][cascade_classifier.transform] [layer=0] look_indexs=[0], X_cur_test.shape=(16500, 29)\n",
      "[ 2018-04-26 14:32:25,003][cascade_classifier.fit_transform] X_groups_train.shape=[(33500, 29)],y_train.shape=(33500,),X_groups_test.shape=[(16500, 29)],y_test.shape=(16500,)\n",
      "[ 2018-04-26 14:32:25,006][cascade_classifier.fit_transform] group_dims=[29]\n",
      "[ 2018-04-26 14:32:25,007][cascade_classifier.fit_transform] group_starts=[0]\n",
      "[ 2018-04-26 14:32:25,008][cascade_classifier.fit_transform] group_ends=[29]\n",
      "[ 2018-04-26 14:32:25,009][cascade_classifier.fit_transform] X_train.shape=(33500, 29),X_test.shape=(16500, 29)\n",
      "[ 2018-04-26 14:32:25,014][cascade_classifier.fit_transform] [layer=0] look_indexs=[0], X_cur_train.shape=(33500, 29), X_cur_test.shape=(16500, 29)\n"
     ]
    },
    {
     "name": "stdout",
     "output_type": "stream",
     "text": [
      "('Test Accuracy of ExtraTrees = 97.224242 %', 18, 'fois')\n",
      "(' Time ', '11.004', ' seconds')\n"
     ]
    },
    {
     "name": "stderr",
     "output_type": "stream",
     "text": [
      "[ 2018-04-26 14:32:25,955][kfold_wrapper.log_eval_metrics] Accuracy(layer_0 - estimator_0 - 10_folds.train_0.predict)=97.28%\n",
      "[ 2018-04-26 14:32:27,168][kfold_wrapper.log_eval_metrics] Accuracy(layer_0 - estimator_0 - 10_folds.train_1.predict)=97.40%\n",
      "[ 2018-04-26 14:32:28,287][kfold_wrapper.log_eval_metrics] Accuracy(layer_0 - estimator_0 - 10_folds.train_2.predict)=97.52%\n",
      "[ 2018-04-26 14:32:29,332][kfold_wrapper.log_eval_metrics] Accuracy(layer_0 - estimator_0 - 10_folds.train_3.predict)=97.61%\n",
      "[ 2018-04-26 14:32:30,422][kfold_wrapper.log_eval_metrics] Accuracy(layer_0 - estimator_0 - 10_folds.train_4.predict)=97.52%\n",
      "[ 2018-04-26 14:32:31,562][kfold_wrapper.log_eval_metrics] Accuracy(layer_0 - estimator_0 - 10_folds.train_5.predict)=97.46%\n",
      "[ 2018-04-26 14:32:32,667][kfold_wrapper.log_eval_metrics] Accuracy(layer_0 - estimator_0 - 10_folds.train_6.predict)=97.49%\n",
      "[ 2018-04-26 14:32:33,716][kfold_wrapper.log_eval_metrics] Accuracy(layer_0 - estimator_0 - 10_folds.train_7.predict)=97.58%\n",
      "[ 2018-04-26 14:32:34,823][kfold_wrapper.log_eval_metrics] Accuracy(layer_0 - estimator_0 - 10_folds.train_8.predict)=97.58%\n",
      "[ 2018-04-26 14:32:35,990][kfold_wrapper.log_eval_metrics] Accuracy(layer_0 - estimator_0 - 10_folds.train_9.predict)=97.58%\n",
      "[ 2018-04-26 14:32:36,239][kfold_wrapper.log_eval_metrics] Accuracy(layer_0 - estimator_0 - 10_folds.train_cv.predict)=97.50%\n",
      "[ 2018-04-26 14:32:36,241][kfold_wrapper.log_eval_metrics] Accuracy(layer_0 - estimator_0 - 10_folds.test.predict)=97.21%\n",
      "[ 2018-04-26 14:32:36,249][cascade_classifier.calc_accuracy] Accuracy(layer_0 - train.classifier_average)=97.50%\n",
      "[ 2018-04-26 14:32:36,250][cascade_classifier.calc_accuracy] Accuracy(layer_0 - test.classifier_average)=97.21%\n",
      "[ 2018-04-26 14:32:36,251][cascade_classifier.fit_transform] [Result][Reach Max Layer] opt_layer_num=1, accuracy_train=97.50%, accuracy_test=97.21%\n",
      "[ 2018-04-26 14:32:36,252][cascade_classifier.transform] X_groups_test.shape=[(16500, 29)]\n",
      "[ 2018-04-26 14:32:36,255][cascade_classifier.transform] group_dims=[29]\n",
      "[ 2018-04-26 14:32:36,255][cascade_classifier.transform] X_test.shape=(16500, 29)\n",
      "[ 2018-04-26 14:32:36,257][cascade_classifier.transform] [layer=0] look_indexs=[0], X_cur_test.shape=(16500, 29)\n"
     ]
    },
    {
     "name": "stdout",
     "output_type": "stream",
     "text": [
      "('Test Accuracy of ExtraTrees = 97.206061 %', 19, 'fois')\n",
      "(' Time ', '11.261', ' seconds')\n"
     ]
    }
   ],
   "source": [
    "# Deep\n",
    "for i in range (20):\n",
    "    t0 = time()\n",
    "    X_train,X_test=update(X_train,X_test)\n",
    "    X_test_enc, X_train_enc=newdata(X_test_enc, X_train_enc)\n",
    "\n",
    "    X_train=X_train_enc\n",
    "    X_test=X_test_enc \n",
    "    X_train_enc, X_test_enc = gc.fit_transform(X_train, y_train, X_test=X_test, y_test=y_test)\n",
    "    tt = time() - t0\n",
    "    affiche() \n",
    "    print (\" Time \",format(round(tt,3)),\" seconds\")"
   ]
  },
  {
   "cell_type": "code",
   "execution_count": null,
   "metadata": {
    "collapsed": true
   },
   "outputs": [],
   "source": []
  },
  {
   "cell_type": "markdown",
   "metadata": {},
   "source": [
    "# ('Test Accuracy of ExtraTrees = 97.769697 %', 0, 'fois') \n"
   ]
  },
  {
   "cell_type": "markdown",
   "metadata": {
    "collapsed": true
   },
   "source": [
    "#  ('Compte fait en ', '11.009', ' seconds')"
   ]
  },
  {
   "cell_type": "code",
   "execution_count": null,
   "metadata": {
    "collapsed": true
   },
   "outputs": [],
   "source": []
  },
  {
   "cell_type": "code",
   "execution_count": null,
   "metadata": {
    "collapsed": true
   },
   "outputs": [],
   "source": []
  }
 ],
 "metadata": {
  "kernelspec": {
   "display_name": "Python 2",
   "language": "python",
   "name": "python2"
  },
  "language_info": {
   "codemirror_mode": {
    "name": "ipython",
    "version": 2
   },
   "file_extension": ".py",
   "mimetype": "text/x-python",
   "name": "python",
   "nbconvert_exporter": "python",
   "pygments_lexer": "ipython2",
   "version": "2.7.13"
  }
 },
 "nbformat": 4,
 "nbformat_minor": 2
}
